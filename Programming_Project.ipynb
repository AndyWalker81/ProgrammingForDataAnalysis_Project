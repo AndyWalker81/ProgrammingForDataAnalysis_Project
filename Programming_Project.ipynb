{
 "cells": [
  {
   "cell_type": "markdown",
   "id": "ed1322c0",
   "metadata": {},
   "source": [
    "# Simulation of PGA Tour Golf Data"
   ]
  },
  {
   "cell_type": "markdown",
   "id": "71d3f4b8",
   "metadata": {},
   "source": [
    "## Programming for Data Analysis Project "
   ]
  },
  {
   "cell_type": "markdown",
   "id": "4f790274",
   "metadata": {},
   "source": [
    "### Andrew Walker - G00398788@gmit.ie"
   ]
  },
  {
   "cell_type": "markdown",
   "id": "626f36cf",
   "metadata": {},
   "source": [
    "![www.pgatour.com](https://pga-tour-res.cloudinary.com/image/upload/c_fill,dpr_2.6,f_auto,g_center,h_336,q_auto,w_1320/v1/pgatour/editorial/2020/12/17/Logo/flag-example-1400.jpg)"
   ]
  },
  {
   "cell_type": "markdown",
   "id": "91e15eca",
   "metadata": {},
   "source": [
    "## 1. Introduction"
   ]
  },
  {
   "cell_type": "markdown",
   "id": "5c59d916",
   "metadata": {},
   "source": [
    "This project simulates a data set based on historical PGA Tour golf statistics and models the relationships between four variables:\n",
    "\n",
    "- Driving distance average (the average number of yards per hole)\n",
    "\n",
    "- Driving accurary percentage (the percentage of time a tee shot comes to rest in the fairway)\n",
    "\n",
    "- Greens in Regulation (GIR) percentage (the percent of time a player was able to hit the green in regulation. The GIR stroke is determined by subtracting 2 from par)\n",
    "\n",
    "- Birdie average (the average number of birdies made per round played.)"
   ]
  },
  {
   "cell_type": "markdown",
   "id": "4713ce7a",
   "metadata": {},
   "source": [
    "The R&A and USGA Distance Insights Report (2020) (https://www.usga.org/content/dam/usga/pdf/2020/distance-insights/DIPR-FINAL-2020-usga.pdf) finds that the average driving distance on the PGA Tour has shown a general increase, in particular from the early 1990s with the introduction of oversized drivers. Following this, further technological and rule innovations has led to a trend in increased distance off the tee.  "
   ]
  },
  {
   "cell_type": "markdown",
   "id": "9c69b28d",
   "metadata": {},
   "source": [
    "However, the Distance Insights Report (2020) also finds that as driving distance increases, driving accuracy decreases."
   ]
  },
  {
   "cell_type": "markdown",
   "id": "7f5d8ffb",
   "metadata": {},
   "source": [
    "This project makes a comparison of the above four variables to:\n",
    "\n",
    "1. Model how driving distance affects accuracy\n",
    "2. Model how distance and accuracy affect the number of greens in regulation hit\n",
    "3. Model how distance and accuracy affect the number of birdies scored\n",
    "4. Model how the number of greens in regulation hit affects birdies"
   ]
  },
  {
   "cell_type": "markdown",
   "id": "e73c96c3",
   "metadata": {},
   "source": [
    "Several initial hypothesis can be made:\n",
    "    \n",
    "1. As driving distance increases, the accuracy of the shot decreases leading to more tee shots not landing on the fairway.\n",
    "2. Hitting GIR will lead to more birdies.\n",
    "\n",
    "The project will model whether the hypothesis are correct.\n",
    "\n",
    "The project also will model whether driving distance or accuracy is a more useful indicator to hit GIR and to score birdies - whilst a long drive might be less accurate and find the rough, a shorter approach shot might lead to more GIR  and / or more birdies. Conversely, a more accurate tee shot which finds the fairway but has a longer approach shot might lead to more GIR and / or more birdies.\n",
    "\n",
    "This might be a useful simulation for golfers to establish if distance could be considered to be more important than accuracy, or vice versa, in the context of reaching in the green in fewer shots and scoring birdies.\n"
   ]
  },
  {
   "cell_type": "markdown",
   "id": "ea170ecb",
   "metadata": {},
   "source": [
    "The project uses historical data to determine the distribution of random data for modelling. Then, based on the trends in historical data between the years 1990, 2000, 2010, and 2020, predictions are made for likely figures for the four variables in 2030. Random data is then simulated for each variable, using the likely distributions. These variables are then compared to determine whether the hypothesis were correct, and whether driving distance or accuracy is a more useful indicator to hit GIR and to score birdies.\n",
    "\n",
    "These years were chosen as, according to the Distance Insights Report (2020), there were no major innovations affecting driving distance in the preceeding decades. "
   ]
  },
  {
   "cell_type": "markdown",
   "id": "42b50c70",
   "metadata": {},
   "source": [
    "The notebook will detail the steps taken to produce the simulation."
   ]
  },
  {
   "cell_type": "markdown",
   "id": "6b2a6a4a",
   "metadata": {},
   "source": [
    "\n",
    "\n",
    "https://www.itl.nist.gov/div898/handbook/eda/section3/eda366.htm"
   ]
  },
  {
   "cell_type": "markdown",
   "id": "e482805e",
   "metadata": {},
   "source": [
    "https://www.usga.org/content/dam/usga/pdf/RSI/distance-insights-2021-docs/2020%20Distance%20Report%2026-01-2021.pdf\n",
    "\n",
    "https://www.usga.org/content/dam/usga/pdf/2020/distance-insights/DIPR-FINAL-2020-usga.pdf"
   ]
  },
  {
   "cell_type": "markdown",
   "id": "a8353d3a",
   "metadata": {},
   "source": [
    "https://www.pgatour.com/stats/stat.101.y2021.html"
   ]
  },
  {
   "cell_type": "markdown",
   "id": "8271c952",
   "metadata": {},
   "source": [
    "1990 (no major innovations between 1980 and 1990), 2000, 2010, 2020 - simulate data for 2030\n",
    "\n",
    "Make a note of total number of players on Fedex"
   ]
  },
  {
   "cell_type": "markdown",
   "id": "4b1cfe9c",
   "metadata": {},
   "source": [
    "<br>\n",
    "\n",
    "## 2. Required installations"
   ]
  },
  {
   "cell_type": "markdown",
   "id": "03d2887a",
   "metadata": {},
   "source": [
    "In order to run the notebook successfully, a number of packages must be installed and initialised. "
   ]
  },
  {
   "cell_type": "markdown",
   "id": "c4e21297",
   "metadata": {},
   "source": [
    "This includes the Fitter package. Fitter provides a simple class to identify the distribution from which a data samples is generated from. It uses a number of distributions from the Scipy package and can plot the results to check what is the most probable distrubution for the data. \n",
    "\n",
    "To install Fitter:\n",
    "\n",
    "```pip install fitter```\n",
    "\n",
    "or on conda:\n",
    "\n",
    "```conda install fitter```\n",
    "\n",
    "Further details are available here: https://pypi.org/project/fitter/"
   ]
  },
  {
   "cell_type": "code",
   "execution_count": 1,
   "id": "d106af30",
   "metadata": {},
   "outputs": [],
   "source": [
    "# Regular expressions.\n",
    "#import re\n",
    "\n",
    "# Convenient HTTP requests.\n",
    "#import requests as rq\n",
    "\n",
    "# Dates and times\n",
    "#import datetime as dt\n",
    "\n",
    "# FOr downloading\n",
    "#import urllib.request as urlrq\n",
    "\n",
    "#import math\n",
    "\n",
    "#insall fitter \n",
    "#https://pypi.org/project/fitter/\n",
    "\n",
    "#from scipy import stats\n",
    "#https://stackoverflow.com/questions/16330831/most-efficient-way-to-find-mode-in-numpy-array\n",
    "    \n",
    "#import scipy\n",
    "\n",
    "#rng = np.random.default_rng()"
   ]
  },
  {
   "cell_type": "code",
   "execution_count": 2,
   "id": "512e5596",
   "metadata": {
    "scrolled": true
   },
   "outputs": [],
   "source": [
    "# Data frames\n",
    "import pandas as pd\n",
    "\n",
    "#numpy\n",
    "import numpy as np\n",
    "\n",
    "# pyplot\n",
    "import matplotlib.pyplot as plt\n",
    "\n",
    "# seaborn\n",
    "import seaborn as sns\n",
    "\n",
    "from fitter import get_common_distributions\n",
    "get_common_distributions()\n",
    "from fitter import Fitter\n",
    "\n",
    "import statistics\n",
    "\n",
    "from scipy.stats import lognorm\n",
    "from scipy.stats import rayleigh\n",
    "from scipy.stats import norm\n",
    "\n"
   ]
  },
  {
   "cell_type": "markdown",
   "id": "f8151926",
   "metadata": {},
   "source": [
    "### Compile stats fop top 100 Fedex Cup rankings\n",
    "\n",
    "https://www.pgatour.com/content/pgatour/stats/stat.02671.y2021.html"
   ]
  },
  {
   "cell_type": "markdown",
   "id": "8b889c06",
   "metadata": {},
   "source": [
    "## 3. Collect Main Set of Data"
   ]
  },
  {
   "cell_type": "markdown",
   "id": "7790c3e9",
   "metadata": {},
   "source": [
    "The project uses PGA Tour data from the top 100 ranked golfers at the end of the 2021 Fedex cup (https://www.pgatour.com/). The Fedex cup is a season-long points competition which culminates with the FedExCup Playoffs, a series of three events to determine the FedExCup Champion (https://www.pgatour.com/fedexcup.html).\n",
    "\n",
    "Data on the top 100 players consisting of Fedex Cup rank, name, and the four variables to be simulated, were saved using a manual process to a .csv file saved in the data folder associated with this project. These data were copied from each players' individual stats page. "
   ]
  },
  {
   "cell_type": "markdown",
   "id": "95d0b2a0",
   "metadata": {},
   "source": [
    "These data are read from the .csv file into a Pandas DataFrame:\n"
   ]
  },
  {
   "cell_type": "code",
   "execution_count": 3,
   "id": "2ccb6bd9",
   "metadata": {},
   "outputs": [],
   "source": [
    "rankings = pd.read_csv('data\\strokes_gained.csv')"
   ]
  },
  {
   "cell_type": "markdown",
   "id": "74c823cc",
   "metadata": {},
   "source": [
    "Column titles are added to the DataFrame:"
   ]
  },
  {
   "cell_type": "code",
   "execution_count": 4,
   "id": "94d76680",
   "metadata": {},
   "outputs": [
    {
     "data": {
      "text/html": [
       "<div>\n",
       "<style scoped>\n",
       "    .dataframe tbody tr th:only-of-type {\n",
       "        vertical-align: middle;\n",
       "    }\n",
       "\n",
       "    .dataframe tbody tr th {\n",
       "        vertical-align: top;\n",
       "    }\n",
       "\n",
       "    .dataframe thead th {\n",
       "        text-align: right;\n",
       "    }\n",
       "</style>\n",
       "<table border=\"1\" class=\"dataframe\">\n",
       "  <thead>\n",
       "    <tr style=\"text-align: right;\">\n",
       "      <th></th>\n",
       "      <th>Fedex Rank 2021</th>\n",
       "      <th>Name</th>\n",
       "      <th>Driving distance (avg yds)</th>\n",
       "      <th>Driving accuracy (%)</th>\n",
       "      <th>Greens In Regulation (%)</th>\n",
       "      <th>Birdie average</th>\n",
       "    </tr>\n",
       "  </thead>\n",
       "  <tbody>\n",
       "    <tr>\n",
       "      <th>0</th>\n",
       "      <td>1</td>\n",
       "      <td>Patrick Cantlay</td>\n",
       "      <td>302.8</td>\n",
       "      <td>60.71</td>\n",
       "      <td>70.16</td>\n",
       "      <td>4.29</td>\n",
       "    </tr>\n",
       "    <tr>\n",
       "      <th>1</th>\n",
       "      <td>2</td>\n",
       "      <td>Jon Rahm</td>\n",
       "      <td>309.0</td>\n",
       "      <td>63.73</td>\n",
       "      <td>71.93</td>\n",
       "      <td>4.51</td>\n",
       "    </tr>\n",
       "    <tr>\n",
       "      <th>2</th>\n",
       "      <td>3</td>\n",
       "      <td>Kevin Na</td>\n",
       "      <td>288.5</td>\n",
       "      <td>66.56</td>\n",
       "      <td>64.11</td>\n",
       "      <td>4.00</td>\n",
       "    </tr>\n",
       "    <tr>\n",
       "      <th>3</th>\n",
       "      <td>4</td>\n",
       "      <td>Justin Thomas</td>\n",
       "      <td>303.9</td>\n",
       "      <td>55.72</td>\n",
       "      <td>67.79</td>\n",
       "      <td>4.31</td>\n",
       "    </tr>\n",
       "    <tr>\n",
       "      <th>4</th>\n",
       "      <td>5</td>\n",
       "      <td>Viktor Hovland</td>\n",
       "      <td>302.2</td>\n",
       "      <td>63.86</td>\n",
       "      <td>68.61</td>\n",
       "      <td>4.40</td>\n",
       "    </tr>\n",
       "    <tr>\n",
       "      <th>...</th>\n",
       "      <td>...</td>\n",
       "      <td>...</td>\n",
       "      <td>...</td>\n",
       "      <td>...</td>\n",
       "      <td>...</td>\n",
       "      <td>...</td>\n",
       "    </tr>\n",
       "    <tr>\n",
       "      <th>95</th>\n",
       "      <td>96</td>\n",
       "      <td>Roger Sloan</td>\n",
       "      <td>295.8</td>\n",
       "      <td>61.78</td>\n",
       "      <td>68.77</td>\n",
       "      <td>3.79</td>\n",
       "    </tr>\n",
       "    <tr>\n",
       "      <th>96</th>\n",
       "      <td>97</td>\n",
       "      <td>Brandt Snedeker</td>\n",
       "      <td>286.6</td>\n",
       "      <td>64.04</td>\n",
       "      <td>64.48</td>\n",
       "      <td>3.73</td>\n",
       "    </tr>\n",
       "    <tr>\n",
       "      <th>97</th>\n",
       "      <td>98</td>\n",
       "      <td>Hank Lebioda</td>\n",
       "      <td>295.0</td>\n",
       "      <td>61.16</td>\n",
       "      <td>69.14</td>\n",
       "      <td>3.78</td>\n",
       "    </tr>\n",
       "    <tr>\n",
       "      <th>98</th>\n",
       "      <td>99</td>\n",
       "      <td>Tyler McCumber</td>\n",
       "      <td>309.4</td>\n",
       "      <td>58.30</td>\n",
       "      <td>64.71</td>\n",
       "      <td>3.57</td>\n",
       "    </tr>\n",
       "    <tr>\n",
       "      <th>99</th>\n",
       "      <td>100</td>\n",
       "      <td>Denny McCarthy</td>\n",
       "      <td>295.4</td>\n",
       "      <td>62.31</td>\n",
       "      <td>64.01</td>\n",
       "      <td>3.55</td>\n",
       "    </tr>\n",
       "  </tbody>\n",
       "</table>\n",
       "<p>100 rows × 6 columns</p>\n",
       "</div>"
      ],
      "text/plain": [
       "    Fedex Rank 2021             Name  Driving distance (avg yds)  \\\n",
       "0                 1  Patrick Cantlay                       302.8   \n",
       "1                 2         Jon Rahm                       309.0   \n",
       "2                 3         Kevin Na                       288.5   \n",
       "3                 4    Justin Thomas                       303.9   \n",
       "4                 5   Viktor Hovland                       302.2   \n",
       "..              ...              ...                         ...   \n",
       "95               96      Roger Sloan                       295.8   \n",
       "96               97  Brandt Snedeker                       286.6   \n",
       "97               98     Hank Lebioda                       295.0   \n",
       "98               99   Tyler McCumber                       309.4   \n",
       "99              100   Denny McCarthy                       295.4   \n",
       "\n",
       "    Driving accuracy (%)  Greens In Regulation (%)  Birdie average  \n",
       "0                  60.71                     70.16            4.29  \n",
       "1                  63.73                     71.93            4.51  \n",
       "2                  66.56                     64.11            4.00  \n",
       "3                  55.72                     67.79            4.31  \n",
       "4                  63.86                     68.61            4.40  \n",
       "..                   ...                       ...             ...  \n",
       "95                 61.78                     68.77            3.79  \n",
       "96                 64.04                     64.48            3.73  \n",
       "97                 61.16                     69.14            3.78  \n",
       "98                 58.30                     64.71            3.57  \n",
       "99                 62.31                     64.01            3.55  \n",
       "\n",
       "[100 rows x 6 columns]"
      ]
     },
     "execution_count": 4,
     "metadata": {},
     "output_type": "execute_result"
    }
   ],
   "source": [
    "rankings.columns = ['Fedex Rank 2021', 'Name', 'Driving distance (avg yds)','Driving accuracy (%)','Greens In Regulation (%)', 'Birdie average']\n",
    "#https://note.nkmk.me/en/python-pandas-t-transpose/\n",
    "rankings"
   ]
  },
  {
   "cell_type": "markdown",
   "id": "77c56e71",
   "metadata": {},
   "source": [
    "## 4. Determine Distributions of Data"
   ]
  },
  {
   "cell_type": "markdown",
   "id": "5c13a653",
   "metadata": {},
   "source": [
    "The next step in the process is to select the individual columns of data for each of the four variables and determine the distribution. "
   ]
  },
  {
   "cell_type": "markdown",
   "id": "8ad805b0",
   "metadata": {},
   "source": [
    "First, specific column data is selected:"
   ]
  },
  {
   "cell_type": "code",
   "execution_count": 5,
   "id": "b4ade534",
   "metadata": {},
   "outputs": [],
   "source": [
    "# select specific column data\n",
    "distance = rankings.iloc[:,2]\n",
    "accuracy = rankings.iloc[:,3]\n",
    "gir = rankings.iloc[:,4]\n",
    "birdies = rankings.iloc[:,5]"
   ]
  },
  {
   "cell_type": "markdown",
   "id": "4c470dec",
   "metadata": {},
   "source": [
    "Next, the Fitter tool is used to determine the best-fit distribution of each variable, in turn. By default, the fitting process is run on the data with about 80 different distributions. However, this can take a relatively long time for the process to complete. Therefore, to speed the process up, a number of common distributions to check the data against can be specified (https://fitter.readthedocs.io/en/latest/faqs.html#what-are-the-distributions-available). This project uses ten common distributions to check against: "
   ]
  },
  {
   "cell_type": "code",
   "execution_count": 6,
   "id": "23909478",
   "metadata": {},
   "outputs": [],
   "source": [
    "common_distributions=['cauchy',\n",
    " 'chi2',\n",
    " 'expon',\n",
    " 'exponpow',\n",
    " 'gamma',\n",
    " 'lognorm',\n",
    " 'norm',\n",
    " 'powerlaw',\n",
    " 'rayleigh',\n",
    " 'uniform']"
   ]
  },
  {
   "cell_type": "markdown",
   "id": "2b7664f1",
   "metadata": {},
   "source": [
    "#### Driving Distance Average Distribution"
   ]
  },
  {
   "cell_type": "markdown",
   "id": "a183544b",
   "metadata": {},
   "source": [
    "Fitter is run on the driving distance data first and a summary displayed:\n",
    "(https://medium.com/the-researchers-guide/finding-the-best-distribution-that-fits-your-data-using-pythons-fitter-library-319a5a0972e9)"
   ]
  },
  {
   "cell_type": "code",
   "execution_count": 7,
   "id": "e0e38a0b",
   "metadata": {},
   "outputs": [
    {
     "data": {
      "text/html": [
       "<div>\n",
       "<style scoped>\n",
       "    .dataframe tbody tr th:only-of-type {\n",
       "        vertical-align: middle;\n",
       "    }\n",
       "\n",
       "    .dataframe tbody tr th {\n",
       "        vertical-align: top;\n",
       "    }\n",
       "\n",
       "    .dataframe thead th {\n",
       "        text-align: right;\n",
       "    }\n",
       "</style>\n",
       "<table border=\"1\" class=\"dataframe\">\n",
       "  <thead>\n",
       "    <tr style=\"text-align: right;\">\n",
       "      <th></th>\n",
       "      <th>sumsquare_error</th>\n",
       "      <th>aic</th>\n",
       "      <th>bic</th>\n",
       "      <th>kl_div</th>\n",
       "    </tr>\n",
       "  </thead>\n",
       "  <tbody>\n",
       "    <tr>\n",
       "      <th>lognorm</th>\n",
       "      <td>0.030668</td>\n",
       "      <td>880.478875</td>\n",
       "      <td>-795.155890</td>\n",
       "      <td>inf</td>\n",
       "    </tr>\n",
       "    <tr>\n",
       "      <th>gamma</th>\n",
       "      <td>0.030719</td>\n",
       "      <td>880.085594</td>\n",
       "      <td>-794.989700</td>\n",
       "      <td>inf</td>\n",
       "    </tr>\n",
       "    <tr>\n",
       "      <th>chi2</th>\n",
       "      <td>0.030719</td>\n",
       "      <td>880.086111</td>\n",
       "      <td>-794.989433</td>\n",
       "      <td>inf</td>\n",
       "    </tr>\n",
       "    <tr>\n",
       "      <th>rayleigh</th>\n",
       "      <td>0.031205</td>\n",
       "      <td>inf</td>\n",
       "      <td>-798.023366</td>\n",
       "      <td>inf</td>\n",
       "    </tr>\n",
       "    <tr>\n",
       "      <th>norm</th>\n",
       "      <td>0.031863</td>\n",
       "      <td>876.688442</td>\n",
       "      <td>-795.936826</td>\n",
       "      <td>inf</td>\n",
       "    </tr>\n",
       "  </tbody>\n",
       "</table>\n",
       "</div>"
      ],
      "text/plain": [
       "          sumsquare_error         aic         bic  kl_div\n",
       "lognorm          0.030668  880.478875 -795.155890     inf\n",
       "gamma            0.030719  880.085594 -794.989700     inf\n",
       "chi2             0.030719  880.086111 -794.989433     inf\n",
       "rayleigh         0.031205         inf -798.023366     inf\n",
       "norm             0.031863  876.688442 -795.936826     inf"
      ]
     },
     "execution_count": 7,
     "metadata": {},
     "output_type": "execute_result"
    },
    {
     "data": {
      "image/png": "[encoded data removed]",
      "text/plain": [
       "<Figure size 432x288 with 1 Axes>"
      ]
     },
     "metadata": {
      "needs_background": "light"
     },
     "output_type": "display_data"
    }
   ],
   "source": [
    "fitdistance = np.array([distance])\n",
    "f = Fitter(fitdistance, distributions=common_distributions)\n",
    "f.fit()\n",
    "f.summary()"
   ]
  },
  {
   "cell_type": "markdown",
   "id": "0e50edd4",
   "metadata": {},
   "source": [
    "<br>\n",
    "\n",
    "The driving distance average data for the top 100 players in the Fedex cup rankings 2021 is found to be a lognormal distribution. "
   ]
  },
  {
   "cell_type": "markdown",
   "id": "c5bf1e42",
   "metadata": {},
   "source": [
    "The shape, loc, and scale parameters for the above distribution can be displayed using the Fitter tool:"
   ]
  },
  {
   "cell_type": "code",
   "execution_count": 8,
   "id": "8fe4de00",
   "metadata": {},
   "outputs": [
    {
     "data": {
      "text/plain": [
       "{'lognorm': {'s': 0.11093697461805507,\n",
       "  'loc': 226.62980940729665,\n",
       "  'scale': 72.26386699032992}}"
      ]
     },
     "execution_count": 8,
     "metadata": {},
     "output_type": "execute_result"
    }
   ],
   "source": [
    "distance_list = f.get_best(method = 'sumsquare_error')\n",
    "distance_list"
   ]
  },
  {
   "cell_type": "markdown",
   "id": "9fda3f66",
   "metadata": {},
   "source": [
    "The code is repeated in a similar manner for the other three variables:"
   ]
  },
  {
   "cell_type": "markdown",
   "id": "2012bb8c",
   "metadata": {},
   "source": [
    "#### Driving Accuracy Average Distribution"
   ]
  },
  {
   "cell_type": "code",
   "execution_count": 9,
   "id": "7e54587e",
   "metadata": {},
   "outputs": [
    {
     "data": {
      "text/html": [
       "<div>\n",
       "<style scoped>\n",
       "    .dataframe tbody tr th:only-of-type {\n",
       "        vertical-align: middle;\n",
       "    }\n",
       "\n",
       "    .dataframe tbody tr th {\n",
       "        vertical-align: top;\n",
       "    }\n",
       "\n",
       "    .dataframe thead th {\n",
       "        text-align: right;\n",
       "    }\n",
       "</style>\n",
       "<table border=\"1\" class=\"dataframe\">\n",
       "  <thead>\n",
       "    <tr style=\"text-align: right;\">\n",
       "      <th></th>\n",
       "      <th>sumsquare_error</th>\n",
       "      <th>aic</th>\n",
       "      <th>bic</th>\n",
       "      <th>kl_div</th>\n",
       "    </tr>\n",
       "  </thead>\n",
       "  <tbody>\n",
       "    <tr>\n",
       "      <th>rayleigh</th>\n",
       "      <td>0.105932</td>\n",
       "      <td>inf</td>\n",
       "      <td>-675.802008</td>\n",
       "      <td>inf</td>\n",
       "    </tr>\n",
       "    <tr>\n",
       "      <th>chi2</th>\n",
       "      <td>0.106243</td>\n",
       "      <td>767.803146</td>\n",
       "      <td>-670.904406</td>\n",
       "      <td>inf</td>\n",
       "    </tr>\n",
       "    <tr>\n",
       "      <th>gamma</th>\n",
       "      <td>0.107194</td>\n",
       "      <td>765.701837</td>\n",
       "      <td>-670.012613</td>\n",
       "      <td>inf</td>\n",
       "    </tr>\n",
       "    <tr>\n",
       "      <th>lognorm</th>\n",
       "      <td>0.107210</td>\n",
       "      <td>765.942683</td>\n",
       "      <td>-669.997928</td>\n",
       "      <td>inf</td>\n",
       "    </tr>\n",
       "    <tr>\n",
       "      <th>norm</th>\n",
       "      <td>0.107583</td>\n",
       "      <td>762.150066</td>\n",
       "      <td>-674.255496</td>\n",
       "      <td>inf</td>\n",
       "    </tr>\n",
       "  </tbody>\n",
       "</table>\n",
       "</div>"
      ],
      "text/plain": [
       "          sumsquare_error         aic         bic  kl_div\n",
       "rayleigh         0.105932         inf -675.802008     inf\n",
       "chi2             0.106243  767.803146 -670.904406     inf\n",
       "gamma            0.107194  765.701837 -670.012613     inf\n",
       "lognorm          0.107210  765.942683 -669.997928     inf\n",
       "norm             0.107583  762.150066 -674.255496     inf"
      ]
     },
     "execution_count": 9,
     "metadata": {},
     "output_type": "execute_result"
    },
    {
     "data": {
      "image/png": "[encoded data removed]",
      "text/plain": [
       "<Figure size 432x288 with 1 Axes>"
      ]
     },
     "metadata": {
      "needs_background": "light"
     },
     "output_type": "display_data"
    }
   ],
   "source": [
    "fitaccuracy = np.array([accuracy])\n",
    "f = Fitter(fitaccuracy, distributions=common_distributions)\n",
    "f.fit()\n",
    "f.summary()"
   ]
  },
  {
   "cell_type": "code",
   "execution_count": 10,
   "id": "f20b7d4b",
   "metadata": {},
   "outputs": [
    {
     "data": {
      "text/plain": [
       "{'rayleigh': {'loc': 53.46421743761188, 'scale': 6.506613280990041}}"
      ]
     },
     "execution_count": 10,
     "metadata": {},
     "output_type": "execute_result"
    }
   ],
   "source": [
    "accuracy_list = f.get_best(method = 'sumsquare_error')\n",
    "accuracy_list"
   ]
  },
  {
   "cell_type": "markdown",
   "id": "00560b40",
   "metadata": {},
   "source": [
    "#### GIR Percentage Distribution"
   ]
  },
  {
   "cell_type": "code",
   "execution_count": 11,
   "id": "ce41c540",
   "metadata": {},
   "outputs": [],
   "source": [
    "fitgir = np.array([gir])"
   ]
  },
  {
   "cell_type": "code",
   "execution_count": 12,
   "id": "a7074f48",
   "metadata": {},
   "outputs": [
    {
     "data": {
      "text/html": [
       "<div>\n",
       "<style scoped>\n",
       "    .dataframe tbody tr th:only-of-type {\n",
       "        vertical-align: middle;\n",
       "    }\n",
       "\n",
       "    .dataframe tbody tr th {\n",
       "        vertical-align: top;\n",
       "    }\n",
       "\n",
       "    .dataframe thead th {\n",
       "        text-align: right;\n",
       "    }\n",
       "</style>\n",
       "<table border=\"1\" class=\"dataframe\">\n",
       "  <thead>\n",
       "    <tr style=\"text-align: right;\">\n",
       "      <th></th>\n",
       "      <th>sumsquare_error</th>\n",
       "      <th>aic</th>\n",
       "      <th>bic</th>\n",
       "      <th>kl_div</th>\n",
       "    </tr>\n",
       "  </thead>\n",
       "  <tbody>\n",
       "    <tr>\n",
       "      <th>norm</th>\n",
       "      <td>0.991301</td>\n",
       "      <td>543.663959</td>\n",
       "      <td>-452.180353</td>\n",
       "      <td>inf</td>\n",
       "    </tr>\n",
       "    <tr>\n",
       "      <th>lognorm</th>\n",
       "      <td>0.991801</td>\n",
       "      <td>545.907262</td>\n",
       "      <td>-447.524837</td>\n",
       "      <td>inf</td>\n",
       "    </tr>\n",
       "    <tr>\n",
       "      <th>gamma</th>\n",
       "      <td>0.991862</td>\n",
       "      <td>546.235757</td>\n",
       "      <td>-447.518615</td>\n",
       "      <td>inf</td>\n",
       "    </tr>\n",
       "    <tr>\n",
       "      <th>chi2</th>\n",
       "      <td>0.992806</td>\n",
       "      <td>548.067712</td>\n",
       "      <td>-447.423532</td>\n",
       "      <td>inf</td>\n",
       "    </tr>\n",
       "    <tr>\n",
       "      <th>rayleigh</th>\n",
       "      <td>1.002078</td>\n",
       "      <td>inf</td>\n",
       "      <td>-451.099131</td>\n",
       "      <td>inf</td>\n",
       "    </tr>\n",
       "  </tbody>\n",
       "</table>\n",
       "</div>"
      ],
      "text/plain": [
       "          sumsquare_error         aic         bic  kl_div\n",
       "norm             0.991301  543.663959 -452.180353     inf\n",
       "lognorm          0.991801  545.907262 -447.524837     inf\n",
       "gamma            0.991862  546.235757 -447.518615     inf\n",
       "chi2             0.992806  548.067712 -447.423532     inf\n",
       "rayleigh         1.002078         inf -451.099131     inf"
      ]
     },
     "execution_count": 12,
     "metadata": {},
     "output_type": "execute_result"
    },
    {
     "data": {
      "image/png": "[encoded data removed]",
      "text/plain": [
       "<Figure size 432x288 with 1 Axes>"
      ]
     },
     "metadata": {
      "needs_background": "light"
     },
     "output_type": "display_data"
    }
   ],
   "source": [
    "f = Fitter(fitgir, distributions=common_distributions)\n",
    "f.fit()\n",
    "# may take some time since by default, all distributions are tried\n",
    "# but you call manually provide a smaller set of distributions\n",
    "f.summary()"
   ]
  },
  {
   "cell_type": "code",
   "execution_count": 13,
   "id": "756a84c5",
   "metadata": {},
   "outputs": [
    {
     "data": {
      "text/plain": [
       "{'norm': {'loc': 66.57350000000001, 'scale': 2.4367405996535614}}"
      ]
     },
     "execution_count": 13,
     "metadata": {},
     "output_type": "execute_result"
    }
   ],
   "source": [
    "gir_list = f.get_best(method = 'sumsquare_error')\n",
    "gir_list\n"
   ]
  },
  {
   "cell_type": "markdown",
   "id": "c0599d41",
   "metadata": {},
   "source": [
    "#### Birdie Average Distribution"
   ]
  },
  {
   "cell_type": "code",
   "execution_count": 14,
   "id": "96a06dbf",
   "metadata": {},
   "outputs": [],
   "source": [
    "fitbirdies = np.array([birdies])"
   ]
  },
  {
   "cell_type": "code",
   "execution_count": 15,
   "id": "ade58bd8",
   "metadata": {},
   "outputs": [
    {
     "data": {
      "text/html": [
       "<div>\n",
       "<style scoped>\n",
       "    .dataframe tbody tr th:only-of-type {\n",
       "        vertical-align: middle;\n",
       "    }\n",
       "\n",
       "    .dataframe tbody tr th {\n",
       "        vertical-align: top;\n",
       "    }\n",
       "\n",
       "    .dataframe thead th {\n",
       "        text-align: right;\n",
       "    }\n",
       "</style>\n",
       "<table border=\"1\" class=\"dataframe\">\n",
       "  <thead>\n",
       "    <tr style=\"text-align: right;\">\n",
       "      <th></th>\n",
       "      <th>sumsquare_error</th>\n",
       "      <th>aic</th>\n",
       "      <th>bic</th>\n",
       "      <th>kl_div</th>\n",
       "    </tr>\n",
       "  </thead>\n",
       "  <tbody>\n",
       "    <tr>\n",
       "      <th>lognorm</th>\n",
       "      <td>68.248116</td>\n",
       "      <td>122.547073</td>\n",
       "      <td>-24.386525</td>\n",
       "      <td>inf</td>\n",
       "    </tr>\n",
       "    <tr>\n",
       "      <th>gamma</th>\n",
       "      <td>68.276475</td>\n",
       "      <td>122.224942</td>\n",
       "      <td>-24.344981</td>\n",
       "      <td>inf</td>\n",
       "    </tr>\n",
       "    <tr>\n",
       "      <th>norm</th>\n",
       "      <td>68.380487</td>\n",
       "      <td>119.275421</td>\n",
       "      <td>-28.797927</td>\n",
       "      <td>inf</td>\n",
       "    </tr>\n",
       "    <tr>\n",
       "      <th>rayleigh</th>\n",
       "      <td>68.518205</td>\n",
       "      <td>inf</td>\n",
       "      <td>-28.596730</td>\n",
       "      <td>inf</td>\n",
       "    </tr>\n",
       "    <tr>\n",
       "      <th>exponpow</th>\n",
       "      <td>69.435081</td>\n",
       "      <td>100.183424</td>\n",
       "      <td>-22.662285</td>\n",
       "      <td>inf</td>\n",
       "    </tr>\n",
       "  </tbody>\n",
       "</table>\n",
       "</div>"
      ],
      "text/plain": [
       "          sumsquare_error         aic        bic  kl_div\n",
       "lognorm         68.248116  122.547073 -24.386525     inf\n",
       "gamma           68.276475  122.224942 -24.344981     inf\n",
       "norm            68.380487  119.275421 -28.797927     inf\n",
       "rayleigh        68.518205         inf -28.596730     inf\n",
       "exponpow        69.435081  100.183424 -22.662285     inf"
      ]
     },
     "execution_count": 15,
     "metadata": {},
     "output_type": "execute_result"
    },
    {
     "data": {
      "image/png": "[encoded data removed]",
      "text/plain": [
       "<Figure size 432x288 with 1 Axes>"
      ]
     },
     "metadata": {
      "needs_background": "light"
     },
     "output_type": "display_data"
    }
   ],
   "source": [
    "f = Fitter(fitbirdies, distributions=common_distributions)\n",
    "f.fit()\n",
    "# may take some time since by default, all distributions are tried\n",
    "# but you call manually provide a smaller set of distributions\n",
    "f.summary()"
   ]
  },
  {
   "cell_type": "code",
   "execution_count": 16,
   "id": "c9d8dfa9",
   "metadata": {},
   "outputs": [
    {
     "data": {
      "text/plain": [
       "{'lognorm': {'s': 0.021071276169458617,\n",
       "  'loc': -9.747395651590328,\n",
       "  'scale': 13.661062712682266}}"
      ]
     },
     "execution_count": 16,
     "metadata": {},
     "output_type": "execute_result"
    }
   ],
   "source": [
    "birdies_list = f.get_best(method = 'sumsquare_error')\n",
    "birdies_list"
   ]
  },
  {
   "cell_type": "markdown",
   "id": "5b916da7",
   "metadata": {},
   "source": [
    "### Summary"
   ]
  },
  {
   "cell_type": "markdown",
   "id": "9e364489",
   "metadata": {},
   "source": [
    "As be be seen, for the data set used:\n",
    "\n",
    "- driving distance average has a lognormal distribution\n",
    "- driving accuracy average has a Rayleigh distribution\n",
    "- GIR percentage has as a normal distribution \n",
    "- birdie average has a lognormal distribution"
   ]
  },
  {
   "cell_type": "markdown",
   "id": "f2899f47",
   "metadata": {},
   "source": [
    "## 5. Gather Historical Data for Each Variable"
   ]
  },
  {
   "cell_type": "markdown",
   "id": "5ede9033",
   "metadata": {},
   "source": [
    "The next stage of the process is to gather historical data for each of the four variables. Data for each of the top 100 players within each variable category was collected from the PGA Tour website for the years 1990, 2000, 2010, and 2020. For example, for driving distance, the top 100 average distances for each of the four years was collected. \n",
    "\n",
    "For each variable, the mean for each year is calculated. The increase or decrease between the mean value for each year is then determined - this will show whether PGA Tour golfers, on average, have increased or decreased their statistics each decade. "
   ]
  },
  {
   "cell_type": "markdown",
   "id": "17bb86a4",
   "metadata": {},
   "source": [
    "Again, this was a manual process which involved copying the data for each variable from the PGA Tour website to a .csv file saved in the data folder associated with this project. "
   ]
  },
  {
   "cell_type": "markdown",
   "id": "ea54b9e7",
   "metadata": {},
   "source": [
    "### Driving Distance Average"
   ]
  },
  {
   "cell_type": "code",
   "execution_count": 17,
   "id": "e8bee17c",
   "metadata": {},
   "outputs": [],
   "source": [
    "historic_distance_df = pd.read_csv('data\\historic_distance.csv')"
   ]
  },
  {
   "cell_type": "markdown",
   "id": "e536c860",
   "metadata": {},
   "source": [
    "Columns are added with the years as headers:"
   ]
  },
  {
   "cell_type": "code",
   "execution_count": 18,
   "id": "efafc2fc",
   "metadata": {},
   "outputs": [
    {
     "data": {
      "text/html": [
       "<div>\n",
       "<style scoped>\n",
       "    .dataframe tbody tr th:only-of-type {\n",
       "        vertical-align: middle;\n",
       "    }\n",
       "\n",
       "    .dataframe tbody tr th {\n",
       "        vertical-align: top;\n",
       "    }\n",
       "\n",
       "    .dataframe thead th {\n",
       "        text-align: right;\n",
       "    }\n",
       "</style>\n",
       "<table border=\"1\" class=\"dataframe\">\n",
       "  <thead>\n",
       "    <tr style=\"text-align: right;\">\n",
       "      <th></th>\n",
       "      <th>1990</th>\n",
       "      <th>2000</th>\n",
       "      <th>2010</th>\n",
       "      <th>2020</th>\n",
       "    </tr>\n",
       "  </thead>\n",
       "  <tbody>\n",
       "    <tr>\n",
       "      <th>0</th>\n",
       "      <td>279.6</td>\n",
       "      <td>301.4</td>\n",
       "      <td>315.5</td>\n",
       "      <td>322.1</td>\n",
       "    </tr>\n",
       "    <tr>\n",
       "      <th>1</th>\n",
       "      <td>279.4</td>\n",
       "      <td>298.0</td>\n",
       "      <td>309.8</td>\n",
       "      <td>322.0</td>\n",
       "    </tr>\n",
       "    <tr>\n",
       "      <th>2</th>\n",
       "      <td>278.0</td>\n",
       "      <td>288.7</td>\n",
       "      <td>308.5</td>\n",
       "      <td>315.3</td>\n",
       "    </tr>\n",
       "    <tr>\n",
       "      <th>3</th>\n",
       "      <td>277.6</td>\n",
       "      <td>288.7</td>\n",
       "      <td>307.3</td>\n",
       "      <td>314.0</td>\n",
       "    </tr>\n",
       "    <tr>\n",
       "      <th>4</th>\n",
       "      <td>277.6</td>\n",
       "      <td>288.5</td>\n",
       "      <td>307.2</td>\n",
       "      <td>313.8</td>\n",
       "    </tr>\n",
       "    <tr>\n",
       "      <th>...</th>\n",
       "      <td>...</td>\n",
       "      <td>...</td>\n",
       "      <td>...</td>\n",
       "      <td>...</td>\n",
       "    </tr>\n",
       "    <tr>\n",
       "      <th>95</th>\n",
       "      <td>263.1</td>\n",
       "      <td>273.3</td>\n",
       "      <td>287.9</td>\n",
       "      <td>297.4</td>\n",
       "    </tr>\n",
       "    <tr>\n",
       "      <th>96</th>\n",
       "      <td>263.0</td>\n",
       "      <td>273.2</td>\n",
       "      <td>287.8</td>\n",
       "      <td>297.3</td>\n",
       "    </tr>\n",
       "    <tr>\n",
       "      <th>97</th>\n",
       "      <td>263.0</td>\n",
       "      <td>273.2</td>\n",
       "      <td>287.7</td>\n",
       "      <td>297.3</td>\n",
       "    </tr>\n",
       "    <tr>\n",
       "      <th>98</th>\n",
       "      <td>263.0</td>\n",
       "      <td>273.2</td>\n",
       "      <td>287.6</td>\n",
       "      <td>297.3</td>\n",
       "    </tr>\n",
       "    <tr>\n",
       "      <th>99</th>\n",
       "      <td>263.0</td>\n",
       "      <td>273.2</td>\n",
       "      <td>287.3</td>\n",
       "      <td>297.2</td>\n",
       "    </tr>\n",
       "  </tbody>\n",
       "</table>\n",
       "<p>100 rows × 4 columns</p>\n",
       "</div>"
      ],
      "text/plain": [
       "     1990   2000   2010   2020\n",
       "0   279.6  301.4  315.5  322.1\n",
       "1   279.4  298.0  309.8  322.0\n",
       "2   278.0  288.7  308.5  315.3\n",
       "3   277.6  288.7  307.3  314.0\n",
       "4   277.6  288.5  307.2  313.8\n",
       "..    ...    ...    ...    ...\n",
       "95  263.1  273.3  287.9  297.4\n",
       "96  263.0  273.2  287.8  297.3\n",
       "97  263.0  273.2  287.7  297.3\n",
       "98  263.0  273.2  287.6  297.3\n",
       "99  263.0  273.2  287.3  297.2\n",
       "\n",
       "[100 rows x 4 columns]"
      ]
     },
     "execution_count": 18,
     "metadata": {},
     "output_type": "execute_result"
    }
   ],
   "source": [
    "historic_distance_df.columns = ['1990', '2000', '2010','2020']\n",
    "historic_distance_df"
   ]
  },
  {
   "cell_type": "code",
   "execution_count": 19,
   "id": "d60295fa",
   "metadata": {},
   "outputs": [],
   "source": [
    "#historic_distance_df_arr = historic_distance_df\n",
    "#historic_distance_df_arr.columns = ['1990', '2000', '2010','2020']\n",
    "#https://note.nkmk.me/en/python-pandas-t-transpose/\n",
    "#historic_distance_df_arr"
   ]
  },
  {
   "cell_type": "markdown",
   "id": "a6e16b49",
   "metadata": {},
   "source": [
    "Each year is separated out:"
   ]
  },
  {
   "cell_type": "code",
   "execution_count": 20,
   "id": "5f29b557",
   "metadata": {},
   "outputs": [],
   "source": [
    "distance_1990 = historic_distance_df.iloc[:,0]\n",
    "distance_2000 = historic_distance_df.iloc[:,1]\n",
    "distance_2010 = historic_distance_df.iloc[:,2]\n",
    "distance_2020 = historic_distance_df.iloc[:,3]"
   ]
  },
  {
   "cell_type": "markdown",
   "id": "18a098f2",
   "metadata": {},
   "source": [
    "The mean for each year is determined:"
   ]
  },
  {
   "cell_type": "code",
   "execution_count": 21,
   "id": "a81190c0",
   "metadata": {},
   "outputs": [],
   "source": [
    "mean_distance_1990 = statistics.mean(distance_1990)\n",
    "mean_distance_2000 = statistics.mean(distance_2000)\n",
    "mean_distance_2010 = statistics.mean(distance_2010)\n",
    "mean_distance_2020 = statistics.mean(distance_2020)"
   ]
  },
  {
   "cell_type": "markdown",
   "id": "0da2f0f6",
   "metadata": {},
   "source": [
    "For example:"
   ]
  },
  {
   "cell_type": "code",
   "execution_count": 22,
   "id": "9e8030cd",
   "metadata": {},
   "outputs": [
    {
     "data": {
      "text/plain": [
       "267.734"
      ]
     },
     "execution_count": 22,
     "metadata": {},
     "output_type": "execute_result"
    }
   ],
   "source": [
    "mean_distance_1990"
   ]
  },
  {
   "cell_type": "markdown",
   "id": "b52ab9a8",
   "metadata": {},
   "source": [
    "The distance increase between years (i.e. each decade) is calculated:"
   ]
  },
  {
   "cell_type": "code",
   "execution_count": 23,
   "id": "79b0a29b",
   "metadata": {},
   "outputs": [
    {
     "data": {
      "text/plain": [
       "([9.718999999999994], [15.097000000000037], [10.908999999999992])"
      ]
     },
     "execution_count": 23,
     "metadata": {},
     "output_type": "execute_result"
    }
   ],
   "source": [
    "distance_increase = ([mean_distance_2020 - mean_distance_2010],[mean_distance_2010 - mean_distance_2000], [mean_distance_2000 - mean_distance_1990] )\n",
    "distance_increase"
   ]
  },
  {
   "cell_type": "markdown",
   "id": "f6f6fc06",
   "metadata": {},
   "source": [
    "The mean increase or decrease is calculated:"
   ]
  },
  {
   "cell_type": "code",
   "execution_count": 24,
   "id": "8339b3f5",
   "metadata": {},
   "outputs": [
    {
     "data": {
      "text/plain": [
       "11.90833333333334"
      ]
     },
     "execution_count": 24,
     "metadata": {},
     "output_type": "execute_result"
    }
   ],
   "source": [
    "mean_distance_increase = np.mean(distance_increase)\n",
    "mean_distance_increase"
   ]
  },
  {
   "cell_type": "markdown",
   "id": "3c3f7c60",
   "metadata": {},
   "source": [
    "Therefore, on average, each decade from 1990 to 2020, average driving distance on the PGA Tour increased nearly 12 yards. "
   ]
  },
  {
   "cell_type": "code",
   "execution_count": 25,
   "id": "6642bd50",
   "metadata": {},
   "outputs": [],
   "source": [
    "#std_distance_increase = np.std(distance_increase)\n",
    "#std_distance_increase"
   ]
  },
  {
   "cell_type": "markdown",
   "id": "b75a7dc0",
   "metadata": {},
   "source": [
    "The process was repeated for the remaining three variables."
   ]
  },
  {
   "cell_type": "markdown",
   "id": "6259fb30",
   "metadata": {},
   "source": [
    "### Driving Accuracy Percentage"
   ]
  },
  {
   "cell_type": "code",
   "execution_count": 26,
   "id": "f2ea2320",
   "metadata": {},
   "outputs": [],
   "source": [
    "historic_accuracy_df = pd.read_csv('data\\historic_accuracy.csv')"
   ]
  },
  {
   "cell_type": "code",
   "execution_count": 27,
   "id": "b9b1e391",
   "metadata": {},
   "outputs": [
    {
     "data": {
      "text/html": [
       "<div>\n",
       "<style scoped>\n",
       "    .dataframe tbody tr th:only-of-type {\n",
       "        vertical-align: middle;\n",
       "    }\n",
       "\n",
       "    .dataframe tbody tr th {\n",
       "        vertical-align: top;\n",
       "    }\n",
       "\n",
       "    .dataframe thead th {\n",
       "        text-align: right;\n",
       "    }\n",
       "</style>\n",
       "<table border=\"1\" class=\"dataframe\">\n",
       "  <thead>\n",
       "    <tr style=\"text-align: right;\">\n",
       "      <th></th>\n",
       "      <th>1990</th>\n",
       "      <th>2000</th>\n",
       "      <th>2010</th>\n",
       "      <th>2020</th>\n",
       "    </tr>\n",
       "  </thead>\n",
       "  <tbody>\n",
       "    <tr>\n",
       "      <th>0</th>\n",
       "      <td>83.67</td>\n",
       "      <td>79.75</td>\n",
       "      <td>76.08</td>\n",
       "      <td>74.50</td>\n",
       "    </tr>\n",
       "    <tr>\n",
       "      <th>1</th>\n",
       "      <td>79.19</td>\n",
       "      <td>79.57</td>\n",
       "      <td>75.94</td>\n",
       "      <td>73.86</td>\n",
       "    </tr>\n",
       "    <tr>\n",
       "      <th>2</th>\n",
       "      <td>78.97</td>\n",
       "      <td>78.76</td>\n",
       "      <td>74.00</td>\n",
       "      <td>71.84</td>\n",
       "    </tr>\n",
       "    <tr>\n",
       "      <th>3</th>\n",
       "      <td>77.84</td>\n",
       "      <td>78.75</td>\n",
       "      <td>73.72</td>\n",
       "      <td>71.36</td>\n",
       "    </tr>\n",
       "    <tr>\n",
       "      <th>4</th>\n",
       "      <td>77.57</td>\n",
       "      <td>77.96</td>\n",
       "      <td>72.86</td>\n",
       "      <td>71.29</td>\n",
       "    </tr>\n",
       "    <tr>\n",
       "      <th>...</th>\n",
       "      <td>...</td>\n",
       "      <td>...</td>\n",
       "      <td>...</td>\n",
       "      <td>...</td>\n",
       "    </tr>\n",
       "    <tr>\n",
       "      <th>95</th>\n",
       "      <td>65.30</td>\n",
       "      <td>68.88</td>\n",
       "      <td>63.72</td>\n",
       "      <td>60.34</td>\n",
       "    </tr>\n",
       "    <tr>\n",
       "      <th>96</th>\n",
       "      <td>65.00</td>\n",
       "      <td>68.85</td>\n",
       "      <td>63.69</td>\n",
       "      <td>60.34</td>\n",
       "    </tr>\n",
       "    <tr>\n",
       "      <th>97</th>\n",
       "      <td>64.99</td>\n",
       "      <td>68.78</td>\n",
       "      <td>63.47</td>\n",
       "      <td>60.31</td>\n",
       "    </tr>\n",
       "    <tr>\n",
       "      <th>98</th>\n",
       "      <td>64.97</td>\n",
       "      <td>68.68</td>\n",
       "      <td>63.40</td>\n",
       "      <td>60.26</td>\n",
       "    </tr>\n",
       "    <tr>\n",
       "      <th>99</th>\n",
       "      <td>64.97</td>\n",
       "      <td>68.67</td>\n",
       "      <td>63.40</td>\n",
       "      <td>60.20</td>\n",
       "    </tr>\n",
       "  </tbody>\n",
       "</table>\n",
       "<p>100 rows × 4 columns</p>\n",
       "</div>"
      ],
      "text/plain": [
       "     1990   2000   2010   2020\n",
       "0   83.67  79.75  76.08  74.50\n",
       "1   79.19  79.57  75.94  73.86\n",
       "2   78.97  78.76  74.00  71.84\n",
       "3   77.84  78.75  73.72  71.36\n",
       "4   77.57  77.96  72.86  71.29\n",
       "..    ...    ...    ...    ...\n",
       "95  65.30  68.88  63.72  60.34\n",
       "96  65.00  68.85  63.69  60.34\n",
       "97  64.99  68.78  63.47  60.31\n",
       "98  64.97  68.68  63.40  60.26\n",
       "99  64.97  68.67  63.40  60.20\n",
       "\n",
       "[100 rows x 4 columns]"
      ]
     },
     "execution_count": 27,
     "metadata": {},
     "output_type": "execute_result"
    }
   ],
   "source": [
    "historic_accuracy_df = historic_accuracy_df\n",
    "historic_accuracy_df.columns = ['1990', '2000', '2010','2020']\n",
    "historic_accuracy_df"
   ]
  },
  {
   "cell_type": "code",
   "execution_count": 28,
   "id": "d7dbcc08",
   "metadata": {},
   "outputs": [],
   "source": [
    "accuracy_1990 = historic_accuracy_df.iloc[:,0]\n",
    "accuracy_2000 = historic_accuracy_df.iloc[:,1]\n",
    "accuracy_2010 = historic_accuracy_df.iloc[:,2]\n",
    "accuracy_2020 = historic_accuracy_df.iloc[:,3]"
   ]
  },
  {
   "cell_type": "code",
   "execution_count": 29,
   "id": "edf6b409",
   "metadata": {},
   "outputs": [],
   "source": [
    "mean_accuracy_1990 = statistics.mean(accuracy_1990)\n",
    "mean_accuracy_2000 = statistics.mean(accuracy_2000)\n",
    "mean_accuracy_2010 = statistics.mean(accuracy_2010)\n",
    "mean_accuracy_2020 = statistics.mean(accuracy_2020)"
   ]
  },
  {
   "cell_type": "code",
   "execution_count": 30,
   "id": "4acf2e0c",
   "metadata": {},
   "outputs": [],
   "source": [
    "accuracy_increase = ([mean_accuracy_2020 - mean_accuracy_2010],[mean_accuracy_2010 - mean_accuracy_2000], [mean_accuracy_2000 - mean_accuracy_1990] )"
   ]
  },
  {
   "cell_type": "code",
   "execution_count": 31,
   "id": "3186b3df",
   "metadata": {},
   "outputs": [
    {
     "data": {
      "text/plain": [
       "-1.7376000000000005"
      ]
     },
     "execution_count": 31,
     "metadata": {},
     "output_type": "execute_result"
    }
   ],
   "source": [
    "mean_accuracy_increase = np.mean(accuracy_increase)\n",
    "mean_accuracy_increase"
   ]
  },
  {
   "cell_type": "markdown",
   "id": "43ea8c71",
   "metadata": {},
   "source": [
    "### GIR Percentage"
   ]
  },
  {
   "cell_type": "code",
   "execution_count": 32,
   "id": "08498aaa",
   "metadata": {},
   "outputs": [],
   "source": [
    "historic_gir_df = pd.read_csv('data\\historic_gir.csv')"
   ]
  },
  {
   "cell_type": "code",
   "execution_count": 33,
   "id": "507758a8",
   "metadata": {},
   "outputs": [
    {
     "data": {
      "text/html": [
       "<div>\n",
       "<style scoped>\n",
       "    .dataframe tbody tr th:only-of-type {\n",
       "        vertical-align: middle;\n",
       "    }\n",
       "\n",
       "    .dataframe tbody tr th {\n",
       "        vertical-align: top;\n",
       "    }\n",
       "\n",
       "    .dataframe thead th {\n",
       "        text-align: right;\n",
       "    }\n",
       "</style>\n",
       "<table border=\"1\" class=\"dataframe\">\n",
       "  <thead>\n",
       "    <tr style=\"text-align: right;\">\n",
       "      <th></th>\n",
       "      <th>1990</th>\n",
       "      <th>2000</th>\n",
       "      <th>2010</th>\n",
       "      <th>2020</th>\n",
       "    </tr>\n",
       "  </thead>\n",
       "  <tbody>\n",
       "    <tr>\n",
       "      <th>0</th>\n",
       "      <td>70.91</td>\n",
       "      <td>75.15</td>\n",
       "      <td>72.49</td>\n",
       "      <td>74.22</td>\n",
       "    </tr>\n",
       "    <tr>\n",
       "      <th>1</th>\n",
       "      <td>70.85</td>\n",
       "      <td>72.34</td>\n",
       "      <td>71.96</td>\n",
       "      <td>72.54</td>\n",
       "    </tr>\n",
       "    <tr>\n",
       "      <th>2</th>\n",
       "      <td>70.22</td>\n",
       "      <td>71.86</td>\n",
       "      <td>71.95</td>\n",
       "      <td>72.10</td>\n",
       "    </tr>\n",
       "    <tr>\n",
       "      <th>3</th>\n",
       "      <td>70.06</td>\n",
       "      <td>71.20</td>\n",
       "      <td>71.74</td>\n",
       "      <td>71.70</td>\n",
       "    </tr>\n",
       "    <tr>\n",
       "      <th>4</th>\n",
       "      <td>70.00</td>\n",
       "      <td>71.13</td>\n",
       "      <td>71.43</td>\n",
       "      <td>71.69</td>\n",
       "    </tr>\n",
       "    <tr>\n",
       "      <th>...</th>\n",
       "      <td>...</td>\n",
       "      <td>...</td>\n",
       "      <td>...</td>\n",
       "      <td>...</td>\n",
       "    </tr>\n",
       "    <tr>\n",
       "      <th>95</th>\n",
       "      <td>64.43</td>\n",
       "      <td>65.91</td>\n",
       "      <td>66.86</td>\n",
       "      <td>66.97</td>\n",
       "    </tr>\n",
       "    <tr>\n",
       "      <th>96</th>\n",
       "      <td>64.42</td>\n",
       "      <td>65.86</td>\n",
       "      <td>66.81</td>\n",
       "      <td>66.97</td>\n",
       "    </tr>\n",
       "    <tr>\n",
       "      <th>97</th>\n",
       "      <td>64.40</td>\n",
       "      <td>65.83</td>\n",
       "      <td>66.78</td>\n",
       "      <td>66.95</td>\n",
       "    </tr>\n",
       "    <tr>\n",
       "      <th>98</th>\n",
       "      <td>64.29</td>\n",
       "      <td>65.82</td>\n",
       "      <td>66.77</td>\n",
       "      <td>66.95</td>\n",
       "    </tr>\n",
       "    <tr>\n",
       "      <th>99</th>\n",
       "      <td>64.14</td>\n",
       "      <td>65.82</td>\n",
       "      <td>66.75</td>\n",
       "      <td>66.93</td>\n",
       "    </tr>\n",
       "  </tbody>\n",
       "</table>\n",
       "<p>100 rows × 4 columns</p>\n",
       "</div>"
      ],
      "text/plain": [
       "     1990   2000   2010   2020\n",
       "0   70.91  75.15  72.49  74.22\n",
       "1   70.85  72.34  71.96  72.54\n",
       "2   70.22  71.86  71.95  72.10\n",
       "3   70.06  71.20  71.74  71.70\n",
       "4   70.00  71.13  71.43  71.69\n",
       "..    ...    ...    ...    ...\n",
       "95  64.43  65.91  66.86  66.97\n",
       "96  64.42  65.86  66.81  66.97\n",
       "97  64.40  65.83  66.78  66.95\n",
       "98  64.29  65.82  66.77  66.95\n",
       "99  64.14  65.82  66.75  66.93\n",
       "\n",
       "[100 rows x 4 columns]"
      ]
     },
     "execution_count": 33,
     "metadata": {},
     "output_type": "execute_result"
    }
   ],
   "source": [
    "historic_gir_df = historic_gir_df\n",
    "historic_gir_df.columns = ['1990', '2000', '2010','2020']\n",
    "historic_gir_df"
   ]
  },
  {
   "cell_type": "code",
   "execution_count": 34,
   "id": "7454a502",
   "metadata": {},
   "outputs": [],
   "source": [
    "gir_1990 = historic_gir_df.iloc[:,0]\n",
    "gir_2000 = historic_gir_df.iloc[:,1]\n",
    "gir_2010 = historic_gir_df.iloc[:,2]\n",
    "gir_2020 = historic_gir_df.iloc[:,3]"
   ]
  },
  {
   "cell_type": "code",
   "execution_count": 35,
   "id": "203c70c4",
   "metadata": {},
   "outputs": [],
   "source": [
    "mean_gir_1990 = statistics.mean(gir_1990)\n",
    "mean_gir_2000 = statistics.mean(gir_2000)\n",
    "mean_gir_2010 = statistics.mean(gir_2010)\n",
    "mean_gir_2020 = statistics.mean(gir_2020)"
   ]
  },
  {
   "cell_type": "code",
   "execution_count": 36,
   "id": "76e09eb1",
   "metadata": {},
   "outputs": [],
   "source": [
    "gir_increase = ([mean_gir_2020 - mean_gir_2010],[mean_gir_2010 - mean_gir_2000], [mean_gir_2000 - mean_gir_1990] )"
   ]
  },
  {
   "cell_type": "code",
   "execution_count": 37,
   "id": "7808f8f2",
   "metadata": {},
   "outputs": [
    {
     "data": {
      "text/plain": [
       "0.854000000000004"
      ]
     },
     "execution_count": 37,
     "metadata": {},
     "output_type": "execute_result"
    }
   ],
   "source": [
    "mean_gir_increase = np.mean(gir_increase)\n",
    "mean_gir_increase"
   ]
  },
  {
   "cell_type": "markdown",
   "id": "f28fa0fc",
   "metadata": {},
   "source": [
    "### Birdie Average"
   ]
  },
  {
   "cell_type": "code",
   "execution_count": 38,
   "id": "8295ef5f",
   "metadata": {},
   "outputs": [],
   "source": [
    "historic_birdies_df = pd.read_csv('data\\historic_birdies.csv')"
   ]
  },
  {
   "cell_type": "code",
   "execution_count": 39,
   "id": "0abdd74c",
   "metadata": {},
   "outputs": [
    {
     "data": {
      "text/html": [
       "<div>\n",
       "<style scoped>\n",
       "    .dataframe tbody tr th:only-of-type {\n",
       "        vertical-align: middle;\n",
       "    }\n",
       "\n",
       "    .dataframe tbody tr th {\n",
       "        vertical-align: top;\n",
       "    }\n",
       "\n",
       "    .dataframe thead th {\n",
       "        text-align: right;\n",
       "    }\n",
       "</style>\n",
       "<table border=\"1\" class=\"dataframe\">\n",
       "  <thead>\n",
       "    <tr style=\"text-align: right;\">\n",
       "      <th></th>\n",
       "      <th>1990</th>\n",
       "      <th>2000</th>\n",
       "      <th>2010</th>\n",
       "      <th>2020</th>\n",
       "    </tr>\n",
       "  </thead>\n",
       "  <tbody>\n",
       "    <tr>\n",
       "      <th>0</th>\n",
       "      <td>3.88</td>\n",
       "      <td>4.92</td>\n",
       "      <td>4.06</td>\n",
       "      <td>4.67</td>\n",
       "    </tr>\n",
       "    <tr>\n",
       "      <th>1</th>\n",
       "      <td>3.84</td>\n",
       "      <td>4.26</td>\n",
       "      <td>4.03</td>\n",
       "      <td>4.55</td>\n",
       "    </tr>\n",
       "    <tr>\n",
       "      <th>2</th>\n",
       "      <td>3.82</td>\n",
       "      <td>4.22</td>\n",
       "      <td>4.02</td>\n",
       "      <td>4.55</td>\n",
       "    </tr>\n",
       "    <tr>\n",
       "      <th>3</th>\n",
       "      <td>3.76</td>\n",
       "      <td>4.21</td>\n",
       "      <td>4.01</td>\n",
       "      <td>4.42</td>\n",
       "    </tr>\n",
       "    <tr>\n",
       "      <th>4</th>\n",
       "      <td>3.76</td>\n",
       "      <td>4.08</td>\n",
       "      <td>4.00</td>\n",
       "      <td>4.38</td>\n",
       "    </tr>\n",
       "    <tr>\n",
       "      <th>...</th>\n",
       "      <td>...</td>\n",
       "      <td>...</td>\n",
       "      <td>...</td>\n",
       "      <td>...</td>\n",
       "    </tr>\n",
       "    <tr>\n",
       "      <th>187</th>\n",
       "      <td>2.61</td>\n",
       "      <td>2.88</td>\n",
       "      <td>2.95</td>\n",
       "      <td>3.20</td>\n",
       "    </tr>\n",
       "    <tr>\n",
       "      <th>188</th>\n",
       "      <td>2.59</td>\n",
       "      <td>2.80</td>\n",
       "      <td>2.88</td>\n",
       "      <td>3.20</td>\n",
       "    </tr>\n",
       "    <tr>\n",
       "      <th>189</th>\n",
       "      <td>2.58</td>\n",
       "      <td>2.77</td>\n",
       "      <td>2.82</td>\n",
       "      <td>3.18</td>\n",
       "    </tr>\n",
       "    <tr>\n",
       "      <th>190</th>\n",
       "      <td>2.29</td>\n",
       "      <td>2.76</td>\n",
       "      <td>2.80</td>\n",
       "      <td>3.04</td>\n",
       "    </tr>\n",
       "    <tr>\n",
       "      <th>191</th>\n",
       "      <td>2.05</td>\n",
       "      <td>2.76</td>\n",
       "      <td>2.79</td>\n",
       "      <td>2.98</td>\n",
       "    </tr>\n",
       "  </tbody>\n",
       "</table>\n",
       "<p>192 rows × 4 columns</p>\n",
       "</div>"
      ],
      "text/plain": [
       "     1990  2000  2010  2020\n",
       "0    3.88  4.92  4.06  4.67\n",
       "1    3.84  4.26  4.03  4.55\n",
       "2    3.82  4.22  4.02  4.55\n",
       "3    3.76  4.21  4.01  4.42\n",
       "4    3.76  4.08  4.00  4.38\n",
       "..    ...   ...   ...   ...\n",
       "187  2.61  2.88  2.95  3.20\n",
       "188  2.59  2.80  2.88  3.20\n",
       "189  2.58  2.77  2.82  3.18\n",
       "190  2.29  2.76  2.80  3.04\n",
       "191  2.05  2.76  2.79  2.98\n",
       "\n",
       "[192 rows x 4 columns]"
      ]
     },
     "execution_count": 39,
     "metadata": {},
     "output_type": "execute_result"
    }
   ],
   "source": [
    "historic_birdies_df = historic_birdies_df\n",
    "historic_birdies_df.columns = ['1990', '2000', '2010','2020']\n",
    "historic_birdies_df"
   ]
  },
  {
   "cell_type": "code",
   "execution_count": 40,
   "id": "7c1c9a02",
   "metadata": {},
   "outputs": [],
   "source": [
    "birdies_1990 = historic_birdies_df.iloc[:,0]\n",
    "birdies_2000 = historic_birdies_df.iloc[:,1]\n",
    "birdies_2010 = historic_birdies_df.iloc[:,2]\n",
    "birdies_2020 = historic_birdies_df.iloc[:,3]"
   ]
  },
  {
   "cell_type": "code",
   "execution_count": 41,
   "id": "f51ff348",
   "metadata": {},
   "outputs": [],
   "source": [
    "mean_birdies_1990 = statistics.mean(birdies_1990)\n",
    "mean_birdies_2000 = statistics.mean(birdies_2000)\n",
    "mean_birdies_2010 = statistics.mean(birdies_2010)\n",
    "mean_birdies_2020 = statistics.mean(birdies_2020)"
   ]
  },
  {
   "cell_type": "code",
   "execution_count": 42,
   "id": "eba2e1a7",
   "metadata": {},
   "outputs": [],
   "source": [
    "birdies_increase = ([mean_birdies_2020 - mean_birdies_2010],[mean_birdies_2010 - mean_birdies_2000], [mean_birdies_2000 - mean_birdies_1990] )"
   ]
  },
  {
   "cell_type": "code",
   "execution_count": 43,
   "id": "77472856",
   "metadata": {},
   "outputs": [
    {
     "data": {
      "text/plain": [
       "0.20939236111111104"
      ]
     },
     "execution_count": 43,
     "metadata": {},
     "output_type": "execute_result"
    }
   ],
   "source": [
    "mean_birdies_increase = np.mean(birdies_increase)\n",
    "mean_birdies_increase "
   ]
  },
  {
   "cell_type": "markdown",
   "id": "567583e3",
   "metadata": {},
   "source": [
    "### Summary"
   ]
  },
  {
   "cell_type": "markdown",
   "id": "0ff895f2",
   "metadata": {},
   "source": [
    "On average, each decade from 1990 to 2020:\n",
    "\n",
    "- average driving distance on the PGA Tour increased by approximately 12 yards. \n",
    "\n",
    "- average driving accuracy on the PGA Tour decreased by approximately 1.7\n",
    "\n",
    "- GIR percentage on the PGA Tour increased by approximately 0.85\n",
    "\n",
    "- birdie average on the PGA Tour increased by approximately 0.2 \n",
    "\n"
   ]
  },
  {
   "cell_type": "markdown",
   "id": "1a954d45",
   "metadata": {},
   "source": [
    "## 6. Estimate Variables for 2030"
   ]
  },
  {
   "cell_type": "markdown",
   "id": "700b24f8",
   "metadata": {},
   "source": [
    "Based on the average increase or decrease for each decade determined in the last section, an estimate is made for the values of each variable in 2030 (i.e. in another decade from 2020)."
   ]
  },
  {
   "cell_type": "markdown",
   "id": "e2eb348c",
   "metadata": {},
   "source": [
    "### Driving Distance Average"
   ]
  },
  {
   "cell_type": "code",
   "execution_count": 44,
   "id": "15f6c044",
   "metadata": {},
   "outputs": [
    {
     "data": {
      "text/plain": [
       "315.36733333333336"
      ]
     },
     "execution_count": 44,
     "metadata": {},
     "output_type": "execute_result"
    }
   ],
   "source": [
    "mean_distance_2030 = (mean_distance_2020 + mean_distance_increase)\n",
    "mean_distance_2030"
   ]
  },
  {
   "cell_type": "markdown",
   "id": "16e8bc99",
   "metadata": {},
   "source": [
    "### Driving Accuracy Percentage"
   ]
  },
  {
   "cell_type": "code",
   "execution_count": 45,
   "id": "b04d25b4",
   "metadata": {},
   "outputs": [
    {
     "data": {
      "text/plain": [
       "62.5958"
      ]
     },
     "execution_count": 45,
     "metadata": {},
     "output_type": "execute_result"
    }
   ],
   "source": [
    "mean_accuracy_2030 = (mean_accuracy_2020 + mean_accuracy_increase)\n",
    "mean_accuracy_2030"
   ]
  },
  {
   "cell_type": "markdown",
   "id": "ab661f21",
   "metadata": {},
   "source": [
    "### GIR Percentage"
   ]
  },
  {
   "cell_type": "code",
   "execution_count": 46,
   "id": "4fcdde1b",
   "metadata": {},
   "outputs": [
    {
     "data": {
      "text/plain": [
       "69.8079"
      ]
     },
     "execution_count": 46,
     "metadata": {},
     "output_type": "execute_result"
    }
   ],
   "source": [
    "mean_gir_2030 = (mean_gir_2020 + mean_gir_increase)\n",
    "mean_gir_2030"
   ]
  },
  {
   "cell_type": "markdown",
   "id": "2094b5f7",
   "metadata": {},
   "source": [
    "### Birdie Average"
   ]
  },
  {
   "cell_type": "code",
   "execution_count": 47,
   "id": "4893bc9c",
   "metadata": {},
   "outputs": [
    {
     "data": {
      "text/plain": [
       "3.9966840277777775"
      ]
     },
     "execution_count": 47,
     "metadata": {},
     "output_type": "execute_result"
    }
   ],
   "source": [
    "mean_birdies_2030 = (mean_birdies_2020 + mean_birdies_increase)\n",
    "mean_birdies_2030"
   ]
  },
  {
   "cell_type": "markdown",
   "id": "6551d457",
   "metadata": {},
   "source": [
    "### Summary"
   ]
  },
  {
   "cell_type": "markdown",
   "id": "fbe6a67d",
   "metadata": {},
   "source": [
    "The estimated value for each variable for 2030 is:\n",
    "\n",
    "- average driving distance is approximately 315.4 yards \n",
    "\n",
    "- average driving accuracy is approximately 62.6%\n",
    "\n",
    "- GIR percentage is approximately 69.8%\n",
    "\n",
    "- birdie average is approximately 4%\n",
    "\n",
    "\n"
   ]
  },
  {
   "cell_type": "markdown",
   "id": "f39fb14b",
   "metadata": {},
   "source": [
    "## 7. Simulate Distribution for Each Variable using 2030 Estimated Values"
   ]
  },
  {
   "cell_type": "markdown",
   "id": "0129b410",
   "metadata": {},
   "source": [
    "The next step in the project is to simulate the distribution for each variable using the 2030 estimated values. There are various ways to do this in Python, such as using the Numpy package. For this project, it was decided to use the SciPy package. SciPy provides algorithms for algebraic equations, differential equations, statistics and many other classes of problems (https://scipy.org/). In particular, the ```scipy.stats``` module will be used which contains a large number of probability distributions, statistical tests, kernel density estimation and more (https://docs.scipy.org/doc/scipy/reference/stats.html)."
   ]
  },
  {
   "cell_type": "markdown",
   "id": "e0336aef",
   "metadata": {},
   "source": [
    "For this simulation a data set of 250 samples for the each distribution was chosen:"
   ]
  },
  {
   "cell_type": "code",
   "execution_count": 48,
   "id": "0049d373",
   "metadata": {},
   "outputs": [],
   "source": [
    "simulation_size=250"
   ]
  },
  {
   "cell_type": "markdown",
   "id": "c90205df",
   "metadata": {},
   "source": [
    "### Driving Distance Average"
   ]
  },
  {
   "cell_type": "markdown",
   "id": "be9c7208",
   "metadata": {},
   "source": [
    "As detailed in Section 4, the Fitter tool provided the s, loc, and scale values (as required) for each of the distributions for each of the variables for the top 100 ranked players in the 2021 Fedex cup. "
   ]
  },
  {
   "cell_type": "markdown",
   "id": "667a85a8",
   "metadata": {},
   "source": [
    "For the driving distance distribution (as shown in Section 4) these are as follow:"
   ]
  },
  {
   "cell_type": "code",
   "execution_count": 49,
   "id": "9419ecd9",
   "metadata": {},
   "outputs": [
    {
     "data": {
      "text/plain": [
       "{'lognorm': {'s': 0.11093697461805507,\n",
       "  'loc': 226.62980940729665,\n",
       "  'scale': 72.26386699032992}}"
      ]
     },
     "execution_count": 49,
     "metadata": {},
     "output_type": "execute_result"
    }
   ],
   "source": [
    "distance_list"
   ]
  },
  {
   "cell_type": "markdown",
   "id": "971879d4",
   "metadata": {},
   "source": [
    "The same values are used for the s, loc, and scale values for the 2030 simulated distribution. However, for loc, the mean distance increase determined in Section 6 was added to the loc value as the distance has increased. Please note, the mean distance value for 2030 is not used for the loc value, rather the mean distance increase is added to the loc value determined by Fitter. Using the mean distance value for 2030 would result in a distribution spread around a greater distance than would be expected.  "
   ]
  },
  {
   "cell_type": "code",
   "execution_count": 50,
   "id": "35bfa015",
   "metadata": {},
   "outputs": [],
   "source": [
    "distance_s=0.11093697461805507\n",
    "distance_loc=(226.62980940729665+mean_distance_increase)\n",
    "distance_scale=72.26386699032992"
   ]
  },
  {
   "cell_type": "markdown",
   "id": "b663111e",
   "metadata": {},
   "source": [
    "A simulated distribution for the driving distance average for 2030 can then be created using the lognormal distribution function in SciPy (https://docs.scipy.org/doc/scipy/reference/generated/scipy.stats.lognorm.html#scipy.stats.lognorm):"
   ]
  },
  {
   "cell_type": "code",
   "execution_count": 51,
   "id": "6a3f12b4",
   "metadata": {},
   "outputs": [
    {
     "data": {
      "image/png": "[encoded data removed]",
      "text/plain": [
       "<Figure size 432x288 with 1 Axes>"
      ]
     },
     "metadata": {
      "needs_background": "light"
     },
     "output_type": "display_data"
    }
   ],
   "source": [
    "distance_2030 = lognorm.rvs(s=distance_s, loc=distance_loc, scale=distance_scale, size=simulation_size)\n",
    "plt.hist(distance_2030, bins=30)\n",
    "\n",
    "plt.show()"
   ]
  },
  {
   "cell_type": "markdown",
   "id": "092ebab9",
   "metadata": {},
   "source": [
    "The maximum, minimum, and mean values can be shown:"
   ]
  },
  {
   "cell_type": "code",
   "execution_count": 52,
   "id": "9af204ff",
   "metadata": {},
   "outputs": [
    {
     "data": {
      "text/plain": [
       "(331.9243424862258, 292.0856418344771, 311.7254114868819)"
      ]
     },
     "execution_count": 52,
     "metadata": {},
     "output_type": "execute_result"
    }
   ],
   "source": [
    "distance_2030.max(), distance_2030.min(), distance_2030.mean()"
   ]
  },
  {
   "cell_type": "markdown",
   "id": "b0ac07dd",
   "metadata": {},
   "source": [
    "### Driving Accuracy Percentage"
   ]
  },
  {
   "cell_type": "markdown",
   "id": "1f9160ec",
   "metadata": {},
   "source": [
    "A similar process is used for driving accuracy. As previously determined, a Rayleigh distribution (https://docs.scipy.org/doc/scipy/reference/generated/scipy.stats.rayleigh.html) will be used and the loc and scale values were determined by Fitter:"
   ]
  },
  {
   "cell_type": "code",
   "execution_count": 53,
   "id": "a5724cc1",
   "metadata": {},
   "outputs": [
    {
     "data": {
      "text/plain": [
       "{'rayleigh': {'loc': 53.46421743761188, 'scale': 6.506613280990041}}"
      ]
     },
     "execution_count": 53,
     "metadata": {},
     "output_type": "execute_result"
    }
   ],
   "source": [
    "accuracy_list"
   ]
  },
  {
   "cell_type": "code",
   "execution_count": 54,
   "id": "99cfee61",
   "metadata": {},
   "outputs": [],
   "source": [
    "accuracy_loc=(53.46421743761188+mean_accuracy_increase)\n",
    "accuracy_scale=6.506613280990041"
   ]
  },
  {
   "cell_type": "markdown",
   "id": "3c6431fc",
   "metadata": {},
   "source": [
    "Please note, the average accuracy decreased and so the loc value is lower than previously determined. "
   ]
  },
  {
   "cell_type": "code",
   "execution_count": 55,
   "id": "9a8b683b",
   "metadata": {},
   "outputs": [
    {
     "data": {
      "image/png": "[encoded data removed]",
      "text/plain": [
       "<Figure size 432x288 with 1 Axes>"
      ]
     },
     "metadata": {
      "needs_background": "light"
     },
     "output_type": "display_data"
    }
   ],
   "source": [
    "accuracy_2030 = rayleigh.rvs(loc=accuracy_loc, scale=accuracy_scale, size=simulation_size, random_state=None) \n",
    "plt.hist(accuracy_2030, bins=30)\n",
    "\n",
    "plt.show()"
   ]
  },
  {
   "cell_type": "markdown",
   "id": "7906eb4d",
   "metadata": {},
   "source": [
    "The maximum, minimum, and mean values can be shown:"
   ]
  },
  {
   "cell_type": "code",
   "execution_count": 56,
   "id": "47306f14",
   "metadata": {},
   "outputs": [
    {
     "data": {
      "text/plain": [
       "(72.38547377121918, 51.85526325492399, 59.837313195478174)"
      ]
     },
     "execution_count": 56,
     "metadata": {},
     "output_type": "execute_result"
    }
   ],
   "source": [
    "accuracy_2030.max(), accuracy_2030.min(), accuracy_2030.mean()"
   ]
  },
  {
   "cell_type": "markdown",
   "id": "1070a9b3",
   "metadata": {},
   "source": [
    "### GIR Percentage"
   ]
  },
  {
   "cell_type": "markdown",
   "id": "8818d0c8",
   "metadata": {},
   "source": [
    "A similar process is used for GIR percentage. As previously determined, a normal distribution (https://docs.scipy.org/doc/scipy/reference/generated/scipy.stats.norm.html#scipy.stats.norm) will be used and the loc and scale values were determined by Fitter:"
   ]
  },
  {
   "cell_type": "code",
   "execution_count": 57,
   "id": "19fd0c0e",
   "metadata": {},
   "outputs": [
    {
     "data": {
      "text/plain": [
       "{'norm': {'loc': 66.57350000000001, 'scale': 2.4367405996535614}}"
      ]
     },
     "execution_count": 57,
     "metadata": {},
     "output_type": "execute_result"
    }
   ],
   "source": [
    "gir_list"
   ]
  },
  {
   "cell_type": "code",
   "execution_count": 58,
   "id": "40f7f69c",
   "metadata": {},
   "outputs": [],
   "source": [
    "gir_loc=(66.57350000000001+mean_gir_increase)\n",
    "gir_scale=2.4367405996535614"
   ]
  },
  {
   "cell_type": "code",
   "execution_count": 59,
   "id": "b88e20f5",
   "metadata": {},
   "outputs": [
    {
     "data": {
      "image/png": "[encoded data removed]",
      "text/plain": [
       "<Figure size 432x288 with 1 Axes>"
      ]
     },
     "metadata": {
      "needs_background": "light"
     },
     "output_type": "display_data"
    }
   ],
   "source": [
    "gir_2030 = norm.rvs(loc=gir_loc, scale=gir_scale, size=simulation_size, random_state=None) \n",
    "plt.hist(gir_2030, bins=30)\n",
    "\n",
    "plt.show()"
   ]
  },
  {
   "cell_type": "markdown",
   "id": "1226b401",
   "metadata": {},
   "source": [
    "The maximum, minimum, and mean values can be shown:"
   ]
  },
  {
   "cell_type": "code",
   "execution_count": 60,
   "id": "0cc0d8dc",
   "metadata": {},
   "outputs": [
    {
     "data": {
      "text/plain": [
       "(74.22430077103581, 60.35059463764101, 67.13335751812201)"
      ]
     },
     "execution_count": 60,
     "metadata": {},
     "output_type": "execute_result"
    }
   ],
   "source": [
    "gir_2030.max(), gir_2030.min(), gir_2030.mean()"
   ]
  },
  {
   "cell_type": "markdown",
   "id": "8a059b9d",
   "metadata": {},
   "source": [
    "### Birdie Average"
   ]
  },
  {
   "cell_type": "markdown",
   "id": "fed4fa28",
   "metadata": {},
   "source": [
    "A similar process is used for birdie average. As previously determined, as with driving distance average, a lognormal distribution will be used with the s, loc, and scale values determined by Fitter:"
   ]
  },
  {
   "cell_type": "code",
   "execution_count": 61,
   "id": "da402938",
   "metadata": {},
   "outputs": [
    {
     "data": {
      "text/plain": [
       "{'lognorm': {'s': 0.021071276169458617,\n",
       "  'loc': -9.747395651590328,\n",
       "  'scale': 13.661062712682266}}"
      ]
     },
     "execution_count": 61,
     "metadata": {},
     "output_type": "execute_result"
    }
   ],
   "source": [
    "birdies_list"
   ]
  },
  {
   "cell_type": "code",
   "execution_count": 62,
   "id": "23bba708",
   "metadata": {},
   "outputs": [],
   "source": [
    "birdies_s=0.021071276169458617\n",
    "birdies_loc=(-9.747395651590328+mean_birdies_increase)\n",
    "birdies_scale=13.661062712682266"
   ]
  },
  {
   "cell_type": "code",
   "execution_count": 63,
   "id": "f14fd791",
   "metadata": {},
   "outputs": [
    {
     "data": {
      "image/png": "[encoded data removed]",
      "text/plain": [
       "<Figure size 432x288 with 1 Axes>"
      ]
     },
     "metadata": {
      "needs_background": "light"
     },
     "output_type": "display_data"
    }
   ],
   "source": [
    "birdies_2030 = lognorm.rvs(s=birdies_s, loc=birdies_loc, scale=birdies_scale, size=simulation_size) \n",
    "plt.hist(birdies_2030, bins=30)\n",
    "\n",
    "plt.show()"
   ]
  },
  {
   "cell_type": "markdown",
   "id": "e3efdcc3",
   "metadata": {},
   "source": [
    "## 8. Comparison of Simulated Data"
   ]
  },
  {
   "cell_type": "markdown",
   "id": "95950951",
   "metadata": {},
   "source": [
    "The last stage of the project is to compare the simulated data. To do this, the pairplot function within Seaborn is used. Seaborn is a Python data visualization library based on matplotlib which provides a high-level interface for drawing attractive and informative statistical graphics (https://seaborn.pydata.org/). The pairplot() function of seaborn helps in creating an axes grid through which each numeric variable present in data is shared across y-axes in the form of rows and across x-axes in form of a column. Scatter plots are created to show pairwise relationships and in the diagonal, the distribution plot is created to show the distribution of the data in the column (https://machinelearningknowledge.ai/seaborn-pairplot-tutorial-for-beginners/). A pairplot allows for a visual comparison of the simulated data. In addition, regression lines can be added to the scatter plots within the pairplot to show trends in data. "
   ]
  },
  {
   "cell_type": "markdown",
   "id": "d1015a46",
   "metadata": {},
   "source": [
    "To allow a pairplot to be plotted the each set of 2030 data must be converted from an array to a pandas dataframe:"
   ]
  },
  {
   "cell_type": "code",
   "execution_count": 64,
   "id": "6c3e6f06",
   "metadata": {},
   "outputs": [],
   "source": [
    "df_distance_2030 = pd.DataFrame(distance_2030)\n",
    "df_accuracy_2030 = pd.DataFrame(accuracy_2030)\n",
    "df_gir_2030 = pd.DataFrame(gir_2030)\n",
    "df_birdies_2030 = pd.DataFrame(birdies_2030)"
   ]
  },
  {
   "cell_type": "markdown",
   "id": "3ed15811",
   "metadata": {},
   "source": [
    "For example:"
   ]
  },
  {
   "cell_type": "code",
   "execution_count": 65,
   "id": "5e6b5ecc",
   "metadata": {},
   "outputs": [
    {
     "data": {
      "text/html": [
       "<div>\n",
       "<style scoped>\n",
       "    .dataframe tbody tr th:only-of-type {\n",
       "        vertical-align: middle;\n",
       "    }\n",
       "\n",
       "    .dataframe tbody tr th {\n",
       "        vertical-align: top;\n",
       "    }\n",
       "\n",
       "    .dataframe thead th {\n",
       "        text-align: right;\n",
       "    }\n",
       "</style>\n",
       "<table border=\"1\" class=\"dataframe\">\n",
       "  <thead>\n",
       "    <tr style=\"text-align: right;\">\n",
       "      <th></th>\n",
       "      <th>0</th>\n",
       "    </tr>\n",
       "  </thead>\n",
       "  <tbody>\n",
       "    <tr>\n",
       "      <th>0</th>\n",
       "      <td>321.312531</td>\n",
       "    </tr>\n",
       "    <tr>\n",
       "      <th>1</th>\n",
       "      <td>316.520903</td>\n",
       "    </tr>\n",
       "    <tr>\n",
       "      <th>2</th>\n",
       "      <td>309.628822</td>\n",
       "    </tr>\n",
       "    <tr>\n",
       "      <th>3</th>\n",
       "      <td>297.774273</td>\n",
       "    </tr>\n",
       "    <tr>\n",
       "      <th>4</th>\n",
       "      <td>311.776121</td>\n",
       "    </tr>\n",
       "    <tr>\n",
       "      <th>...</th>\n",
       "      <td>...</td>\n",
       "    </tr>\n",
       "    <tr>\n",
       "      <th>245</th>\n",
       "      <td>308.138050</td>\n",
       "    </tr>\n",
       "    <tr>\n",
       "      <th>246</th>\n",
       "      <td>304.402463</td>\n",
       "    </tr>\n",
       "    <tr>\n",
       "      <th>247</th>\n",
       "      <td>307.603463</td>\n",
       "    </tr>\n",
       "    <tr>\n",
       "      <th>248</th>\n",
       "      <td>307.277067</td>\n",
       "    </tr>\n",
       "    <tr>\n",
       "      <th>249</th>\n",
       "      <td>315.944994</td>\n",
       "    </tr>\n",
       "  </tbody>\n",
       "</table>\n",
       "<p>250 rows × 1 columns</p>\n",
       "</div>"
      ],
      "text/plain": [
       "              0\n",
       "0    321.312531\n",
       "1    316.520903\n",
       "2    309.628822\n",
       "3    297.774273\n",
       "4    311.776121\n",
       "..          ...\n",
       "245  308.138050\n",
       "246  304.402463\n",
       "247  307.603463\n",
       "248  307.277067\n",
       "249  315.944994\n",
       "\n",
       "[250 rows x 1 columns]"
      ]
     },
     "execution_count": 65,
     "metadata": {},
     "output_type": "execute_result"
    }
   ],
   "source": [
    "df_distance_2030"
   ]
  },
  {
   "cell_type": "markdown",
   "id": "c588d39b",
   "metadata": {},
   "source": [
    "Next the four data frames must be merged into a single set of data using the pd.concat function (https://pandas.pydata.org/pandas-docs/stable/user_guide/merging.html):"
   ]
  },
  {
   "cell_type": "code",
   "execution_count": 66,
   "id": "6260bf57",
   "metadata": {},
   "outputs": [],
   "source": [
    "total_2030 = pd.concat([df_distance_2030, df_accuracy_2030, df_gir_2030, df_birdies_2030], axis=1) "
   ]
  },
  {
   "cell_type": "markdown",
   "id": "684baa2f",
   "metadata": {},
   "source": [
    "Next column headings are added:"
   ]
  },
  {
   "cell_type": "code",
   "execution_count": 67,
   "id": "f08fc225",
   "metadata": {},
   "outputs": [],
   "source": [
    "total_2030.columns = ['Driving distance (yds)', 'Driving accuracy (%)', 'GIR (%)', 'Birdie average']"
   ]
  },
  {
   "cell_type": "markdown",
   "id": "2de1d09b",
   "metadata": {},
   "source": [
    "This results in the following which can be used to plot the pairplot:"
   ]
  },
  {
   "cell_type": "code",
   "execution_count": 68,
   "id": "94398e25",
   "metadata": {},
   "outputs": [
    {
     "name": "stdout",
     "output_type": "stream",
     "text": [
      "     Driving distance (yds)  Driving accuracy (%)    GIR (%)  Birdie average\n",
      "0                321.312531             56.303375  70.229337        4.015952\n",
      "1                316.520903             55.584683  65.922444        4.184844\n",
      "2                309.628822             57.494775  73.033499        4.345561\n",
      "3                297.774273             58.470627  69.186105        3.854345\n",
      "4                311.776121             57.169337  68.353849        3.743640\n",
      "..                      ...                   ...        ...             ...\n",
      "245              308.138050             62.389936  65.243900        4.117901\n",
      "246              304.402463             59.182250  68.551268        3.780353\n",
      "247              307.603463             57.373606  64.884211        4.080301\n",
      "248              307.277067             62.509097  62.162865        3.913743\n",
      "249              315.944994             60.981452  67.118302        3.967989\n",
      "\n",
      "[250 rows x 4 columns]\n"
     ]
    }
   ],
   "source": [
    "print(total_2030)"
   ]
  },
  {
   "cell_type": "markdown",
   "id": "34bf38b4",
   "metadata": {},
   "source": [
    "The pairplot itself is the plotted with a regression line (https://stackoverflow.com/questions/50722972/change-the-regression-line-colour-of-seaborns-pairplot):"
   ]
  },
  {
   "cell_type": "code",
   "execution_count": 69,
   "id": "d6a21e98",
   "metadata": {},
   "outputs": [
    {
     "data": {
      "text/plain": [
       "<seaborn.axisgrid.PairGrid at 0x14cdace2fa0>"
      ]
     },
     "execution_count": 69,
     "metadata": {},
     "output_type": "execute_result"
    },
    {
     "data": {
      "image/png": "[encoded data removed]",
      "text/plain": [
       "<Figure size 720x720 with 20 Axes>"
      ]
     },
     "metadata": {
      "needs_background": "light"
     },
     "output_type": "display_data"
    }
   ],
   "source": [
    "sns.pairplot(total_2030, kind=\"reg\", plot_kws={'line_kws':{'color':'red'}})"
   ]
  },
  {
   "cell_type": "markdown",
   "id": "7d69a34a",
   "metadata": {},
   "source": [
    "## 9. Discussion of 2030 Data"
   ]
  },
  {
   "cell_type": "code",
   "execution_count": 70,
   "id": "e1a4bc06",
   "metadata": {},
   "outputs": [
    {
     "name": "stdout",
     "output_type": "stream",
     "text": [
      "0.0\n"
     ]
    }
   ],
   "source": [
    "from scipy.stats import ttest_ind\n",
    "\n",
    "res = ttest_ind(distance_2030, gir_2030).pvalue\n",
    "\n",
    "print(res)"
   ]
  },
  {
   "cell_type": "code",
   "execution_count": 71,
   "id": "64498557",
   "metadata": {},
   "outputs": [
    {
     "data": {
      "text/plain": [
       "array([4.01595195, 4.18484368, 4.34556148, 3.85434478, 3.74364049,\n",
       "       3.92206201, 4.17523485, 4.24391086, 4.41810127, 4.01989066,\n",
       "       4.351553  , 3.84650181, 4.29505074, 4.24319274, 3.60738566,\n",
       "       4.18186092, 4.43021418, 3.89383086, 3.97056523, 4.18762175,\n",
       "       4.31933681, 4.01828956, 4.419119  , 4.43320982, 4.18842175,\n",
       "       4.18236326, 4.43299235, 4.14784869, 4.57813871, 3.87599073,\n",
       "       4.38303684, 4.09578431, 3.93211177, 3.8721337 , 3.60756193,\n",
       "       4.29603487, 4.03574415, 4.36955531, 4.07485274, 4.45251529,\n",
       "       4.54355311, 5.03244655, 4.10332596, 4.17269566, 4.06386943,\n",
       "       4.10665156, 4.1042228 , 4.46496651, 4.46003997, 3.69180302,\n",
       "       4.13531758, 3.79252236, 4.26249933, 4.85518929, 4.4594364 ,\n",
       "       3.81269079, 3.9752408 , 3.94110875, 4.0336886 , 3.79294869,\n",
       "       3.68611659, 4.09059412, 3.78825954, 3.76026236, 4.09590393,\n",
       "       3.69394845, 4.48354775, 3.57804198, 3.98834762, 3.81323364,\n",
       "       3.99207715, 3.96571889, 4.62526704, 4.14683413, 3.83320176,\n",
       "       4.30032414, 3.418206  , 4.05976399, 4.21392745, 4.43086232,\n",
       "       4.04346332, 5.16364724, 4.1936409 , 3.99714553, 4.39400516,\n",
       "       4.33199218, 4.36545551, 3.70128781, 4.46271476, 3.95598451,\n",
       "       4.44145829, 3.50581934, 4.21404555, 4.08595317, 3.8734834 ,\n",
       "       4.28423677, 4.51648561, 4.17717843, 4.40020084, 3.85427381,\n",
       "       3.98524634, 4.41691269, 4.30059486, 4.37137076, 4.49108722,\n",
       "       4.23057887, 4.59763169, 3.88107276, 4.24521216, 4.75017624,\n",
       "       4.11408418, 4.47614732, 4.43240336, 4.20528825, 4.16727768,\n",
       "       4.10908862, 4.21774457, 3.82522089, 3.83722535, 3.97154777,\n",
       "       3.83721392, 3.82839233, 4.13699112, 5.0020332 , 4.20313566,\n",
       "       4.07679636, 4.32002696, 4.40234625, 4.32140904, 4.15638639,\n",
       "       4.30897296, 4.37000287, 4.11728292, 4.14636145, 4.30981151,\n",
       "       4.10013759, 4.47224794, 4.42205821, 3.8834399 , 4.43520297,\n",
       "       4.27907919, 3.75869659, 4.01596164, 3.79651783, 4.02155591,\n",
       "       4.61511793, 4.21466615, 4.38040198, 4.16041184, 3.87427741,\n",
       "       3.89164812, 4.05312185, 4.25127142, 3.5742154 , 4.32549471,\n",
       "       3.77632561, 4.40770886, 4.48098001, 4.21764785, 3.58384044,\n",
       "       3.97756436, 3.73223408, 4.06721437, 4.0824892 , 3.80976702,\n",
       "       3.72194534, 4.20510708, 4.43741983, 4.61091475, 3.90314078,\n",
       "       3.93345048, 4.44902748, 4.11061182, 4.23281099, 4.39700226,\n",
       "       4.10907845, 4.40028553, 4.06650559, 4.01743191, 4.49105567,\n",
       "       4.47187147, 3.57264465, 4.39341958, 3.70429048, 4.16214008,\n",
       "       4.37678506, 3.92438094, 4.00683843, 4.34444442, 4.28072845,\n",
       "       4.50512176, 3.93103531, 3.87744336, 4.15867345, 4.18426339,\n",
       "       3.64441552, 3.81639378, 4.27183372, 4.41882989, 4.12177519,\n",
       "       4.01691455, 4.61523898, 3.88305845, 4.27244605, 4.16517099,\n",
       "       4.30571047, 4.47552988, 3.50354682, 4.28631938, 4.06546989,\n",
       "       4.48962578, 4.11412594, 4.55322348, 4.46024919, 3.70275217,\n",
       "       3.98894406, 4.24835731, 3.9704008 , 4.09061207, 4.51970234,\n",
       "       3.65699129, 4.23324941, 4.37196599, 4.17943093, 3.97018735,\n",
       "       4.36842945, 4.09247889, 3.91839674, 4.28068952, 4.42156873,\n",
       "       4.61865558, 4.0973126 , 3.85611222, 4.25055496, 4.44306894,\n",
       "       4.04419936, 4.7358926 , 3.96863302, 4.1603838 , 3.91401996,\n",
       "       4.08979157, 4.34477951, 3.71199573, 4.09494348, 3.64624481,\n",
       "       4.11790086, 3.7803529 , 4.08030131, 3.91374259, 3.9679891 ])"
      ]
     },
     "execution_count": 71,
     "metadata": {},
     "output_type": "execute_result"
    }
   ],
   "source": [
    "birdies_2030"
   ]
  },
  {
   "cell_type": "code",
   "execution_count": 72,
   "id": "aa674b9b",
   "metadata": {},
   "outputs": [
    {
     "name": "stdout",
     "output_type": "stream",
     "text": [
      "Ttest_indResult(statistic=-0.13706164579530944, pvalue=0.8911213376541373)\n"
     ]
    }
   ],
   "source": [
    "v1 = np.random.normal(size=100)\n",
    "v2 = np.random.normal(size=100)\n",
    "\n",
    "res = ttest_ind(v1, v2)\n",
    "\n",
    "print(res)"
   ]
  },
  {
   "cell_type": "code",
   "execution_count": 73,
   "id": "66e160b6",
   "metadata": {},
   "outputs": [
    {
     "data": {
      "text/plain": [
       "array([ 0.03209377, -1.56355999,  1.3593884 ,  0.50731045, -0.21071732,\n",
       "       -1.16611077,  0.00864033, -0.01738645,  0.46352146,  0.09740343,\n",
       "       -0.04789826, -1.27336193, -0.49846882, -0.16259188,  0.6187017 ,\n",
       "        0.42834415, -0.58368636,  0.07718766, -0.75195478, -1.00531243,\n",
       "       -0.09994128,  0.26164654,  0.32912763, -1.08048373, -0.98308592,\n",
       "       -0.44244637,  0.01589542,  0.43247521,  1.31594779, -0.83639152,\n",
       "       -0.05070452, -1.02516751,  0.41196068, -1.38970258,  0.55035521,\n",
       "       -0.35033438,  2.24754105, -0.41870235,  1.2780709 , -0.73190083,\n",
       "        1.55114997, -0.19699582, -0.94700545,  0.01494089,  0.23733258,\n",
       "        0.17889586,  0.72255992, -0.5503871 , -1.00143415,  0.18646262,\n",
       "       -1.29493845,  0.69602296, -0.6627834 ,  0.17165478, -0.0327542 ,\n",
       "        2.29355889,  0.58116218, -1.20985192, -1.04182984,  1.45496023,\n",
       "        2.53465196, -1.82445969,  0.70739822,  0.24143459, -1.2001158 ,\n",
       "        0.25680541, -0.41883824,  1.63328401,  0.22296564,  0.365846  ,\n",
       "       -0.13954059,  0.65091154, -0.6810706 , -0.81925746, -0.48298729,\n",
       "       -0.10240775, -2.60179929, -0.83135382, -0.05740278,  0.34884637,\n",
       "       -1.23009994,  0.57295767, -0.55073225,  0.3951396 , -0.72346661,\n",
       "        0.57843994,  0.90668236,  0.4423959 ,  0.08979543,  1.39477191,\n",
       "        1.8509061 , -0.21152758,  0.10641725,  0.2501526 , -0.51192416,\n",
       "        1.41347143, -1.87677756,  0.09827485, -0.06334311,  0.42598494])"
      ]
     },
     "execution_count": 73,
     "metadata": {},
     "output_type": "execute_result"
    }
   ],
   "source": [
    "v1"
   ]
  },
  {
   "cell_type": "code",
   "execution_count": null,
   "id": "9748c8f2",
   "metadata": {},
   "outputs": [],
   "source": []
  },
  {
   "cell_type": "code",
   "execution_count": 74,
   "id": "7e75f131",
   "metadata": {},
   "outputs": [
    {
     "name": "stdout",
     "output_type": "stream",
     "text": [
      "Statistics=443.351, p=0.000\n",
      "Different distributions (reject H0)\n"
     ]
    }
   ],
   "source": [
    "from numpy.random import seed\n",
    "from numpy.random import randn\n",
    "from scipy.stats import ttest_rel\n",
    "# seed the random number generator\n",
    "seed(1)\n",
    "# generate two independent samples\n",
    "data1 = distance_2030\n",
    "data2 = accuracy_2030\n",
    "# compare samples\n",
    "stat, p = ttest_rel(data1, data2)\n",
    "print('Statistics=%.3f, p=%.3f' % (stat, p))\n",
    "# interpret\n",
    "alpha = 0.05\n",
    "if p > alpha:\n",
    "\tprint('Same distributions (fail to reject H0)')\n",
    "else:\n",
    "\tprint('Different distributions (reject H0)')"
   ]
  },
  {
   "cell_type": "code",
   "execution_count": 75,
   "id": "060df713",
   "metadata": {},
   "outputs": [
    {
     "data": {
      "text/plain": [
       "array([321.31253066, 316.52090297, 309.62882155, 297.77427277,\n",
       "       311.77612142, 314.47206321, 313.59115125, 311.09968494,\n",
       "       326.73732657, 318.55358276, 308.11674012, 306.98397595,\n",
       "       311.15925152, 326.01258803, 307.05957038, 317.77091071,\n",
       "       298.13825927, 315.41831215, 305.73056216, 308.48799858,\n",
       "       320.31124009, 320.46521376, 303.15239205, 303.6727949 ,\n",
       "       309.88148074, 309.23484764, 306.01198205, 310.48876525,\n",
       "       327.35087044, 308.11729405, 305.29268396, 307.35929707,\n",
       "       320.18886145, 299.76037491, 313.22479758, 311.72484809,\n",
       "       318.08201803, 320.17746124, 311.52921578, 309.87983459,\n",
       "       312.30131527, 316.90749467, 305.62733702, 311.97600884,\n",
       "       304.01623619, 309.26287041, 307.51169429, 308.97750139,\n",
       "       312.52290003, 308.66687689, 310.02339939, 294.83244779,\n",
       "       302.51428171, 330.16180026, 314.08917962, 307.94600069,\n",
       "       312.39905155, 316.62927643, 311.19349557, 318.48100308,\n",
       "       312.01619068, 325.65451274, 315.52435823, 311.89297259,\n",
       "       311.1212435 , 315.35339003, 316.52623742, 327.03118097,\n",
       "       317.31087594, 304.42649514, 311.57794033, 313.01824425,\n",
       "       308.94125408, 310.18595863, 315.81488559, 308.93640457,\n",
       "       317.32329649, 309.48582644, 302.44079084, 314.47223878,\n",
       "       311.96036697, 308.92328125, 315.1565929 , 297.46580888,\n",
       "       310.75914296, 310.37794813, 311.90619681, 300.19137019,\n",
       "       328.11248204, 307.56991127, 316.04202106, 309.62284883,\n",
       "       301.32415054, 310.75298637, 309.51767661, 316.86003962,\n",
       "       313.945481  , 312.70871674, 302.54472231, 311.20698015,\n",
       "       314.61628807, 311.49111281, 293.44296889, 317.02984372,\n",
       "       302.16456786, 310.37718352, 312.68648789, 311.03293662,\n",
       "       315.79507826, 328.51364492, 313.53411482, 323.38942995,\n",
       "       313.45481787, 310.23130475, 310.09566762, 302.45015855,\n",
       "       313.99878265, 307.43193549, 309.51321744, 303.97219693,\n",
       "       319.94430035, 326.34851099, 317.33912917, 328.7431096 ,\n",
       "       311.99064051, 314.24816458, 306.71420072, 310.81661394,\n",
       "       305.96820104, 309.19328797, 320.83151472, 324.59751587,\n",
       "       302.54994363, 307.0313776 , 314.85362209, 315.97322137,\n",
       "       323.00157616, 321.80426467, 311.10239948, 306.00429737,\n",
       "       296.86207392, 316.86404103, 302.03231306, 305.66148538,\n",
       "       306.14621683, 322.54159303, 326.40281209, 302.99085914,\n",
       "       304.47200271, 320.60702691, 310.28096988, 319.17208758,\n",
       "       311.36214136, 304.03555169, 323.72866937, 304.37108896,\n",
       "       302.19006702, 311.00188137, 310.03265493, 315.61604428,\n",
       "       309.93184904, 309.68136854, 307.48580155, 294.89730513,\n",
       "       312.50038115, 318.19337458, 311.30449455, 316.62937694,\n",
       "       313.48532205, 311.05897285, 305.40766233, 324.97190561,\n",
       "       309.64673557, 306.52379085, 319.10362129, 314.23751445,\n",
       "       311.25086815, 310.31770507, 307.90387964, 331.64609878,\n",
       "       318.4668922 , 328.78034009, 317.73458284, 329.16193325,\n",
       "       297.04072557, 305.05316208, 311.56563937, 307.91547964,\n",
       "       296.15053024, 310.26576906, 331.92434249, 315.47026803,\n",
       "       310.43895177, 309.4855574 , 324.58134034, 309.59117812,\n",
       "       312.80858435, 314.58294373, 330.48149995, 307.68222207,\n",
       "       321.05112185, 318.12939259, 295.87764406, 298.8781547 ,\n",
       "       298.82690002, 294.74405188, 313.65335136, 308.14137155,\n",
       "       302.82186078, 320.31078505, 310.36887199, 308.05084271,\n",
       "       312.41485901, 317.50763714, 316.46482081, 306.9825646 ,\n",
       "       304.24318331, 316.40268803, 321.29675814, 327.21233719,\n",
       "       308.77744026, 301.99821142, 315.21327549, 315.23361953,\n",
       "       304.16094959, 306.16058931, 298.15461415, 324.61270482,\n",
       "       309.40748079, 302.0156513 , 305.65814239, 310.28610373,\n",
       "       324.78193415, 295.68119471, 311.66074906, 303.61617879,\n",
       "       319.71116334, 304.2255441 , 318.22804995, 292.08564183,\n",
       "       309.52720898, 305.25835595, 304.28444438, 320.00833269,\n",
       "       313.55678206, 308.13805005, 304.40246338, 307.60346332,\n",
       "       307.27706652, 315.94499352])"
      ]
     },
     "execution_count": 75,
     "metadata": {},
     "output_type": "execute_result"
    }
   ],
   "source": [
    "data1"
   ]
  },
  {
   "cell_type": "code",
   "execution_count": null,
   "id": "8110edb7",
   "metadata": {},
   "outputs": [],
   "source": []
  },
  {
   "cell_type": "markdown",
   "id": "6a56e8b1",
   "metadata": {},
   "source": [
    "## Learnings"
   ]
  },
  {
   "cell_type": "markdown",
   "id": "de732272",
   "metadata": {},
   "source": [
    "- manual process (could have automated to collect data - expressions \n",
    "- more years provide more data\n",
    "- more players\n",
    "- more years distributions\n",
    "- scale factors and loc might not be correct"
   ]
  },
  {
   "cell_type": "code",
   "execution_count": null,
   "id": "100901e9",
   "metadata": {},
   "outputs": [],
   "source": []
  },
  {
   "cell_type": "code",
   "execution_count": null,
   "id": "2887b396",
   "metadata": {},
   "outputs": [],
   "source": []
  },
  {
   "cell_type": "code",
   "execution_count": null,
   "id": "980ea1f4",
   "metadata": {},
   "outputs": [],
   "source": []
  },
  {
   "cell_type": "markdown",
   "id": "a63769b8",
   "metadata": {},
   "source": [
    "Next, the rows and columns of the dataframe must be swapped using the `transpose` method (https://note.nkmk.me/en/python-pandas-t-transpose/):  "
   ]
  },
  {
   "cell_type": "code",
   "execution_count": 76,
   "id": "de4653bd",
   "metadata": {},
   "outputs": [],
   "source": [
    "#total_2030_t = total_2030.T"
   ]
  },
  {
   "cell_type": "code",
   "execution_count": 77,
   "id": "0001bf25",
   "metadata": {},
   "outputs": [],
   "source": [
    "#print(total_2030_t)"
   ]
  },
  {
   "cell_type": "code",
   "execution_count": null,
   "id": "d7177eb4",
   "metadata": {},
   "outputs": [],
   "source": []
  },
  {
   "cell_type": "code",
   "execution_count": null,
   "id": "2f19d800",
   "metadata": {},
   "outputs": [],
   "source": []
  },
  {
   "cell_type": "code",
   "execution_count": null,
   "id": "eae18752",
   "metadata": {},
   "outputs": [],
   "source": []
  },
  {
   "cell_type": "code",
   "execution_count": null,
   "id": "1a341c83",
   "metadata": {},
   "outputs": [],
   "source": []
  },
  {
   "cell_type": "code",
   "execution_count": null,
   "id": "38c9b23a",
   "metadata": {},
   "outputs": [],
   "source": []
  }
 ],
 "metadata": {
  "kernelspec": {
   "display_name": "Python 3 (ipykernel)",
   "language": "python",
   "name": "python3"
  },
  "language_info": {
   "codemirror_mode": {
    "name": "ipython",
    "version": 3
   },
   "file_extension": ".py",
   "mimetype": "text/x-python",
   "name": "python",
   "nbconvert_exporter": "python",
   "pygments_lexer": "ipython3",
   "version": "3.8.11"
  }
 },
 "nbformat": 4,
 "nbformat_minor": 5
}
