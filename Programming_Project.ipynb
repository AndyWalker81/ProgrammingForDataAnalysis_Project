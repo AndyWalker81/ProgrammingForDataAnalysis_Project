{
 "cells": [
  {
   "cell_type": "markdown",
   "id": "ed1322c0",
   "metadata": {},
   "source": [
    "# Simulation of PGA Tour Golf Data"
   ]
  },
  {
   "cell_type": "markdown",
   "id": "71d3f4b8",
   "metadata": {},
   "source": [
    "## Programming for Data Analysis Project "
   ]
  },
  {
   "cell_type": "markdown",
   "id": "4f790274",
   "metadata": {},
   "source": [
    "### Andrew Walker - G00398788@gmit.ie"
   ]
  },
  {
   "cell_type": "markdown",
   "id": "626f36cf",
   "metadata": {},
   "source": [
    "![www.pgatour.com](https://pga-tour-res.cloudinary.com/image/upload/c_fill,dpr_2.6,f_auto,g_center,h_336,q_auto,w_1320/v1/pgatour/editorial/2020/12/17/Logo/flag-example-1400.jpg)"
   ]
  },
  {
   "cell_type": "markdown",
   "id": "91e15eca",
   "metadata": {},
   "source": [
    "## 1. Introduction"
   ]
  },
  {
   "cell_type": "markdown",
   "id": "5c59d916",
   "metadata": {},
   "source": [
    "This project simulates a data set based on historical PGA Tour golf statistics and models the relationships between four variables:\n",
    "\n",
    "- Driving distance average (the average number of yards per hole)\n",
    "\n",
    "- Driving accurary percentage (the percentage of time a tee shot comes to rest in the fairway)\n",
    "\n",
    "- Greens in Regulation (GIR) percentage (the percent of time a player was able to hit the green in regulation. The GIR stroke is determined by subtracting 2 from par)\n",
    "\n",
    "- Birdie average (the average number of birdies made per round played.)"
   ]
  },
  {
   "cell_type": "markdown",
   "id": "4713ce7a",
   "metadata": {},
   "source": [
    "The R&A and USGA Distance Insights Report (2020)<sup id=\"a1\">[1](#f1)</sup> finds that the average driving distance on the PGA Tour has shown a general increase, in particular from the early 1990s with the introduction of oversized drivers. Since this time, further technological and rule innovations have led to a trend in increased distance off the tee. However, the Distance Insights Report (2020) also finds that as driving distance increases, driving accuracy decreases."
   ]
  },
  {
   "cell_type": "markdown",
   "id": "7f5d8ffb",
   "metadata": {},
   "source": [
    "This project makes a comparison of the above four variables to:\n",
    "\n",
    "1. Model how driving distance affects accuracy\n",
    "2. Model how distance and accuracy affect the number of greens in regulation hit\n",
    "3. Model how distance and accuracy affect the number of birdies scored\n",
    "4. Model how the number of greens in regulation hit affects birdies"
   ]
  },
  {
   "cell_type": "markdown",
   "id": "e73c96c3",
   "metadata": {},
   "source": [
    "The intention of the simulation is to model whether accuracy decreases as driving distance increases, as per the findings in the Distance Insights Report (2020). In addition, it is intended that it will give an indication as to whether driving distance or accuracy is more likely to lead to hitting greens in regulation and scoring birdies - whilst a long drive might be less accurate and find the rough, a shorter approach shot might lead to more GIR  and / or more birdies. Conversely, a more accurate tee shot which finds the fairway but has a longer approach shot might lead to more GIR and / or more birdies.\n",
    "\n",
    "This might be a useful simulation for golfers to establish if distance could be considered to be more important than accuracy, or vice versa, in the context of reaching in the green in fewer shots and scoring birdies.\n",
    "\n",
    "It should be noted that the project instructions do not specify that the results should be analysed. Furthermore, as the data is simulated randomly, the results are unlikely to be the same each time the notebook is run. It is also noted that the module is not a stastics module. Therefore, no discussion will be made on the results. "
   ]
  },
  {
   "cell_type": "markdown",
   "id": "ea170ecb",
   "metadata": {},
   "source": [
    "The project uses historical data to determine the distribution of random data for modelling. Then, based on the trends in historical data between the years 1990, 2000, 2010, and 2020, predictions are made for likely figures for the four variables in 2030. Random data is then simulated for each variable, using the likely distributions. These variables are then compared to determine whether the hypothesis were correct, and whether driving distance or accuracy is a more useful indicator to hit GIR and to score birdies.\n",
    "\n",
    "These years were chosen as, according to the Distance Insights Report (2020), there were no major innovations affecting driving distance in the preceeding decades. "
   ]
  },
  {
   "cell_type": "markdown",
   "id": "42b50c70",
   "metadata": {},
   "source": [
    "The notebook will detail the steps taken to produce the simulation."
   ]
  },
  {
   "cell_type": "markdown",
   "id": "4b1cfe9c",
   "metadata": {},
   "source": [
    "## 2. Required installations"
   ]
  },
  {
   "cell_type": "markdown",
   "id": "03d2887a",
   "metadata": {},
   "source": [
    "In order to run the notebook successfully, a number of packages must be installed and initialised. "
   ]
  },
  {
   "cell_type": "markdown",
   "id": "c4e21297",
   "metadata": {},
   "source": [
    "This includes the Fitter package. Fitter provides a simple class to identify the distribution from which a data samples is generated from. It uses a number of distributions from the SciPy package and can plot the results to check what is the most probable distrubution for the data. \n",
    "\n",
    "To install Fitter:\n",
    "\n",
    "```pip install fitter```\n",
    "\n",
    "or on conda:\n",
    "\n",
    "```conda install fitter```\n",
    "\n",
    "Further details are available on the [fitter website](https://pypi.org/project/fitter)."
   ]
  },
  {
   "cell_type": "code",
   "execution_count": 1,
   "id": "512e5596",
   "metadata": {
    "scrolled": true
   },
   "outputs": [],
   "source": [
    "# pandas\n",
    "import pandas as pd\n",
    "\n",
    "#numpy\n",
    "import numpy as np\n",
    "\n",
    "# pyplot\n",
    "import matplotlib.pyplot as plt\n",
    "\n",
    "# seaborn\n",
    "import seaborn as sns\n",
    "\n",
    "# fitter\n",
    "from fitter import get_common_distributions\n",
    "get_common_distributions()\n",
    "from fitter import Fitter\n",
    "\n",
    "# statistics\n",
    "import statistics\n",
    "\n",
    "# scipy.stats\n",
    "from scipy.stats import lognorm\n",
    "from scipy.stats import rayleigh\n",
    "from scipy.stats import norm"
   ]
  },
  {
   "cell_type": "markdown",
   "id": "8b889c06",
   "metadata": {},
   "source": [
    "## 3. Collect Main Set of Data"
   ]
  },
  {
   "cell_type": "markdown",
   "id": "7790c3e9",
   "metadata": {},
   "source": [
    "The project uses PGA Tour data from the top 100 ranked golfers at the end of the 2021 Fedex cup<sup id=\"a2\">[2](#f2)</sup>. The Fedex cup is a season-long points competition which culminates with the FedExCup Playoffs, a series of three events to determine the FedExCup Champion<sup id=\"a3\">[3](#f3)</sup>.\n",
    "\n",
    "Data on the top 100 players consisting of Fedex Cup rank, name, and the four variables to be simulated, were saved using a manual process to a .csv file saved in the data folder associated with this project. These data were copied from each players' individual stats page. "
   ]
  },
  {
   "cell_type": "markdown",
   "id": "95d0b2a0",
   "metadata": {},
   "source": [
    "These data are read from the .csv file into a Pandas DataFrame:\n"
   ]
  },
  {
   "cell_type": "code",
   "execution_count": 2,
   "id": "2ccb6bd9",
   "metadata": {},
   "outputs": [],
   "source": [
    "rankings = pd.read_csv('data\\strokes_gained.csv')"
   ]
  },
  {
   "cell_type": "markdown",
   "id": "74c823cc",
   "metadata": {},
   "source": [
    "Column titles are added to the DataFrame:"
   ]
  },
  {
   "cell_type": "code",
   "execution_count": 3,
   "id": "94d76680",
   "metadata": {},
   "outputs": [
    {
     "data": {
      "text/html": [
       "<div>\n",
       "<style scoped>\n",
       "    .dataframe tbody tr th:only-of-type {\n",
       "        vertical-align: middle;\n",
       "    }\n",
       "\n",
       "    .dataframe tbody tr th {\n",
       "        vertical-align: top;\n",
       "    }\n",
       "\n",
       "    .dataframe thead th {\n",
       "        text-align: right;\n",
       "    }\n",
       "</style>\n",
       "<table border=\"1\" class=\"dataframe\">\n",
       "  <thead>\n",
       "    <tr style=\"text-align: right;\">\n",
       "      <th></th>\n",
       "      <th>Fedex Rank 2021</th>\n",
       "      <th>Name</th>\n",
       "      <th>Driving distance (avg yds)</th>\n",
       "      <th>Driving accuracy (%)</th>\n",
       "      <th>Greens In Regulation (%)</th>\n",
       "      <th>Birdie average</th>\n",
       "    </tr>\n",
       "  </thead>\n",
       "  <tbody>\n",
       "    <tr>\n",
       "      <th>0</th>\n",
       "      <td>1</td>\n",
       "      <td>Patrick Cantlay</td>\n",
       "      <td>302.8</td>\n",
       "      <td>60.71</td>\n",
       "      <td>70.16</td>\n",
       "      <td>4.29</td>\n",
       "    </tr>\n",
       "    <tr>\n",
       "      <th>1</th>\n",
       "      <td>2</td>\n",
       "      <td>Jon Rahm</td>\n",
       "      <td>309.0</td>\n",
       "      <td>63.73</td>\n",
       "      <td>71.93</td>\n",
       "      <td>4.51</td>\n",
       "    </tr>\n",
       "    <tr>\n",
       "      <th>2</th>\n",
       "      <td>3</td>\n",
       "      <td>Kevin Na</td>\n",
       "      <td>288.5</td>\n",
       "      <td>66.56</td>\n",
       "      <td>64.11</td>\n",
       "      <td>4.00</td>\n",
       "    </tr>\n",
       "    <tr>\n",
       "      <th>3</th>\n",
       "      <td>4</td>\n",
       "      <td>Justin Thomas</td>\n",
       "      <td>303.9</td>\n",
       "      <td>55.72</td>\n",
       "      <td>67.79</td>\n",
       "      <td>4.31</td>\n",
       "    </tr>\n",
       "    <tr>\n",
       "      <th>4</th>\n",
       "      <td>5</td>\n",
       "      <td>Viktor Hovland</td>\n",
       "      <td>302.2</td>\n",
       "      <td>63.86</td>\n",
       "      <td>68.61</td>\n",
       "      <td>4.40</td>\n",
       "    </tr>\n",
       "    <tr>\n",
       "      <th>...</th>\n",
       "      <td>...</td>\n",
       "      <td>...</td>\n",
       "      <td>...</td>\n",
       "      <td>...</td>\n",
       "      <td>...</td>\n",
       "      <td>...</td>\n",
       "    </tr>\n",
       "    <tr>\n",
       "      <th>95</th>\n",
       "      <td>96</td>\n",
       "      <td>Roger Sloan</td>\n",
       "      <td>295.8</td>\n",
       "      <td>61.78</td>\n",
       "      <td>68.77</td>\n",
       "      <td>3.79</td>\n",
       "    </tr>\n",
       "    <tr>\n",
       "      <th>96</th>\n",
       "      <td>97</td>\n",
       "      <td>Brandt Snedeker</td>\n",
       "      <td>286.6</td>\n",
       "      <td>64.04</td>\n",
       "      <td>64.48</td>\n",
       "      <td>3.73</td>\n",
       "    </tr>\n",
       "    <tr>\n",
       "      <th>97</th>\n",
       "      <td>98</td>\n",
       "      <td>Hank Lebioda</td>\n",
       "      <td>295.0</td>\n",
       "      <td>61.16</td>\n",
       "      <td>69.14</td>\n",
       "      <td>3.78</td>\n",
       "    </tr>\n",
       "    <tr>\n",
       "      <th>98</th>\n",
       "      <td>99</td>\n",
       "      <td>Tyler McCumber</td>\n",
       "      <td>309.4</td>\n",
       "      <td>58.30</td>\n",
       "      <td>64.71</td>\n",
       "      <td>3.57</td>\n",
       "    </tr>\n",
       "    <tr>\n",
       "      <th>99</th>\n",
       "      <td>100</td>\n",
       "      <td>Denny McCarthy</td>\n",
       "      <td>295.4</td>\n",
       "      <td>62.31</td>\n",
       "      <td>64.01</td>\n",
       "      <td>3.55</td>\n",
       "    </tr>\n",
       "  </tbody>\n",
       "</table>\n",
       "<p>100 rows × 6 columns</p>\n",
       "</div>"
      ],
      "text/plain": [
       "    Fedex Rank 2021             Name  Driving distance (avg yds)  \\\n",
       "0                 1  Patrick Cantlay                       302.8   \n",
       "1                 2         Jon Rahm                       309.0   \n",
       "2                 3         Kevin Na                       288.5   \n",
       "3                 4    Justin Thomas                       303.9   \n",
       "4                 5   Viktor Hovland                       302.2   \n",
       "..              ...              ...                         ...   \n",
       "95               96      Roger Sloan                       295.8   \n",
       "96               97  Brandt Snedeker                       286.6   \n",
       "97               98     Hank Lebioda                       295.0   \n",
       "98               99   Tyler McCumber                       309.4   \n",
       "99              100   Denny McCarthy                       295.4   \n",
       "\n",
       "    Driving accuracy (%)  Greens In Regulation (%)  Birdie average  \n",
       "0                  60.71                     70.16            4.29  \n",
       "1                  63.73                     71.93            4.51  \n",
       "2                  66.56                     64.11            4.00  \n",
       "3                  55.72                     67.79            4.31  \n",
       "4                  63.86                     68.61            4.40  \n",
       "..                   ...                       ...             ...  \n",
       "95                 61.78                     68.77            3.79  \n",
       "96                 64.04                     64.48            3.73  \n",
       "97                 61.16                     69.14            3.78  \n",
       "98                 58.30                     64.71            3.57  \n",
       "99                 62.31                     64.01            3.55  \n",
       "\n",
       "[100 rows x 6 columns]"
      ]
     },
     "execution_count": 3,
     "metadata": {},
     "output_type": "execute_result"
    }
   ],
   "source": [
    "rankings.columns = ['Fedex Rank 2021', 'Name', 'Driving distance (avg yds)','Driving accuracy (%)','Greens In Regulation (%)', 'Birdie average']\n",
    "rankings"
   ]
  },
  {
   "cell_type": "markdown",
   "id": "77c56e71",
   "metadata": {},
   "source": [
    "## 4. Determine Distributions of Data"
   ]
  },
  {
   "cell_type": "markdown",
   "id": "5c13a653",
   "metadata": {},
   "source": [
    "The next step in the process is to select the individual columns of data for each of the four variables and determine the distribution. "
   ]
  },
  {
   "cell_type": "markdown",
   "id": "8ad805b0",
   "metadata": {},
   "source": [
    "First, specific column data is selected:"
   ]
  },
  {
   "cell_type": "code",
   "execution_count": 4,
   "id": "b4ade534",
   "metadata": {},
   "outputs": [],
   "source": [
    "distance = rankings.iloc[:,2]\n",
    "accuracy = rankings.iloc[:,3]\n",
    "gir = rankings.iloc[:,4]\n",
    "birdies = rankings.iloc[:,5]"
   ]
  },
  {
   "cell_type": "markdown",
   "id": "4c470dec",
   "metadata": {},
   "source": [
    "Next, the Fitter tool is used to determine the best-fit distribution of each variable, in turn. By default, the fitting process is run on the data with about 80 different distributions. However, this can take a relatively long time for the process to complete. Therefore, to speed the process up, a number of common distributions to check the data against can be specified<sup id=\"a4\">[4](#f4)</sup>. This project uses ten common distributions to check against: "
   ]
  },
  {
   "cell_type": "code",
   "execution_count": 5,
   "id": "23909478",
   "metadata": {},
   "outputs": [],
   "source": [
    "common_distributions=['cauchy',\n",
    " 'chi2',\n",
    " 'expon',\n",
    " 'exponpow',\n",
    " 'gamma',\n",
    " 'lognorm',\n",
    " 'norm',\n",
    " 'powerlaw',\n",
    " 'rayleigh',\n",
    " 'uniform']"
   ]
  },
  {
   "cell_type": "markdown",
   "id": "2b7664f1",
   "metadata": {},
   "source": [
    "#### Driving Distance Average Distribution"
   ]
  },
  {
   "cell_type": "markdown",
   "id": "a183544b",
   "metadata": {},
   "source": [
    "Fitter is run on the driving distance data first and a summary displayed<sup id=\"a5\">[5](#f5)</sup>:"
   ]
  },
  {
   "cell_type": "code",
   "execution_count": 6,
   "id": "e0e38a0b",
   "metadata": {},
   "outputs": [
    {
     "data": {
      "text/html": [
       "<div>\n",
       "<style scoped>\n",
       "    .dataframe tbody tr th:only-of-type {\n",
       "        vertical-align: middle;\n",
       "    }\n",
       "\n",
       "    .dataframe tbody tr th {\n",
       "        vertical-align: top;\n",
       "    }\n",
       "\n",
       "    .dataframe thead th {\n",
       "        text-align: right;\n",
       "    }\n",
       "</style>\n",
       "<table border=\"1\" class=\"dataframe\">\n",
       "  <thead>\n",
       "    <tr style=\"text-align: right;\">\n",
       "      <th></th>\n",
       "      <th>sumsquare_error</th>\n",
       "      <th>aic</th>\n",
       "      <th>bic</th>\n",
       "      <th>kl_div</th>\n",
       "    </tr>\n",
       "  </thead>\n",
       "  <tbody>\n",
       "    <tr>\n",
       "      <th>lognorm</th>\n",
       "      <td>0.030668</td>\n",
       "      <td>880.478875</td>\n",
       "      <td>-795.155890</td>\n",
       "      <td>inf</td>\n",
       "    </tr>\n",
       "    <tr>\n",
       "      <th>gamma</th>\n",
       "      <td>0.030719</td>\n",
       "      <td>880.085594</td>\n",
       "      <td>-794.989700</td>\n",
       "      <td>inf</td>\n",
       "    </tr>\n",
       "    <tr>\n",
       "      <th>chi2</th>\n",
       "      <td>0.030719</td>\n",
       "      <td>880.086111</td>\n",
       "      <td>-794.989433</td>\n",
       "      <td>inf</td>\n",
       "    </tr>\n",
       "    <tr>\n",
       "      <th>rayleigh</th>\n",
       "      <td>0.031205</td>\n",
       "      <td>inf</td>\n",
       "      <td>-798.023366</td>\n",
       "      <td>inf</td>\n",
       "    </tr>\n",
       "    <tr>\n",
       "      <th>norm</th>\n",
       "      <td>0.031863</td>\n",
       "      <td>876.688442</td>\n",
       "      <td>-795.936826</td>\n",
       "      <td>inf</td>\n",
       "    </tr>\n",
       "  </tbody>\n",
       "</table>\n",
       "</div>"
      ],
      "text/plain": [
       "          sumsquare_error         aic         bic  kl_div\n",
       "lognorm          0.030668  880.478875 -795.155890     inf\n",
       "gamma            0.030719  880.085594 -794.989700     inf\n",
       "chi2             0.030719  880.086111 -794.989433     inf\n",
       "rayleigh         0.031205         inf -798.023366     inf\n",
       "norm             0.031863  876.688442 -795.936826     inf"
      ]
     },
     "execution_count": 6,
     "metadata": {},
     "output_type": "execute_result"
    },
    {
     "data": {
      "image/png": "[encoded data removed]",
      "text/plain": [
       "<Figure size 432x288 with 1 Axes>"
      ]
     },
     "metadata": {
      "needs_background": "light"
     },
     "output_type": "display_data"
    }
   ],
   "source": [
    "fitdistance = np.array([distance])\n",
    "f = Fitter(fitdistance, distributions=common_distributions)\n",
    "f.fit()\n",
    "f.summary()"
   ]
  },
  {
   "cell_type": "markdown",
   "id": "0e50edd4",
   "metadata": {},
   "source": [
    "The driving distance average data for the top 100 players in the Fedex cup rankings 2021 is found to be a lognormal distribution. "
   ]
  },
  {
   "cell_type": "markdown",
   "id": "c5bf1e42",
   "metadata": {},
   "source": [
    "The shape, loc, and scale parameters for the above distribution can be displayed using the Fitter tool:"
   ]
  },
  {
   "cell_type": "code",
   "execution_count": 7,
   "id": "8fe4de00",
   "metadata": {},
   "outputs": [
    {
     "data": {
      "text/plain": [
       "{'lognorm': {'s': 0.11093697461805507,\n",
       "  'loc': 226.62980940729665,\n",
       "  'scale': 72.26386699032992}}"
      ]
     },
     "execution_count": 7,
     "metadata": {},
     "output_type": "execute_result"
    }
   ],
   "source": [
    "distance_list = f.get_best(method = 'sumsquare_error')\n",
    "distance_list"
   ]
  },
  {
   "cell_type": "markdown",
   "id": "c893cbd0",
   "metadata": {},
   "source": [
    "This will be used later when simulating the 2030 data. "
   ]
  },
  {
   "cell_type": "markdown",
   "id": "9fda3f66",
   "metadata": {},
   "source": [
    "The code is repeated in a similar manner for the other three variables:"
   ]
  },
  {
   "cell_type": "markdown",
   "id": "2012bb8c",
   "metadata": {},
   "source": [
    "#### Driving Accuracy Average Distribution"
   ]
  },
  {
   "cell_type": "code",
   "execution_count": 8,
   "id": "7e54587e",
   "metadata": {},
   "outputs": [
    {
     "data": {
      "text/html": [
       "<div>\n",
       "<style scoped>\n",
       "    .dataframe tbody tr th:only-of-type {\n",
       "        vertical-align: middle;\n",
       "    }\n",
       "\n",
       "    .dataframe tbody tr th {\n",
       "        vertical-align: top;\n",
       "    }\n",
       "\n",
       "    .dataframe thead th {\n",
       "        text-align: right;\n",
       "    }\n",
       "</style>\n",
       "<table border=\"1\" class=\"dataframe\">\n",
       "  <thead>\n",
       "    <tr style=\"text-align: right;\">\n",
       "      <th></th>\n",
       "      <th>sumsquare_error</th>\n",
       "      <th>aic</th>\n",
       "      <th>bic</th>\n",
       "      <th>kl_div</th>\n",
       "    </tr>\n",
       "  </thead>\n",
       "  <tbody>\n",
       "    <tr>\n",
       "      <th>rayleigh</th>\n",
       "      <td>0.105932</td>\n",
       "      <td>inf</td>\n",
       "      <td>-675.802008</td>\n",
       "      <td>inf</td>\n",
       "    </tr>\n",
       "    <tr>\n",
       "      <th>chi2</th>\n",
       "      <td>0.106243</td>\n",
       "      <td>767.803146</td>\n",
       "      <td>-670.904406</td>\n",
       "      <td>inf</td>\n",
       "    </tr>\n",
       "    <tr>\n",
       "      <th>gamma</th>\n",
       "      <td>0.107194</td>\n",
       "      <td>765.701837</td>\n",
       "      <td>-670.012613</td>\n",
       "      <td>inf</td>\n",
       "    </tr>\n",
       "    <tr>\n",
       "      <th>lognorm</th>\n",
       "      <td>0.107210</td>\n",
       "      <td>765.942683</td>\n",
       "      <td>-669.997928</td>\n",
       "      <td>inf</td>\n",
       "    </tr>\n",
       "    <tr>\n",
       "      <th>norm</th>\n",
       "      <td>0.107583</td>\n",
       "      <td>762.150066</td>\n",
       "      <td>-674.255496</td>\n",
       "      <td>inf</td>\n",
       "    </tr>\n",
       "  </tbody>\n",
       "</table>\n",
       "</div>"
      ],
      "text/plain": [
       "          sumsquare_error         aic         bic  kl_div\n",
       "rayleigh         0.105932         inf -675.802008     inf\n",
       "chi2             0.106243  767.803146 -670.904406     inf\n",
       "gamma            0.107194  765.701837 -670.012613     inf\n",
       "lognorm          0.107210  765.942683 -669.997928     inf\n",
       "norm             0.107583  762.150066 -674.255496     inf"
      ]
     },
     "execution_count": 8,
     "metadata": {},
     "output_type": "execute_result"
    },
    {
     "data": {
      "image/png": "[encoded data removed]",
      "text/plain": [
       "<Figure size 432x288 with 1 Axes>"
      ]
     },
     "metadata": {
      "needs_background": "light"
     },
     "output_type": "display_data"
    }
   ],
   "source": [
    "fitaccuracy = np.array([accuracy])\n",
    "f = Fitter(fitaccuracy, distributions=common_distributions)\n",
    "f.fit()\n",
    "f.summary()"
   ]
  },
  {
   "cell_type": "code",
   "execution_count": 9,
   "id": "f20b7d4b",
   "metadata": {},
   "outputs": [
    {
     "data": {
      "text/plain": [
       "{'rayleigh': {'loc': 53.46421743761188, 'scale': 6.506613280990041}}"
      ]
     },
     "execution_count": 9,
     "metadata": {},
     "output_type": "execute_result"
    }
   ],
   "source": [
    "accuracy_list = f.get_best(method = 'sumsquare_error')\n",
    "accuracy_list"
   ]
  },
  {
   "cell_type": "markdown",
   "id": "00560b40",
   "metadata": {},
   "source": [
    "#### GIR Percentage Distribution"
   ]
  },
  {
   "cell_type": "code",
   "execution_count": 10,
   "id": "ce41c540",
   "metadata": {},
   "outputs": [],
   "source": [
    "fitgir = np.array([gir])"
   ]
  },
  {
   "cell_type": "code",
   "execution_count": 11,
   "id": "a7074f48",
   "metadata": {},
   "outputs": [
    {
     "data": {
      "text/html": [
       "<div>\n",
       "<style scoped>\n",
       "    .dataframe tbody tr th:only-of-type {\n",
       "        vertical-align: middle;\n",
       "    }\n",
       "\n",
       "    .dataframe tbody tr th {\n",
       "        vertical-align: top;\n",
       "    }\n",
       "\n",
       "    .dataframe thead th {\n",
       "        text-align: right;\n",
       "    }\n",
       "</style>\n",
       "<table border=\"1\" class=\"dataframe\">\n",
       "  <thead>\n",
       "    <tr style=\"text-align: right;\">\n",
       "      <th></th>\n",
       "      <th>sumsquare_error</th>\n",
       "      <th>aic</th>\n",
       "      <th>bic</th>\n",
       "      <th>kl_div</th>\n",
       "    </tr>\n",
       "  </thead>\n",
       "  <tbody>\n",
       "    <tr>\n",
       "      <th>norm</th>\n",
       "      <td>0.991301</td>\n",
       "      <td>543.663959</td>\n",
       "      <td>-452.180353</td>\n",
       "      <td>inf</td>\n",
       "    </tr>\n",
       "    <tr>\n",
       "      <th>lognorm</th>\n",
       "      <td>0.991801</td>\n",
       "      <td>545.907262</td>\n",
       "      <td>-447.524837</td>\n",
       "      <td>inf</td>\n",
       "    </tr>\n",
       "    <tr>\n",
       "      <th>gamma</th>\n",
       "      <td>0.991862</td>\n",
       "      <td>546.235757</td>\n",
       "      <td>-447.518615</td>\n",
       "      <td>inf</td>\n",
       "    </tr>\n",
       "    <tr>\n",
       "      <th>chi2</th>\n",
       "      <td>0.992806</td>\n",
       "      <td>548.067712</td>\n",
       "      <td>-447.423532</td>\n",
       "      <td>inf</td>\n",
       "    </tr>\n",
       "    <tr>\n",
       "      <th>rayleigh</th>\n",
       "      <td>1.002078</td>\n",
       "      <td>inf</td>\n",
       "      <td>-451.099131</td>\n",
       "      <td>inf</td>\n",
       "    </tr>\n",
       "  </tbody>\n",
       "</table>\n",
       "</div>"
      ],
      "text/plain": [
       "          sumsquare_error         aic         bic  kl_div\n",
       "norm             0.991301  543.663959 -452.180353     inf\n",
       "lognorm          0.991801  545.907262 -447.524837     inf\n",
       "gamma            0.991862  546.235757 -447.518615     inf\n",
       "chi2             0.992806  548.067712 -447.423532     inf\n",
       "rayleigh         1.002078         inf -451.099131     inf"
      ]
     },
     "execution_count": 11,
     "metadata": {},
     "output_type": "execute_result"
    },
    {
     "data": {
      "image/png": "[encoded data removed]",
      "text/plain": [
       "<Figure size 432x288 with 1 Axes>"
      ]
     },
     "metadata": {
      "needs_background": "light"
     },
     "output_type": "display_data"
    }
   ],
   "source": [
    "f = Fitter(fitgir, distributions=common_distributions)\n",
    "f.fit()\n",
    "f.summary()"
   ]
  },
  {
   "cell_type": "code",
   "execution_count": 12,
   "id": "756a84c5",
   "metadata": {},
   "outputs": [
    {
     "data": {
      "text/plain": [
       "{'norm': {'loc': 66.57350000000001, 'scale': 2.4367405996535614}}"
      ]
     },
     "execution_count": 12,
     "metadata": {},
     "output_type": "execute_result"
    }
   ],
   "source": [
    "gir_list = f.get_best(method = 'sumsquare_error')\n",
    "gir_list"
   ]
  },
  {
   "cell_type": "markdown",
   "id": "c0599d41",
   "metadata": {},
   "source": [
    "#### Birdie Average Distribution"
   ]
  },
  {
   "cell_type": "code",
   "execution_count": 13,
   "id": "96a06dbf",
   "metadata": {},
   "outputs": [],
   "source": [
    "fitbirdies = np.array([birdies])"
   ]
  },
  {
   "cell_type": "code",
   "execution_count": 14,
   "id": "ade58bd8",
   "metadata": {},
   "outputs": [
    {
     "data": {
      "text/html": [
       "<div>\n",
       "<style scoped>\n",
       "    .dataframe tbody tr th:only-of-type {\n",
       "        vertical-align: middle;\n",
       "    }\n",
       "\n",
       "    .dataframe tbody tr th {\n",
       "        vertical-align: top;\n",
       "    }\n",
       "\n",
       "    .dataframe thead th {\n",
       "        text-align: right;\n",
       "    }\n",
       "</style>\n",
       "<table border=\"1\" class=\"dataframe\">\n",
       "  <thead>\n",
       "    <tr style=\"text-align: right;\">\n",
       "      <th></th>\n",
       "      <th>sumsquare_error</th>\n",
       "      <th>aic</th>\n",
       "      <th>bic</th>\n",
       "      <th>kl_div</th>\n",
       "    </tr>\n",
       "  </thead>\n",
       "  <tbody>\n",
       "    <tr>\n",
       "      <th>lognorm</th>\n",
       "      <td>68.248116</td>\n",
       "      <td>122.547073</td>\n",
       "      <td>-24.386525</td>\n",
       "      <td>inf</td>\n",
       "    </tr>\n",
       "    <tr>\n",
       "      <th>gamma</th>\n",
       "      <td>68.276475</td>\n",
       "      <td>122.224942</td>\n",
       "      <td>-24.344981</td>\n",
       "      <td>inf</td>\n",
       "    </tr>\n",
       "    <tr>\n",
       "      <th>norm</th>\n",
       "      <td>68.380487</td>\n",
       "      <td>119.275421</td>\n",
       "      <td>-28.797927</td>\n",
       "      <td>inf</td>\n",
       "    </tr>\n",
       "    <tr>\n",
       "      <th>rayleigh</th>\n",
       "      <td>68.518205</td>\n",
       "      <td>inf</td>\n",
       "      <td>-28.596730</td>\n",
       "      <td>inf</td>\n",
       "    </tr>\n",
       "    <tr>\n",
       "      <th>exponpow</th>\n",
       "      <td>69.435081</td>\n",
       "      <td>100.183424</td>\n",
       "      <td>-22.662285</td>\n",
       "      <td>inf</td>\n",
       "    </tr>\n",
       "  </tbody>\n",
       "</table>\n",
       "</div>"
      ],
      "text/plain": [
       "          sumsquare_error         aic        bic  kl_div\n",
       "lognorm         68.248116  122.547073 -24.386525     inf\n",
       "gamma           68.276475  122.224942 -24.344981     inf\n",
       "norm            68.380487  119.275421 -28.797927     inf\n",
       "rayleigh        68.518205         inf -28.596730     inf\n",
       "exponpow        69.435081  100.183424 -22.662285     inf"
      ]
     },
     "execution_count": 14,
     "metadata": {},
     "output_type": "execute_result"
    },
    {
     "data": {
      "image/png": "[encoded data removed]",
      "text/plain": [
       "<Figure size 432x288 with 1 Axes>"
      ]
     },
     "metadata": {
      "needs_background": "light"
     },
     "output_type": "display_data"
    }
   ],
   "source": [
    "f = Fitter(fitbirdies, distributions=common_distributions)\n",
    "f.fit()\n",
    "f.summary()"
   ]
  },
  {
   "cell_type": "code",
   "execution_count": 15,
   "id": "c9d8dfa9",
   "metadata": {},
   "outputs": [
    {
     "data": {
      "text/plain": [
       "{'lognorm': {'s': 0.021071276169458617,\n",
       "  'loc': -9.747395651590328,\n",
       "  'scale': 13.661062712682266}}"
      ]
     },
     "execution_count": 15,
     "metadata": {},
     "output_type": "execute_result"
    }
   ],
   "source": [
    "birdies_list = f.get_best(method = 'sumsquare_error')\n",
    "birdies_list"
   ]
  },
  {
   "cell_type": "markdown",
   "id": "5b916da7",
   "metadata": {},
   "source": [
    "### Summary"
   ]
  },
  {
   "cell_type": "markdown",
   "id": "9e364489",
   "metadata": {},
   "source": [
    "As be be seen, for the data set used:\n",
    "\n",
    "- driving distance average has a lognormal distribution\n",
    "- driving accuracy average has a Rayleigh distribution\n",
    "- GIR percentage has as a normal distribution \n",
    "- birdie average has a lognormal distribution"
   ]
  },
  {
   "cell_type": "markdown",
   "id": "f2899f47",
   "metadata": {},
   "source": [
    "## 5. Gather Historical Data for Each Variable"
   ]
  },
  {
   "cell_type": "markdown",
   "id": "5ede9033",
   "metadata": {},
   "source": [
    "The next stage of the process is to gather historical data for each of the four variables. Data for each of the top 100 players within each variable category was collected from the PGA Tour website for the years 1990, 2000, 2010, and 2020. For example, for driving distance, the top 100 average distances for each of the four years was collected. \n",
    "\n",
    "For each variable, the mean for each year is calculated. The increase or decrease between the mean value for each year is then determined - this will show whether PGA Tour golfers, on average, have increased or decreased their statistics each decade. "
   ]
  },
  {
   "cell_type": "markdown",
   "id": "17bb86a4",
   "metadata": {},
   "source": [
    "Again, this was a manual process which involved copying the data for each variable from the PGA Tour website to a .csv file saved in the data folder associated with this project. "
   ]
  },
  {
   "cell_type": "markdown",
   "id": "ea54b9e7",
   "metadata": {},
   "source": [
    "### Driving Distance Average"
   ]
  },
  {
   "cell_type": "code",
   "execution_count": 16,
   "id": "e8bee17c",
   "metadata": {},
   "outputs": [],
   "source": [
    "historic_distance_df = pd.read_csv('data\\historic_distance.csv')"
   ]
  },
  {
   "cell_type": "markdown",
   "id": "e536c860",
   "metadata": {},
   "source": [
    "Columns are added with the years as headers:"
   ]
  },
  {
   "cell_type": "code",
   "execution_count": 17,
   "id": "efafc2fc",
   "metadata": {},
   "outputs": [
    {
     "data": {
      "text/html": [
       "<div>\n",
       "<style scoped>\n",
       "    .dataframe tbody tr th:only-of-type {\n",
       "        vertical-align: middle;\n",
       "    }\n",
       "\n",
       "    .dataframe tbody tr th {\n",
       "        vertical-align: top;\n",
       "    }\n",
       "\n",
       "    .dataframe thead th {\n",
       "        text-align: right;\n",
       "    }\n",
       "</style>\n",
       "<table border=\"1\" class=\"dataframe\">\n",
       "  <thead>\n",
       "    <tr style=\"text-align: right;\">\n",
       "      <th></th>\n",
       "      <th>1990</th>\n",
       "      <th>2000</th>\n",
       "      <th>2010</th>\n",
       "      <th>2020</th>\n",
       "    </tr>\n",
       "  </thead>\n",
       "  <tbody>\n",
       "    <tr>\n",
       "      <th>0</th>\n",
       "      <td>279.6</td>\n",
       "      <td>301.4</td>\n",
       "      <td>315.5</td>\n",
       "      <td>322.1</td>\n",
       "    </tr>\n",
       "    <tr>\n",
       "      <th>1</th>\n",
       "      <td>279.4</td>\n",
       "      <td>298.0</td>\n",
       "      <td>309.8</td>\n",
       "      <td>322.0</td>\n",
       "    </tr>\n",
       "    <tr>\n",
       "      <th>2</th>\n",
       "      <td>278.0</td>\n",
       "      <td>288.7</td>\n",
       "      <td>308.5</td>\n",
       "      <td>315.3</td>\n",
       "    </tr>\n",
       "    <tr>\n",
       "      <th>3</th>\n",
       "      <td>277.6</td>\n",
       "      <td>288.7</td>\n",
       "      <td>307.3</td>\n",
       "      <td>314.0</td>\n",
       "    </tr>\n",
       "    <tr>\n",
       "      <th>4</th>\n",
       "      <td>277.6</td>\n",
       "      <td>288.5</td>\n",
       "      <td>307.2</td>\n",
       "      <td>313.8</td>\n",
       "    </tr>\n",
       "    <tr>\n",
       "      <th>...</th>\n",
       "      <td>...</td>\n",
       "      <td>...</td>\n",
       "      <td>...</td>\n",
       "      <td>...</td>\n",
       "    </tr>\n",
       "    <tr>\n",
       "      <th>95</th>\n",
       "      <td>263.1</td>\n",
       "      <td>273.3</td>\n",
       "      <td>287.9</td>\n",
       "      <td>297.4</td>\n",
       "    </tr>\n",
       "    <tr>\n",
       "      <th>96</th>\n",
       "      <td>263.0</td>\n",
       "      <td>273.2</td>\n",
       "      <td>287.8</td>\n",
       "      <td>297.3</td>\n",
       "    </tr>\n",
       "    <tr>\n",
       "      <th>97</th>\n",
       "      <td>263.0</td>\n",
       "      <td>273.2</td>\n",
       "      <td>287.7</td>\n",
       "      <td>297.3</td>\n",
       "    </tr>\n",
       "    <tr>\n",
       "      <th>98</th>\n",
       "      <td>263.0</td>\n",
       "      <td>273.2</td>\n",
       "      <td>287.6</td>\n",
       "      <td>297.3</td>\n",
       "    </tr>\n",
       "    <tr>\n",
       "      <th>99</th>\n",
       "      <td>263.0</td>\n",
       "      <td>273.2</td>\n",
       "      <td>287.3</td>\n",
       "      <td>297.2</td>\n",
       "    </tr>\n",
       "  </tbody>\n",
       "</table>\n",
       "<p>100 rows × 4 columns</p>\n",
       "</div>"
      ],
      "text/plain": [
       "     1990   2000   2010   2020\n",
       "0   279.6  301.4  315.5  322.1\n",
       "1   279.4  298.0  309.8  322.0\n",
       "2   278.0  288.7  308.5  315.3\n",
       "3   277.6  288.7  307.3  314.0\n",
       "4   277.6  288.5  307.2  313.8\n",
       "..    ...    ...    ...    ...\n",
       "95  263.1  273.3  287.9  297.4\n",
       "96  263.0  273.2  287.8  297.3\n",
       "97  263.0  273.2  287.7  297.3\n",
       "98  263.0  273.2  287.6  297.3\n",
       "99  263.0  273.2  287.3  297.2\n",
       "\n",
       "[100 rows x 4 columns]"
      ]
     },
     "execution_count": 17,
     "metadata": {},
     "output_type": "execute_result"
    }
   ],
   "source": [
    "historic_distance_df.columns = ['1990', '2000', '2010','2020']\n",
    "historic_distance_df"
   ]
  },
  {
   "cell_type": "markdown",
   "id": "a6e16b49",
   "metadata": {},
   "source": [
    "Each year is separated out:"
   ]
  },
  {
   "cell_type": "code",
   "execution_count": 18,
   "id": "5f29b557",
   "metadata": {},
   "outputs": [],
   "source": [
    "distance_1990 = historic_distance_df.iloc[:,0]\n",
    "distance_2000 = historic_distance_df.iloc[:,1]\n",
    "distance_2010 = historic_distance_df.iloc[:,2]\n",
    "distance_2020 = historic_distance_df.iloc[:,3]"
   ]
  },
  {
   "cell_type": "markdown",
   "id": "18a098f2",
   "metadata": {},
   "source": [
    "The mean for each year is determined:"
   ]
  },
  {
   "cell_type": "code",
   "execution_count": 19,
   "id": "a81190c0",
   "metadata": {},
   "outputs": [],
   "source": [
    "mean_distance_1990 = statistics.mean(distance_1990)\n",
    "mean_distance_2000 = statistics.mean(distance_2000)\n",
    "mean_distance_2010 = statistics.mean(distance_2010)\n",
    "mean_distance_2020 = statistics.mean(distance_2020)"
   ]
  },
  {
   "cell_type": "markdown",
   "id": "0da2f0f6",
   "metadata": {},
   "source": [
    "For example:"
   ]
  },
  {
   "cell_type": "code",
   "execution_count": 20,
   "id": "9e8030cd",
   "metadata": {},
   "outputs": [
    {
     "data": {
      "text/plain": [
       "267.734"
      ]
     },
     "execution_count": 20,
     "metadata": {},
     "output_type": "execute_result"
    }
   ],
   "source": [
    "mean_distance_1990"
   ]
  },
  {
   "cell_type": "markdown",
   "id": "b52ab9a8",
   "metadata": {},
   "source": [
    "The distance increase between years (i.e. each decade) is calculated:"
   ]
  },
  {
   "cell_type": "code",
   "execution_count": 21,
   "id": "79b0a29b",
   "metadata": {},
   "outputs": [
    {
     "data": {
      "text/plain": [
       "([9.718999999999994], [15.097000000000037], [10.908999999999992])"
      ]
     },
     "execution_count": 21,
     "metadata": {},
     "output_type": "execute_result"
    }
   ],
   "source": [
    "distance_increase = ([mean_distance_2020 - mean_distance_2010],[mean_distance_2010 - mean_distance_2000], [mean_distance_2000 - mean_distance_1990] )\n",
    "distance_increase"
   ]
  },
  {
   "cell_type": "markdown",
   "id": "f6f6fc06",
   "metadata": {},
   "source": [
    "The mean increase or decrease is calculated:"
   ]
  },
  {
   "cell_type": "code",
   "execution_count": 22,
   "id": "8339b3f5",
   "metadata": {},
   "outputs": [
    {
     "data": {
      "text/plain": [
       "11.90833333333334"
      ]
     },
     "execution_count": 22,
     "metadata": {},
     "output_type": "execute_result"
    }
   ],
   "source": [
    "mean_distance_increase = np.mean(distance_increase)\n",
    "mean_distance_increase"
   ]
  },
  {
   "cell_type": "markdown",
   "id": "3c3f7c60",
   "metadata": {},
   "source": [
    "Therefore, on average, each decade from 1990 to 2020, average driving distance on the PGA Tour increased nearly 12 yards. "
   ]
  },
  {
   "cell_type": "markdown",
   "id": "b75a7dc0",
   "metadata": {},
   "source": [
    "The process was repeated for the remaining three variables."
   ]
  },
  {
   "cell_type": "markdown",
   "id": "6259fb30",
   "metadata": {},
   "source": [
    "### Driving Accuracy Percentage"
   ]
  },
  {
   "cell_type": "code",
   "execution_count": 23,
   "id": "f2ea2320",
   "metadata": {},
   "outputs": [],
   "source": [
    "historic_accuracy_df = pd.read_csv('data\\historic_accuracy.csv')"
   ]
  },
  {
   "cell_type": "code",
   "execution_count": 24,
   "id": "b9b1e391",
   "metadata": {},
   "outputs": [
    {
     "data": {
      "text/html": [
       "<div>\n",
       "<style scoped>\n",
       "    .dataframe tbody tr th:only-of-type {\n",
       "        vertical-align: middle;\n",
       "    }\n",
       "\n",
       "    .dataframe tbody tr th {\n",
       "        vertical-align: top;\n",
       "    }\n",
       "\n",
       "    .dataframe thead th {\n",
       "        text-align: right;\n",
       "    }\n",
       "</style>\n",
       "<table border=\"1\" class=\"dataframe\">\n",
       "  <thead>\n",
       "    <tr style=\"text-align: right;\">\n",
       "      <th></th>\n",
       "      <th>1990</th>\n",
       "      <th>2000</th>\n",
       "      <th>2010</th>\n",
       "      <th>2020</th>\n",
       "    </tr>\n",
       "  </thead>\n",
       "  <tbody>\n",
       "    <tr>\n",
       "      <th>0</th>\n",
       "      <td>83.67</td>\n",
       "      <td>79.75</td>\n",
       "      <td>76.08</td>\n",
       "      <td>74.50</td>\n",
       "    </tr>\n",
       "    <tr>\n",
       "      <th>1</th>\n",
       "      <td>79.19</td>\n",
       "      <td>79.57</td>\n",
       "      <td>75.94</td>\n",
       "      <td>73.86</td>\n",
       "    </tr>\n",
       "    <tr>\n",
       "      <th>2</th>\n",
       "      <td>78.97</td>\n",
       "      <td>78.76</td>\n",
       "      <td>74.00</td>\n",
       "      <td>71.84</td>\n",
       "    </tr>\n",
       "    <tr>\n",
       "      <th>3</th>\n",
       "      <td>77.84</td>\n",
       "      <td>78.75</td>\n",
       "      <td>73.72</td>\n",
       "      <td>71.36</td>\n",
       "    </tr>\n",
       "    <tr>\n",
       "      <th>4</th>\n",
       "      <td>77.57</td>\n",
       "      <td>77.96</td>\n",
       "      <td>72.86</td>\n",
       "      <td>71.29</td>\n",
       "    </tr>\n",
       "    <tr>\n",
       "      <th>...</th>\n",
       "      <td>...</td>\n",
       "      <td>...</td>\n",
       "      <td>...</td>\n",
       "      <td>...</td>\n",
       "    </tr>\n",
       "    <tr>\n",
       "      <th>95</th>\n",
       "      <td>65.30</td>\n",
       "      <td>68.88</td>\n",
       "      <td>63.72</td>\n",
       "      <td>60.34</td>\n",
       "    </tr>\n",
       "    <tr>\n",
       "      <th>96</th>\n",
       "      <td>65.00</td>\n",
       "      <td>68.85</td>\n",
       "      <td>63.69</td>\n",
       "      <td>60.34</td>\n",
       "    </tr>\n",
       "    <tr>\n",
       "      <th>97</th>\n",
       "      <td>64.99</td>\n",
       "      <td>68.78</td>\n",
       "      <td>63.47</td>\n",
       "      <td>60.31</td>\n",
       "    </tr>\n",
       "    <tr>\n",
       "      <th>98</th>\n",
       "      <td>64.97</td>\n",
       "      <td>68.68</td>\n",
       "      <td>63.40</td>\n",
       "      <td>60.26</td>\n",
       "    </tr>\n",
       "    <tr>\n",
       "      <th>99</th>\n",
       "      <td>64.97</td>\n",
       "      <td>68.67</td>\n",
       "      <td>63.40</td>\n",
       "      <td>60.20</td>\n",
       "    </tr>\n",
       "  </tbody>\n",
       "</table>\n",
       "<p>100 rows × 4 columns</p>\n",
       "</div>"
      ],
      "text/plain": [
       "     1990   2000   2010   2020\n",
       "0   83.67  79.75  76.08  74.50\n",
       "1   79.19  79.57  75.94  73.86\n",
       "2   78.97  78.76  74.00  71.84\n",
       "3   77.84  78.75  73.72  71.36\n",
       "4   77.57  77.96  72.86  71.29\n",
       "..    ...    ...    ...    ...\n",
       "95  65.30  68.88  63.72  60.34\n",
       "96  65.00  68.85  63.69  60.34\n",
       "97  64.99  68.78  63.47  60.31\n",
       "98  64.97  68.68  63.40  60.26\n",
       "99  64.97  68.67  63.40  60.20\n",
       "\n",
       "[100 rows x 4 columns]"
      ]
     },
     "execution_count": 24,
     "metadata": {},
     "output_type": "execute_result"
    }
   ],
   "source": [
    "historic_accuracy_df = historic_accuracy_df\n",
    "historic_accuracy_df.columns = ['1990', '2000', '2010','2020']\n",
    "historic_accuracy_df"
   ]
  },
  {
   "cell_type": "code",
   "execution_count": 25,
   "id": "d7dbcc08",
   "metadata": {},
   "outputs": [],
   "source": [
    "accuracy_1990 = historic_accuracy_df.iloc[:,0]\n",
    "accuracy_2000 = historic_accuracy_df.iloc[:,1]\n",
    "accuracy_2010 = historic_accuracy_df.iloc[:,2]\n",
    "accuracy_2020 = historic_accuracy_df.iloc[:,3]"
   ]
  },
  {
   "cell_type": "code",
   "execution_count": 26,
   "id": "edf6b409",
   "metadata": {},
   "outputs": [],
   "source": [
    "mean_accuracy_1990 = statistics.mean(accuracy_1990)\n",
    "mean_accuracy_2000 = statistics.mean(accuracy_2000)\n",
    "mean_accuracy_2010 = statistics.mean(accuracy_2010)\n",
    "mean_accuracy_2020 = statistics.mean(accuracy_2020)"
   ]
  },
  {
   "cell_type": "code",
   "execution_count": 27,
   "id": "4acf2e0c",
   "metadata": {},
   "outputs": [],
   "source": [
    "accuracy_increase = ([mean_accuracy_2020 - mean_accuracy_2010],[mean_accuracy_2010 - mean_accuracy_2000], [mean_accuracy_2000 - mean_accuracy_1990] )"
   ]
  },
  {
   "cell_type": "code",
   "execution_count": 28,
   "id": "3186b3df",
   "metadata": {},
   "outputs": [
    {
     "data": {
      "text/plain": [
       "-1.7376000000000005"
      ]
     },
     "execution_count": 28,
     "metadata": {},
     "output_type": "execute_result"
    }
   ],
   "source": [
    "mean_accuracy_increase = np.mean(accuracy_increase)\n",
    "mean_accuracy_increase"
   ]
  },
  {
   "cell_type": "markdown",
   "id": "43ea8c71",
   "metadata": {},
   "source": [
    "### GIR Percentage"
   ]
  },
  {
   "cell_type": "code",
   "execution_count": 29,
   "id": "08498aaa",
   "metadata": {},
   "outputs": [],
   "source": [
    "historic_gir_df = pd.read_csv('data\\historic_gir.csv')"
   ]
  },
  {
   "cell_type": "code",
   "execution_count": 30,
   "id": "507758a8",
   "metadata": {},
   "outputs": [
    {
     "data": {
      "text/html": [
       "<div>\n",
       "<style scoped>\n",
       "    .dataframe tbody tr th:only-of-type {\n",
       "        vertical-align: middle;\n",
       "    }\n",
       "\n",
       "    .dataframe tbody tr th {\n",
       "        vertical-align: top;\n",
       "    }\n",
       "\n",
       "    .dataframe thead th {\n",
       "        text-align: right;\n",
       "    }\n",
       "</style>\n",
       "<table border=\"1\" class=\"dataframe\">\n",
       "  <thead>\n",
       "    <tr style=\"text-align: right;\">\n",
       "      <th></th>\n",
       "      <th>1990</th>\n",
       "      <th>2000</th>\n",
       "      <th>2010</th>\n",
       "      <th>2020</th>\n",
       "    </tr>\n",
       "  </thead>\n",
       "  <tbody>\n",
       "    <tr>\n",
       "      <th>0</th>\n",
       "      <td>70.91</td>\n",
       "      <td>75.15</td>\n",
       "      <td>72.49</td>\n",
       "      <td>74.22</td>\n",
       "    </tr>\n",
       "    <tr>\n",
       "      <th>1</th>\n",
       "      <td>70.85</td>\n",
       "      <td>72.34</td>\n",
       "      <td>71.96</td>\n",
       "      <td>72.54</td>\n",
       "    </tr>\n",
       "    <tr>\n",
       "      <th>2</th>\n",
       "      <td>70.22</td>\n",
       "      <td>71.86</td>\n",
       "      <td>71.95</td>\n",
       "      <td>72.10</td>\n",
       "    </tr>\n",
       "    <tr>\n",
       "      <th>3</th>\n",
       "      <td>70.06</td>\n",
       "      <td>71.20</td>\n",
       "      <td>71.74</td>\n",
       "      <td>71.70</td>\n",
       "    </tr>\n",
       "    <tr>\n",
       "      <th>4</th>\n",
       "      <td>70.00</td>\n",
       "      <td>71.13</td>\n",
       "      <td>71.43</td>\n",
       "      <td>71.69</td>\n",
       "    </tr>\n",
       "    <tr>\n",
       "      <th>...</th>\n",
       "      <td>...</td>\n",
       "      <td>...</td>\n",
       "      <td>...</td>\n",
       "      <td>...</td>\n",
       "    </tr>\n",
       "    <tr>\n",
       "      <th>95</th>\n",
       "      <td>64.43</td>\n",
       "      <td>65.91</td>\n",
       "      <td>66.86</td>\n",
       "      <td>66.97</td>\n",
       "    </tr>\n",
       "    <tr>\n",
       "      <th>96</th>\n",
       "      <td>64.42</td>\n",
       "      <td>65.86</td>\n",
       "      <td>66.81</td>\n",
       "      <td>66.97</td>\n",
       "    </tr>\n",
       "    <tr>\n",
       "      <th>97</th>\n",
       "      <td>64.40</td>\n",
       "      <td>65.83</td>\n",
       "      <td>66.78</td>\n",
       "      <td>66.95</td>\n",
       "    </tr>\n",
       "    <tr>\n",
       "      <th>98</th>\n",
       "      <td>64.29</td>\n",
       "      <td>65.82</td>\n",
       "      <td>66.77</td>\n",
       "      <td>66.95</td>\n",
       "    </tr>\n",
       "    <tr>\n",
       "      <th>99</th>\n",
       "      <td>64.14</td>\n",
       "      <td>65.82</td>\n",
       "      <td>66.75</td>\n",
       "      <td>66.93</td>\n",
       "    </tr>\n",
       "  </tbody>\n",
       "</table>\n",
       "<p>100 rows × 4 columns</p>\n",
       "</div>"
      ],
      "text/plain": [
       "     1990   2000   2010   2020\n",
       "0   70.91  75.15  72.49  74.22\n",
       "1   70.85  72.34  71.96  72.54\n",
       "2   70.22  71.86  71.95  72.10\n",
       "3   70.06  71.20  71.74  71.70\n",
       "4   70.00  71.13  71.43  71.69\n",
       "..    ...    ...    ...    ...\n",
       "95  64.43  65.91  66.86  66.97\n",
       "96  64.42  65.86  66.81  66.97\n",
       "97  64.40  65.83  66.78  66.95\n",
       "98  64.29  65.82  66.77  66.95\n",
       "99  64.14  65.82  66.75  66.93\n",
       "\n",
       "[100 rows x 4 columns]"
      ]
     },
     "execution_count": 30,
     "metadata": {},
     "output_type": "execute_result"
    }
   ],
   "source": [
    "historic_gir_df = historic_gir_df\n",
    "historic_gir_df.columns = ['1990', '2000', '2010','2020']\n",
    "historic_gir_df"
   ]
  },
  {
   "cell_type": "code",
   "execution_count": 31,
   "id": "7454a502",
   "metadata": {},
   "outputs": [],
   "source": [
    "gir_1990 = historic_gir_df.iloc[:,0]\n",
    "gir_2000 = historic_gir_df.iloc[:,1]\n",
    "gir_2010 = historic_gir_df.iloc[:,2]\n",
    "gir_2020 = historic_gir_df.iloc[:,3]"
   ]
  },
  {
   "cell_type": "code",
   "execution_count": 32,
   "id": "203c70c4",
   "metadata": {},
   "outputs": [],
   "source": [
    "mean_gir_1990 = statistics.mean(gir_1990)\n",
    "mean_gir_2000 = statistics.mean(gir_2000)\n",
    "mean_gir_2010 = statistics.mean(gir_2010)\n",
    "mean_gir_2020 = statistics.mean(gir_2020)"
   ]
  },
  {
   "cell_type": "code",
   "execution_count": 33,
   "id": "76e09eb1",
   "metadata": {},
   "outputs": [],
   "source": [
    "gir_increase = ([mean_gir_2020 - mean_gir_2010],[mean_gir_2010 - mean_gir_2000], [mean_gir_2000 - mean_gir_1990] )"
   ]
  },
  {
   "cell_type": "code",
   "execution_count": 34,
   "id": "7808f8f2",
   "metadata": {},
   "outputs": [
    {
     "data": {
      "text/plain": [
       "0.854000000000004"
      ]
     },
     "execution_count": 34,
     "metadata": {},
     "output_type": "execute_result"
    }
   ],
   "source": [
    "mean_gir_increase = np.mean(gir_increase)\n",
    "mean_gir_increase"
   ]
  },
  {
   "cell_type": "markdown",
   "id": "f28fa0fc",
   "metadata": {},
   "source": [
    "### Birdie Average"
   ]
  },
  {
   "cell_type": "code",
   "execution_count": 35,
   "id": "8295ef5f",
   "metadata": {},
   "outputs": [],
   "source": [
    "historic_birdies_df = pd.read_csv('data\\historic_birdies.csv')"
   ]
  },
  {
   "cell_type": "code",
   "execution_count": 36,
   "id": "0abdd74c",
   "metadata": {},
   "outputs": [
    {
     "data": {
      "text/html": [
       "<div>\n",
       "<style scoped>\n",
       "    .dataframe tbody tr th:only-of-type {\n",
       "        vertical-align: middle;\n",
       "    }\n",
       "\n",
       "    .dataframe tbody tr th {\n",
       "        vertical-align: top;\n",
       "    }\n",
       "\n",
       "    .dataframe thead th {\n",
       "        text-align: right;\n",
       "    }\n",
       "</style>\n",
       "<table border=\"1\" class=\"dataframe\">\n",
       "  <thead>\n",
       "    <tr style=\"text-align: right;\">\n",
       "      <th></th>\n",
       "      <th>1990</th>\n",
       "      <th>2000</th>\n",
       "      <th>2010</th>\n",
       "      <th>2020</th>\n",
       "    </tr>\n",
       "  </thead>\n",
       "  <tbody>\n",
       "    <tr>\n",
       "      <th>0</th>\n",
       "      <td>3.88</td>\n",
       "      <td>4.92</td>\n",
       "      <td>4.06</td>\n",
       "      <td>4.67</td>\n",
       "    </tr>\n",
       "    <tr>\n",
       "      <th>1</th>\n",
       "      <td>3.84</td>\n",
       "      <td>4.26</td>\n",
       "      <td>4.03</td>\n",
       "      <td>4.55</td>\n",
       "    </tr>\n",
       "    <tr>\n",
       "      <th>2</th>\n",
       "      <td>3.82</td>\n",
       "      <td>4.22</td>\n",
       "      <td>4.02</td>\n",
       "      <td>4.55</td>\n",
       "    </tr>\n",
       "    <tr>\n",
       "      <th>3</th>\n",
       "      <td>3.76</td>\n",
       "      <td>4.21</td>\n",
       "      <td>4.01</td>\n",
       "      <td>4.42</td>\n",
       "    </tr>\n",
       "    <tr>\n",
       "      <th>4</th>\n",
       "      <td>3.76</td>\n",
       "      <td>4.08</td>\n",
       "      <td>4.00</td>\n",
       "      <td>4.38</td>\n",
       "    </tr>\n",
       "    <tr>\n",
       "      <th>...</th>\n",
       "      <td>...</td>\n",
       "      <td>...</td>\n",
       "      <td>...</td>\n",
       "      <td>...</td>\n",
       "    </tr>\n",
       "    <tr>\n",
       "      <th>187</th>\n",
       "      <td>2.61</td>\n",
       "      <td>2.88</td>\n",
       "      <td>2.95</td>\n",
       "      <td>3.20</td>\n",
       "    </tr>\n",
       "    <tr>\n",
       "      <th>188</th>\n",
       "      <td>2.59</td>\n",
       "      <td>2.80</td>\n",
       "      <td>2.88</td>\n",
       "      <td>3.20</td>\n",
       "    </tr>\n",
       "    <tr>\n",
       "      <th>189</th>\n",
       "      <td>2.58</td>\n",
       "      <td>2.77</td>\n",
       "      <td>2.82</td>\n",
       "      <td>3.18</td>\n",
       "    </tr>\n",
       "    <tr>\n",
       "      <th>190</th>\n",
       "      <td>2.29</td>\n",
       "      <td>2.76</td>\n",
       "      <td>2.80</td>\n",
       "      <td>3.04</td>\n",
       "    </tr>\n",
       "    <tr>\n",
       "      <th>191</th>\n",
       "      <td>2.05</td>\n",
       "      <td>2.76</td>\n",
       "      <td>2.79</td>\n",
       "      <td>2.98</td>\n",
       "    </tr>\n",
       "  </tbody>\n",
       "</table>\n",
       "<p>192 rows × 4 columns</p>\n",
       "</div>"
      ],
      "text/plain": [
       "     1990  2000  2010  2020\n",
       "0    3.88  4.92  4.06  4.67\n",
       "1    3.84  4.26  4.03  4.55\n",
       "2    3.82  4.22  4.02  4.55\n",
       "3    3.76  4.21  4.01  4.42\n",
       "4    3.76  4.08  4.00  4.38\n",
       "..    ...   ...   ...   ...\n",
       "187  2.61  2.88  2.95  3.20\n",
       "188  2.59  2.80  2.88  3.20\n",
       "189  2.58  2.77  2.82  3.18\n",
       "190  2.29  2.76  2.80  3.04\n",
       "191  2.05  2.76  2.79  2.98\n",
       "\n",
       "[192 rows x 4 columns]"
      ]
     },
     "execution_count": 36,
     "metadata": {},
     "output_type": "execute_result"
    }
   ],
   "source": [
    "historic_birdies_df = historic_birdies_df\n",
    "historic_birdies_df.columns = ['1990', '2000', '2010','2020']\n",
    "historic_birdies_df"
   ]
  },
  {
   "cell_type": "code",
   "execution_count": 37,
   "id": "7c1c9a02",
   "metadata": {},
   "outputs": [],
   "source": [
    "birdies_1990 = historic_birdies_df.iloc[:,0]\n",
    "birdies_2000 = historic_birdies_df.iloc[:,1]\n",
    "birdies_2010 = historic_birdies_df.iloc[:,2]\n",
    "birdies_2020 = historic_birdies_df.iloc[:,3]"
   ]
  },
  {
   "cell_type": "code",
   "execution_count": 38,
   "id": "f51ff348",
   "metadata": {},
   "outputs": [],
   "source": [
    "mean_birdies_1990 = statistics.mean(birdies_1990)\n",
    "mean_birdies_2000 = statistics.mean(birdies_2000)\n",
    "mean_birdies_2010 = statistics.mean(birdies_2010)\n",
    "mean_birdies_2020 = statistics.mean(birdies_2020)"
   ]
  },
  {
   "cell_type": "code",
   "execution_count": 39,
   "id": "eba2e1a7",
   "metadata": {},
   "outputs": [],
   "source": [
    "birdies_increase = ([mean_birdies_2020 - mean_birdies_2010],[mean_birdies_2010 - mean_birdies_2000], [mean_birdies_2000 - mean_birdies_1990] )"
   ]
  },
  {
   "cell_type": "code",
   "execution_count": 40,
   "id": "77472856",
   "metadata": {},
   "outputs": [
    {
     "data": {
      "text/plain": [
       "0.20939236111111104"
      ]
     },
     "execution_count": 40,
     "metadata": {},
     "output_type": "execute_result"
    }
   ],
   "source": [
    "mean_birdies_increase = np.mean(birdies_increase)\n",
    "mean_birdies_increase "
   ]
  },
  {
   "cell_type": "markdown",
   "id": "567583e3",
   "metadata": {},
   "source": [
    "### Summary"
   ]
  },
  {
   "cell_type": "markdown",
   "id": "0ff895f2",
   "metadata": {},
   "source": [
    "On average, each decade from 1990 to 2020:\n",
    "\n",
    "- average driving distance on the PGA Tour increased by approximately 12 yards. \n",
    "\n",
    "- average driving accuracy on the PGA Tour decreased by approximately 1.7\n",
    "\n",
    "- GIR percentage on the PGA Tour increased by approximately 0.85\n",
    "\n",
    "- birdie average on the PGA Tour increased by approximately 0.2 \n",
    "\n"
   ]
  },
  {
   "cell_type": "markdown",
   "id": "1a954d45",
   "metadata": {},
   "source": [
    "## 6. Estimate Variables for 2030"
   ]
  },
  {
   "cell_type": "markdown",
   "id": "700b24f8",
   "metadata": {},
   "source": [
    "Based on the average increase or decrease for each decade determined in the last section, an estimate is made for the values of each variable in 2030 (i.e. in another decade on from 2020)."
   ]
  },
  {
   "cell_type": "markdown",
   "id": "e2eb348c",
   "metadata": {},
   "source": [
    "### Driving Distance Average"
   ]
  },
  {
   "cell_type": "code",
   "execution_count": 41,
   "id": "15f6c044",
   "metadata": {},
   "outputs": [
    {
     "data": {
      "text/plain": [
       "315.36733333333336"
      ]
     },
     "execution_count": 41,
     "metadata": {},
     "output_type": "execute_result"
    }
   ],
   "source": [
    "mean_distance_2030 = (mean_distance_2020 + mean_distance_increase)\n",
    "mean_distance_2030"
   ]
  },
  {
   "cell_type": "markdown",
   "id": "16e8bc99",
   "metadata": {},
   "source": [
    "### Driving Accuracy Percentage"
   ]
  },
  {
   "cell_type": "code",
   "execution_count": 42,
   "id": "b04d25b4",
   "metadata": {},
   "outputs": [
    {
     "data": {
      "text/plain": [
       "62.5958"
      ]
     },
     "execution_count": 42,
     "metadata": {},
     "output_type": "execute_result"
    }
   ],
   "source": [
    "mean_accuracy_2030 = (mean_accuracy_2020 + mean_accuracy_increase)\n",
    "mean_accuracy_2030"
   ]
  },
  {
   "cell_type": "markdown",
   "id": "ab661f21",
   "metadata": {},
   "source": [
    "### GIR Percentage"
   ]
  },
  {
   "cell_type": "code",
   "execution_count": 43,
   "id": "4fcdde1b",
   "metadata": {},
   "outputs": [
    {
     "data": {
      "text/plain": [
       "69.8079"
      ]
     },
     "execution_count": 43,
     "metadata": {},
     "output_type": "execute_result"
    }
   ],
   "source": [
    "mean_gir_2030 = (mean_gir_2020 + mean_gir_increase)\n",
    "mean_gir_2030"
   ]
  },
  {
   "cell_type": "markdown",
   "id": "2094b5f7",
   "metadata": {},
   "source": [
    "### Birdie Average"
   ]
  },
  {
   "cell_type": "code",
   "execution_count": 44,
   "id": "4893bc9c",
   "metadata": {},
   "outputs": [
    {
     "data": {
      "text/plain": [
       "3.9966840277777775"
      ]
     },
     "execution_count": 44,
     "metadata": {},
     "output_type": "execute_result"
    }
   ],
   "source": [
    "mean_birdies_2030 = (mean_birdies_2020 + mean_birdies_increase)\n",
    "mean_birdies_2030"
   ]
  },
  {
   "cell_type": "markdown",
   "id": "6551d457",
   "metadata": {},
   "source": [
    "### Summary"
   ]
  },
  {
   "cell_type": "markdown",
   "id": "fbe6a67d",
   "metadata": {},
   "source": [
    "The estimated value for each variable for 2030 is:\n",
    "\n",
    "- average driving distance is approximately 315.4 yards \n",
    "\n",
    "- average driving accuracy is approximately 62.6%\n",
    "\n",
    "- GIR percentage is approximately 69.8%\n",
    "\n",
    "- birdie average is approximately 4%\n",
    "\n",
    "\n"
   ]
  },
  {
   "cell_type": "markdown",
   "id": "f39fb14b",
   "metadata": {},
   "source": [
    "## 7. Simulate Distribution for Each Variable using 2030 Estimated Values"
   ]
  },
  {
   "cell_type": "markdown",
   "id": "0129b410",
   "metadata": {},
   "source": [
    "The next step in the project is to simulate the distribution for each variable using the 2030 estimated values. There are various ways to do this in Python, such as using the Numpy package. For this project, it was decided to use the SciPy package. SciPy provides algorithms for algebraic equations, differential equations, statistics and many other classes of problems<sup id=\"a6\">[6](#f6)</sup>. In particular, the `scipy.stats` module will be used which contains a large number of probability distributions, statistical tests, kernel density estimation and more<sup id=\"a7\">[7](#f7)</sup>."
   ]
  },
  {
   "cell_type": "markdown",
   "id": "e0336aef",
   "metadata": {},
   "source": [
    "For this simulation a data set of 250 samples for the each distribution was chosen:"
   ]
  },
  {
   "cell_type": "code",
   "execution_count": 45,
   "id": "0049d373",
   "metadata": {},
   "outputs": [],
   "source": [
    "simulation_size=250"
   ]
  },
  {
   "cell_type": "markdown",
   "id": "c90205df",
   "metadata": {},
   "source": [
    "### Driving Distance Average"
   ]
  },
  {
   "cell_type": "markdown",
   "id": "be9c7208",
   "metadata": {},
   "source": [
    "As detailed in Section 4, the Fitter tool provided the s, loc, and scale values (as required) for each of the distributions for each of the variables for the top 100 ranked players in the 2021 Fedex cup. "
   ]
  },
  {
   "cell_type": "markdown",
   "id": "667a85a8",
   "metadata": {},
   "source": [
    "For the driving distance distribution (as shown in Section 4) these are as follow:"
   ]
  },
  {
   "cell_type": "code",
   "execution_count": 46,
   "id": "9419ecd9",
   "metadata": {},
   "outputs": [
    {
     "data": {
      "text/plain": [
       "{'lognorm': {'s': 0.11093697461805507,\n",
       "  'loc': 226.62980940729665,\n",
       "  'scale': 72.26386699032992}}"
      ]
     },
     "execution_count": 46,
     "metadata": {},
     "output_type": "execute_result"
    }
   ],
   "source": [
    "distance_list"
   ]
  },
  {
   "cell_type": "markdown",
   "id": "971879d4",
   "metadata": {},
   "source": [
    "The same values are used for the s, loc, and scale values for the 2030 simulated distribution. However, for loc, the mean distance increase determined in Section 6 was added to the loc value as the distance has increased. Please note, the mean distance value for 2030 is not used for the loc value, rather the mean distance increase is added to the loc value determined by Fitter. Using the mean distance value for 2030 would result in a distribution spread around a greater distance than would be expected.  "
   ]
  },
  {
   "cell_type": "code",
   "execution_count": 47,
   "id": "35bfa015",
   "metadata": {},
   "outputs": [],
   "source": [
    "distance_s=0.11093697461805507\n",
    "distance_loc=(226.62980940729665+mean_distance_increase)\n",
    "distance_scale=72.26386699032992"
   ]
  },
  {
   "cell_type": "markdown",
   "id": "b663111e",
   "metadata": {},
   "source": [
    "A simulated distribution for the driving distance average for 2030 can then be created using the lognormal distribution function in SciPy<sup id=\"a8\">[8](#f8)</sup>:"
   ]
  },
  {
   "cell_type": "code",
   "execution_count": 48,
   "id": "6a3f12b4",
   "metadata": {},
   "outputs": [
    {
     "data": {
      "image/png": "[encoded data removed]",
      "text/plain": [
       "<Figure size 432x288 with 1 Axes>"
      ]
     },
     "metadata": {
      "needs_background": "light"
     },
     "output_type": "display_data"
    }
   ],
   "source": [
    "distance_2030 = lognorm.rvs(s=distance_s, loc=distance_loc, scale=distance_scale, size=simulation_size)\n",
    "plt.hist(distance_2030, bins=30)\n",
    "\n",
    "plt.show()"
   ]
  },
  {
   "cell_type": "markdown",
   "id": "092ebab9",
   "metadata": {},
   "source": [
    "The maximum, minimum, and mean values can be shown:"
   ]
  },
  {
   "cell_type": "code",
   "execution_count": 49,
   "id": "9af204ff",
   "metadata": {},
   "outputs": [
    {
     "data": {
      "text/plain": [
       "(341.18869042168683, 293.17854144304647, 311.1881004430068)"
      ]
     },
     "execution_count": 49,
     "metadata": {},
     "output_type": "execute_result"
    }
   ],
   "source": [
    "distance_2030.max(), distance_2030.min(), distance_2030.mean()"
   ]
  },
  {
   "cell_type": "markdown",
   "id": "b0ac07dd",
   "metadata": {},
   "source": [
    "### Driving Accuracy Percentage"
   ]
  },
  {
   "cell_type": "markdown",
   "id": "1f9160ec",
   "metadata": {},
   "source": [
    "A similar process is used for driving accuracy. As previously determined, a Rayleigh distribution<sup id=\"a9\">[9](#f9)</sup> will be used and the loc and scale values were determined by Fitter:"
   ]
  },
  {
   "cell_type": "code",
   "execution_count": 50,
   "id": "a5724cc1",
   "metadata": {},
   "outputs": [
    {
     "data": {
      "text/plain": [
       "{'rayleigh': {'loc': 53.46421743761188, 'scale': 6.506613280990041}}"
      ]
     },
     "execution_count": 50,
     "metadata": {},
     "output_type": "execute_result"
    }
   ],
   "source": [
    "accuracy_list"
   ]
  },
  {
   "cell_type": "code",
   "execution_count": 51,
   "id": "99cfee61",
   "metadata": {},
   "outputs": [],
   "source": [
    "accuracy_loc=(53.46421743761188+mean_accuracy_increase)\n",
    "accuracy_scale=6.506613280990041"
   ]
  },
  {
   "cell_type": "markdown",
   "id": "3c6431fc",
   "metadata": {},
   "source": [
    "Please note, the average accuracy decreased and so the loc value is lower than previously determined. "
   ]
  },
  {
   "cell_type": "code",
   "execution_count": 52,
   "id": "9a8b683b",
   "metadata": {},
   "outputs": [
    {
     "data": {
      "image/png": "[encoded data removed]",
      "text/plain": [
       "<Figure size 432x288 with 1 Axes>"
      ]
     },
     "metadata": {
      "needs_background": "light"
     },
     "output_type": "display_data"
    }
   ],
   "source": [
    "accuracy_2030 = rayleigh.rvs(loc=accuracy_loc, scale=accuracy_scale, size=simulation_size, random_state=None) \n",
    "plt.hist(accuracy_2030, bins=30)\n",
    "\n",
    "plt.show()"
   ]
  },
  {
   "cell_type": "markdown",
   "id": "7906eb4d",
   "metadata": {},
   "source": [
    "The maximum, minimum, and mean values can be shown:"
   ]
  },
  {
   "cell_type": "code",
   "execution_count": 53,
   "id": "47306f14",
   "metadata": {},
   "outputs": [
    {
     "data": {
      "text/plain": [
       "(74.15619587538184, 52.170644461076186, 59.781148406175454)"
      ]
     },
     "execution_count": 53,
     "metadata": {},
     "output_type": "execute_result"
    }
   ],
   "source": [
    "accuracy_2030.max(), accuracy_2030.min(), accuracy_2030.mean()"
   ]
  },
  {
   "cell_type": "markdown",
   "id": "1070a9b3",
   "metadata": {},
   "source": [
    "### GIR Percentage"
   ]
  },
  {
   "cell_type": "markdown",
   "id": "8818d0c8",
   "metadata": {},
   "source": [
    "A similar process is used for GIR percentage. As previously determined, a normal distribution<sup id=\"a10\">[10](#f10)</sup> will be used and the loc and scale values were determined by Fitter:"
   ]
  },
  {
   "cell_type": "code",
   "execution_count": 54,
   "id": "19fd0c0e",
   "metadata": {},
   "outputs": [
    {
     "data": {
      "text/plain": [
       "{'norm': {'loc': 66.57350000000001, 'scale': 2.4367405996535614}}"
      ]
     },
     "execution_count": 54,
     "metadata": {},
     "output_type": "execute_result"
    }
   ],
   "source": [
    "gir_list"
   ]
  },
  {
   "cell_type": "code",
   "execution_count": 55,
   "id": "40f7f69c",
   "metadata": {},
   "outputs": [],
   "source": [
    "gir_loc=(66.57350000000001+mean_gir_increase)\n",
    "gir_scale=2.4367405996535614"
   ]
  },
  {
   "cell_type": "code",
   "execution_count": 56,
   "id": "b88e20f5",
   "metadata": {},
   "outputs": [
    {
     "data": {
      "image/png": "[encoded data removed]",
      "text/plain": [
       "<Figure size 432x288 with 1 Axes>"
      ]
     },
     "metadata": {
      "needs_background": "light"
     },
     "output_type": "display_data"
    }
   ],
   "source": [
    "gir_2030 = norm.rvs(loc=gir_loc, scale=gir_scale, size=simulation_size, random_state=None) \n",
    "plt.hist(gir_2030, bins=30)\n",
    "\n",
    "plt.show()"
   ]
  },
  {
   "cell_type": "markdown",
   "id": "1226b401",
   "metadata": {},
   "source": [
    "The maximum, minimum, and mean values can be shown:"
   ]
  },
  {
   "cell_type": "code",
   "execution_count": 57,
   "id": "0cc0d8dc",
   "metadata": {},
   "outputs": [
    {
     "data": {
      "text/plain": [
       "(76.42558734974455, 60.86989084218598, 67.38908556714833)"
      ]
     },
     "execution_count": 57,
     "metadata": {},
     "output_type": "execute_result"
    }
   ],
   "source": [
    "gir_2030.max(), gir_2030.min(), gir_2030.mean()"
   ]
  },
  {
   "cell_type": "markdown",
   "id": "8a059b9d",
   "metadata": {},
   "source": [
    "### Birdie Average"
   ]
  },
  {
   "cell_type": "markdown",
   "id": "fed4fa28",
   "metadata": {},
   "source": [
    "A similar process is used for birdie average. As previously determined, as with driving distance average, a lognormal distribution will be used with the s, loc, and scale values determined by Fitter:"
   ]
  },
  {
   "cell_type": "code",
   "execution_count": 58,
   "id": "da402938",
   "metadata": {},
   "outputs": [
    {
     "data": {
      "text/plain": [
       "{'lognorm': {'s': 0.021071276169458617,\n",
       "  'loc': -9.747395651590328,\n",
       "  'scale': 13.661062712682266}}"
      ]
     },
     "execution_count": 58,
     "metadata": {},
     "output_type": "execute_result"
    }
   ],
   "source": [
    "birdies_list"
   ]
  },
  {
   "cell_type": "code",
   "execution_count": 59,
   "id": "23bba708",
   "metadata": {},
   "outputs": [],
   "source": [
    "birdies_s=0.021071276169458617\n",
    "birdies_loc=(-9.747395651590328+mean_birdies_increase)\n",
    "birdies_scale=13.661062712682266"
   ]
  },
  {
   "cell_type": "code",
   "execution_count": 60,
   "id": "f14fd791",
   "metadata": {},
   "outputs": [
    {
     "data": {
      "image/png": "[encoded data removed]",
      "text/plain": [
       "<Figure size 432x288 with 1 Axes>"
      ]
     },
     "metadata": {
      "needs_background": "light"
     },
     "output_type": "display_data"
    }
   ],
   "source": [
    "birdies_2030 = lognorm.rvs(s=birdies_s, loc=birdies_loc, scale=birdies_scale, size=simulation_size) \n",
    "plt.hist(birdies_2030, bins=30)\n",
    "\n",
    "plt.show()"
   ]
  },
  {
   "cell_type": "markdown",
   "id": "e3efdcc3",
   "metadata": {},
   "source": [
    "## 8. Comparison of Simulated Data"
   ]
  },
  {
   "cell_type": "markdown",
   "id": "95950951",
   "metadata": {},
   "source": [
    "The last stage of the project is to compare the simulated data. To do this, the pairplot function within Seaborn is used. Seaborn is a Python data visualization library based on matplotlib which provides a high-level interface for drawing attractive and informative statistical graphics<sup id=\"a11\">[11](#f11)</sup>. The `pairplot()` function of seaborn helps in creating an axes grid through which each numeric variable present in data is shared across y-axes in the form of rows and across x-axes in form of a column. Scatter plots are created to show pairwise relationships and in the diagonal, the distribution plot is created to show the distribution of the data in the column<sup id=\"a12\">[12](#f12)</sup>. A pairplot allows for a visual comparison of the simulated data. In addition, regression lines can be added to the scatter plots within the pairplot to show trends in data. "
   ]
  },
  {
   "cell_type": "markdown",
   "id": "d1015a46",
   "metadata": {},
   "source": [
    "To allow a pairplot to be plotted the each set of 2030 data must be converted from an array to a pandas dataframe:"
   ]
  },
  {
   "cell_type": "code",
   "execution_count": 61,
   "id": "6c3e6f06",
   "metadata": {},
   "outputs": [],
   "source": [
    "df_distance_2030 = pd.DataFrame(distance_2030)\n",
    "df_accuracy_2030 = pd.DataFrame(accuracy_2030)\n",
    "df_gir_2030 = pd.DataFrame(gir_2030)\n",
    "df_birdies_2030 = pd.DataFrame(birdies_2030)"
   ]
  },
  {
   "cell_type": "markdown",
   "id": "3ed15811",
   "metadata": {},
   "source": [
    "For example:"
   ]
  },
  {
   "cell_type": "code",
   "execution_count": 62,
   "id": "5e6b5ecc",
   "metadata": {},
   "outputs": [
    {
     "data": {
      "text/html": [
       "<div>\n",
       "<style scoped>\n",
       "    .dataframe tbody tr th:only-of-type {\n",
       "        vertical-align: middle;\n",
       "    }\n",
       "\n",
       "    .dataframe tbody tr th {\n",
       "        vertical-align: top;\n",
       "    }\n",
       "\n",
       "    .dataframe thead th {\n",
       "        text-align: right;\n",
       "    }\n",
       "</style>\n",
       "<table border=\"1\" class=\"dataframe\">\n",
       "  <thead>\n",
       "    <tr style=\"text-align: right;\">\n",
       "      <th></th>\n",
       "      <th>0</th>\n",
       "    </tr>\n",
       "  </thead>\n",
       "  <tbody>\n",
       "    <tr>\n",
       "      <th>0</th>\n",
       "      <td>313.784285</td>\n",
       "    </tr>\n",
       "    <tr>\n",
       "      <th>1</th>\n",
       "      <td>307.881634</td>\n",
       "    </tr>\n",
       "    <tr>\n",
       "      <th>2</th>\n",
       "      <td>310.107878</td>\n",
       "    </tr>\n",
       "    <tr>\n",
       "      <th>3</th>\n",
       "      <td>311.300847</td>\n",
       "    </tr>\n",
       "    <tr>\n",
       "      <th>4</th>\n",
       "      <td>313.235756</td>\n",
       "    </tr>\n",
       "    <tr>\n",
       "      <th>...</th>\n",
       "      <td>...</td>\n",
       "    </tr>\n",
       "    <tr>\n",
       "      <th>245</th>\n",
       "      <td>299.312667</td>\n",
       "    </tr>\n",
       "    <tr>\n",
       "      <th>246</th>\n",
       "      <td>300.964129</td>\n",
       "    </tr>\n",
       "    <tr>\n",
       "      <th>247</th>\n",
       "      <td>310.850452</td>\n",
       "    </tr>\n",
       "    <tr>\n",
       "      <th>248</th>\n",
       "      <td>316.150618</td>\n",
       "    </tr>\n",
       "    <tr>\n",
       "      <th>249</th>\n",
       "      <td>316.365353</td>\n",
       "    </tr>\n",
       "  </tbody>\n",
       "</table>\n",
       "<p>250 rows × 1 columns</p>\n",
       "</div>"
      ],
      "text/plain": [
       "              0\n",
       "0    313.784285\n",
       "1    307.881634\n",
       "2    310.107878\n",
       "3    311.300847\n",
       "4    313.235756\n",
       "..          ...\n",
       "245  299.312667\n",
       "246  300.964129\n",
       "247  310.850452\n",
       "248  316.150618\n",
       "249  316.365353\n",
       "\n",
       "[250 rows x 1 columns]"
      ]
     },
     "execution_count": 62,
     "metadata": {},
     "output_type": "execute_result"
    }
   ],
   "source": [
    "df_distance_2030"
   ]
  },
  {
   "cell_type": "markdown",
   "id": "c588d39b",
   "metadata": {},
   "source": [
    "Next the four data frames must be merged into a single set of data using the pd.concat function<sup id=\"a13\">[13](#f13)</sup>:"
   ]
  },
  {
   "cell_type": "code",
   "execution_count": 63,
   "id": "6260bf57",
   "metadata": {},
   "outputs": [],
   "source": [
    "total_2030 = pd.concat([df_distance_2030, df_accuracy_2030, df_gir_2030, df_birdies_2030], axis=1) "
   ]
  },
  {
   "cell_type": "markdown",
   "id": "684baa2f",
   "metadata": {},
   "source": [
    "Next column headings are added:"
   ]
  },
  {
   "cell_type": "code",
   "execution_count": 64,
   "id": "f08fc225",
   "metadata": {},
   "outputs": [],
   "source": [
    "total_2030.columns = ['Driving distance (yds)', 'Driving accuracy (%)', 'GIR (%)', 'Birdie average']"
   ]
  },
  {
   "cell_type": "markdown",
   "id": "2de1d09b",
   "metadata": {},
   "source": [
    "This results in the following which can be used to plot the pairplot:"
   ]
  },
  {
   "cell_type": "code",
   "execution_count": 65,
   "id": "94398e25",
   "metadata": {},
   "outputs": [
    {
     "name": "stdout",
     "output_type": "stream",
     "text": [
      "     Driving distance (yds)  Driving accuracy (%)    GIR (%)  Birdie average\n",
      "0                313.784285             58.654920  67.898584        4.132805\n",
      "1                307.881634             55.742478  67.353071        3.898138\n",
      "2                310.107878             63.600200  61.386224        4.199065\n",
      "3                311.300847             55.911843  69.745878        4.424473\n",
      "4                313.235756             58.258391  66.575680        4.504287\n",
      "..                      ...                   ...        ...             ...\n",
      "245              299.312667             58.266542  65.492803        3.983999\n",
      "246              300.964129             59.541377  64.449490        4.348760\n",
      "247              310.850452             53.376021  70.615304        4.305569\n",
      "248              316.150618             58.654816  66.697213        3.819474\n",
      "249              316.365353             56.380953  63.338111        4.001132\n",
      "\n",
      "[250 rows x 4 columns]\n"
     ]
    }
   ],
   "source": [
    "print(total_2030)"
   ]
  },
  {
   "cell_type": "markdown",
   "id": "34bf38b4",
   "metadata": {},
   "source": [
    "The pairplot itself is the plotted with a regression line to help identify any trends in the data<sup id=\"a14\">[14](#f14)</sup> <sup id=\"a15\">[15](#f15)</sup> :"
   ]
  },
  {
   "cell_type": "code",
   "execution_count": 66,
   "id": "d6a21e98",
   "metadata": {},
   "outputs": [
    {
     "data": {
      "text/plain": [
       "<seaborn.axisgrid.PairGrid at 0x25ed15761f0>"
      ]
     },
     "execution_count": 66,
     "metadata": {},
     "output_type": "execute_result"
    },
    {
     "data": {
      "image/png": "[encoded data removed]",
      "text/plain": [
       "<Figure size 720x720 with 20 Axes>"
      ]
     },
     "metadata": {
      "needs_background": "light"
     },
     "output_type": "display_data"
    }
   ],
   "source": [
    "sns.pairplot(total_2030, kind=\"reg\", plot_kws={'line_kws':{'color':'red'}})"
   ]
  },
  {
   "cell_type": "markdown",
   "id": "7d69a34a",
   "metadata": {},
   "source": [
    "## 9. Conclusion, Learnings, and Points of Note"
   ]
  },
  {
   "cell_type": "markdown",
   "id": "3efae6b5",
   "metadata": {},
   "source": [
    "As previously discussed, the project makes a comparison of the four variables to:\n",
    "\n",
    "1. Model how driving distance affects accuracy\n",
    "2. Model how distance and accuracy affect the number of greens in regulation hit\n",
    "3. Model how distance and accuracy affect the number of birdies scored\n",
    "4. Model how the number of greens in regulation hit affects birdies\n",
    "\n",
    "However, as the simulated data is randomly generated and might change on each iteration of the notebook, it will not be discussed specifically; users of the notebook can make their own inferences from the results in Section 8. The sample size can be changed by the user, if they wish. "
   ]
  },
  {
   "cell_type": "markdown",
   "id": "2e311d0b",
   "metadata": {},
   "source": [
    "In completing this project, a number of learnings or points of note were identified:\n",
    "\n",
    "- A manual process was used to collect the PGA Tour data. This involved manually copying data from the PGA Tour website into MicroSoft Excel and saving as .csv files to import into DataFrames. It might have been possible to write a script to extract the data automatically. However, this was considered to be beyond the programming abilities of the author.\n",
    "\n",
    "\n",
    "- It is recognised that mistakes could have been made in the collection of data due to the manual process. For example, incorrectly copying stats over. However, it is considered that a small mumber of accidently errors would not result in wildly incorrect results due to the amount of data collected. \n",
    "\n",
    "\n",
    "- It was decided to use historical data for the years 1990, 2000, 2010, 2020, calculate the increase or decrease for each variable over each decade, find the mean increase, and apply this to generate the 2030 data. 1990 was selected as the starting year as, according to the Distance Insights Report (2020), technological and rule innovations beginning in the early 1990s led to the increase in driving distance. Choosing different years, or calculting the increase or decrease over a greater number of years might have provided different results for the 2030 data. \n",
    "\n",
    "\n",
    "- Similarly, data from the top 100 players by Fedex Cup 2021 ranking were used. Data from a greater number of players might have provided different results. \n",
    "\n",
    "\n",
    "- Statistical analysis could be conducted on the simulated data set, for example using `scipy.stats`. However, this was considered to be beyond the scope of this project. "
   ]
  },
  {
   "cell_type": "markdown",
   "id": "a04488be",
   "metadata": {},
   "source": [
    "## 10. References"
   ]
  },
  {
   "cell_type": "markdown",
   "id": "f8871c57",
   "metadata": {},
   "source": [
    "<b id=\"f1\">1</b> https://www.usga.org/content/dam/usga/pdf/2020/distance-insights/DIPR-FINAL-2020-usga.pdf [↩](#a1)\n",
    "\n",
    "<b id=\"f2\">2</b> https://www.pgatour.com/ [↩](#a2)\n",
    "\n",
    "<b id=\"f3\">3</b> https://www.pgatour.com/fedexcup.html [↩](#a3)\n",
    "\n",
    "<b id=\"f4\">4</b> https://fitter.readthedocs.io/en/latest/faqs.html#what-are-the-distributions-available [↩](#a4)\n",
    "\n",
    "<b id=\"f5\">5</b> https://medium.com/the-researchers-guide/finding-the-best-distribution-that-fits-your-data-using-pythons-fitter-library-319a5a0972e9 [↩](#a5)\n",
    "\n",
    "<b id=\"f6\">6</b> https://scipy.org/ [↩](#a6)\n",
    "\n",
    "<b id=\"f7\">7</b> https://docs.scipy.org/doc/scipy/reference/stats.html [↩](#a7)\n",
    "\n",
    "<b id=\"f8\">8</b> https://docs.scipy.org/doc/scipy/reference/generated/scipy.stats.lognorm.html#scipy.stats.lognorm [↩](#a8)\n",
    "\n",
    "<b id=\"f9\">9</b> https://docs.scipy.org/doc/scipy/reference/generated/scipy.stats.rayleigh.html [↩](#a9)\n",
    "\n",
    "<b id=\"f10\">10</b> https://docs.scipy.org/doc/scipy/reference/generated/scipy.stats.norm.html#scipy.stats.norm [↩](#a10)\n",
    "\n",
    "<b id=\"f11\">11</b> https://seaborn.pydata.org/ [↩](#a11)\n",
    "\n",
    "<b id=\"f12\">12</b> https://machinelearningknowledge.ai/seaborn-pairplot-tutorial-for-beginners/ [↩](#a12)\n",
    "\n",
    "<b id=\"f13\">13</b> https://pandas.pydata.org/pandas-docs/stable/user_guide/merging.html [↩](#a13)\n",
    "\n",
    "<b id=\"f14\">14</b> https://seaborn.pydata.org/generated/seaborn.pairplot.html [↩](#a14)\n",
    "\n",
    "<b id=\"f15\">15</b> https://stackoverflow.com/questions/50722972/change-the-regression-line-colour-of-seaborns-pairplot [↩](#a15)"
   ]
  }
 ],
 "metadata": {
  "kernelspec": {
   "display_name": "Python 3 (ipykernel)",
   "language": "python",
   "name": "python3"
  },
  "language_info": {
   "codemirror_mode": {
    "name": "ipython",
    "version": 3
   },
   "file_extension": ".py",
   "mimetype": "text/x-python",
   "name": "python",
   "nbconvert_exporter": "python",
   "pygments_lexer": "ipython3",
   "version": "3.8.11"
  }
 },
 "nbformat": 4,
 "nbformat_minor": 5
}
