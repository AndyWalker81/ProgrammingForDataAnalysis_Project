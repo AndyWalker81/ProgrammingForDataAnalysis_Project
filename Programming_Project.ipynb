{
 "cells": [
  {
   "cell_type": "markdown",
   "id": "ed1322c0",
   "metadata": {},
   "source": [
    "# Programming Project Title Here"
   ]
  },
  {
   "cell_type": "markdown",
   "id": "71d3f4b8",
   "metadata": {},
   "source": [
    "## Programming for Data Analysis Project "
   ]
  },
  {
   "cell_type": "markdown",
   "id": "4f790274",
   "metadata": {},
   "source": [
    "### Andrew Walker - G00398788@gmit.ie"
   ]
  },
  {
   "cell_type": "code",
   "execution_count": null,
   "id": "877cddd7",
   "metadata": {},
   "outputs": [],
   "source": []
  },
  {
   "cell_type": "markdown",
   "id": "ff610641",
   "metadata": {},
   "source": [
    "https://www.itl.nist.gov/div898/handbook/eda/section3/eda366.htm"
   ]
  },
  {
   "cell_type": "markdown",
   "id": "e482805e",
   "metadata": {},
   "source": [
    "https://www.usga.org/content/dam/usga/pdf/RSI/distance-insights-2021-docs/2020%20Distance%20Report%2026-01-2021.pdf\n",
    "\n",
    "https://www.usga.org/content/dam/usga/pdf/2020/distance-insights/DIPR-FINAL-2020-usga.pdf"
   ]
  },
  {
   "cell_type": "markdown",
   "id": "a8353d3a",
   "metadata": {},
   "source": [
    "https://www.pgatour.com/stats/stat.101.y2021.html"
   ]
  },
  {
   "cell_type": "markdown",
   "id": "8271c952",
   "metadata": {},
   "source": [
    "1990 (no major innovations between 1980 and 1990), 2000, 2010, 2020 - simulate data for 2030\n",
    "Driving distance avg \n",
    "Driving accuracy\n",
    "Scoring average (actual)\n",
    "GIR"
   ]
  },
  {
   "cell_type": "code",
   "execution_count": 186,
   "id": "512e5596",
   "metadata": {},
   "outputs": [],
   "source": [
    "# Regular expressions.\n",
    "import re\n",
    "\n",
    "# Convenient HTTP requests.\n",
    "import requests as rq\n",
    "\n",
    "# Dates and times\n",
    "import datetime as dt\n",
    "\n",
    "# Data frames\n",
    "import pandas as pd\n",
    "\n",
    "# FOr downloading\n",
    "import urllib.request as urlrq\n",
    "\n",
    "#numpy\n",
    "import numpy as np\n",
    "\n",
    "# pyplot\n",
    "import matplotlib.pyplot as plt\n",
    "\n",
    "# seaborn\n",
    "import seaborn as sns\n",
    "\n",
    "import math\n",
    "\n",
    "#insall fitter \n",
    "#https://pypi.org/project/fitter/\n",
    "\n",
    "from scipy import stats\n",
    "#https://stackoverflow.com/questions/16330831/most-efficient-way-to-find-mode-in-numpy-array\n",
    "    \n",
    "import scipy\n",
    "\n",
    "rng = np.random.default_rng()\n",
    "\n",
    "\n",
    "\n"
   ]
  },
  {
   "cell_type": "markdown",
   "id": "f8151926",
   "metadata": {},
   "source": [
    "### Driving distance\n",
    "\n",
    "https://www.pgatour.com/stats/stat.101.y2021.html"
   ]
  },
  {
   "cell_type": "code",
   "execution_count": 2,
   "id": "3853a3d5",
   "metadata": {},
   "outputs": [],
   "source": [
    "# Fetch the driving distance stats URL.\n",
    "#resp = rq.get('https://www.pgatour.com/stats/stat.101.y2021.html')\n",
    "# Have a look\n",
    "#resp\n",
    "\n"
   ]
  },
  {
   "cell_type": "code",
   "execution_count": 3,
   "id": "d5f0a813",
   "metadata": {},
   "outputs": [],
   "source": [
    "# get the current date and time\n",
    "#now = dt.datetime.now()\n",
    "\n",
    "# format as a string\n",
    "#nowstr = now.strftime('%Y%m%d_%H%M%S')"
   ]
  },
  {
   "cell_type": "code",
   "execution_count": 4,
   "id": "4bcaff20",
   "metadata": {},
   "outputs": [],
   "source": [
    "# Create a file path for the original data\n",
    "#path = 'data/driving_stats_csv_' + nowstr + '.html'\n",
    "\n",
    "#path"
   ]
  },
  {
   "cell_type": "code",
   "execution_count": 5,
   "id": "64fd74e9",
   "metadata": {},
   "outputs": [],
   "source": [
    "# Save the original html file\n",
    "#with open(path, 'w') as f:\n",
    " #   f.write(resp.text)\n",
    "\n"
   ]
  },
  {
   "cell_type": "code",
   "execution_count": 6,
   "id": "7e6b7411",
   "metadata": {},
   "outputs": [],
   "source": [
    "# Compile the regular expression for matching lines\n",
    "#re_course = re.compile(r'([A-Z]{2}[0-9]{3})(.*)')\n",
    "#re_rank = re.compile(r'([0-9]{3})(.*)')\n",
    "\n"
   ]
  },
  {
   "cell_type": "code",
   "execution_count": 7,
   "id": "c5784760",
   "metadata": {},
   "outputs": [],
   "source": [
    "#re_rank\n"
   ]
  },
  {
   "cell_type": "code",
   "execution_count": 8,
   "id": "cb5d5612",
   "metadata": {},
   "outputs": [],
   "source": [
    "\n",
    "\n",
    "# File path for the csv file\n",
    "#path = 'data/driving_stats_csv_' + nowstr + '.csv'\n",
    "\n"
   ]
  },
  {
   "cell_type": "code",
   "execution_count": 9,
   "id": "bbb49958",
   "metadata": {},
   "outputs": [],
   "source": [
    "#path"
   ]
  },
  {
   "cell_type": "code",
   "execution_count": 10,
   "id": "2ccb6bd9",
   "metadata": {},
   "outputs": [
    {
     "name": "stdout",
     "output_type": "stream",
     "text": [
      "    Fedex Rank 2021               Name  Driving distance (avg yds)  Driving accuracy (%)  Greens in Regulation (%)  Birdie average\n",
      "0                 1    Patrick Cantlay                       302.8                 60.71                     70.16            4.29\n",
      "1                 2           Jon Rahm                       309.0                 63.73                     71.93            4.51\n",
      "2                 3           Kevin Na                       288.5                 66.56                     64.11            4.00\n",
      "3                 4      Justin Thomas                       303.9                 55.72                     67.79            4.31\n",
      "4                 5     Viktor Hovland                       302.2                 63.86                     68.61            4.40\n",
      "5                 5  Xander Schauffele                       307.6                 58.83                     68.64            4.28\n",
      "6                 7  Bryson DeChambeau                       323.7                 54.18                     67.15            4.50\n",
      "7                 8     Dustin Johnson                       312.9                 57.87                     66.67            4.25\n",
      "8                 9     Billy Horschel                       294.7                 65.70                     66.47            3.69\n",
      "9                 9      Abraham Ancer                       290.4                 71.05                     69.27            4.20\n",
      "10               11      Daniel Berger                       296.7                 65.48                     70.50            4.23\n",
      "11               11         Tony Finau                       305.5                 56.29                     67.10            4.16\n",
      "12               11       Jason Kokrak                       307.9                 60.18                     69.19            4.28\n",
      "13               14       Rory McIlroy                       319.3                 57.36                     65.77            4.51\n",
      "14               14   Louis Oosthuizen                       297.8                 63.47                     67.64            3.86\n",
      "15               14      Sergio Garcia                       309.4                 61.18                     70.05            3.96\n",
      "16               14      Cameron Smith                       297.9                 59.23                     65.72            4.48\n",
      "17               18     Harris English                       299.4                 64.29                     65.76            4.26\n",
      "18               18          Sam Burns                       305.3                 58.90                     67.79            4.43\n",
      "19               20      Jordan Spieth                       299.5                 53.92                     64.58            4.30\n",
      "20               20         Sungjae Im                       297.1                 69.12                     69.08            4.08\n",
      "21               22      Corey Conners                       295.4                 70.15                     69.93            3.99\n",
      "22               22    Erik van Rooyen                       305.3                 61.12                     64.38            3.90\n",
      "23               22  Scottie Scheffler                       305.0                 63.49                     68.08            4.39\n",
      "24               25       Patrick Reed                       291.4                 63.21                     62.11            4.00\n",
      "25               26   Hideki Matsuyama                       299.9                 62.25                     67.03            4.06\n",
      "26               26       Stewart Cink                       306.6                 56.42                     69.44            3.93\n",
      "27               26    Collin Morikawa                       295.2                 69.60                     70.80            4.23\n",
      "28               29    Joaquin Niemann                       310.6                 59.20                     68.57            4.14\n",
      "29               30      Brooks Koepka                       310.7                 56.63                     68.01            4.21\n",
      "30               31            K H Lee                       298.4                 63.06                     64.26            3.64\n",
      "31               32    Charley Hoffman                       306.5                 57.11                     67.85            4.20\n",
      "32               33         Alex Noren                       297.9                 58.26                     63.21            3.76\n",
      "33               34         Si Woo Kim                       296.3                 62.71                     65.78            3.89\n",
      "34               35           Max Homa                       300.8                 58.44                     63.89            3.93\n",
      "35               36    Hudson Swafford                       303.1                 63.94                     67.89            3.83\n",
      "36               37          Cam Davis                       309.0                 56.11                     65.31            4.17\n",
      "37               38       Kevin Kisner                       289.1                 67.61                     64.96            3.72\n",
      "38               39     Keegan Bradley                       300.2                 65.03                     69.96            3.77\n",
      "39               40       Webb Simpson                       292.5                 67.08                     69.37            4.34\n",
      "40               41       Brian Harman                       291.7                 66.88                     64.33            3.91\n",
      "41               42      Marc Leishman                       293.8                 58.46                     65.72            3.55\n",
      "42               43   Cameron Tringale                       297.5                 61.17                     67.63            4.11\n",
      "43               44  Harold Varner III                       300.7                 59.87                     67.78            3.76\n",
      "44               45        Shane Lowry                       299.6                 59.91                     68.35            3.91\n",
      "45               46       Lucas Glover                       294.9                 64.05                     66.72            3.83\n",
      "46               47         Matt Jones                       304.0                 55.62                     65.74            3.68\n",
      "47               48       Carlos Ortiz                       303.0                 60.36                     67.03            3.89\n",
      "48               49         Aaron Wise                       300.6                 60.04                     70.35            4.11\n",
      "49               50       Lee Westwood                       294.1                 62.93                     64.78            3.48\n",
      "50               51   Charl Schwartzel                       303.0                 57.76                     66.86            3.64\n",
      "51               52         Paul Casey                       303.9                 62.20                     68.83            3.90\n",
      "52               53    Sebastian Munoz                       297.5                 62.96                     66.67            4.09\n",
      "53               54           Tom Hoge                       289.2                 63.70                     62.62            3.88\n",
      "54               55      Branden Grace                       293.8                 55.50                     64.47            3.78\n",
      "55               56     Russell Henley                       289.8                 67.07                     69.44            3.73\n",
      "56               57      Cameron Champ                       317.1                 58.86                     66.00            3.91\n",
      "57               58   Maverick McNealy                       298.7                 60.48                     66.52            3.99\n",
      "58               59    Emiliano Grillo                       298.2                 64.78                     71.47            4.10\n",
      "59               60       Robert Streb                       292.3                 58.33                     64.57            3.45\n",
      "60               61    Jhonattan Vegas                       312.1                 56.94                     68.81            4.07\n",
      "61               62         Chris Kirk                       291.9                 63.44                     68.35            3.72\n",
      "62               63     Patton Kizzire                       300.9                 58.03                     67.76            4.23\n",
      "63               64    Kevin Streelman                       295.6                 66.32                     69.21            3.97\n",
      "64               65     Keith Mitchell                       307.2                 56.50                     64.62            3.83\n",
      "65               66        Harry Higgs                       298.9                 57.26                     63.68            4.06\n",
      "66               67   Mackenzie Hughes                       293.5                 58.05                     64.44            3.66\n",
      "67               68        Talor Gooch                       299.1                 60.16                     65.80            3.80\n",
      "68               69        Ryan Palmer                       304.6                 59.98                     65.54            4.08\n",
      "69               70     Phil Mickelson                       301.8                 54.47                     62.99            3.72\n"
     ]
    }
   ],
   "source": [
    "df = pd.read_csv('data\\strokes_gained.csv')\n",
    "print(df.to_string()) "
   ]
  },
  {
   "cell_type": "code",
   "execution_count": 11,
   "id": "539f8d2d",
   "metadata": {},
   "outputs": [
    {
     "data": {
      "text/html": [
       "<div>\n",
       "<style scoped>\n",
       "    .dataframe tbody tr th:only-of-type {\n",
       "        vertical-align: middle;\n",
       "    }\n",
       "\n",
       "    .dataframe tbody tr th {\n",
       "        vertical-align: top;\n",
       "    }\n",
       "\n",
       "    .dataframe thead th {\n",
       "        text-align: right;\n",
       "    }\n",
       "</style>\n",
       "<table border=\"1\" class=\"dataframe\">\n",
       "  <thead>\n",
       "    <tr style=\"text-align: right;\">\n",
       "      <th></th>\n",
       "      <th>Fedex Rank 2021</th>\n",
       "      <th>Name</th>\n",
       "      <th>Driving distance (avg yds)</th>\n",
       "      <th>Driving accuracy (%)</th>\n",
       "      <th>Greens In Regulation (%)</th>\n",
       "      <th>Birdie average</th>\n",
       "    </tr>\n",
       "  </thead>\n",
       "  <tbody>\n",
       "    <tr>\n",
       "      <th>0</th>\n",
       "      <td>1</td>\n",
       "      <td>Patrick Cantlay</td>\n",
       "      <td>302.8</td>\n",
       "      <td>60.71</td>\n",
       "      <td>70.16</td>\n",
       "      <td>4.29</td>\n",
       "    </tr>\n",
       "    <tr>\n",
       "      <th>1</th>\n",
       "      <td>2</td>\n",
       "      <td>Jon Rahm</td>\n",
       "      <td>309.0</td>\n",
       "      <td>63.73</td>\n",
       "      <td>71.93</td>\n",
       "      <td>4.51</td>\n",
       "    </tr>\n",
       "    <tr>\n",
       "      <th>2</th>\n",
       "      <td>3</td>\n",
       "      <td>Kevin Na</td>\n",
       "      <td>288.5</td>\n",
       "      <td>66.56</td>\n",
       "      <td>64.11</td>\n",
       "      <td>4.00</td>\n",
       "    </tr>\n",
       "    <tr>\n",
       "      <th>3</th>\n",
       "      <td>4</td>\n",
       "      <td>Justin Thomas</td>\n",
       "      <td>303.9</td>\n",
       "      <td>55.72</td>\n",
       "      <td>67.79</td>\n",
       "      <td>4.31</td>\n",
       "    </tr>\n",
       "    <tr>\n",
       "      <th>4</th>\n",
       "      <td>5</td>\n",
       "      <td>Viktor Hovland</td>\n",
       "      <td>302.2</td>\n",
       "      <td>63.86</td>\n",
       "      <td>68.61</td>\n",
       "      <td>4.40</td>\n",
       "    </tr>\n",
       "    <tr>\n",
       "      <th>...</th>\n",
       "      <td>...</td>\n",
       "      <td>...</td>\n",
       "      <td>...</td>\n",
       "      <td>...</td>\n",
       "      <td>...</td>\n",
       "      <td>...</td>\n",
       "    </tr>\n",
       "    <tr>\n",
       "      <th>65</th>\n",
       "      <td>66</td>\n",
       "      <td>Harry Higgs</td>\n",
       "      <td>298.9</td>\n",
       "      <td>57.26</td>\n",
       "      <td>63.68</td>\n",
       "      <td>4.06</td>\n",
       "    </tr>\n",
       "    <tr>\n",
       "      <th>66</th>\n",
       "      <td>67</td>\n",
       "      <td>Mackenzie Hughes</td>\n",
       "      <td>293.5</td>\n",
       "      <td>58.05</td>\n",
       "      <td>64.44</td>\n",
       "      <td>3.66</td>\n",
       "    </tr>\n",
       "    <tr>\n",
       "      <th>67</th>\n",
       "      <td>68</td>\n",
       "      <td>Talor Gooch</td>\n",
       "      <td>299.1</td>\n",
       "      <td>60.16</td>\n",
       "      <td>65.80</td>\n",
       "      <td>3.80</td>\n",
       "    </tr>\n",
       "    <tr>\n",
       "      <th>68</th>\n",
       "      <td>69</td>\n",
       "      <td>Ryan Palmer</td>\n",
       "      <td>304.6</td>\n",
       "      <td>59.98</td>\n",
       "      <td>65.54</td>\n",
       "      <td>4.08</td>\n",
       "    </tr>\n",
       "    <tr>\n",
       "      <th>69</th>\n",
       "      <td>70</td>\n",
       "      <td>Phil Mickelson</td>\n",
       "      <td>301.8</td>\n",
       "      <td>54.47</td>\n",
       "      <td>62.99</td>\n",
       "      <td>3.72</td>\n",
       "    </tr>\n",
       "  </tbody>\n",
       "</table>\n",
       "<p>70 rows × 6 columns</p>\n",
       "</div>"
      ],
      "text/plain": [
       "    Fedex Rank 2021              Name  Driving distance (avg yds)  \\\n",
       "0                 1   Patrick Cantlay                       302.8   \n",
       "1                 2          Jon Rahm                       309.0   \n",
       "2                 3          Kevin Na                       288.5   \n",
       "3                 4     Justin Thomas                       303.9   \n",
       "4                 5    Viktor Hovland                       302.2   \n",
       "..              ...               ...                         ...   \n",
       "65               66       Harry Higgs                       298.9   \n",
       "66               67  Mackenzie Hughes                       293.5   \n",
       "67               68       Talor Gooch                       299.1   \n",
       "68               69       Ryan Palmer                       304.6   \n",
       "69               70    Phil Mickelson                       301.8   \n",
       "\n",
       "    Driving accuracy (%)  Greens In Regulation (%)  Birdie average  \n",
       "0                  60.71                     70.16            4.29  \n",
       "1                  63.73                     71.93            4.51  \n",
       "2                  66.56                     64.11            4.00  \n",
       "3                  55.72                     67.79            4.31  \n",
       "4                  63.86                     68.61            4.40  \n",
       "..                   ...                       ...             ...  \n",
       "65                 57.26                     63.68            4.06  \n",
       "66                 58.05                     64.44            3.66  \n",
       "67                 60.16                     65.80            3.80  \n",
       "68                 59.98                     65.54            4.08  \n",
       "69                 54.47                     62.99            3.72  \n",
       "\n",
       "[70 rows x 6 columns]"
      ]
     },
     "execution_count": 11,
     "metadata": {},
     "output_type": "execute_result"
    }
   ],
   "source": [
    "df_arr = df\n",
    "df_arr.columns = ['Fedex Rank 2021', 'Name', 'Driving distance (avg yds)','Driving accuracy (%)','Greens In Regulation (%)', 'Birdie average']\n",
    "#https://note.nkmk.me/en/python-pandas-t-transpose/\n",
    "df_arr"
   ]
  },
  {
   "cell_type": "code",
   "execution_count": 12,
   "id": "24a25b7b",
   "metadata": {},
   "outputs": [],
   "source": [
    "distance = df_arr.iloc[:,2]\n"
   ]
  },
  {
   "cell_type": "code",
   "execution_count": 13,
   "id": "b4ade534",
   "metadata": {},
   "outputs": [],
   "source": [
    "accuracy = df_arr.iloc[:,3]\n"
   ]
  },
  {
   "cell_type": "code",
   "execution_count": 49,
   "id": "2e65637d",
   "metadata": {},
   "outputs": [
    {
     "ename": "NameError",
     "evalue": "name 'accuracy_mean' is not defined",
     "output_type": "error",
     "traceback": [
      "\u001b[1;31m---------------------------------------------------------------------------\u001b[0m",
      "\u001b[1;31mNameError\u001b[0m                                 Traceback (most recent call last)",
      "\u001b[1;32m~\\AppData\\Local\\Temp/ipykernel_15208/2568800737.py\u001b[0m in \u001b[0;36m<module>\u001b[1;34m\u001b[0m\n\u001b[0;32m      2\u001b[0m \u001b[1;31m#https://stackoverflow.com/questions/16330831/most-efficient-way-to-find-mode-in-numpy-array\u001b[0m\u001b[1;33m\u001b[0m\u001b[1;33m\u001b[0m\u001b[1;33m\u001b[0m\u001b[0m\n\u001b[0;32m      3\u001b[0m \u001b[0maccurary_mean\u001b[0m \u001b[1;33m=\u001b[0m \u001b[0maccuracy\u001b[0m\u001b[1;33m.\u001b[0m\u001b[0mmean\u001b[0m\u001b[1;33m(\u001b[0m\u001b[1;33m)\u001b[0m\u001b[1;33m\u001b[0m\u001b[1;33m\u001b[0m\u001b[0m\n\u001b[1;32m----> 4\u001b[1;33m \u001b[0mprint\u001b[0m\u001b[1;33m(\u001b[0m\u001b[0maccuracy_mean\u001b[0m\u001b[1;33m)\u001b[0m\u001b[1;33m\u001b[0m\u001b[1;33m\u001b[0m\u001b[0m\n\u001b[0m",
      "\u001b[1;31mNameError\u001b[0m: name 'accuracy_mean' is not defined"
     ]
    }
   ],
   "source": [
    "accuracy_mode = stats.mode(accuracy)\n",
    "#https://stackoverflow.com/questions/16330831/most-efficient-way-to-find-mode-in-numpy-array\n"
   ]
  },
  {
   "cell_type": "code",
   "execution_count": 50,
   "id": "848e2839",
   "metadata": {},
   "outputs": [
    {
     "name": "stdout",
     "output_type": "stream",
     "text": [
      "61.15900000000001\n"
     ]
    }
   ],
   "source": [
    "accuracy_mean = accuracy.mean()\n",
    "print(accuracy_mean)"
   ]
  },
  {
   "cell_type": "code",
   "execution_count": 15,
   "id": "46ceceee",
   "metadata": {},
   "outputs": [],
   "source": [
    "gir = df_arr.iloc[:,4]\n"
   ]
  },
  {
   "cell_type": "code",
   "execution_count": 16,
   "id": "f2702b95",
   "metadata": {},
   "outputs": [],
   "source": [
    "birdies = df_arr.iloc[:,5]\n"
   ]
  },
  {
   "cell_type": "code",
   "execution_count": 17,
   "id": "2a81f1cf",
   "metadata": {},
   "outputs": [
    {
     "data": {
      "text/plain": [
       "array([[[302.8 , 309.  , 288.5 , 303.9 , 302.2 , 307.6 , 323.7 , 312.9 ,\n",
       "         294.7 , 290.4 , 296.7 , 305.5 , 307.9 , 319.3 , 297.8 , 309.4 ,\n",
       "         297.9 , 299.4 , 305.3 , 299.5 , 297.1 , 295.4 , 305.3 , 305.  ,\n",
       "         291.4 , 299.9 , 306.6 , 295.2 , 310.6 , 310.7 , 298.4 , 306.5 ,\n",
       "         297.9 , 296.3 , 300.8 , 303.1 , 309.  , 289.1 , 300.2 , 292.5 ,\n",
       "         291.7 , 293.8 , 297.5 , 300.7 , 299.6 , 294.9 , 304.  , 303.  ,\n",
       "         300.6 , 294.1 , 303.  , 303.9 , 297.5 , 289.2 , 293.8 , 289.8 ,\n",
       "         317.1 , 298.7 , 298.2 , 292.3 , 312.1 , 291.9 , 300.9 , 295.6 ,\n",
       "         307.2 , 298.9 , 293.5 , 299.1 , 304.6 , 301.8 ]],\n",
       "\n",
       "       [[ 60.71,  63.73,  66.56,  55.72,  63.86,  58.83,  54.18,  57.87,\n",
       "          65.7 ,  71.05,  65.48,  56.29,  60.18,  57.36,  63.47,  61.18,\n",
       "          59.23,  64.29,  58.9 ,  53.92,  69.12,  70.15,  61.12,  63.49,\n",
       "          63.21,  62.25,  56.42,  69.6 ,  59.2 ,  56.63,  63.06,  57.11,\n",
       "          58.26,  62.71,  58.44,  63.94,  56.11,  67.61,  65.03,  67.08,\n",
       "          66.88,  58.46,  61.17,  59.87,  59.91,  64.05,  55.62,  60.36,\n",
       "          60.04,  62.93,  57.76,  62.2 ,  62.96,  63.7 ,  55.5 ,  67.07,\n",
       "          58.86,  60.48,  64.78,  58.33,  56.94,  63.44,  58.03,  66.32,\n",
       "          56.5 ,  57.26,  58.05,  60.16,  59.98,  54.47]],\n",
       "\n",
       "       [[ 70.16,  71.93,  64.11,  67.79,  68.61,  68.64,  67.15,  66.67,\n",
       "          66.47,  69.27,  70.5 ,  67.1 ,  69.19,  65.77,  67.64,  70.05,\n",
       "          65.72,  65.76,  67.79,  64.58,  69.08,  69.93,  64.38,  68.08,\n",
       "          62.11,  67.03,  69.44,  70.8 ,  68.57,  68.01,  64.26,  67.85,\n",
       "          63.21,  65.78,  63.89,  67.89,  65.31,  64.96,  69.96,  69.37,\n",
       "          64.33,  65.72,  67.63,  67.78,  68.35,  66.72,  65.74,  67.03,\n",
       "          70.35,  64.78,  66.86,  68.83,  66.67,  62.62,  64.47,  69.44,\n",
       "          66.  ,  66.52,  71.47,  64.57,  68.81,  68.35,  67.76,  69.21,\n",
       "          64.62,  63.68,  64.44,  65.8 ,  65.54,  62.99]],\n",
       "\n",
       "       [[  4.29,   4.51,   4.  ,   4.31,   4.4 ,   4.28,   4.5 ,   4.25,\n",
       "           3.69,   4.2 ,   4.23,   4.16,   4.28,   4.51,   3.86,   3.96,\n",
       "           4.48,   4.26,   4.43,   4.3 ,   4.08,   3.99,   3.9 ,   4.39,\n",
       "           4.  ,   4.06,   3.93,   4.23,   4.14,   4.21,   3.64,   4.2 ,\n",
       "           3.76,   3.89,   3.93,   3.83,   4.17,   3.72,   3.77,   4.34,\n",
       "           3.91,   3.55,   4.11,   3.76,   3.91,   3.83,   3.68,   3.89,\n",
       "           4.11,   3.48,   3.64,   3.9 ,   4.09,   3.88,   3.78,   3.73,\n",
       "           3.91,   3.99,   4.1 ,   3.45,   4.07,   3.72,   4.23,   3.97,\n",
       "           3.83,   4.06,   3.66,   3.8 ,   4.08,   3.72]]])"
      ]
     },
     "execution_count": 17,
     "metadata": {},
     "output_type": "execute_result"
    }
   ],
   "source": [
    "my_array = np.array([[distance],[accuracy],[gir],[birdies]])               \n",
    "my_array"
   ]
  },
  {
   "cell_type": "code",
   "execution_count": 18,
   "id": "c687399f",
   "metadata": {},
   "outputs": [
    {
     "name": "stdout",
     "output_type": "stream",
     "text": [
      "       0       1       2       3       4       5       6       7       8   \\\n",
      "0  302.80  309.00  288.50  303.90  302.20  307.60  323.70  312.90  294.70   \n",
      "1   60.71   63.73   66.56   55.72   63.86   58.83   54.18   57.87   65.70   \n",
      "2   70.16   71.93   64.11   67.79   68.61   68.64   67.15   66.67   66.47   \n",
      "3    4.29    4.51    4.00    4.31    4.40    4.28    4.50    4.25    3.69   \n",
      "\n",
      "       9   ...      60      61      62      63      64      65      66  \\\n",
      "0  290.40  ...  312.10  291.90  300.90  295.60  307.20  298.90  293.50   \n",
      "1   71.05  ...   56.94   63.44   58.03   66.32   56.50   57.26   58.05   \n",
      "2   69.27  ...   68.81   68.35   67.76   69.21   64.62   63.68   64.44   \n",
      "3    4.20  ...    4.07    3.72    4.23    3.97    3.83    4.06    3.66   \n",
      "\n",
      "       67      68      69  \n",
      "0  299.10  304.60  301.80  \n",
      "1   60.16   59.98   54.47  \n",
      "2   65.80   65.54   62.99  \n",
      "3    3.80    4.08    3.72  \n",
      "\n",
      "[4 rows x 70 columns]\n",
      "<class 'pandas.core.frame.DataFrame'>\n"
     ]
    }
   ],
   "source": [
    "df = pd.DataFrame(np.concatenate(my_array))\n",
    "print(df)\n",
    "print(type(df))"
   ]
  },
  {
   "cell_type": "code",
   "execution_count": 19,
   "id": "5d1d934c",
   "metadata": {},
   "outputs": [],
   "source": [
    "df_t = df.T\n",
    "df_t.columns = ['Driving distance (avg yds)','Driving accuracy (%)','Greens In Regulation (%)', 'Birdie average']\n",
    "#https://note.nkmk.me/en/python-pandas-t-transpose/"
   ]
  },
  {
   "cell_type": "code",
   "execution_count": 20,
   "id": "69f40e05",
   "metadata": {},
   "outputs": [
    {
     "data": {
      "text/html": [
       "<div>\n",
       "<style scoped>\n",
       "    .dataframe tbody tr th:only-of-type {\n",
       "        vertical-align: middle;\n",
       "    }\n",
       "\n",
       "    .dataframe tbody tr th {\n",
       "        vertical-align: top;\n",
       "    }\n",
       "\n",
       "    .dataframe thead th {\n",
       "        text-align: right;\n",
       "    }\n",
       "</style>\n",
       "<table border=\"1\" class=\"dataframe\">\n",
       "  <thead>\n",
       "    <tr style=\"text-align: right;\">\n",
       "      <th></th>\n",
       "      <th>Driving distance (avg yds)</th>\n",
       "      <th>Driving accuracy (%)</th>\n",
       "      <th>Greens In Regulation (%)</th>\n",
       "      <th>Birdie average</th>\n",
       "    </tr>\n",
       "  </thead>\n",
       "  <tbody>\n",
       "    <tr>\n",
       "      <th>0</th>\n",
       "      <td>302.8</td>\n",
       "      <td>60.71</td>\n",
       "      <td>70.16</td>\n",
       "      <td>4.29</td>\n",
       "    </tr>\n",
       "    <tr>\n",
       "      <th>1</th>\n",
       "      <td>309.0</td>\n",
       "      <td>63.73</td>\n",
       "      <td>71.93</td>\n",
       "      <td>4.51</td>\n",
       "    </tr>\n",
       "    <tr>\n",
       "      <th>2</th>\n",
       "      <td>288.5</td>\n",
       "      <td>66.56</td>\n",
       "      <td>64.11</td>\n",
       "      <td>4.00</td>\n",
       "    </tr>\n",
       "    <tr>\n",
       "      <th>3</th>\n",
       "      <td>303.9</td>\n",
       "      <td>55.72</td>\n",
       "      <td>67.79</td>\n",
       "      <td>4.31</td>\n",
       "    </tr>\n",
       "    <tr>\n",
       "      <th>4</th>\n",
       "      <td>302.2</td>\n",
       "      <td>63.86</td>\n",
       "      <td>68.61</td>\n",
       "      <td>4.40</td>\n",
       "    </tr>\n",
       "  </tbody>\n",
       "</table>\n",
       "</div>"
      ],
      "text/plain": [
       "   Driving distance (avg yds)  Driving accuracy (%)  Greens In Regulation (%)  \\\n",
       "0                       302.8                 60.71                     70.16   \n",
       "1                       309.0                 63.73                     71.93   \n",
       "2                       288.5                 66.56                     64.11   \n",
       "3                       303.9                 55.72                     67.79   \n",
       "4                       302.2                 63.86                     68.61   \n",
       "\n",
       "   Birdie average  \n",
       "0            4.29  \n",
       "1            4.51  \n",
       "2            4.00  \n",
       "3            4.31  \n",
       "4            4.40  "
      ]
     },
     "execution_count": 20,
     "metadata": {},
     "output_type": "execute_result"
    }
   ],
   "source": [
    "df_t.head()"
   ]
  },
  {
   "cell_type": "code",
   "execution_count": 21,
   "id": "acd952b1",
   "metadata": {},
   "outputs": [
    {
     "data": {
      "text/plain": [
       "<seaborn.axisgrid.PairGrid at 0x25fa797a790>"
      ]
     },
     "execution_count": 21,
     "metadata": {},
     "output_type": "execute_result"
    },
    {
     "data": {
      "image/png": "[encoded data removed]",
      "text/plain": [
       "<Figure size 720x720 with 20 Axes>"
      ]
     },
     "metadata": {
      "needs_background": "light"
     },
     "output_type": "display_data"
    }
   ],
   "source": [
    "sns.pairplot(df_t, kind=\"reg\", plot_kws={'line_kws':{'color':'red'}})"
   ]
  },
  {
   "cell_type": "code",
   "execution_count": null,
   "id": "070b1857",
   "metadata": {},
   "outputs": [],
   "source": []
  },
  {
   "cell_type": "code",
   "execution_count": 22,
   "id": "152a204c",
   "metadata": {},
   "outputs": [],
   "source": [
    "#from scipy import stats\n",
    "#data = stats.gamma.rvs(2, loc=1.5, scale=2, size=10000)\n",
    "#print(data)"
   ]
  },
  {
   "cell_type": "code",
   "execution_count": 23,
   "id": "80352822",
   "metadata": {},
   "outputs": [],
   "source": [
    "fitdistance = np.array([distance])\n"
   ]
  },
  {
   "cell_type": "code",
   "execution_count": 24,
   "id": "e0e38a0b",
   "metadata": {},
   "outputs": [
    {
     "data": {
      "text/html": [
       "<div>\n",
       "<style scoped>\n",
       "    .dataframe tbody tr th:only-of-type {\n",
       "        vertical-align: middle;\n",
       "    }\n",
       "\n",
       "    .dataframe tbody tr th {\n",
       "        vertical-align: top;\n",
       "    }\n",
       "\n",
       "    .dataframe thead th {\n",
       "        text-align: right;\n",
       "    }\n",
       "</style>\n",
       "<table border=\"1\" class=\"dataframe\">\n",
       "  <thead>\n",
       "    <tr style=\"text-align: right;\">\n",
       "      <th></th>\n",
       "      <th>sumsquare_error</th>\n",
       "      <th>aic</th>\n",
       "      <th>bic</th>\n",
       "      <th>kl_div</th>\n",
       "    </tr>\n",
       "  </thead>\n",
       "  <tbody>\n",
       "    <tr>\n",
       "      <th>rayleigh</th>\n",
       "      <td>0.076304</td>\n",
       "      <td>802.487333</td>\n",
       "      <td>-469.010063</td>\n",
       "      <td>inf</td>\n",
       "    </tr>\n",
       "    <tr>\n",
       "      <th>lognorm</th>\n",
       "      <td>0.076425</td>\n",
       "      <td>808.376383</td>\n",
       "      <td>-464.650214</td>\n",
       "      <td>inf</td>\n",
       "    </tr>\n",
       "    <tr>\n",
       "      <th>chi2</th>\n",
       "      <td>0.076710</td>\n",
       "      <td>804.649877</td>\n",
       "      <td>-464.390080</td>\n",
       "      <td>inf</td>\n",
       "    </tr>\n",
       "    <tr>\n",
       "      <th>gamma</th>\n",
       "      <td>0.076710</td>\n",
       "      <td>804.649903</td>\n",
       "      <td>-464.390052</td>\n",
       "      <td>inf</td>\n",
       "    </tr>\n",
       "    <tr>\n",
       "      <th>norm</th>\n",
       "      <td>0.077290</td>\n",
       "      <td>834.041254</td>\n",
       "      <td>-468.111445</td>\n",
       "      <td>inf</td>\n",
       "    </tr>\n",
       "  </tbody>\n",
       "</table>\n",
       "</div>"
      ],
      "text/plain": [
       "          sumsquare_error         aic         bic  kl_div\n",
       "rayleigh         0.076304  802.487333 -469.010063     inf\n",
       "lognorm          0.076425  808.376383 -464.650214     inf\n",
       "chi2             0.076710  804.649877 -464.390080     inf\n",
       "gamma            0.076710  804.649903 -464.390052     inf\n",
       "norm             0.077290  834.041254 -468.111445     inf"
      ]
     },
     "execution_count": 24,
     "metadata": {},
     "output_type": "execute_result"
    },
    {
     "data": {
      "image/png": "[encoded data removed]",
      "text/plain": [
       "<Figure size 432x288 with 1 Axes>"
      ]
     },
     "metadata": {
      "needs_background": "light"
     },
     "output_type": "display_data"
    }
   ],
   "source": [
    "#https://medium.com/the-researchers-guide/finding-the-best-distribution-that-fits-your-data-using-pythons-fitter-library-319a5a0972e9\n",
    "#https://pypi.org/project/fitter/\n",
    "#https://fitter.readthedocs.io/en/latest/faqs.html#what-are-the-distributions-available\n",
    "from fitter import get_common_distributions\n",
    "get_common_distributions()\n",
    "from fitter import Fitter\n",
    "f = Fitter(fitdistance, distributions=['cauchy',\n",
    " 'chi2',\n",
    " 'expon',\n",
    " 'exponpow',\n",
    " 'gamma',\n",
    " 'lognorm',\n",
    " 'norm',\n",
    " 'powerlaw',\n",
    " 'rayleigh',\n",
    " 'uniform'])\n",
    "f.fit()\n",
    "# may take some time since by default, all distributions are tried\n",
    "# but you call manually provide a smaller set of distributions\n",
    "f.summary()"
   ]
  },
  {
   "cell_type": "code",
   "execution_count": 25,
   "id": "8fe4de00",
   "metadata": {},
   "outputs": [
    {
     "data": {
      "text/plain": [
       "{'rayleigh': {'loc': 287.0868186050609, 'scale': 10.95631973450922}}"
      ]
     },
     "execution_count": 25,
     "metadata": {},
     "output_type": "execute_result"
    }
   ],
   "source": [
    "f.get_best(method = 'sumsquare_error')"
   ]
  },
  {
   "cell_type": "code",
   "execution_count": 26,
   "id": "3186699c",
   "metadata": {},
   "outputs": [],
   "source": [
    "fitaccuracy = np.array([accuracy])"
   ]
  },
  {
   "cell_type": "code",
   "execution_count": 203,
   "id": "7e54587e",
   "metadata": {},
   "outputs": [
    {
     "data": {
      "text/html": [
       "<div>\n",
       "<style scoped>\n",
       "    .dataframe tbody tr th:only-of-type {\n",
       "        vertical-align: middle;\n",
       "    }\n",
       "\n",
       "    .dataframe tbody tr th {\n",
       "        vertical-align: top;\n",
       "    }\n",
       "\n",
       "    .dataframe thead th {\n",
       "        text-align: right;\n",
       "    }\n",
       "</style>\n",
       "<table border=\"1\" class=\"dataframe\">\n",
       "  <thead>\n",
       "    <tr style=\"text-align: right;\">\n",
       "      <th></th>\n",
       "      <th>sumsquare_error</th>\n",
       "      <th>aic</th>\n",
       "      <th>bic</th>\n",
       "      <th>kl_div</th>\n",
       "    </tr>\n",
       "  </thead>\n",
       "  <tbody>\n",
       "    <tr>\n",
       "      <th>rayleigh</th>\n",
       "      <td>0.384582</td>\n",
       "      <td>614.939666</td>\n",
       "      <td>-355.789501</td>\n",
       "      <td>inf</td>\n",
       "    </tr>\n",
       "    <tr>\n",
       "      <th>gamma</th>\n",
       "      <td>0.387884</td>\n",
       "      <td>623.417573</td>\n",
       "      <td>-350.942581</td>\n",
       "      <td>inf</td>\n",
       "    </tr>\n",
       "    <tr>\n",
       "      <th>chi2</th>\n",
       "      <td>0.387884</td>\n",
       "      <td>623.417593</td>\n",
       "      <td>-350.942575</td>\n",
       "      <td>inf</td>\n",
       "    </tr>\n",
       "    <tr>\n",
       "      <th>lognorm</th>\n",
       "      <td>0.390107</td>\n",
       "      <td>625.445273</td>\n",
       "      <td>-350.542650</td>\n",
       "      <td>inf</td>\n",
       "    </tr>\n",
       "    <tr>\n",
       "      <th>norm</th>\n",
       "      <td>0.398054</td>\n",
       "      <td>625.591947</td>\n",
       "      <td>-353.379363</td>\n",
       "      <td>inf</td>\n",
       "    </tr>\n",
       "  </tbody>\n",
       "</table>\n",
       "</div>"
      ],
      "text/plain": [
       "          sumsquare_error         aic         bic  kl_div\n",
       "rayleigh         0.384582  614.939666 -355.789501     inf\n",
       "gamma            0.387884  623.417573 -350.942581     inf\n",
       "chi2             0.387884  623.417593 -350.942575     inf\n",
       "lognorm          0.390107  625.445273 -350.542650     inf\n",
       "norm             0.398054  625.591947 -353.379363     inf"
      ]
     },
     "execution_count": 203,
     "metadata": {},
     "output_type": "execute_result"
    },
    {
     "data": {
      "image/png": "[encoded data removed]",
      "text/plain": [
       "<Figure size 432x288 with 1 Axes>"
      ]
     },
     "metadata": {
      "needs_background": "light"
     },
     "output_type": "display_data"
    }
   ],
   "source": [
    "f = Fitter(fitaccuracy, distributions=['cauchy',\n",
    " 'chi2',\n",
    " 'expon',\n",
    " 'exponpow',\n",
    " 'gamma',\n",
    " 'lognorm',\n",
    " 'norm',\n",
    " 'powerlaw',\n",
    " 'rayleigh',\n",
    " 'uniform'])\n",
    "f.fit()\n",
    "# may take some time since by default, all distributions are tried\n",
    "# but you call manually provide a smaller set of distributions\n",
    "f.summary()"
   ]
  },
  {
   "cell_type": "code",
   "execution_count": 206,
   "id": "f20b7d4b",
   "metadata": {},
   "outputs": [
    {
     "data": {
      "text/plain": [
       "{'rayleigh': {'loc': 53.22409512121668, 'scale': 6.319240523124456}}"
      ]
     },
     "execution_count": 206,
     "metadata": {},
     "output_type": "execute_result"
    }
   ],
   "source": [
    "al = f.get_best(method = 'sumsquare_error')\n",
    "al\n"
   ]
  },
  {
   "cell_type": "code",
   "execution_count": 29,
   "id": "ce41c540",
   "metadata": {},
   "outputs": [],
   "source": [
    "fitgir = np.array([gir])"
   ]
  },
  {
   "cell_type": "code",
   "execution_count": 30,
   "id": "a7074f48",
   "metadata": {},
   "outputs": [
    {
     "data": {
      "text/html": [
       "<div>\n",
       "<style scoped>\n",
       "    .dataframe tbody tr th:only-of-type {\n",
       "        vertical-align: middle;\n",
       "    }\n",
       "\n",
       "    .dataframe tbody tr th {\n",
       "        vertical-align: top;\n",
       "    }\n",
       "\n",
       "    .dataframe thead th {\n",
       "        text-align: right;\n",
       "    }\n",
       "</style>\n",
       "<table border=\"1\" class=\"dataframe\">\n",
       "  <thead>\n",
       "    <tr style=\"text-align: right;\">\n",
       "      <th></th>\n",
       "      <th>sumsquare_error</th>\n",
       "      <th>aic</th>\n",
       "      <th>bic</th>\n",
       "      <th>kl_div</th>\n",
       "    </tr>\n",
       "  </thead>\n",
       "  <tbody>\n",
       "    <tr>\n",
       "      <th>norm</th>\n",
       "      <td>1.866739</td>\n",
       "      <td>507.530775</td>\n",
       "      <td>-245.204158</td>\n",
       "      <td>inf</td>\n",
       "    </tr>\n",
       "    <tr>\n",
       "      <th>gamma</th>\n",
       "      <td>1.867797</td>\n",
       "      <td>509.501022</td>\n",
       "      <td>-240.916015</td>\n",
       "      <td>inf</td>\n",
       "    </tr>\n",
       "    <tr>\n",
       "      <th>lognorm</th>\n",
       "      <td>1.868230</td>\n",
       "      <td>509.758946</td>\n",
       "      <td>-240.899774</td>\n",
       "      <td>inf</td>\n",
       "    </tr>\n",
       "    <tr>\n",
       "      <th>chi2</th>\n",
       "      <td>1.871748</td>\n",
       "      <td>508.962167</td>\n",
       "      <td>-240.768082</td>\n",
       "      <td>inf</td>\n",
       "    </tr>\n",
       "    <tr>\n",
       "      <th>rayleigh</th>\n",
       "      <td>1.892518</td>\n",
       "      <td>495.351471</td>\n",
       "      <td>-244.244098</td>\n",
       "      <td>inf</td>\n",
       "    </tr>\n",
       "  </tbody>\n",
       "</table>\n",
       "</div>"
      ],
      "text/plain": [
       "          sumsquare_error         aic         bic  kl_div\n",
       "norm             1.866739  507.530775 -245.204158     inf\n",
       "gamma            1.867797  509.501022 -240.916015     inf\n",
       "lognorm          1.868230  509.758946 -240.899774     inf\n",
       "chi2             1.871748  508.962167 -240.768082     inf\n",
       "rayleigh         1.892518  495.351471 -244.244098     inf"
      ]
     },
     "execution_count": 30,
     "metadata": {},
     "output_type": "execute_result"
    },
    {
     "data": {
      "image/png": "[encoded data removed]",
      "text/plain": [
       "<Figure size 432x288 with 1 Axes>"
      ]
     },
     "metadata": {
      "needs_background": "light"
     },
     "output_type": "display_data"
    }
   ],
   "source": [
    "f = Fitter(fitgir, distributions=['cauchy',\n",
    " 'chi2',\n",
    " 'expon',\n",
    " 'exponpow',\n",
    " 'gamma',\n",
    " 'lognorm',\n",
    " 'norm',\n",
    " 'powerlaw',\n",
    " 'rayleigh',\n",
    " 'uniform'])\n",
    "f.fit()\n",
    "# may take some time since by default, all distributions are tried\n",
    "# but you call manually provide a smaller set of distributions\n",
    "f.summary()"
   ]
  },
  {
   "cell_type": "code",
   "execution_count": 31,
   "id": "96a06dbf",
   "metadata": {},
   "outputs": [],
   "source": [
    "fitbirdies = np.array([birdies])"
   ]
  },
  {
   "cell_type": "code",
   "execution_count": 32,
   "id": "ade58bd8",
   "metadata": {},
   "outputs": [
    {
     "data": {
      "text/html": [
       "<div>\n",
       "<style scoped>\n",
       "    .dataframe tbody tr th:only-of-type {\n",
       "        vertical-align: middle;\n",
       "    }\n",
       "\n",
       "    .dataframe tbody tr th {\n",
       "        vertical-align: top;\n",
       "    }\n",
       "\n",
       "    .dataframe thead th {\n",
       "        text-align: right;\n",
       "    }\n",
       "</style>\n",
       "<table border=\"1\" class=\"dataframe\">\n",
       "  <thead>\n",
       "    <tr style=\"text-align: right;\">\n",
       "      <th></th>\n",
       "      <th>sumsquare_error</th>\n",
       "      <th>aic</th>\n",
       "      <th>bic</th>\n",
       "      <th>kl_div</th>\n",
       "    </tr>\n",
       "  </thead>\n",
       "  <tbody>\n",
       "    <tr>\n",
       "      <th>exponpow</th>\n",
       "      <td>127.606059</td>\n",
       "      <td>44.354190</td>\n",
       "      <td>54.777168</td>\n",
       "      <td>inf</td>\n",
       "    </tr>\n",
       "    <tr>\n",
       "      <th>lognorm</th>\n",
       "      <td>128.573756</td>\n",
       "      <td>61.100260</td>\n",
       "      <td>55.306009</td>\n",
       "      <td>inf</td>\n",
       "    </tr>\n",
       "    <tr>\n",
       "      <th>gamma</th>\n",
       "      <td>128.621001</td>\n",
       "      <td>60.961213</td>\n",
       "      <td>55.331726</td>\n",
       "      <td>inf</td>\n",
       "    </tr>\n",
       "    <tr>\n",
       "      <th>norm</th>\n",
       "      <td>128.671788</td>\n",
       "      <td>58.793928</td>\n",
       "      <td>51.110866</td>\n",
       "      <td>inf</td>\n",
       "    </tr>\n",
       "    <tr>\n",
       "      <th>rayleigh</th>\n",
       "      <td>129.067693</td>\n",
       "      <td>inf</td>\n",
       "      <td>51.325915</td>\n",
       "      <td>inf</td>\n",
       "    </tr>\n",
       "  </tbody>\n",
       "</table>\n",
       "</div>"
      ],
      "text/plain": [
       "          sumsquare_error        aic        bic  kl_div\n",
       "exponpow       127.606059  44.354190  54.777168     inf\n",
       "lognorm        128.573756  61.100260  55.306009     inf\n",
       "gamma          128.621001  60.961213  55.331726     inf\n",
       "norm           128.671788  58.793928  51.110866     inf\n",
       "rayleigh       129.067693        inf  51.325915     inf"
      ]
     },
     "execution_count": 32,
     "metadata": {},
     "output_type": "execute_result"
    },
    {
     "data": {
      "image/png": "[encoded data removed]",
      "text/plain": [
       "<Figure size 432x288 with 1 Axes>"
      ]
     },
     "metadata": {
      "needs_background": "light"
     },
     "output_type": "display_data"
    }
   ],
   "source": [
    "f = Fitter(fitbirdies, distributions=['cauchy',\n",
    " 'chi2',\n",
    " 'expon',\n",
    " 'exponpow',\n",
    " 'gamma',\n",
    " 'lognorm',\n",
    " 'norm',\n",
    " 'powerlaw',\n",
    " 'rayleigh',\n",
    " 'uniform'])\n",
    "f.fit()\n",
    "# may take some time since by default, all distributions are tried\n",
    "# but you call manually provide a smaller set of distributions\n",
    "f.summary()"
   ]
  },
  {
   "cell_type": "code",
   "execution_count": null,
   "id": "c9d8dfa9",
   "metadata": {},
   "outputs": [],
   "source": []
  },
  {
   "cell_type": "code",
   "execution_count": null,
   "id": "5f29b557",
   "metadata": {},
   "outputs": [],
   "source": []
  },
  {
   "cell_type": "code",
   "execution_count": null,
   "id": "a0b90b5f",
   "metadata": {},
   "outputs": [],
   "source": []
  },
  {
   "cell_type": "code",
   "execution_count": null,
   "id": "812fbef3",
   "metadata": {},
   "outputs": [],
   "source": []
  },
  {
   "cell_type": "code",
   "execution_count": 33,
   "id": "9e00467f",
   "metadata": {},
   "outputs": [
    {
     "ename": "UnicodeDecodeError",
     "evalue": "'utf-8' codec can't decode byte 0xe1 in position 2598: invalid continuation byte",
     "output_type": "error",
     "traceback": [
      "\u001b[1;31m---------------------------------------------------------------------------\u001b[0m",
      "\u001b[1;31mUnicodeDecodeError\u001b[0m                        Traceback (most recent call last)",
      "\u001b[1;32m~\\AppData\\Local\\Temp/ipykernel_15208/2506977726.py\u001b[0m in \u001b[0;36m<module>\u001b[1;34m\u001b[0m\n\u001b[1;32m----> 1\u001b[1;33m \u001b[0mdf\u001b[0m \u001b[1;33m=\u001b[0m \u001b[0mpd\u001b[0m\u001b[1;33m.\u001b[0m\u001b[0mread_csv\u001b[0m\u001b[1;33m(\u001b[0m\u001b[1;34m'data\\driving_stats.csv'\u001b[0m\u001b[1;33m)\u001b[0m\u001b[1;33m\u001b[0m\u001b[1;33m\u001b[0m\u001b[0m\n\u001b[0m\u001b[0;32m      2\u001b[0m \u001b[1;33m\u001b[0m\u001b[0m\n\u001b[0;32m      3\u001b[0m \u001b[0mprint\u001b[0m\u001b[1;33m(\u001b[0m\u001b[0mdf\u001b[0m\u001b[1;33m.\u001b[0m\u001b[0mto_string\u001b[0m\u001b[1;33m(\u001b[0m\u001b[1;33m)\u001b[0m\u001b[1;33m)\u001b[0m\u001b[1;33m\u001b[0m\u001b[1;33m\u001b[0m\u001b[0m\n",
      "\u001b[1;32m~\\anaconda3\\lib\\site-packages\\pandas\\util\\_decorators.py\u001b[0m in \u001b[0;36mwrapper\u001b[1;34m(*args, **kwargs)\u001b[0m\n\u001b[0;32m    309\u001b[0m                     \u001b[0mstacklevel\u001b[0m\u001b[1;33m=\u001b[0m\u001b[0mstacklevel\u001b[0m\u001b[1;33m,\u001b[0m\u001b[1;33m\u001b[0m\u001b[1;33m\u001b[0m\u001b[0m\n\u001b[0;32m    310\u001b[0m                 )\n\u001b[1;32m--> 311\u001b[1;33m             \u001b[1;32mreturn\u001b[0m \u001b[0mfunc\u001b[0m\u001b[1;33m(\u001b[0m\u001b[1;33m*\u001b[0m\u001b[0margs\u001b[0m\u001b[1;33m,\u001b[0m \u001b[1;33m**\u001b[0m\u001b[0mkwargs\u001b[0m\u001b[1;33m)\u001b[0m\u001b[1;33m\u001b[0m\u001b[1;33m\u001b[0m\u001b[0m\n\u001b[0m\u001b[0;32m    312\u001b[0m \u001b[1;33m\u001b[0m\u001b[0m\n\u001b[0;32m    313\u001b[0m         \u001b[1;32mreturn\u001b[0m \u001b[0mwrapper\u001b[0m\u001b[1;33m\u001b[0m\u001b[1;33m\u001b[0m\u001b[0m\n",
      "\u001b[1;32m~\\anaconda3\\lib\\site-packages\\pandas\\io\\parsers\\readers.py\u001b[0m in \u001b[0;36mread_csv\u001b[1;34m(filepath_or_buffer, sep, delimiter, header, names, index_col, usecols, squeeze, prefix, mangle_dupe_cols, dtype, engine, converters, true_values, false_values, skipinitialspace, skiprows, skipfooter, nrows, na_values, keep_default_na, na_filter, verbose, skip_blank_lines, parse_dates, infer_datetime_format, keep_date_col, date_parser, dayfirst, cache_dates, iterator, chunksize, compression, thousands, decimal, lineterminator, quotechar, quoting, doublequote, escapechar, comment, encoding, encoding_errors, dialect, error_bad_lines, warn_bad_lines, on_bad_lines, delim_whitespace, low_memory, memory_map, float_precision, storage_options)\u001b[0m\n\u001b[0;32m    584\u001b[0m     \u001b[0mkwds\u001b[0m\u001b[1;33m.\u001b[0m\u001b[0mupdate\u001b[0m\u001b[1;33m(\u001b[0m\u001b[0mkwds_defaults\u001b[0m\u001b[1;33m)\u001b[0m\u001b[1;33m\u001b[0m\u001b[1;33m\u001b[0m\u001b[0m\n\u001b[0;32m    585\u001b[0m \u001b[1;33m\u001b[0m\u001b[0m\n\u001b[1;32m--> 586\u001b[1;33m     \u001b[1;32mreturn\u001b[0m \u001b[0m_read\u001b[0m\u001b[1;33m(\u001b[0m\u001b[0mfilepath_or_buffer\u001b[0m\u001b[1;33m,\u001b[0m \u001b[0mkwds\u001b[0m\u001b[1;33m)\u001b[0m\u001b[1;33m\u001b[0m\u001b[1;33m\u001b[0m\u001b[0m\n\u001b[0m\u001b[0;32m    587\u001b[0m \u001b[1;33m\u001b[0m\u001b[0m\n\u001b[0;32m    588\u001b[0m \u001b[1;33m\u001b[0m\u001b[0m\n",
      "\u001b[1;32m~\\anaconda3\\lib\\site-packages\\pandas\\io\\parsers\\readers.py\u001b[0m in \u001b[0;36m_read\u001b[1;34m(filepath_or_buffer, kwds)\u001b[0m\n\u001b[0;32m    480\u001b[0m \u001b[1;33m\u001b[0m\u001b[0m\n\u001b[0;32m    481\u001b[0m     \u001b[1;31m# Create the parser.\u001b[0m\u001b[1;33m\u001b[0m\u001b[1;33m\u001b[0m\u001b[1;33m\u001b[0m\u001b[0m\n\u001b[1;32m--> 482\u001b[1;33m     \u001b[0mparser\u001b[0m \u001b[1;33m=\u001b[0m \u001b[0mTextFileReader\u001b[0m\u001b[1;33m(\u001b[0m\u001b[0mfilepath_or_buffer\u001b[0m\u001b[1;33m,\u001b[0m \u001b[1;33m**\u001b[0m\u001b[0mkwds\u001b[0m\u001b[1;33m)\u001b[0m\u001b[1;33m\u001b[0m\u001b[1;33m\u001b[0m\u001b[0m\n\u001b[0m\u001b[0;32m    483\u001b[0m \u001b[1;33m\u001b[0m\u001b[0m\n\u001b[0;32m    484\u001b[0m     \u001b[1;32mif\u001b[0m \u001b[0mchunksize\u001b[0m \u001b[1;32mor\u001b[0m \u001b[0miterator\u001b[0m\u001b[1;33m:\u001b[0m\u001b[1;33m\u001b[0m\u001b[1;33m\u001b[0m\u001b[0m\n",
      "\u001b[1;32m~\\anaconda3\\lib\\site-packages\\pandas\\io\\parsers\\readers.py\u001b[0m in \u001b[0;36m__init__\u001b[1;34m(self, f, engine, **kwds)\u001b[0m\n\u001b[0;32m    809\u001b[0m             \u001b[0mself\u001b[0m\u001b[1;33m.\u001b[0m\u001b[0moptions\u001b[0m\u001b[1;33m[\u001b[0m\u001b[1;34m\"has_index_names\"\u001b[0m\u001b[1;33m]\u001b[0m \u001b[1;33m=\u001b[0m \u001b[0mkwds\u001b[0m\u001b[1;33m[\u001b[0m\u001b[1;34m\"has_index_names\"\u001b[0m\u001b[1;33m]\u001b[0m\u001b[1;33m\u001b[0m\u001b[1;33m\u001b[0m\u001b[0m\n\u001b[0;32m    810\u001b[0m \u001b[1;33m\u001b[0m\u001b[0m\n\u001b[1;32m--> 811\u001b[1;33m         \u001b[0mself\u001b[0m\u001b[1;33m.\u001b[0m\u001b[0m_engine\u001b[0m \u001b[1;33m=\u001b[0m \u001b[0mself\u001b[0m\u001b[1;33m.\u001b[0m\u001b[0m_make_engine\u001b[0m\u001b[1;33m(\u001b[0m\u001b[0mself\u001b[0m\u001b[1;33m.\u001b[0m\u001b[0mengine\u001b[0m\u001b[1;33m)\u001b[0m\u001b[1;33m\u001b[0m\u001b[1;33m\u001b[0m\u001b[0m\n\u001b[0m\u001b[0;32m    812\u001b[0m \u001b[1;33m\u001b[0m\u001b[0m\n\u001b[0;32m    813\u001b[0m     \u001b[1;32mdef\u001b[0m \u001b[0mclose\u001b[0m\u001b[1;33m(\u001b[0m\u001b[0mself\u001b[0m\u001b[1;33m)\u001b[0m\u001b[1;33m:\u001b[0m\u001b[1;33m\u001b[0m\u001b[1;33m\u001b[0m\u001b[0m\n",
      "\u001b[1;32m~\\anaconda3\\lib\\site-packages\\pandas\\io\\parsers\\readers.py\u001b[0m in \u001b[0;36m_make_engine\u001b[1;34m(self, engine)\u001b[0m\n\u001b[0;32m   1038\u001b[0m             )\n\u001b[0;32m   1039\u001b[0m         \u001b[1;31m# error: Too many arguments for \"ParserBase\"\u001b[0m\u001b[1;33m\u001b[0m\u001b[1;33m\u001b[0m\u001b[1;33m\u001b[0m\u001b[0m\n\u001b[1;32m-> 1040\u001b[1;33m         \u001b[1;32mreturn\u001b[0m \u001b[0mmapping\u001b[0m\u001b[1;33m[\u001b[0m\u001b[0mengine\u001b[0m\u001b[1;33m]\u001b[0m\u001b[1;33m(\u001b[0m\u001b[0mself\u001b[0m\u001b[1;33m.\u001b[0m\u001b[0mf\u001b[0m\u001b[1;33m,\u001b[0m \u001b[1;33m**\u001b[0m\u001b[0mself\u001b[0m\u001b[1;33m.\u001b[0m\u001b[0moptions\u001b[0m\u001b[1;33m)\u001b[0m  \u001b[1;31m# type: ignore[call-arg]\u001b[0m\u001b[1;33m\u001b[0m\u001b[1;33m\u001b[0m\u001b[0m\n\u001b[0m\u001b[0;32m   1041\u001b[0m \u001b[1;33m\u001b[0m\u001b[0m\n\u001b[0;32m   1042\u001b[0m     \u001b[1;32mdef\u001b[0m \u001b[0m_failover_to_python\u001b[0m\u001b[1;33m(\u001b[0m\u001b[0mself\u001b[0m\u001b[1;33m)\u001b[0m\u001b[1;33m:\u001b[0m\u001b[1;33m\u001b[0m\u001b[1;33m\u001b[0m\u001b[0m\n",
      "\u001b[1;32m~\\anaconda3\\lib\\site-packages\\pandas\\io\\parsers\\c_parser_wrapper.py\u001b[0m in \u001b[0;36m__init__\u001b[1;34m(self, src, **kwds)\u001b[0m\n\u001b[0;32m     67\u001b[0m         \u001b[0mkwds\u001b[0m\u001b[1;33m[\u001b[0m\u001b[1;34m\"dtype\"\u001b[0m\u001b[1;33m]\u001b[0m \u001b[1;33m=\u001b[0m \u001b[0mensure_dtype_objs\u001b[0m\u001b[1;33m(\u001b[0m\u001b[0mkwds\u001b[0m\u001b[1;33m.\u001b[0m\u001b[0mget\u001b[0m\u001b[1;33m(\u001b[0m\u001b[1;34m\"dtype\"\u001b[0m\u001b[1;33m,\u001b[0m \u001b[1;32mNone\u001b[0m\u001b[1;33m)\u001b[0m\u001b[1;33m)\u001b[0m\u001b[1;33m\u001b[0m\u001b[1;33m\u001b[0m\u001b[0m\n\u001b[0;32m     68\u001b[0m         \u001b[1;32mtry\u001b[0m\u001b[1;33m:\u001b[0m\u001b[1;33m\u001b[0m\u001b[1;33m\u001b[0m\u001b[0m\n\u001b[1;32m---> 69\u001b[1;33m             \u001b[0mself\u001b[0m\u001b[1;33m.\u001b[0m\u001b[0m_reader\u001b[0m \u001b[1;33m=\u001b[0m \u001b[0mparsers\u001b[0m\u001b[1;33m.\u001b[0m\u001b[0mTextReader\u001b[0m\u001b[1;33m(\u001b[0m\u001b[0mself\u001b[0m\u001b[1;33m.\u001b[0m\u001b[0mhandles\u001b[0m\u001b[1;33m.\u001b[0m\u001b[0mhandle\u001b[0m\u001b[1;33m,\u001b[0m \u001b[1;33m**\u001b[0m\u001b[0mkwds\u001b[0m\u001b[1;33m)\u001b[0m\u001b[1;33m\u001b[0m\u001b[1;33m\u001b[0m\u001b[0m\n\u001b[0m\u001b[0;32m     70\u001b[0m         \u001b[1;32mexcept\u001b[0m \u001b[0mException\u001b[0m\u001b[1;33m:\u001b[0m\u001b[1;33m\u001b[0m\u001b[1;33m\u001b[0m\u001b[0m\n\u001b[0;32m     71\u001b[0m             \u001b[0mself\u001b[0m\u001b[1;33m.\u001b[0m\u001b[0mhandles\u001b[0m\u001b[1;33m.\u001b[0m\u001b[0mclose\u001b[0m\u001b[1;33m(\u001b[0m\u001b[1;33m)\u001b[0m\u001b[1;33m\u001b[0m\u001b[1;33m\u001b[0m\u001b[0m\n",
      "\u001b[1;32m~\\anaconda3\\lib\\site-packages\\pandas\\_libs\\parsers.pyx\u001b[0m in \u001b[0;36mpandas._libs.parsers.TextReader.__cinit__\u001b[1;34m()\u001b[0m\n",
      "\u001b[1;32m~\\anaconda3\\lib\\site-packages\\pandas\\_libs\\parsers.pyx\u001b[0m in \u001b[0;36mpandas._libs.parsers.TextReader._get_header\u001b[1;34m()\u001b[0m\n",
      "\u001b[1;32m~\\anaconda3\\lib\\site-packages\\pandas\\_libs\\parsers.pyx\u001b[0m in \u001b[0;36mpandas._libs.parsers.TextReader._tokenize_rows\u001b[1;34m()\u001b[0m\n",
      "\u001b[1;32m~\\anaconda3\\lib\\site-packages\\pandas\\_libs\\parsers.pyx\u001b[0m in \u001b[0;36mpandas._libs.parsers.raise_parser_error\u001b[1;34m()\u001b[0m\n",
      "\u001b[1;31mUnicodeDecodeError\u001b[0m: 'utf-8' codec can't decode byte 0xe1 in position 2598: invalid continuation byte"
     ]
    }
   ],
   "source": [
    "df = pd.read_csv('data\\driving_stats.csv')\n",
    "\n",
    "print(df.to_string()) "
   ]
  },
  {
   "cell_type": "markdown",
   "id": "c5d6bee1",
   "metadata": {},
   "source": [
    "Name\n",
    "Driving distance avg (https://www.pgatour.com/content/pgatour/stats/stat.101.y2021.html)\n",
    "Driving accuracy % (https://www.pgatour.com/content/pgatour/stats/stat.102.y2021.html)\n",
    "GIR (https://www.pgatour.com/content/pgatour/stats/stat.103.y2021.eoff.t013.html)\n",
    "Fedex Cup Regular Season Standings (https://www.pgatour.com/content/pgatour/stats/stat.02394.y2021.html)"
   ]
  },
  {
   "cell_type": "code",
   "execution_count": null,
   "id": "516095ba",
   "metadata": {},
   "outputs": [],
   "source": [
    "df_arr = df\n",
    "df_arr.columns = ['Driving distance avg (yds)','Driving accuracy (%)','Scoring avg (%)','GIR']\n",
    "#https://note.nkmk.me/en/python-pandas-t-transpose/"
   ]
  },
  {
   "cell_type": "code",
   "execution_count": null,
   "id": "eb1d28bf",
   "metadata": {},
   "outputs": [],
   "source": [
    "df_arr"
   ]
  },
  {
   "cell_type": "code",
   "execution_count": null,
   "id": "24434284",
   "metadata": {},
   "outputs": [],
   "source": []
  },
  {
   "cell_type": "code",
   "execution_count": null,
   "id": "79232777",
   "metadata": {},
   "outputs": [],
   "source": []
  },
  {
   "cell_type": "code",
   "execution_count": null,
   "id": "09817752",
   "metadata": {},
   "outputs": [],
   "source": [
    "# Write a function / loop to plot these histograms\n",
    "# Investigate how to determine what their distribution is... Skilearn? "
   ]
  },
  {
   "cell_type": "code",
   "execution_count": null,
   "id": "aab115b3",
   "metadata": {},
   "outputs": [],
   "source": [
    "#distance2020 = df_arr.iloc[:,0]\n",
    "#distance2020\n",
    "x = df_arr.iloc[:,0]\n",
    "x"
   ]
  },
  {
   "cell_type": "code",
   "execution_count": null,
   "id": "9de1f248",
   "metadata": {},
   "outputs": [],
   "source": [
    "plt.hist(x)"
   ]
  },
  {
   "cell_type": "code",
   "execution_count": null,
   "id": "cff2a407",
   "metadata": {},
   "outputs": [],
   "source": [
    "#accuracy2020 = df_arr.iloc[:,1]\n",
    "#accuracy2020\n",
    "y = df_arr.iloc[:,1]\n",
    "y"
   ]
  },
  {
   "cell_type": "code",
   "execution_count": null,
   "id": "8fbe09c9",
   "metadata": {},
   "outputs": [],
   "source": [
    "plt.hist(y)"
   ]
  },
  {
   "cell_type": "code",
   "execution_count": null,
   "id": "e574d408",
   "metadata": {},
   "outputs": [],
   "source": [
    "#plt.scatter(distance2020, accuracy2020)\n",
    "#m, b = np.polyfit(distance2020, accuracy2020, 1)\n",
    "#plt.plot(distance2020, m*distance2020 + b)\n",
    "#plt.show()\n",
    "#https://www.kite.com/python/answers/how-to-plot-a-linear-regression-line-on-a-scatter-plot-in-python\n",
    "\n",
    "#plt.scatter(z,y)\n",
    "#m, b = np.polyfit(z,y, 1)\n",
    "#plt.plot(z, m*z + b)\n",
    "#plt.show()\n",
    "#https://www.kite.com/python/answers/how-to-plot-a-linear-regression-line-on-a-scatter-plot-in-python\n",
    "\n"
   ]
  },
  {
   "cell_type": "code",
   "execution_count": null,
   "id": "b058dfec",
   "metadata": {},
   "outputs": [],
   "source": [
    "z = df_arr.iloc[:,2]\n",
    "z"
   ]
  },
  {
   "cell_type": "code",
   "execution_count": null,
   "id": "05837716",
   "metadata": {},
   "outputs": [],
   "source": [
    "# make a note that low scoring is better\n",
    "plt.hist(z)"
   ]
  },
  {
   "cell_type": "code",
   "execution_count": null,
   "id": "6be9f93e",
   "metadata": {},
   "outputs": [],
   "source": [
    "plt.scatter(y,z)\n",
    "\n",
    "plt.show()"
   ]
  },
  {
   "cell_type": "code",
   "execution_count": null,
   "id": "eec6fba1",
   "metadata": {},
   "outputs": [],
   "source": [
    "plt.scatter(y,x)\n",
    "plt.show()"
   ]
  },
  {
   "cell_type": "code",
   "execution_count": null,
   "id": "ce0f5075",
   "metadata": {},
   "outputs": [],
   "source": [
    "plt.scatter(y,x)\n",
    "m, b = np.polyfit(y, x, 1)\n",
    "plt.plot(y, m*y + b)\n",
    "plt.show()"
   ]
  },
  {
   "cell_type": "code",
   "execution_count": null,
   "id": "75970a5a",
   "metadata": {},
   "outputs": [],
   "source": []
  },
  {
   "cell_type": "code",
   "execution_count": null,
   "id": "698d8b38",
   "metadata": {},
   "outputs": [],
   "source": []
  },
  {
   "cell_type": "code",
   "execution_count": null,
   "id": "67a06f09",
   "metadata": {},
   "outputs": [],
   "source": [
    "zz = df_arr.iloc[:,3]\n",
    "zz"
   ]
  },
  {
   "cell_type": "code",
   "execution_count": null,
   "id": "62313037",
   "metadata": {},
   "outputs": [],
   "source": []
  },
  {
   "cell_type": "code",
   "execution_count": null,
   "id": "d9c3048f",
   "metadata": {
    "scrolled": true
   },
   "outputs": [],
   "source": [
    "plt.hist(zz)"
   ]
  },
  {
   "cell_type": "code",
   "execution_count": null,
   "id": "03fd3a7d",
   "metadata": {},
   "outputs": [],
   "source": [
    "plt.scatter(z,zz)\n",
    "\n",
    "plt.show()"
   ]
  },
  {
   "cell_type": "code",
   "execution_count": null,
   "id": "c575efac",
   "metadata": {},
   "outputs": [],
   "source": [
    "my_array = np.array([[x],[y],[z],[zz]])\n",
    "                    \n",
    "my_array"
   ]
  },
  {
   "cell_type": "code",
   "execution_count": null,
   "id": "0cf95220",
   "metadata": {},
   "outputs": [],
   "source": [
    "df = pd.DataFrame(np.concatenate(my_array))\n",
    "print(df)\n",
    "print(type(df))"
   ]
  },
  {
   "cell_type": "code",
   "execution_count": null,
   "id": "08136e8c",
   "metadata": {},
   "outputs": [],
   "source": [
    "df_t = df.T\n",
    "df_t.columns = ['Driving distance avg (yds)','Driving accuracy (%)','Scoring avg (%)','GIR']\n",
    "#https://note.nkmk.me/en/python-pandas-t-transpose/"
   ]
  },
  {
   "cell_type": "code",
   "execution_count": null,
   "id": "79238c82",
   "metadata": {},
   "outputs": [],
   "source": [
    "df_t.head()"
   ]
  },
  {
   "cell_type": "code",
   "execution_count": null,
   "id": "a4eebecd",
   "metadata": {},
   "outputs": [],
   "source": [
    "sns.pairplot(df_t, kind=\"reg\", plot_kws={'line_kws':{'color':'red'}})"
   ]
  },
  {
   "cell_type": "code",
   "execution_count": null,
   "id": "a81190c0",
   "metadata": {},
   "outputs": [],
   "source": []
  },
  {
   "cell_type": "code",
   "execution_count": null,
   "id": "1c1f8ecb",
   "metadata": {},
   "outputs": [],
   "source": []
  },
  {
   "cell_type": "code",
   "execution_count": 36,
   "id": "2fbdbf74",
   "metadata": {},
   "outputs": [
    {
     "data": {
      "image/png": "[encoded data removed]",
      "text/plain": [
       "<Figure size 432x288 with 1 Axes>"
      ]
     },
     "metadata": {
      "needs_background": "light"
     },
     "output_type": "display_data"
    }
   ],
   "source": [
    "# Driving distacnce\n",
    "mu, sigma = 316.5, 5.1\n",
    "\n",
    "distance_rand = np.random.default_rng().normal(mu, sigma, 100)\n",
    "\n",
    "count, bins, ignored = plt.hist(distance_rand, 10, density=True)\n",
    "\n",
    "plt.plot(bins, 1/(sigma * np.sqrt(2 * np.pi)) *\n",
    "\n",
    "               np.exp( - (bins - mu)**2 / (2 * sigma**2) ),\n",
    "\n",
    "         linewidth=2, color='r')\n",
    "\n",
    "plt.show()\n",
    "\n",
    "# https://www.statisticshowto.com/choose-bin-sizes-statistics/\n",
    "\n"
   ]
  },
  {
   "cell_type": "code",
   "execution_count": null,
   "id": "f19fbe4d",
   "metadata": {},
   "outputs": [],
   "source": []
  },
  {
   "cell_type": "code",
   "execution_count": null,
   "id": "f411221a",
   "metadata": {},
   "outputs": [],
   "source": []
  },
  {
   "cell_type": "code",
   "execution_count": null,
   "id": "985b2229",
   "metadata": {},
   "outputs": [],
   "source": [
    "x.max()"
   ]
  },
  {
   "cell_type": "code",
   "execution_count": null,
   "id": "7f61c80d",
   "metadata": {},
   "outputs": [],
   "source": [
    "x.min()"
   ]
  },
  {
   "cell_type": "code",
   "execution_count": null,
   "id": "ffac2afc",
   "metadata": {},
   "outputs": [],
   "source": [
    "len(x)"
   ]
  },
  {
   "cell_type": "markdown",
   "id": "4fe00ac1",
   "metadata": {},
   "source": [
    "X is a continuous random variable since time is measured. It is given that μ = 4 minutes. To do any calculations, you must know m, the decay parameter.\n",
    "\n",
    "m=\\frac{1}{\\mu }. Therefore, m=\\frac{1}{4}=0.25.\n",
    "\n",
    "The standard deviation, σ, is the same as the mean. μ = σ\n",
    "\n",
    "The distribution notation is X ~ Exp(m). Therefore, X ~ Exp(0.25)\n",
    "\n",
    "The probability density function is f(x) = me–mx"
   ]
  },
  {
   "cell_type": "markdown",
   "id": "7046f5ba",
   "metadata": {},
   "source": [
    "m = 1/4\n",
    "m"
   ]
  },
  {
   "cell_type": "markdown",
   "id": "29f55e7f",
   "metadata": {},
   "source": [
    "sd = m\n",
    "sd"
   ]
  },
  {
   "cell_type": "markdown",
   "id": "b02795cc",
   "metadata": {},
   "source": [
    "exponent = 1\n",
    "e = math.exp(exponent)\n",
    "#https://www.educative.io/edpresso/calculating-the-exponential-value-in-python"
   ]
  },
  {
   "cell_type": "markdown",
   "id": "7118e4f2",
   "metadata": {},
   "source": [
    "fx = ((0.25) * e**((-0.25)*(5)))\n",
    "fx"
   ]
  },
  {
   "cell_type": "markdown",
   "id": "a5f620e3",
   "metadata": {},
   "source": [
    "#https://www.biob.in/2014/02/exponential-graph-using-python.html\n",
    "\n",
    "a = 0.25\n",
    "b = 0.25\n",
    "c = 1\n",
    "x = np.linspace(0, 2, 1000, endpoint = True)\n",
    "y = (a * e**(-b*x)) + c\n",
    "\n",
    "plt.plot(x, y, '-r', label=r'$y = 5e^{-2x} + 1$')\n",
    "\n",
    "axes = plt.gca()\n",
    "axes.set_xlim([x.min(), x.max()])\n",
    "axes.set_ylim([y.min(), y.max()])\n",
    "\n",
    "plt.xlabel('x')\n",
    "plt.ylabel('y')\n",
    "plt.title('Exponential Curve')\n",
    "plt.legend(loc='upper left')\n",
    "\n",
    "plt.show()"
   ]
  },
  {
   "cell_type": "markdown",
   "id": "b44e9f31",
   "metadata": {},
   "source": [
    "np.random.exponential(64, 100)"
   ]
  },
  {
   "cell_type": "code",
   "execution_count": 184,
   "id": "0c8adbfa",
   "metadata": {},
   "outputs": [
    {
     "data": {
      "image/png": "[encoded data removed]",
      "text/plain": [
       "<Figure size 432x288 with 1 Axes>"
      ]
     },
     "metadata": {
      "needs_background": "light"
     },
     "output_type": "display_data"
    }
   ],
   "source": [
    "# Driving accuracy average\n",
    "mu, sigma = 62.6, 3.1\n",
    "#from matplotlib.pyplot import hist\n",
    "#accuracy_mode = np.sqrt(2 / np.pi) * accuracy_mean\n",
    "\n",
    "#values = hist(rng.rayleigh(12, 100), bins=20, density=True)\n",
    "#plt.xlim(50, 70)\n",
    "#plt.ylim(0, 30)\n",
    "\n",
    "#accuracy_rand = np.random.rayleigh(scale=[accuracy_mode], size=100)\n",
    "accuracy_rand = np.random.rayleigh(scale=6.319240523124456, size=100)\n",
    "plt.hist(accuracy_rand, bins=10)\n",
    "#plt.xticks([]) # https://matplotlib.org/stable/api/_as_gen/matplotlib.pyplot.xticks.html\n",
    "\n",
    "plt.show()\n",
    "\n",
    "# https://www.statisticshowto.com/choose-bin-sizes-statistics/\n",
    "\n"
   ]
  },
  {
   "cell_type": "code",
   "execution_count": null,
   "id": "6bedbd1e",
   "metadata": {},
   "outputs": [],
   "source": [
    "from scipy.stats import rayleigh"
   ]
  },
  {
   "cell_type": "code",
   "execution_count": 212,
   "id": "0f07edc6",
   "metadata": {},
   "outputs": [
    {
     "data": {
      "text/plain": [
       "array([['rayleigh',\n",
       "        {'loc': 53.22409512121668, 'scale': 6.319240523124456}]],\n",
       "      dtype=object)"
      ]
     },
     "execution_count": 212,
     "metadata": {},
     "output_type": "execute_result"
    }
   ],
   "source": [
    "# https://www.kite.com/python/answers/how-to-convert-a-dictionary-to-a-numpy-array-in-python \n",
    "# use this to put the scale factor in\n",
    "al_data = list(al.items())\n",
    "al_array = np.array(al_data)\n",
    "al_array"
   ]
  },
  {
   "cell_type": "code",
   "execution_count": 217,
   "id": "a316ee1c",
   "metadata": {},
   "outputs": [
    {
     "data": {
      "image/png": "[encoded data removed]",
      "text/plain": [
       "<Figure size 432x288 with 1 Axes>"
      ]
     },
     "metadata": {
      "needs_background": "light"
     },
     "output_type": "display_data"
    }
   ],
   "source": [
    "#https://docs.scipy.org/doc/scipy/reference/generated/scipy.stats.rayleigh.html\n",
    "accuracy_rand = rayleigh.rvs(loc=62.6, scale=6.319240523124456, size=100, random_state=None)\n",
    "plt.hist(accuracy_rand, bins=10)\n",
    "\n",
    "plt.show()"
   ]
  },
  {
   "cell_type": "code",
   "execution_count": 209,
   "id": "589fafdc",
   "metadata": {},
   "outputs": [
    {
     "data": {
      "text/plain": [
       "dict"
      ]
     },
     "execution_count": 209,
     "metadata": {},
     "output_type": "execute_result"
    }
   ],
   "source": [
    "type(al)"
   ]
  },
  {
   "cell_type": "code",
   "execution_count": null,
   "id": "7efc94d4",
   "metadata": {},
   "outputs": [],
   "source": []
  },
  {
   "cell_type": "code",
   "execution_count": 189,
   "id": "1d27fd8c",
   "metadata": {},
   "outputs": [],
   "source": []
  },
  {
   "cell_type": "code",
   "execution_count": 195,
   "id": "49e26cb5",
   "metadata": {},
   "outputs": [
    {
     "data": {
      "text/plain": [
       "array([63.28527384, 55.28038083, 65.68563254, 56.37929611, 61.32504931,\n",
       "       60.34134032, 57.05355543, 69.00442417, 59.28396817, 62.11791368,\n",
       "       63.08599933, 60.17935549, 54.56967728, 63.8945069 , 63.37623024,\n",
       "       59.74171984, 60.98890518, 64.18800805, 57.77683847, 58.56795442,\n",
       "       59.85421021, 57.57056533, 57.33937481, 64.49318804, 60.20698122,\n",
       "       57.59012129, 64.43466559, 58.60307277, 56.44514263, 59.8002002 ,\n",
       "       55.15624548, 56.16727603, 64.46595784, 63.27659318, 55.48824701,\n",
       "       58.99095617, 59.91538564, 60.35453993, 58.00185414, 63.23824577,\n",
       "       61.96414361, 65.24292841, 61.03071733, 67.85961409, 61.18534857,\n",
       "       56.34235214, 60.74589817, 58.372498  , 59.68524513, 60.84095729,\n",
       "       62.84009505, 54.16330954, 56.60235956, 63.94978231, 56.21305143,\n",
       "       54.74674033, 56.04799005, 64.50710208, 61.60590456, 67.01494458,\n",
       "       54.18202394, 61.27218189, 59.70434368, 58.84108947, 67.95243972,\n",
       "       69.02734694, 61.49313906, 64.20866429, 62.74635821, 59.79904961,\n",
       "       62.05013762, 57.23761267, 60.93106524, 71.20418537, 60.74247107,\n",
       "       65.47427691, 66.40590455, 63.47443367, 67.39939055, 56.13301352,\n",
       "       59.26484108, 56.83070796, 57.2641464 , 61.71729168, 59.13019908,\n",
       "       56.8417154 , 54.94785715, 60.06194254, 60.44445814, 61.89689785,\n",
       "       61.4670645 , 55.65298951, 62.1757043 , 57.39865508, 54.44615038,\n",
       "       57.02000172, 58.84865198, 60.34723284, 70.29607089, 60.86015252])"
      ]
     },
     "execution_count": 195,
     "metadata": {},
     "output_type": "execute_result"
    }
   ],
   "source": []
  },
  {
   "cell_type": "code",
   "execution_count": null,
   "id": "436ef922",
   "metadata": {},
   "outputs": [],
   "source": []
  },
  {
   "cell_type": "code",
   "execution_count": null,
   "id": "84c9dc58",
   "metadata": {},
   "outputs": [],
   "source": []
  },
  {
   "cell_type": "code",
   "execution_count": 139,
   "id": "ada5618b",
   "metadata": {},
   "outputs": [
    {
     "data": {
      "text/plain": [
       "48.797821854142455"
      ]
     },
     "execution_count": 139,
     "metadata": {},
     "output_type": "execute_result"
    }
   ],
   "source": [
    "accuracy_mode"
   ]
  },
  {
   "cell_type": "code",
   "execution_count": 145,
   "id": "8e6121b9",
   "metadata": {},
   "outputs": [
    {
     "data": {
      "text/plain": [
       "(array([ 5.,  9., 12., 11.,  5., 13.,  5.,  6.,  1.,  3.]),\n",
       " array([53.92 , 55.633, 57.346, 59.059, 60.772, 62.485, 64.198, 65.911,\n",
       "        67.624, 69.337, 71.05 ]),\n",
       " <BarContainer object of 10 artists>)"
      ]
     },
     "execution_count": 145,
     "metadata": {},
     "output_type": "execute_result"
    },
    {
     "data": {
      "image/png": "[encoded data removed]",
      "text/plain": [
       "<Figure size 432x288 with 1 Axes>"
      ]
     },
     "metadata": {
      "needs_background": "light"
     },
     "output_type": "display_data"
    }
   ],
   "source": [
    "plt.hist(accuracy)"
   ]
  },
  {
   "cell_type": "code",
   "execution_count": null,
   "id": "6747ff06",
   "metadata": {},
   "outputs": [],
   "source": []
  },
  {
   "cell_type": "code",
   "execution_count": 218,
   "id": "7eec241a",
   "metadata": {},
   "outputs": [
    {
     "data": {
      "text/plain": [
       "<matplotlib.collections.PathCollection at 0x25fa98385e0>"
      ]
     },
     "execution_count": 218,
     "metadata": {},
     "output_type": "execute_result"
    },
    {
     "data": {
      "image/png": "[encoded data removed]",
      "text/plain": [
       "<Figure size 432x288 with 1 Axes>"
      ]
     },
     "metadata": {
      "needs_background": "light"
     },
     "output_type": "display_data"
    }
   ],
   "source": [
    "plt.scatter(distance_rand, accuracy_rand)"
   ]
  },
  {
   "cell_type": "code",
   "execution_count": null,
   "id": "e1fd1699",
   "metadata": {},
   "outputs": [],
   "source": []
  },
  {
   "cell_type": "code",
   "execution_count": null,
   "id": "a8c30cbe",
   "metadata": {},
   "outputs": [],
   "source": []
  },
  {
   "cell_type": "code",
   "execution_count": null,
   "id": "cba9d04a",
   "metadata": {},
   "outputs": [],
   "source": []
  },
  {
   "cell_type": "code",
   "execution_count": null,
   "id": "b89d1cd6",
   "metadata": {},
   "outputs": [],
   "source": []
  },
  {
   "cell_type": "code",
   "execution_count": null,
   "id": "144c94cb",
   "metadata": {},
   "outputs": [],
   "source": []
  },
  {
   "cell_type": "code",
   "execution_count": null,
   "id": "2185eb28",
   "metadata": {},
   "outputs": [],
   "source": []
  },
  {
   "cell_type": "code",
   "execution_count": null,
   "id": "fc59e1b2",
   "metadata": {},
   "outputs": [],
   "source": []
  },
  {
   "cell_type": "code",
   "execution_count": null,
   "id": "ef40cd1d",
   "metadata": {},
   "outputs": [],
   "source": []
  },
  {
   "cell_type": "code",
   "execution_count": null,
   "id": "4a6e72c2",
   "metadata": {},
   "outputs": [],
   "source": [
    "y"
   ]
  },
  {
   "cell_type": "code",
   "execution_count": null,
   "id": "dc326170",
   "metadata": {},
   "outputs": [],
   "source": [
    "y.max(), y.min(), len(y)\n"
   ]
  },
  {
   "cell_type": "code",
   "execution_count": null,
   "id": "95c7ac30",
   "metadata": {},
   "outputs": [],
   "source": [
    "plt.scatter(x,y)\n",
    "m, b = np.polyfit(x, y, 1)\n",
    "plt.plot(x, m*x + b)\n",
    "plt.show()\n",
    "#https://www.kite.com/python/answers/how-to-plot-a-linear-regression-line-on-a-scatter-plot-in-python"
   ]
  },
  {
   "cell_type": "code",
   "execution_count": null,
   "id": "43017d4b",
   "metadata": {},
   "outputs": [],
   "source": [
    "mu, sigma = 69.4, 0.4\n",
    "\n",
    "z = np.random.default_rng().normal(mu, sigma, 1000)\n",
    "\n",
    "count, bins, ignored = plt.hist(z, 10, density=True)\n",
    "\n",
    "plt.plot(bins, 1/(sigma * np.sqrt(2 * np.pi)) *\n",
    "\n",
    "               np.exp( - (bins - mu)**2 / (2 * sigma**2) ),\n",
    "\n",
    "         linewidth=2, color='r')\n",
    "\n",
    "plt.show()"
   ]
  },
  {
   "cell_type": "code",
   "execution_count": null,
   "id": "b8c44a36",
   "metadata": {},
   "outputs": [],
   "source": [
    "mu, sigma = 70.2, 1.5\n",
    "\n",
    "zz = np.random.default_rng().normal(mu, sigma, 1000)\n",
    "\n",
    "count, bins, ignored = plt.hist(zz, 10, density=True)\n",
    "\n",
    "plt.plot(bins, 1/(sigma * np.sqrt(2 * np.pi)) *\n",
    "\n",
    "               np.exp( - (bins - mu)**2 / (2 * sigma**2) ),\n",
    "\n",
    "         linewidth=2, color='r')\n",
    "\n",
    "plt.show()"
   ]
  },
  {
   "cell_type": "code",
   "execution_count": null,
   "id": "f1cec18d",
   "metadata": {},
   "outputs": [],
   "source": []
  },
  {
   "cell_type": "code",
   "execution_count": null,
   "id": "4cf01f70",
   "metadata": {},
   "outputs": [],
   "source": [
    "my_array = np.array([[x],[y],[z],[zz]])\n",
    "                    \n",
    "my_array"
   ]
  },
  {
   "cell_type": "code",
   "execution_count": null,
   "id": "87aeb61c",
   "metadata": {},
   "outputs": [],
   "source": [
    "#irisData = pd.read_csv('bezdekIris.data', header = None)  \n",
    "#irisData.columns = ['Sepal Length (cm)','Sepal Width (cm)','Petal Length (cm)','Petal Width (cm)','Class']"
   ]
  },
  {
   "cell_type": "code",
   "execution_count": null,
   "id": "cc3b07ad",
   "metadata": {},
   "outputs": [],
   "source": [
    "df = pd.DataFrame(np.concatenate(my_array))\n",
    "\n",
    "\n",
    "print(df)\n",
    "print(type(df))"
   ]
  },
  {
   "cell_type": "code",
   "execution_count": null,
   "id": "4bd0cebb",
   "metadata": {},
   "outputs": [],
   "source": [
    "df_t = df.T\n",
    "df_t.columns = ['Driving distance avg (yds)','Driving accuracy (%)','Scoring avg (%)','GIR']\n",
    "#https://note.nkmk.me/en/python-pandas-t-transpose/"
   ]
  },
  {
   "cell_type": "code",
   "execution_count": null,
   "id": "98902cdf",
   "metadata": {},
   "outputs": [],
   "source": [
    "df_t.head()"
   ]
  },
  {
   "cell_type": "code",
   "execution_count": null,
   "id": "d6a21e98",
   "metadata": {},
   "outputs": [],
   "source": [
    "sns.pairplot(df_t, kind=\"reg\", plot_kws={'line_kws':{'color':'red'}})\n",
    "# https://stackoverflow.com/questions/50722972/change-the-regression-line-colour-of-seaborns-pairplot"
   ]
  },
  {
   "cell_type": "code",
   "execution_count": null,
   "id": "d742f06d",
   "metadata": {},
   "outputs": [],
   "source": []
  },
  {
   "cell_type": "code",
   "execution_count": null,
   "id": "bb4a7c58",
   "metadata": {},
   "outputs": [],
   "source": []
  },
  {
   "cell_type": "code",
   "execution_count": null,
   "id": "fd43f5b7",
   "metadata": {},
   "outputs": [],
   "source": []
  },
  {
   "cell_type": "code",
   "execution_count": null,
   "id": "100901e9",
   "metadata": {},
   "outputs": [],
   "source": []
  },
  {
   "cell_type": "code",
   "execution_count": null,
   "id": "2887b396",
   "metadata": {},
   "outputs": [],
   "source": []
  },
  {
   "cell_type": "code",
   "execution_count": null,
   "id": "980ea1f4",
   "metadata": {},
   "outputs": [],
   "source": []
  },
  {
   "cell_type": "code",
   "execution_count": null,
   "id": "79180d50",
   "metadata": {},
   "outputs": [],
   "source": []
  },
  {
   "cell_type": "code",
   "execution_count": null,
   "id": "de4653bd",
   "metadata": {},
   "outputs": [],
   "source": []
  },
  {
   "cell_type": "code",
   "execution_count": null,
   "id": "0001bf25",
   "metadata": {},
   "outputs": [],
   "source": []
  },
  {
   "cell_type": "code",
   "execution_count": null,
   "id": "d7177eb4",
   "metadata": {},
   "outputs": [],
   "source": []
  },
  {
   "cell_type": "code",
   "execution_count": null,
   "id": "2f19d800",
   "metadata": {},
   "outputs": [],
   "source": []
  },
  {
   "cell_type": "code",
   "execution_count": null,
   "id": "eae18752",
   "metadata": {},
   "outputs": [],
   "source": []
  },
  {
   "cell_type": "code",
   "execution_count": null,
   "id": "1a341c83",
   "metadata": {},
   "outputs": [],
   "source": []
  },
  {
   "cell_type": "code",
   "execution_count": null,
   "id": "38c9b23a",
   "metadata": {},
   "outputs": [],
   "source": []
  }
 ],
 "metadata": {
  "kernelspec": {
   "display_name": "Python 3 (ipykernel)",
   "language": "python",
   "name": "python3"
  },
  "language_info": {
   "codemirror_mode": {
    "name": "ipython",
    "version": 3
   },
   "file_extension": ".py",
   "mimetype": "text/x-python",
   "name": "python",
   "nbconvert_exporter": "python",
   "pygments_lexer": "ipython3",
   "version": "3.8.11"
  }
 },
 "nbformat": 4,
 "nbformat_minor": 5
}
