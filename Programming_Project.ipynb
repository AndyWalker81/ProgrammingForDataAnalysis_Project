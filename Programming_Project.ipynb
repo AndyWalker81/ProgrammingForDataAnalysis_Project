{
 "cells": [
  {
   "cell_type": "markdown",
   "id": "ed1322c0",
   "metadata": {},
   "source": [
    "# Simulation of PGA Tour Golf Data"
   ]
  },
  {
   "cell_type": "markdown",
   "id": "71d3f4b8",
   "metadata": {},
   "source": [
    "## Programming for Data Analysis Project "
   ]
  },
  {
   "cell_type": "markdown",
   "id": "4f790274",
   "metadata": {},
   "source": [
    "### Andrew Walker - G00398788@gmit.ie"
   ]
  },
  {
   "cell_type": "markdown",
   "id": "626f36cf",
   "metadata": {},
   "source": [
    "![www.pgatour.com](https://pga-tour-res.cloudinary.com/image/upload/c_fill,dpr_2.6,f_auto,g_center,h_336,q_auto,w_1320/v1/pgatour/editorial/2020/12/17/Logo/flag-example-1400.jpg)"
   ]
  },
  {
   "cell_type": "markdown",
   "id": "91e15eca",
   "metadata": {},
   "source": [
    "## 1. Introduction"
   ]
  },
  {
   "cell_type": "markdown",
   "id": "5c59d916",
   "metadata": {},
   "source": [
    "This project will simulate a data set based on historical PGA Tour golf statistics and model the relationships between four variables:\n",
    "\n",
    "- Driving distance average (the average number of yards per hole)\n",
    "- Driving accurary percentage (the percentage of time a tee shot comes to rest in the fairway)\n",
    "- Greens in Regulation (GIR) percentage (the percent of time a player was able to hit the green in regulation. The GIR stroke is determined by subtracting 2 from par)\n",
    "- Birdie average (the average number of birdies made per round played.)"
   ]
  },
  {
   "cell_type": "markdown",
   "id": "4713ce7a",
   "metadata": {},
   "source": [
    "The R&A and USGA Distance Insights Report (2020) (https://www.usga.org/content/dam/usga/pdf/2020/distance-insights/DIPR-FINAL-2020-usga.pdf) finds that the average driving distance on the PGA Tour has shown a general increase, in particular from the early 1990s with the introduction of oversized drivers. Following this, further technological and rule innovations has led to a trend in increased distance off the tee.  "
   ]
  },
  {
   "cell_type": "markdown",
   "id": "9c69b28d",
   "metadata": {},
   "source": [
    "However, the Distance Insights Report (2020) also finds that as driving distance increases, driving accuracy decreases."
   ]
  },
  {
   "cell_type": "markdown",
   "id": "7f5d8ffb",
   "metadata": {},
   "source": [
    "This project will make a comparison of the above four variables to:\n",
    "\n",
    "1. Model how driving distance affects accuracy\n",
    "2. Model how distance and accuracy affect the number of greens in regulation hit\n",
    "3. Model how distance and accuracy affect the number of birdies scored\n",
    "4. Model how the number of greens in regulation hit affects birdies"
   ]
  },
  {
   "cell_type": "markdown",
   "id": "e73c96c3",
   "metadata": {},
   "source": [
    "Several initial hypothesis can be made:\n",
    "    \n",
    "1. As driving distance increases, the accuracy of the shot decreases leading to more tee shots not landing on the fairway.\n",
    "2. Hitting GIR will lead to more birdies.\n",
    "\n",
    "The project will model whether the hypothesis are correct.\n",
    "\n",
    "The project also will model whether driving distance or accuracy is a more useful indicator to hit GIR and to score birdies - whilst a long drive might be less accurate and find the rough, a shorter approach shot might lead to more GIR  and / or more birdies. Conversely, a more accurate tee shot which finds the fairway but has a longer approach shot might lead to more GIR and / or more birdies.\n",
    "\n",
    "This might be a useful simulation for golfers to establish if distance could be considered to be more important than accuracy, or vice versa, in the context of reaching in the green in fewer shots and scoring birdies.\n"
   ]
  },
  {
   "cell_type": "markdown",
   "id": "ea170ecb",
   "metadata": {},
   "source": [
    "The project uses historical data to determine the distribution of random data for modelling. Then, based on the trends in historical data between the years 1990, 2000, 2010, and 2020, predictions are made for likely figures for the four variables in 2030. Random data is then simulated for each variable, using the likely distributions. These variables are then compared to determine whether the hypothesis were correct, and whether driving distance or accuracy is a more useful indicator to hit GIR and to score birdies.\n",
    "\n",
    "These years were chosen as, according to the Distance Insights Report (2020), there were no major innovations affecting driving distance in the preceeding decades. "
   ]
  },
  {
   "cell_type": "markdown",
   "id": "42b50c70",
   "metadata": {},
   "source": [
    "The notebook will detail the steps taken to produce the simulation."
   ]
  },
  {
   "cell_type": "markdown",
   "id": "6b2a6a4a",
   "metadata": {},
   "source": [
    "\n",
    "\n",
    "https://www.itl.nist.gov/div898/handbook/eda/section3/eda366.htm"
   ]
  },
  {
   "cell_type": "markdown",
   "id": "e482805e",
   "metadata": {},
   "source": [
    "https://www.usga.org/content/dam/usga/pdf/RSI/distance-insights-2021-docs/2020%20Distance%20Report%2026-01-2021.pdf\n",
    "\n",
    "https://www.usga.org/content/dam/usga/pdf/2020/distance-insights/DIPR-FINAL-2020-usga.pdf"
   ]
  },
  {
   "cell_type": "markdown",
   "id": "a8353d3a",
   "metadata": {},
   "source": [
    "https://www.pgatour.com/stats/stat.101.y2021.html"
   ]
  },
  {
   "cell_type": "markdown",
   "id": "8271c952",
   "metadata": {},
   "source": [
    "1990 (no major innovations between 1980 and 1990), 2000, 2010, 2020 - simulate data for 2030\n",
    "\n",
    "Make a note of total number of players on Fedex"
   ]
  },
  {
   "cell_type": "markdown",
   "id": "4b1cfe9c",
   "metadata": {},
   "source": [
    "<br>\n",
    "\n",
    "## 2. Required installations"
   ]
  },
  {
   "cell_type": "markdown",
   "id": "03d2887a",
   "metadata": {},
   "source": [
    "In order to run the notebook successfully, a number of packages must be installed and initialised. "
   ]
  },
  {
   "cell_type": "markdown",
   "id": "c4e21297",
   "metadata": {},
   "source": [
    "This includes the Fitter package. Fitter provides a simple class to identify the distribution from which a data samples is generated from. It uses a number of distributions from the Scipy package and can plot the results to check what is the most probable distrubution for the data. \n",
    "\n",
    "To install Fitter:\n",
    "\n",
    "```pip install fitter```\n",
    "\n",
    "or on conda:\n",
    "\n",
    "```conda install fitter```\n",
    "\n",
    "Further details are available here: https://pypi.org/project/fitter/"
   ]
  },
  {
   "cell_type": "code",
   "execution_count": 1,
   "id": "512e5596",
   "metadata": {
    "scrolled": true
   },
   "outputs": [],
   "source": [
    "# Regular expressions.\n",
    "#import re\n",
    "\n",
    "# Convenient HTTP requests.\n",
    "#import requests as rq\n",
    "\n",
    "# Dates and times\n",
    "#import datetime as dt\n",
    "\n",
    "# Data frames\n",
    "import pandas as pd\n",
    "\n",
    "# FOr downloading\n",
    "#import urllib.request as urlrq\n",
    "\n",
    "#numpy\n",
    "import numpy as np\n",
    "\n",
    "# pyplot\n",
    "import matplotlib.pyplot as plt\n",
    "\n",
    "# seaborn\n",
    "import seaborn as sns\n",
    "\n",
    "import math\n",
    "\n",
    "#insall fitter \n",
    "#https://pypi.org/project/fitter/\n",
    "\n",
    "from scipy import stats\n",
    "#https://stackoverflow.com/questions/16330831/most-efficient-way-to-find-mode-in-numpy-array\n",
    "    \n",
    "import scipy\n",
    "\n",
    "rng = np.random.default_rng()\n",
    "\n",
    "from fitter import get_common_distributions\n",
    "get_common_distributions()\n",
    "from fitter import Fitter\n",
    "\n",
    "import statistics\n",
    "\n",
    "from scipy.stats import lognorm\n",
    "from scipy.stats import rayleigh\n",
    "from scipy.stats import norm\n",
    "\n"
   ]
  },
  {
   "cell_type": "markdown",
   "id": "f8151926",
   "metadata": {},
   "source": [
    "### Compile stats fop top 100 Fedex Cup rankings\n",
    "\n",
    "https://www.pgatour.com/content/pgatour/stats/stat.02671.y2021.html"
   ]
  },
  {
   "cell_type": "markdown",
   "id": "8b889c06",
   "metadata": {},
   "source": [
    "## 3. Collect Main Set of Data"
   ]
  },
  {
   "cell_type": "markdown",
   "id": "7790c3e9",
   "metadata": {},
   "source": [
    "The project uses PGA Tour data from the top 100 ranked golfers at the end of the 2021 Fedex cup (https://www.pgatour.com/). The Fedex cup is a season-long points competition which culminates with the FedExCup Playoffs, a series of three events to determine the FedExCup Champion (https://www.pgatour.com/fedexcup.html).\n",
    "\n",
    "Data on the top 100 players consisting of Fedex Cup rank, name, and the four variables to be simulated, were saved using a manual process to a .csv file saved in the data folder associated with this project. These data were copied from each players' individual stats page. "
   ]
  },
  {
   "cell_type": "markdown",
   "id": "95d0b2a0",
   "metadata": {},
   "source": [
    "These data are read from the .csv file into a Pandas DataFrame:\n"
   ]
  },
  {
   "cell_type": "code",
   "execution_count": 2,
   "id": "2ccb6bd9",
   "metadata": {},
   "outputs": [],
   "source": [
    "rankings = pd.read_csv('data\\strokes_gained.csv')"
   ]
  },
  {
   "cell_type": "markdown",
   "id": "74c823cc",
   "metadata": {},
   "source": [
    "Column titles are added to the DataFrame:"
   ]
  },
  {
   "cell_type": "code",
   "execution_count": 3,
   "id": "94d76680",
   "metadata": {},
   "outputs": [
    {
     "data": {
      "text/html": [
       "<div>\n",
       "<style scoped>\n",
       "    .dataframe tbody tr th:only-of-type {\n",
       "        vertical-align: middle;\n",
       "    }\n",
       "\n",
       "    .dataframe tbody tr th {\n",
       "        vertical-align: top;\n",
       "    }\n",
       "\n",
       "    .dataframe thead th {\n",
       "        text-align: right;\n",
       "    }\n",
       "</style>\n",
       "<table border=\"1\" class=\"dataframe\">\n",
       "  <thead>\n",
       "    <tr style=\"text-align: right;\">\n",
       "      <th></th>\n",
       "      <th>Fedex Rank 2021</th>\n",
       "      <th>Name</th>\n",
       "      <th>Driving distance (avg yds)</th>\n",
       "      <th>Driving accuracy (%)</th>\n",
       "      <th>Greens In Regulation (%)</th>\n",
       "      <th>Birdie average</th>\n",
       "    </tr>\n",
       "  </thead>\n",
       "  <tbody>\n",
       "    <tr>\n",
       "      <th>0</th>\n",
       "      <td>1</td>\n",
       "      <td>Patrick Cantlay</td>\n",
       "      <td>302.8</td>\n",
       "      <td>60.71</td>\n",
       "      <td>70.16</td>\n",
       "      <td>4.29</td>\n",
       "    </tr>\n",
       "    <tr>\n",
       "      <th>1</th>\n",
       "      <td>2</td>\n",
       "      <td>Jon Rahm</td>\n",
       "      <td>309.0</td>\n",
       "      <td>63.73</td>\n",
       "      <td>71.93</td>\n",
       "      <td>4.51</td>\n",
       "    </tr>\n",
       "    <tr>\n",
       "      <th>2</th>\n",
       "      <td>3</td>\n",
       "      <td>Kevin Na</td>\n",
       "      <td>288.5</td>\n",
       "      <td>66.56</td>\n",
       "      <td>64.11</td>\n",
       "      <td>4.00</td>\n",
       "    </tr>\n",
       "    <tr>\n",
       "      <th>3</th>\n",
       "      <td>4</td>\n",
       "      <td>Justin Thomas</td>\n",
       "      <td>303.9</td>\n",
       "      <td>55.72</td>\n",
       "      <td>67.79</td>\n",
       "      <td>4.31</td>\n",
       "    </tr>\n",
       "    <tr>\n",
       "      <th>4</th>\n",
       "      <td>5</td>\n",
       "      <td>Viktor Hovland</td>\n",
       "      <td>302.2</td>\n",
       "      <td>63.86</td>\n",
       "      <td>68.61</td>\n",
       "      <td>4.40</td>\n",
       "    </tr>\n",
       "    <tr>\n",
       "      <th>...</th>\n",
       "      <td>...</td>\n",
       "      <td>...</td>\n",
       "      <td>...</td>\n",
       "      <td>...</td>\n",
       "      <td>...</td>\n",
       "      <td>...</td>\n",
       "    </tr>\n",
       "    <tr>\n",
       "      <th>95</th>\n",
       "      <td>96</td>\n",
       "      <td>Roger Sloan</td>\n",
       "      <td>295.8</td>\n",
       "      <td>61.78</td>\n",
       "      <td>68.77</td>\n",
       "      <td>3.79</td>\n",
       "    </tr>\n",
       "    <tr>\n",
       "      <th>96</th>\n",
       "      <td>97</td>\n",
       "      <td>Brandt Snedeker</td>\n",
       "      <td>286.6</td>\n",
       "      <td>64.04</td>\n",
       "      <td>64.48</td>\n",
       "      <td>3.73</td>\n",
       "    </tr>\n",
       "    <tr>\n",
       "      <th>97</th>\n",
       "      <td>98</td>\n",
       "      <td>Hank Lebioda</td>\n",
       "      <td>295.0</td>\n",
       "      <td>61.16</td>\n",
       "      <td>69.14</td>\n",
       "      <td>3.78</td>\n",
       "    </tr>\n",
       "    <tr>\n",
       "      <th>98</th>\n",
       "      <td>99</td>\n",
       "      <td>Tyler McCumber</td>\n",
       "      <td>309.4</td>\n",
       "      <td>58.30</td>\n",
       "      <td>64.71</td>\n",
       "      <td>3.57</td>\n",
       "    </tr>\n",
       "    <tr>\n",
       "      <th>99</th>\n",
       "      <td>100</td>\n",
       "      <td>Denny McCarthy</td>\n",
       "      <td>295.4</td>\n",
       "      <td>62.31</td>\n",
       "      <td>64.01</td>\n",
       "      <td>3.55</td>\n",
       "    </tr>\n",
       "  </tbody>\n",
       "</table>\n",
       "<p>100 rows × 6 columns</p>\n",
       "</div>"
      ],
      "text/plain": [
       "    Fedex Rank 2021             Name  Driving distance (avg yds)  \\\n",
       "0                 1  Patrick Cantlay                       302.8   \n",
       "1                 2         Jon Rahm                       309.0   \n",
       "2                 3         Kevin Na                       288.5   \n",
       "3                 4    Justin Thomas                       303.9   \n",
       "4                 5   Viktor Hovland                       302.2   \n",
       "..              ...              ...                         ...   \n",
       "95               96      Roger Sloan                       295.8   \n",
       "96               97  Brandt Snedeker                       286.6   \n",
       "97               98     Hank Lebioda                       295.0   \n",
       "98               99   Tyler McCumber                       309.4   \n",
       "99              100   Denny McCarthy                       295.4   \n",
       "\n",
       "    Driving accuracy (%)  Greens In Regulation (%)  Birdie average  \n",
       "0                  60.71                     70.16            4.29  \n",
       "1                  63.73                     71.93            4.51  \n",
       "2                  66.56                     64.11            4.00  \n",
       "3                  55.72                     67.79            4.31  \n",
       "4                  63.86                     68.61            4.40  \n",
       "..                   ...                       ...             ...  \n",
       "95                 61.78                     68.77            3.79  \n",
       "96                 64.04                     64.48            3.73  \n",
       "97                 61.16                     69.14            3.78  \n",
       "98                 58.30                     64.71            3.57  \n",
       "99                 62.31                     64.01            3.55  \n",
       "\n",
       "[100 rows x 6 columns]"
      ]
     },
     "execution_count": 3,
     "metadata": {},
     "output_type": "execute_result"
    }
   ],
   "source": [
    "rankings.columns = ['Fedex Rank 2021', 'Name', 'Driving distance (avg yds)','Driving accuracy (%)','Greens In Regulation (%)', 'Birdie average']\n",
    "#https://note.nkmk.me/en/python-pandas-t-transpose/\n",
    "rankings"
   ]
  },
  {
   "cell_type": "markdown",
   "id": "77c56e71",
   "metadata": {},
   "source": [
    "## 4. Determine Distributions of Data"
   ]
  },
  {
   "cell_type": "markdown",
   "id": "5c13a653",
   "metadata": {},
   "source": [
    "The next step in the process is to select the individual columns of data for each of the four variables and determine the distribution. "
   ]
  },
  {
   "cell_type": "markdown",
   "id": "8ad805b0",
   "metadata": {},
   "source": [
    "First, specific column data is selected:"
   ]
  },
  {
   "cell_type": "code",
   "execution_count": 4,
   "id": "b4ade534",
   "metadata": {},
   "outputs": [],
   "source": [
    "# select specific column data\n",
    "distance = rankings.iloc[:,2]\n",
    "accuracy = rankings.iloc[:,3]\n",
    "gir = rankings.iloc[:,4]\n",
    "birdies = rankings.iloc[:,5]"
   ]
  },
  {
   "cell_type": "markdown",
   "id": "4c470dec",
   "metadata": {},
   "source": [
    "Next, the Fitter tool is used to determine the best-fit distribution of each variable, in turn. By default, the fitting process is run on the data with about 80 different distributions. However, this can take a relatively long time for the process to complete. Therefore, to speed the process up, a number of common distributions to check the data against can be specified (https://fitter.readthedocs.io/en/latest/faqs.html#what-are-the-distributions-available). This project uses ten common distributions to check against: "
   ]
  },
  {
   "cell_type": "code",
   "execution_count": 5,
   "id": "23909478",
   "metadata": {},
   "outputs": [],
   "source": [
    "common_distributions=['cauchy',\n",
    " 'chi2',\n",
    " 'expon',\n",
    " 'exponpow',\n",
    " 'gamma',\n",
    " 'lognorm',\n",
    " 'norm',\n",
    " 'powerlaw',\n",
    " 'rayleigh',\n",
    " 'uniform']"
   ]
  },
  {
   "cell_type": "markdown",
   "id": "2b7664f1",
   "metadata": {},
   "source": [
    "#### Driving Distance Average Distribution"
   ]
  },
  {
   "cell_type": "markdown",
   "id": "a183544b",
   "metadata": {},
   "source": [
    "Fitter is run on the driving distance data first and a summary displayed:\n",
    "(https://medium.com/the-researchers-guide/finding-the-best-distribution-that-fits-your-data-using-pythons-fitter-library-319a5a0972e9)"
   ]
  },
  {
   "cell_type": "code",
   "execution_count": 6,
   "id": "e0e38a0b",
   "metadata": {},
   "outputs": [
    {
     "data": {
      "text/html": [
       "<div>\n",
       "<style scoped>\n",
       "    .dataframe tbody tr th:only-of-type {\n",
       "        vertical-align: middle;\n",
       "    }\n",
       "\n",
       "    .dataframe tbody tr th {\n",
       "        vertical-align: top;\n",
       "    }\n",
       "\n",
       "    .dataframe thead th {\n",
       "        text-align: right;\n",
       "    }\n",
       "</style>\n",
       "<table border=\"1\" class=\"dataframe\">\n",
       "  <thead>\n",
       "    <tr style=\"text-align: right;\">\n",
       "      <th></th>\n",
       "      <th>sumsquare_error</th>\n",
       "      <th>aic</th>\n",
       "      <th>bic</th>\n",
       "      <th>kl_div</th>\n",
       "    </tr>\n",
       "  </thead>\n",
       "  <tbody>\n",
       "    <tr>\n",
       "      <th>lognorm</th>\n",
       "      <td>0.030668</td>\n",
       "      <td>880.478875</td>\n",
       "      <td>-795.155890</td>\n",
       "      <td>inf</td>\n",
       "    </tr>\n",
       "    <tr>\n",
       "      <th>gamma</th>\n",
       "      <td>0.030719</td>\n",
       "      <td>880.085594</td>\n",
       "      <td>-794.989700</td>\n",
       "      <td>inf</td>\n",
       "    </tr>\n",
       "    <tr>\n",
       "      <th>chi2</th>\n",
       "      <td>0.030719</td>\n",
       "      <td>880.086111</td>\n",
       "      <td>-794.989433</td>\n",
       "      <td>inf</td>\n",
       "    </tr>\n",
       "    <tr>\n",
       "      <th>rayleigh</th>\n",
       "      <td>0.031205</td>\n",
       "      <td>inf</td>\n",
       "      <td>-798.023366</td>\n",
       "      <td>inf</td>\n",
       "    </tr>\n",
       "    <tr>\n",
       "      <th>norm</th>\n",
       "      <td>0.031863</td>\n",
       "      <td>876.688442</td>\n",
       "      <td>-795.936826</td>\n",
       "      <td>inf</td>\n",
       "    </tr>\n",
       "  </tbody>\n",
       "</table>\n",
       "</div>"
      ],
      "text/plain": [
       "          sumsquare_error         aic         bic  kl_div\n",
       "lognorm          0.030668  880.478875 -795.155890     inf\n",
       "gamma            0.030719  880.085594 -794.989700     inf\n",
       "chi2             0.030719  880.086111 -794.989433     inf\n",
       "rayleigh         0.031205         inf -798.023366     inf\n",
       "norm             0.031863  876.688442 -795.936826     inf"
      ]
     },
     "execution_count": 6,
     "metadata": {},
     "output_type": "execute_result"
    },
    {
     "data": {
      "image/png": "[encoded data removed]",
      "text/plain": [
       "<Figure size 432x288 with 1 Axes>"
      ]
     },
     "metadata": {
      "needs_background": "light"
     },
     "output_type": "display_data"
    }
   ],
   "source": [
    "fitdistance = np.array([distance])\n",
    "f = Fitter(fitdistance, distributions=common_distributions)\n",
    "f.fit()\n",
    "f.summary()"
   ]
  },
  {
   "cell_type": "markdown",
   "id": "0e50edd4",
   "metadata": {},
   "source": [
    "<br>\n",
    "\n",
    "The driving distance average data for the top 100 players in the Fedex cup rankings 2021 is found to be a lognormal distribution. "
   ]
  },
  {
   "cell_type": "markdown",
   "id": "c5bf1e42",
   "metadata": {},
   "source": [
    "The shape, loc, and scale parameters for the above distribution can be displayed using the Fitter tool:"
   ]
  },
  {
   "cell_type": "code",
   "execution_count": 7,
   "id": "8fe4de00",
   "metadata": {},
   "outputs": [
    {
     "data": {
      "text/plain": [
       "{'lognorm': {'s': 0.11093697461805507,\n",
       "  'loc': 226.62980940729665,\n",
       "  'scale': 72.26386699032992}}"
      ]
     },
     "execution_count": 7,
     "metadata": {},
     "output_type": "execute_result"
    }
   ],
   "source": [
    "distance_list = f.get_best(method = 'sumsquare_error')\n",
    "distance_list"
   ]
  },
  {
   "cell_type": "markdown",
   "id": "9fda3f66",
   "metadata": {},
   "source": [
    "The code is repeated in a similar manner for the other three variables:"
   ]
  },
  {
   "cell_type": "markdown",
   "id": "2012bb8c",
   "metadata": {},
   "source": [
    "#### Driving Accuracy Average Distribution"
   ]
  },
  {
   "cell_type": "code",
   "execution_count": 8,
   "id": "7e54587e",
   "metadata": {},
   "outputs": [
    {
     "data": {
      "text/html": [
       "<div>\n",
       "<style scoped>\n",
       "    .dataframe tbody tr th:only-of-type {\n",
       "        vertical-align: middle;\n",
       "    }\n",
       "\n",
       "    .dataframe tbody tr th {\n",
       "        vertical-align: top;\n",
       "    }\n",
       "\n",
       "    .dataframe thead th {\n",
       "        text-align: right;\n",
       "    }\n",
       "</style>\n",
       "<table border=\"1\" class=\"dataframe\">\n",
       "  <thead>\n",
       "    <tr style=\"text-align: right;\">\n",
       "      <th></th>\n",
       "      <th>sumsquare_error</th>\n",
       "      <th>aic</th>\n",
       "      <th>bic</th>\n",
       "      <th>kl_div</th>\n",
       "    </tr>\n",
       "  </thead>\n",
       "  <tbody>\n",
       "    <tr>\n",
       "      <th>rayleigh</th>\n",
       "      <td>0.105932</td>\n",
       "      <td>inf</td>\n",
       "      <td>-675.802008</td>\n",
       "      <td>inf</td>\n",
       "    </tr>\n",
       "    <tr>\n",
       "      <th>chi2</th>\n",
       "      <td>0.106243</td>\n",
       "      <td>767.803146</td>\n",
       "      <td>-670.904406</td>\n",
       "      <td>inf</td>\n",
       "    </tr>\n",
       "    <tr>\n",
       "      <th>gamma</th>\n",
       "      <td>0.107194</td>\n",
       "      <td>765.701837</td>\n",
       "      <td>-670.012613</td>\n",
       "      <td>inf</td>\n",
       "    </tr>\n",
       "    <tr>\n",
       "      <th>lognorm</th>\n",
       "      <td>0.107210</td>\n",
       "      <td>765.942683</td>\n",
       "      <td>-669.997928</td>\n",
       "      <td>inf</td>\n",
       "    </tr>\n",
       "    <tr>\n",
       "      <th>norm</th>\n",
       "      <td>0.107583</td>\n",
       "      <td>762.150066</td>\n",
       "      <td>-674.255496</td>\n",
       "      <td>inf</td>\n",
       "    </tr>\n",
       "  </tbody>\n",
       "</table>\n",
       "</div>"
      ],
      "text/plain": [
       "          sumsquare_error         aic         bic  kl_div\n",
       "rayleigh         0.105932         inf -675.802008     inf\n",
       "chi2             0.106243  767.803146 -670.904406     inf\n",
       "gamma            0.107194  765.701837 -670.012613     inf\n",
       "lognorm          0.107210  765.942683 -669.997928     inf\n",
       "norm             0.107583  762.150066 -674.255496     inf"
      ]
     },
     "execution_count": 8,
     "metadata": {},
     "output_type": "execute_result"
    },
    {
     "data": {
      "image/png": "[encoded data removed]",
      "text/plain": [
       "<Figure size 432x288 with 1 Axes>"
      ]
     },
     "metadata": {
      "needs_background": "light"
     },
     "output_type": "display_data"
    }
   ],
   "source": [
    "fitaccuracy = np.array([accuracy])\n",
    "f = Fitter(fitaccuracy, distributions=common_distributions)\n",
    "f.fit()\n",
    "f.summary()"
   ]
  },
  {
   "cell_type": "code",
   "execution_count": 9,
   "id": "f20b7d4b",
   "metadata": {},
   "outputs": [
    {
     "data": {
      "text/plain": [
       "{'rayleigh': {'loc': 53.46421743761188, 'scale': 6.506613280990041}}"
      ]
     },
     "execution_count": 9,
     "metadata": {},
     "output_type": "execute_result"
    }
   ],
   "source": [
    "accuracy_list = f.get_best(method = 'sumsquare_error')\n",
    "accuracy_list"
   ]
  },
  {
   "cell_type": "markdown",
   "id": "00560b40",
   "metadata": {},
   "source": [
    "#### GIR Percentage Distribution"
   ]
  },
  {
   "cell_type": "code",
   "execution_count": 10,
   "id": "ce41c540",
   "metadata": {},
   "outputs": [],
   "source": [
    "fitgir = np.array([gir])"
   ]
  },
  {
   "cell_type": "code",
   "execution_count": 11,
   "id": "a7074f48",
   "metadata": {},
   "outputs": [
    {
     "data": {
      "text/html": [
       "<div>\n",
       "<style scoped>\n",
       "    .dataframe tbody tr th:only-of-type {\n",
       "        vertical-align: middle;\n",
       "    }\n",
       "\n",
       "    .dataframe tbody tr th {\n",
       "        vertical-align: top;\n",
       "    }\n",
       "\n",
       "    .dataframe thead th {\n",
       "        text-align: right;\n",
       "    }\n",
       "</style>\n",
       "<table border=\"1\" class=\"dataframe\">\n",
       "  <thead>\n",
       "    <tr style=\"text-align: right;\">\n",
       "      <th></th>\n",
       "      <th>sumsquare_error</th>\n",
       "      <th>aic</th>\n",
       "      <th>bic</th>\n",
       "      <th>kl_div</th>\n",
       "    </tr>\n",
       "  </thead>\n",
       "  <tbody>\n",
       "    <tr>\n",
       "      <th>norm</th>\n",
       "      <td>0.991301</td>\n",
       "      <td>543.663959</td>\n",
       "      <td>-452.180353</td>\n",
       "      <td>inf</td>\n",
       "    </tr>\n",
       "    <tr>\n",
       "      <th>lognorm</th>\n",
       "      <td>0.991801</td>\n",
       "      <td>545.907262</td>\n",
       "      <td>-447.524837</td>\n",
       "      <td>inf</td>\n",
       "    </tr>\n",
       "    <tr>\n",
       "      <th>gamma</th>\n",
       "      <td>0.991862</td>\n",
       "      <td>546.235757</td>\n",
       "      <td>-447.518615</td>\n",
       "      <td>inf</td>\n",
       "    </tr>\n",
       "    <tr>\n",
       "      <th>chi2</th>\n",
       "      <td>0.992806</td>\n",
       "      <td>548.067712</td>\n",
       "      <td>-447.423532</td>\n",
       "      <td>inf</td>\n",
       "    </tr>\n",
       "    <tr>\n",
       "      <th>rayleigh</th>\n",
       "      <td>1.002078</td>\n",
       "      <td>inf</td>\n",
       "      <td>-451.099131</td>\n",
       "      <td>inf</td>\n",
       "    </tr>\n",
       "  </tbody>\n",
       "</table>\n",
       "</div>"
      ],
      "text/plain": [
       "          sumsquare_error         aic         bic  kl_div\n",
       "norm             0.991301  543.663959 -452.180353     inf\n",
       "lognorm          0.991801  545.907262 -447.524837     inf\n",
       "gamma            0.991862  546.235757 -447.518615     inf\n",
       "chi2             0.992806  548.067712 -447.423532     inf\n",
       "rayleigh         1.002078         inf -451.099131     inf"
      ]
     },
     "execution_count": 11,
     "metadata": {},
     "output_type": "execute_result"
    },
    {
     "data": {
      "image/png": "[encoded data removed]",
      "text/plain": [
       "<Figure size 432x288 with 1 Axes>"
      ]
     },
     "metadata": {
      "needs_background": "light"
     },
     "output_type": "display_data"
    }
   ],
   "source": [
    "f = Fitter(fitgir, distributions=common_distributions)\n",
    "f.fit()\n",
    "# may take some time since by default, all distributions are tried\n",
    "# but you call manually provide a smaller set of distributions\n",
    "f.summary()"
   ]
  },
  {
   "cell_type": "code",
   "execution_count": 12,
   "id": "756a84c5",
   "metadata": {},
   "outputs": [
    {
     "data": {
      "text/plain": [
       "{'norm': {'loc': 66.57350000000001, 'scale': 2.4367405996535614}}"
      ]
     },
     "execution_count": 12,
     "metadata": {},
     "output_type": "execute_result"
    }
   ],
   "source": [
    "gir_list = f.get_best(method = 'sumsquare_error')\n",
    "gir_list\n"
   ]
  },
  {
   "cell_type": "markdown",
   "id": "c0599d41",
   "metadata": {},
   "source": [
    "#### Birdie Average Distribution"
   ]
  },
  {
   "cell_type": "code",
   "execution_count": 13,
   "id": "96a06dbf",
   "metadata": {},
   "outputs": [],
   "source": [
    "fitbirdies = np.array([birdies])"
   ]
  },
  {
   "cell_type": "code",
   "execution_count": 14,
   "id": "ade58bd8",
   "metadata": {},
   "outputs": [
    {
     "data": {
      "text/html": [
       "<div>\n",
       "<style scoped>\n",
       "    .dataframe tbody tr th:only-of-type {\n",
       "        vertical-align: middle;\n",
       "    }\n",
       "\n",
       "    .dataframe tbody tr th {\n",
       "        vertical-align: top;\n",
       "    }\n",
       "\n",
       "    .dataframe thead th {\n",
       "        text-align: right;\n",
       "    }\n",
       "</style>\n",
       "<table border=\"1\" class=\"dataframe\">\n",
       "  <thead>\n",
       "    <tr style=\"text-align: right;\">\n",
       "      <th></th>\n",
       "      <th>sumsquare_error</th>\n",
       "      <th>aic</th>\n",
       "      <th>bic</th>\n",
       "      <th>kl_div</th>\n",
       "    </tr>\n",
       "  </thead>\n",
       "  <tbody>\n",
       "    <tr>\n",
       "      <th>lognorm</th>\n",
       "      <td>68.248116</td>\n",
       "      <td>122.547073</td>\n",
       "      <td>-24.386525</td>\n",
       "      <td>inf</td>\n",
       "    </tr>\n",
       "    <tr>\n",
       "      <th>gamma</th>\n",
       "      <td>68.276475</td>\n",
       "      <td>122.224942</td>\n",
       "      <td>-24.344981</td>\n",
       "      <td>inf</td>\n",
       "    </tr>\n",
       "    <tr>\n",
       "      <th>norm</th>\n",
       "      <td>68.380487</td>\n",
       "      <td>119.275421</td>\n",
       "      <td>-28.797927</td>\n",
       "      <td>inf</td>\n",
       "    </tr>\n",
       "    <tr>\n",
       "      <th>rayleigh</th>\n",
       "      <td>68.518205</td>\n",
       "      <td>inf</td>\n",
       "      <td>-28.596730</td>\n",
       "      <td>inf</td>\n",
       "    </tr>\n",
       "    <tr>\n",
       "      <th>exponpow</th>\n",
       "      <td>69.435081</td>\n",
       "      <td>100.183424</td>\n",
       "      <td>-22.662285</td>\n",
       "      <td>inf</td>\n",
       "    </tr>\n",
       "  </tbody>\n",
       "</table>\n",
       "</div>"
      ],
      "text/plain": [
       "          sumsquare_error         aic        bic  kl_div\n",
       "lognorm         68.248116  122.547073 -24.386525     inf\n",
       "gamma           68.276475  122.224942 -24.344981     inf\n",
       "norm            68.380487  119.275421 -28.797927     inf\n",
       "rayleigh        68.518205         inf -28.596730     inf\n",
       "exponpow        69.435081  100.183424 -22.662285     inf"
      ]
     },
     "execution_count": 14,
     "metadata": {},
     "output_type": "execute_result"
    },
    {
     "data": {
      "image/png": "[encoded data removed]",
      "text/plain": [
       "<Figure size 432x288 with 1 Axes>"
      ]
     },
     "metadata": {
      "needs_background": "light"
     },
     "output_type": "display_data"
    }
   ],
   "source": [
    "f = Fitter(fitbirdies, distributions=common_distributions)\n",
    "f.fit()\n",
    "# may take some time since by default, all distributions are tried\n",
    "# but you call manually provide a smaller set of distributions\n",
    "f.summary()"
   ]
  },
  {
   "cell_type": "code",
   "execution_count": 15,
   "id": "c9d8dfa9",
   "metadata": {},
   "outputs": [
    {
     "data": {
      "text/plain": [
       "{'lognorm': {'s': 0.021071276169458617,\n",
       "  'loc': -9.747395651590328,\n",
       "  'scale': 13.661062712682266}}"
      ]
     },
     "execution_count": 15,
     "metadata": {},
     "output_type": "execute_result"
    }
   ],
   "source": [
    "birdies_list = f.get_best(method = 'sumsquare_error')\n",
    "birdies_list"
   ]
  },
  {
   "cell_type": "markdown",
   "id": "5b916da7",
   "metadata": {},
   "source": [
    "### Summary"
   ]
  },
  {
   "cell_type": "markdown",
   "id": "9e364489",
   "metadata": {},
   "source": [
    "As be be seen, for the data set used:\n",
    "\n",
    "- driving distance average has a lognormal distribution\n",
    "- driving accuracy average has a Rayleigh distribution\n",
    "- GIR percentage has as a normal distribution \n",
    "- birdie average has a lognormal distribution"
   ]
  },
  {
   "cell_type": "markdown",
   "id": "f2899f47",
   "metadata": {},
   "source": [
    "## 5. Gather Historical Data for Each Variable"
   ]
  },
  {
   "cell_type": "markdown",
   "id": "5ede9033",
   "metadata": {},
   "source": [
    "The next stage of the process is to gather historical data for each of the four variables. Data for each of the top 100 players within each variable category was collected from the PGA Tour website for the years 1990, 2000, 2010, and 2020. For example, for driving distance, the top 100 average distances for each of the four years was collected. \n",
    "\n",
    "For each variable, the mean for each year is calculated. The increase or decrease between the mean value for each year is then determined - this will show whether PGA Tour golfers, on average, have increased or decreased their statistics each decade. "
   ]
  },
  {
   "cell_type": "markdown",
   "id": "17bb86a4",
   "metadata": {},
   "source": [
    "Again, this was a manual process which involved copying the data for each variable from the PGA Tour website to a .csv file saved in the data folder associated with this project. "
   ]
  },
  {
   "cell_type": "markdown",
   "id": "ea54b9e7",
   "metadata": {},
   "source": [
    "### Driving Distance Average"
   ]
  },
  {
   "cell_type": "code",
   "execution_count": 16,
   "id": "e8bee17c",
   "metadata": {},
   "outputs": [],
   "source": [
    "historic_distance_df = pd.read_csv('data\\historic_distance.csv')"
   ]
  },
  {
   "cell_type": "markdown",
   "id": "e536c860",
   "metadata": {},
   "source": [
    "Columns are added with the years as headers:"
   ]
  },
  {
   "cell_type": "code",
   "execution_count": 17,
   "id": "efafc2fc",
   "metadata": {},
   "outputs": [
    {
     "data": {
      "text/html": [
       "<div>\n",
       "<style scoped>\n",
       "    .dataframe tbody tr th:only-of-type {\n",
       "        vertical-align: middle;\n",
       "    }\n",
       "\n",
       "    .dataframe tbody tr th {\n",
       "        vertical-align: top;\n",
       "    }\n",
       "\n",
       "    .dataframe thead th {\n",
       "        text-align: right;\n",
       "    }\n",
       "</style>\n",
       "<table border=\"1\" class=\"dataframe\">\n",
       "  <thead>\n",
       "    <tr style=\"text-align: right;\">\n",
       "      <th></th>\n",
       "      <th>1990</th>\n",
       "      <th>2000</th>\n",
       "      <th>2010</th>\n",
       "      <th>2020</th>\n",
       "    </tr>\n",
       "  </thead>\n",
       "  <tbody>\n",
       "    <tr>\n",
       "      <th>0</th>\n",
       "      <td>279.6</td>\n",
       "      <td>301.4</td>\n",
       "      <td>315.5</td>\n",
       "      <td>322.1</td>\n",
       "    </tr>\n",
       "    <tr>\n",
       "      <th>1</th>\n",
       "      <td>279.4</td>\n",
       "      <td>298.0</td>\n",
       "      <td>309.8</td>\n",
       "      <td>322.0</td>\n",
       "    </tr>\n",
       "    <tr>\n",
       "      <th>2</th>\n",
       "      <td>278.0</td>\n",
       "      <td>288.7</td>\n",
       "      <td>308.5</td>\n",
       "      <td>315.3</td>\n",
       "    </tr>\n",
       "    <tr>\n",
       "      <th>3</th>\n",
       "      <td>277.6</td>\n",
       "      <td>288.7</td>\n",
       "      <td>307.3</td>\n",
       "      <td>314.0</td>\n",
       "    </tr>\n",
       "    <tr>\n",
       "      <th>4</th>\n",
       "      <td>277.6</td>\n",
       "      <td>288.5</td>\n",
       "      <td>307.2</td>\n",
       "      <td>313.8</td>\n",
       "    </tr>\n",
       "    <tr>\n",
       "      <th>...</th>\n",
       "      <td>...</td>\n",
       "      <td>...</td>\n",
       "      <td>...</td>\n",
       "      <td>...</td>\n",
       "    </tr>\n",
       "    <tr>\n",
       "      <th>95</th>\n",
       "      <td>263.1</td>\n",
       "      <td>273.3</td>\n",
       "      <td>287.9</td>\n",
       "      <td>297.4</td>\n",
       "    </tr>\n",
       "    <tr>\n",
       "      <th>96</th>\n",
       "      <td>263.0</td>\n",
       "      <td>273.2</td>\n",
       "      <td>287.8</td>\n",
       "      <td>297.3</td>\n",
       "    </tr>\n",
       "    <tr>\n",
       "      <th>97</th>\n",
       "      <td>263.0</td>\n",
       "      <td>273.2</td>\n",
       "      <td>287.7</td>\n",
       "      <td>297.3</td>\n",
       "    </tr>\n",
       "    <tr>\n",
       "      <th>98</th>\n",
       "      <td>263.0</td>\n",
       "      <td>273.2</td>\n",
       "      <td>287.6</td>\n",
       "      <td>297.3</td>\n",
       "    </tr>\n",
       "    <tr>\n",
       "      <th>99</th>\n",
       "      <td>263.0</td>\n",
       "      <td>273.2</td>\n",
       "      <td>287.3</td>\n",
       "      <td>297.2</td>\n",
       "    </tr>\n",
       "  </tbody>\n",
       "</table>\n",
       "<p>100 rows × 4 columns</p>\n",
       "</div>"
      ],
      "text/plain": [
       "     1990   2000   2010   2020\n",
       "0   279.6  301.4  315.5  322.1\n",
       "1   279.4  298.0  309.8  322.0\n",
       "2   278.0  288.7  308.5  315.3\n",
       "3   277.6  288.7  307.3  314.0\n",
       "4   277.6  288.5  307.2  313.8\n",
       "..    ...    ...    ...    ...\n",
       "95  263.1  273.3  287.9  297.4\n",
       "96  263.0  273.2  287.8  297.3\n",
       "97  263.0  273.2  287.7  297.3\n",
       "98  263.0  273.2  287.6  297.3\n",
       "99  263.0  273.2  287.3  297.2\n",
       "\n",
       "[100 rows x 4 columns]"
      ]
     },
     "execution_count": 17,
     "metadata": {},
     "output_type": "execute_result"
    }
   ],
   "source": [
    "historic_distance_df.columns = ['1990', '2000', '2010','2020']\n",
    "historic_distance_df"
   ]
  },
  {
   "cell_type": "code",
   "execution_count": 18,
   "id": "d60295fa",
   "metadata": {},
   "outputs": [],
   "source": [
    "#historic_distance_df_arr = historic_distance_df\n",
    "#historic_distance_df_arr.columns = ['1990', '2000', '2010','2020']\n",
    "#https://note.nkmk.me/en/python-pandas-t-transpose/\n",
    "#historic_distance_df_arr"
   ]
  },
  {
   "cell_type": "markdown",
   "id": "a6e16b49",
   "metadata": {},
   "source": [
    "Each year is separated out:"
   ]
  },
  {
   "cell_type": "code",
   "execution_count": 19,
   "id": "5f29b557",
   "metadata": {},
   "outputs": [],
   "source": [
    "distance_1990 = historic_distance_df.iloc[:,0]\n",
    "distance_2000 = historic_distance_df.iloc[:,1]\n",
    "distance_2010 = historic_distance_df.iloc[:,2]\n",
    "distance_2020 = historic_distance_df.iloc[:,3]"
   ]
  },
  {
   "cell_type": "markdown",
   "id": "18a098f2",
   "metadata": {},
   "source": [
    "The mean for each year is determined:"
   ]
  },
  {
   "cell_type": "code",
   "execution_count": 20,
   "id": "a81190c0",
   "metadata": {},
   "outputs": [],
   "source": [
    "mean_distance_1990 = statistics.mean(distance_1990)\n",
    "mean_distance_2000 = statistics.mean(distance_2000)\n",
    "mean_distance_2010 = statistics.mean(distance_2010)\n",
    "mean_distance_2020 = statistics.mean(distance_2020)"
   ]
  },
  {
   "cell_type": "markdown",
   "id": "0da2f0f6",
   "metadata": {},
   "source": [
    "For example:"
   ]
  },
  {
   "cell_type": "code",
   "execution_count": 21,
   "id": "9e8030cd",
   "metadata": {},
   "outputs": [
    {
     "data": {
      "text/plain": [
       "267.734"
      ]
     },
     "execution_count": 21,
     "metadata": {},
     "output_type": "execute_result"
    }
   ],
   "source": [
    "mean_distance_1990"
   ]
  },
  {
   "cell_type": "markdown",
   "id": "b52ab9a8",
   "metadata": {},
   "source": [
    "The distance increase between years (i.e. each decade) is calculated:"
   ]
  },
  {
   "cell_type": "code",
   "execution_count": 22,
   "id": "79b0a29b",
   "metadata": {},
   "outputs": [
    {
     "data": {
      "text/plain": [
       "([9.718999999999994], [15.097000000000037], [10.908999999999992])"
      ]
     },
     "execution_count": 22,
     "metadata": {},
     "output_type": "execute_result"
    }
   ],
   "source": [
    "distance_increase = ([mean_distance_2020 - mean_distance_2010],[mean_distance_2010 - mean_distance_2000], [mean_distance_2000 - mean_distance_1990] )\n",
    "distance_increase"
   ]
  },
  {
   "cell_type": "markdown",
   "id": "f6f6fc06",
   "metadata": {},
   "source": [
    "The mean increase or decrease is calculated:"
   ]
  },
  {
   "cell_type": "code",
   "execution_count": 23,
   "id": "8339b3f5",
   "metadata": {},
   "outputs": [
    {
     "data": {
      "text/plain": [
       "11.90833333333334"
      ]
     },
     "execution_count": 23,
     "metadata": {},
     "output_type": "execute_result"
    }
   ],
   "source": [
    "mean_distance_increase = np.mean(distance_increase)\n",
    "mean_distance_increase"
   ]
  },
  {
   "cell_type": "markdown",
   "id": "3c3f7c60",
   "metadata": {},
   "source": [
    "Therefore, on average, each decade from 1990 to 2020, average driving distance on the PGA Tour increased nearly 12 yards. "
   ]
  },
  {
   "cell_type": "code",
   "execution_count": 24,
   "id": "6642bd50",
   "metadata": {},
   "outputs": [],
   "source": [
    "#std_distance_increase = np.std(distance_increase)\n",
    "#std_distance_increase"
   ]
  },
  {
   "cell_type": "markdown",
   "id": "b75a7dc0",
   "metadata": {},
   "source": [
    "The process was repeated for the remaining three variables."
   ]
  },
  {
   "cell_type": "markdown",
   "id": "6259fb30",
   "metadata": {},
   "source": [
    "### Driving Accuracy Percentage"
   ]
  },
  {
   "cell_type": "code",
   "execution_count": 25,
   "id": "f2ea2320",
   "metadata": {},
   "outputs": [],
   "source": [
    "historic_accuracy_df = pd.read_csv('data\\historic_accuracy.csv')"
   ]
  },
  {
   "cell_type": "code",
   "execution_count": 26,
   "id": "b9b1e391",
   "metadata": {},
   "outputs": [
    {
     "data": {
      "text/html": [
       "<div>\n",
       "<style scoped>\n",
       "    .dataframe tbody tr th:only-of-type {\n",
       "        vertical-align: middle;\n",
       "    }\n",
       "\n",
       "    .dataframe tbody tr th {\n",
       "        vertical-align: top;\n",
       "    }\n",
       "\n",
       "    .dataframe thead th {\n",
       "        text-align: right;\n",
       "    }\n",
       "</style>\n",
       "<table border=\"1\" class=\"dataframe\">\n",
       "  <thead>\n",
       "    <tr style=\"text-align: right;\">\n",
       "      <th></th>\n",
       "      <th>1990</th>\n",
       "      <th>2000</th>\n",
       "      <th>2010</th>\n",
       "      <th>2020</th>\n",
       "    </tr>\n",
       "  </thead>\n",
       "  <tbody>\n",
       "    <tr>\n",
       "      <th>0</th>\n",
       "      <td>83.67</td>\n",
       "      <td>79.75</td>\n",
       "      <td>76.08</td>\n",
       "      <td>74.50</td>\n",
       "    </tr>\n",
       "    <tr>\n",
       "      <th>1</th>\n",
       "      <td>79.19</td>\n",
       "      <td>79.57</td>\n",
       "      <td>75.94</td>\n",
       "      <td>73.86</td>\n",
       "    </tr>\n",
       "    <tr>\n",
       "      <th>2</th>\n",
       "      <td>78.97</td>\n",
       "      <td>78.76</td>\n",
       "      <td>74.00</td>\n",
       "      <td>71.84</td>\n",
       "    </tr>\n",
       "    <tr>\n",
       "      <th>3</th>\n",
       "      <td>77.84</td>\n",
       "      <td>78.75</td>\n",
       "      <td>73.72</td>\n",
       "      <td>71.36</td>\n",
       "    </tr>\n",
       "    <tr>\n",
       "      <th>4</th>\n",
       "      <td>77.57</td>\n",
       "      <td>77.96</td>\n",
       "      <td>72.86</td>\n",
       "      <td>71.29</td>\n",
       "    </tr>\n",
       "    <tr>\n",
       "      <th>...</th>\n",
       "      <td>...</td>\n",
       "      <td>...</td>\n",
       "      <td>...</td>\n",
       "      <td>...</td>\n",
       "    </tr>\n",
       "    <tr>\n",
       "      <th>95</th>\n",
       "      <td>65.30</td>\n",
       "      <td>68.88</td>\n",
       "      <td>63.72</td>\n",
       "      <td>60.34</td>\n",
       "    </tr>\n",
       "    <tr>\n",
       "      <th>96</th>\n",
       "      <td>65.00</td>\n",
       "      <td>68.85</td>\n",
       "      <td>63.69</td>\n",
       "      <td>60.34</td>\n",
       "    </tr>\n",
       "    <tr>\n",
       "      <th>97</th>\n",
       "      <td>64.99</td>\n",
       "      <td>68.78</td>\n",
       "      <td>63.47</td>\n",
       "      <td>60.31</td>\n",
       "    </tr>\n",
       "    <tr>\n",
       "      <th>98</th>\n",
       "      <td>64.97</td>\n",
       "      <td>68.68</td>\n",
       "      <td>63.40</td>\n",
       "      <td>60.26</td>\n",
       "    </tr>\n",
       "    <tr>\n",
       "      <th>99</th>\n",
       "      <td>64.97</td>\n",
       "      <td>68.67</td>\n",
       "      <td>63.40</td>\n",
       "      <td>60.20</td>\n",
       "    </tr>\n",
       "  </tbody>\n",
       "</table>\n",
       "<p>100 rows × 4 columns</p>\n",
       "</div>"
      ],
      "text/plain": [
       "     1990   2000   2010   2020\n",
       "0   83.67  79.75  76.08  74.50\n",
       "1   79.19  79.57  75.94  73.86\n",
       "2   78.97  78.76  74.00  71.84\n",
       "3   77.84  78.75  73.72  71.36\n",
       "4   77.57  77.96  72.86  71.29\n",
       "..    ...    ...    ...    ...\n",
       "95  65.30  68.88  63.72  60.34\n",
       "96  65.00  68.85  63.69  60.34\n",
       "97  64.99  68.78  63.47  60.31\n",
       "98  64.97  68.68  63.40  60.26\n",
       "99  64.97  68.67  63.40  60.20\n",
       "\n",
       "[100 rows x 4 columns]"
      ]
     },
     "execution_count": 26,
     "metadata": {},
     "output_type": "execute_result"
    }
   ],
   "source": [
    "historic_accuracy_df = historic_accuracy_df\n",
    "historic_accuracy_df.columns = ['1990', '2000', '2010','2020']\n",
    "historic_accuracy_df"
   ]
  },
  {
   "cell_type": "code",
   "execution_count": 27,
   "id": "d7dbcc08",
   "metadata": {},
   "outputs": [],
   "source": [
    "accuracy_1990 = historic_accuracy_df.iloc[:,0]\n",
    "accuracy_2000 = historic_accuracy_df.iloc[:,1]\n",
    "accuracy_2010 = historic_accuracy_df.iloc[:,2]\n",
    "accuracy_2020 = historic_accuracy_df.iloc[:,3]"
   ]
  },
  {
   "cell_type": "code",
   "execution_count": 28,
   "id": "edf6b409",
   "metadata": {},
   "outputs": [],
   "source": [
    "mean_accuracy_1990 = statistics.mean(accuracy_1990)\n",
    "mean_accuracy_2000 = statistics.mean(accuracy_2000)\n",
    "mean_accuracy_2010 = statistics.mean(accuracy_2010)\n",
    "mean_accuracy_2020 = statistics.mean(accuracy_2020)"
   ]
  },
  {
   "cell_type": "code",
   "execution_count": 29,
   "id": "4acf2e0c",
   "metadata": {},
   "outputs": [],
   "source": [
    "accuracy_increase = ([mean_accuracy_2020 - mean_accuracy_2010],[mean_accuracy_2010 - mean_accuracy_2000], [mean_accuracy_2000 - mean_accuracy_1990] )"
   ]
  },
  {
   "cell_type": "code",
   "execution_count": 30,
   "id": "3186b3df",
   "metadata": {},
   "outputs": [
    {
     "data": {
      "text/plain": [
       "-1.7376000000000005"
      ]
     },
     "execution_count": 30,
     "metadata": {},
     "output_type": "execute_result"
    }
   ],
   "source": [
    "mean_accuracy_increase = np.mean(accuracy_increase)\n",
    "mean_accuracy_increase"
   ]
  },
  {
   "cell_type": "markdown",
   "id": "43ea8c71",
   "metadata": {},
   "source": [
    "### GIR Percentage"
   ]
  },
  {
   "cell_type": "code",
   "execution_count": 31,
   "id": "08498aaa",
   "metadata": {},
   "outputs": [],
   "source": [
    "historic_gir_df = pd.read_csv('data\\historic_gir.csv')"
   ]
  },
  {
   "cell_type": "code",
   "execution_count": 32,
   "id": "507758a8",
   "metadata": {},
   "outputs": [
    {
     "data": {
      "text/html": [
       "<div>\n",
       "<style scoped>\n",
       "    .dataframe tbody tr th:only-of-type {\n",
       "        vertical-align: middle;\n",
       "    }\n",
       "\n",
       "    .dataframe tbody tr th {\n",
       "        vertical-align: top;\n",
       "    }\n",
       "\n",
       "    .dataframe thead th {\n",
       "        text-align: right;\n",
       "    }\n",
       "</style>\n",
       "<table border=\"1\" class=\"dataframe\">\n",
       "  <thead>\n",
       "    <tr style=\"text-align: right;\">\n",
       "      <th></th>\n",
       "      <th>1990</th>\n",
       "      <th>2000</th>\n",
       "      <th>2010</th>\n",
       "      <th>2020</th>\n",
       "    </tr>\n",
       "  </thead>\n",
       "  <tbody>\n",
       "    <tr>\n",
       "      <th>0</th>\n",
       "      <td>70.91</td>\n",
       "      <td>75.15</td>\n",
       "      <td>72.49</td>\n",
       "      <td>74.22</td>\n",
       "    </tr>\n",
       "    <tr>\n",
       "      <th>1</th>\n",
       "      <td>70.85</td>\n",
       "      <td>72.34</td>\n",
       "      <td>71.96</td>\n",
       "      <td>72.54</td>\n",
       "    </tr>\n",
       "    <tr>\n",
       "      <th>2</th>\n",
       "      <td>70.22</td>\n",
       "      <td>71.86</td>\n",
       "      <td>71.95</td>\n",
       "      <td>72.10</td>\n",
       "    </tr>\n",
       "    <tr>\n",
       "      <th>3</th>\n",
       "      <td>70.06</td>\n",
       "      <td>71.20</td>\n",
       "      <td>71.74</td>\n",
       "      <td>71.70</td>\n",
       "    </tr>\n",
       "    <tr>\n",
       "      <th>4</th>\n",
       "      <td>70.00</td>\n",
       "      <td>71.13</td>\n",
       "      <td>71.43</td>\n",
       "      <td>71.69</td>\n",
       "    </tr>\n",
       "    <tr>\n",
       "      <th>...</th>\n",
       "      <td>...</td>\n",
       "      <td>...</td>\n",
       "      <td>...</td>\n",
       "      <td>...</td>\n",
       "    </tr>\n",
       "    <tr>\n",
       "      <th>95</th>\n",
       "      <td>64.43</td>\n",
       "      <td>65.91</td>\n",
       "      <td>66.86</td>\n",
       "      <td>66.97</td>\n",
       "    </tr>\n",
       "    <tr>\n",
       "      <th>96</th>\n",
       "      <td>64.42</td>\n",
       "      <td>65.86</td>\n",
       "      <td>66.81</td>\n",
       "      <td>66.97</td>\n",
       "    </tr>\n",
       "    <tr>\n",
       "      <th>97</th>\n",
       "      <td>64.40</td>\n",
       "      <td>65.83</td>\n",
       "      <td>66.78</td>\n",
       "      <td>66.95</td>\n",
       "    </tr>\n",
       "    <tr>\n",
       "      <th>98</th>\n",
       "      <td>64.29</td>\n",
       "      <td>65.82</td>\n",
       "      <td>66.77</td>\n",
       "      <td>66.95</td>\n",
       "    </tr>\n",
       "    <tr>\n",
       "      <th>99</th>\n",
       "      <td>64.14</td>\n",
       "      <td>65.82</td>\n",
       "      <td>66.75</td>\n",
       "      <td>66.93</td>\n",
       "    </tr>\n",
       "  </tbody>\n",
       "</table>\n",
       "<p>100 rows × 4 columns</p>\n",
       "</div>"
      ],
      "text/plain": [
       "     1990   2000   2010   2020\n",
       "0   70.91  75.15  72.49  74.22\n",
       "1   70.85  72.34  71.96  72.54\n",
       "2   70.22  71.86  71.95  72.10\n",
       "3   70.06  71.20  71.74  71.70\n",
       "4   70.00  71.13  71.43  71.69\n",
       "..    ...    ...    ...    ...\n",
       "95  64.43  65.91  66.86  66.97\n",
       "96  64.42  65.86  66.81  66.97\n",
       "97  64.40  65.83  66.78  66.95\n",
       "98  64.29  65.82  66.77  66.95\n",
       "99  64.14  65.82  66.75  66.93\n",
       "\n",
       "[100 rows x 4 columns]"
      ]
     },
     "execution_count": 32,
     "metadata": {},
     "output_type": "execute_result"
    }
   ],
   "source": [
    "historic_gir_df = historic_gir_df\n",
    "historic_gir_df.columns = ['1990', '2000', '2010','2020']\n",
    "historic_gir_df"
   ]
  },
  {
   "cell_type": "code",
   "execution_count": 33,
   "id": "7454a502",
   "metadata": {},
   "outputs": [],
   "source": [
    "gir_1990 = historic_gir_df.iloc[:,0]\n",
    "gir_2000 = historic_gir_df.iloc[:,1]\n",
    "gir_2010 = historic_gir_df.iloc[:,2]\n",
    "gir_2020 = historic_gir_df.iloc[:,3]"
   ]
  },
  {
   "cell_type": "code",
   "execution_count": 34,
   "id": "203c70c4",
   "metadata": {},
   "outputs": [],
   "source": [
    "mean_gir_1990 = statistics.mean(gir_1990)\n",
    "mean_gir_2000 = statistics.mean(gir_2000)\n",
    "mean_gir_2010 = statistics.mean(gir_2010)\n",
    "mean_gir_2020 = statistics.mean(gir_2020)"
   ]
  },
  {
   "cell_type": "code",
   "execution_count": 35,
   "id": "76e09eb1",
   "metadata": {},
   "outputs": [],
   "source": [
    "gir_increase = ([mean_gir_2020 - mean_gir_2010],[mean_gir_2010 - mean_gir_2000], [mean_gir_2000 - mean_gir_1990] )"
   ]
  },
  {
   "cell_type": "code",
   "execution_count": 36,
   "id": "7808f8f2",
   "metadata": {},
   "outputs": [
    {
     "data": {
      "text/plain": [
       "0.854000000000004"
      ]
     },
     "execution_count": 36,
     "metadata": {},
     "output_type": "execute_result"
    }
   ],
   "source": [
    "mean_gir_increase = np.mean(gir_increase)\n",
    "mean_gir_increase"
   ]
  },
  {
   "cell_type": "markdown",
   "id": "f28fa0fc",
   "metadata": {},
   "source": [
    "### Birdie Average"
   ]
  },
  {
   "cell_type": "code",
   "execution_count": 37,
   "id": "8295ef5f",
   "metadata": {},
   "outputs": [],
   "source": [
    "historic_birdies_df = pd.read_csv('data\\historic_birdies.csv')"
   ]
  },
  {
   "cell_type": "code",
   "execution_count": 38,
   "id": "0abdd74c",
   "metadata": {},
   "outputs": [
    {
     "data": {
      "text/html": [
       "<div>\n",
       "<style scoped>\n",
       "    .dataframe tbody tr th:only-of-type {\n",
       "        vertical-align: middle;\n",
       "    }\n",
       "\n",
       "    .dataframe tbody tr th {\n",
       "        vertical-align: top;\n",
       "    }\n",
       "\n",
       "    .dataframe thead th {\n",
       "        text-align: right;\n",
       "    }\n",
       "</style>\n",
       "<table border=\"1\" class=\"dataframe\">\n",
       "  <thead>\n",
       "    <tr style=\"text-align: right;\">\n",
       "      <th></th>\n",
       "      <th>1990</th>\n",
       "      <th>2000</th>\n",
       "      <th>2010</th>\n",
       "      <th>2020</th>\n",
       "    </tr>\n",
       "  </thead>\n",
       "  <tbody>\n",
       "    <tr>\n",
       "      <th>0</th>\n",
       "      <td>3.88</td>\n",
       "      <td>4.92</td>\n",
       "      <td>4.06</td>\n",
       "      <td>4.67</td>\n",
       "    </tr>\n",
       "    <tr>\n",
       "      <th>1</th>\n",
       "      <td>3.84</td>\n",
       "      <td>4.26</td>\n",
       "      <td>4.03</td>\n",
       "      <td>4.55</td>\n",
       "    </tr>\n",
       "    <tr>\n",
       "      <th>2</th>\n",
       "      <td>3.82</td>\n",
       "      <td>4.22</td>\n",
       "      <td>4.02</td>\n",
       "      <td>4.55</td>\n",
       "    </tr>\n",
       "    <tr>\n",
       "      <th>3</th>\n",
       "      <td>3.76</td>\n",
       "      <td>4.21</td>\n",
       "      <td>4.01</td>\n",
       "      <td>4.42</td>\n",
       "    </tr>\n",
       "    <tr>\n",
       "      <th>4</th>\n",
       "      <td>3.76</td>\n",
       "      <td>4.08</td>\n",
       "      <td>4.00</td>\n",
       "      <td>4.38</td>\n",
       "    </tr>\n",
       "    <tr>\n",
       "      <th>...</th>\n",
       "      <td>...</td>\n",
       "      <td>...</td>\n",
       "      <td>...</td>\n",
       "      <td>...</td>\n",
       "    </tr>\n",
       "    <tr>\n",
       "      <th>187</th>\n",
       "      <td>2.61</td>\n",
       "      <td>2.88</td>\n",
       "      <td>2.95</td>\n",
       "      <td>3.20</td>\n",
       "    </tr>\n",
       "    <tr>\n",
       "      <th>188</th>\n",
       "      <td>2.59</td>\n",
       "      <td>2.80</td>\n",
       "      <td>2.88</td>\n",
       "      <td>3.20</td>\n",
       "    </tr>\n",
       "    <tr>\n",
       "      <th>189</th>\n",
       "      <td>2.58</td>\n",
       "      <td>2.77</td>\n",
       "      <td>2.82</td>\n",
       "      <td>3.18</td>\n",
       "    </tr>\n",
       "    <tr>\n",
       "      <th>190</th>\n",
       "      <td>2.29</td>\n",
       "      <td>2.76</td>\n",
       "      <td>2.80</td>\n",
       "      <td>3.04</td>\n",
       "    </tr>\n",
       "    <tr>\n",
       "      <th>191</th>\n",
       "      <td>2.05</td>\n",
       "      <td>2.76</td>\n",
       "      <td>2.79</td>\n",
       "      <td>2.98</td>\n",
       "    </tr>\n",
       "  </tbody>\n",
       "</table>\n",
       "<p>192 rows × 4 columns</p>\n",
       "</div>"
      ],
      "text/plain": [
       "     1990  2000  2010  2020\n",
       "0    3.88  4.92  4.06  4.67\n",
       "1    3.84  4.26  4.03  4.55\n",
       "2    3.82  4.22  4.02  4.55\n",
       "3    3.76  4.21  4.01  4.42\n",
       "4    3.76  4.08  4.00  4.38\n",
       "..    ...   ...   ...   ...\n",
       "187  2.61  2.88  2.95  3.20\n",
       "188  2.59  2.80  2.88  3.20\n",
       "189  2.58  2.77  2.82  3.18\n",
       "190  2.29  2.76  2.80  3.04\n",
       "191  2.05  2.76  2.79  2.98\n",
       "\n",
       "[192 rows x 4 columns]"
      ]
     },
     "execution_count": 38,
     "metadata": {},
     "output_type": "execute_result"
    }
   ],
   "source": [
    "historic_birdies_df = historic_birdies_df\n",
    "historic_birdies_df.columns = ['1990', '2000', '2010','2020']\n",
    "historic_birdies_df"
   ]
  },
  {
   "cell_type": "code",
   "execution_count": 39,
   "id": "7c1c9a02",
   "metadata": {},
   "outputs": [],
   "source": [
    "birdies_1990 = historic_birdies_df.iloc[:,0]\n",
    "birdies_2000 = historic_birdies_df.iloc[:,1]\n",
    "birdies_2010 = historic_birdies_df.iloc[:,2]\n",
    "birdies_2020 = historic_birdies_df.iloc[:,3]"
   ]
  },
  {
   "cell_type": "code",
   "execution_count": 40,
   "id": "f51ff348",
   "metadata": {},
   "outputs": [],
   "source": [
    "mean_birdies_1990 = statistics.mean(birdies_1990)\n",
    "mean_birdies_2000 = statistics.mean(birdies_2000)\n",
    "mean_birdies_2010 = statistics.mean(birdies_2010)\n",
    "mean_birdies_2020 = statistics.mean(birdies_2020)"
   ]
  },
  {
   "cell_type": "code",
   "execution_count": 41,
   "id": "eba2e1a7",
   "metadata": {},
   "outputs": [],
   "source": [
    "birdies_increase = ([mean_birdies_2020 - mean_birdies_2010],[mean_birdies_2010 - mean_birdies_2000], [mean_birdies_2000 - mean_birdies_1990] )"
   ]
  },
  {
   "cell_type": "code",
   "execution_count": 42,
   "id": "77472856",
   "metadata": {},
   "outputs": [
    {
     "data": {
      "text/plain": [
       "0.20939236111111104"
      ]
     },
     "execution_count": 42,
     "metadata": {},
     "output_type": "execute_result"
    }
   ],
   "source": [
    "mean_birdies_increase = np.mean(birdies_increase)\n",
    "mean_birdies_increase "
   ]
  },
  {
   "cell_type": "markdown",
   "id": "567583e3",
   "metadata": {},
   "source": [
    "### Summary"
   ]
  },
  {
   "cell_type": "markdown",
   "id": "0ff895f2",
   "metadata": {},
   "source": [
    "On average, each decade from 1990 to 2020:\n",
    "\n",
    "- average driving distance on the PGA Tour increased by approximately 12 yards. \n",
    "\n",
    "- average driving accuracy on the PGA Tour decreased by approximately 1.7\n",
    "\n",
    "- GIR percentage on the PGA Tour increased by approximately 0.85\n",
    "\n",
    "- birdie average on the PGA Tour increased by approximately 0.2 \n",
    "\n"
   ]
  },
  {
   "cell_type": "markdown",
   "id": "1a954d45",
   "metadata": {},
   "source": [
    "## 6. Estimate Variables for 2030"
   ]
  },
  {
   "cell_type": "markdown",
   "id": "700b24f8",
   "metadata": {},
   "source": [
    "Based on the average increase or decrease for each decade determined in the last section, an estimate is made for the values of each variable in 2030 (i.e. in another decade from 2020)."
   ]
  },
  {
   "cell_type": "markdown",
   "id": "e2eb348c",
   "metadata": {},
   "source": [
    "### Driving Distance Average"
   ]
  },
  {
   "cell_type": "code",
   "execution_count": 43,
   "id": "15f6c044",
   "metadata": {},
   "outputs": [
    {
     "data": {
      "text/plain": [
       "315.36733333333336"
      ]
     },
     "execution_count": 43,
     "metadata": {},
     "output_type": "execute_result"
    }
   ],
   "source": [
    "mean_distance_2030 = (mean_distance_2020 + mean_distance_increase)\n",
    "mean_distance_2030"
   ]
  },
  {
   "cell_type": "markdown",
   "id": "16e8bc99",
   "metadata": {},
   "source": [
    "### Driving Accuracy Percentage"
   ]
  },
  {
   "cell_type": "code",
   "execution_count": 44,
   "id": "b04d25b4",
   "metadata": {},
   "outputs": [
    {
     "data": {
      "text/plain": [
       "62.5958"
      ]
     },
     "execution_count": 44,
     "metadata": {},
     "output_type": "execute_result"
    }
   ],
   "source": [
    "mean_accuracy_2030 = (mean_accuracy_2020 + mean_accuracy_increase)\n",
    "mean_accuracy_2030"
   ]
  },
  {
   "cell_type": "markdown",
   "id": "ab661f21",
   "metadata": {},
   "source": [
    "### GIR Percentage"
   ]
  },
  {
   "cell_type": "code",
   "execution_count": 45,
   "id": "4fcdde1b",
   "metadata": {},
   "outputs": [
    {
     "data": {
      "text/plain": [
       "69.8079"
      ]
     },
     "execution_count": 45,
     "metadata": {},
     "output_type": "execute_result"
    }
   ],
   "source": [
    "mean_gir_2030 = (mean_gir_2020 + mean_gir_increase)\n",
    "mean_gir_2030"
   ]
  },
  {
   "cell_type": "markdown",
   "id": "2094b5f7",
   "metadata": {},
   "source": [
    "### Birdie Average"
   ]
  },
  {
   "cell_type": "code",
   "execution_count": 46,
   "id": "4893bc9c",
   "metadata": {},
   "outputs": [
    {
     "data": {
      "text/plain": [
       "3.9966840277777775"
      ]
     },
     "execution_count": 46,
     "metadata": {},
     "output_type": "execute_result"
    }
   ],
   "source": [
    "mean_birdies_2030 = (mean_birdies_2020 + mean_birdies_increase)\n",
    "mean_birdies_2030"
   ]
  },
  {
   "cell_type": "markdown",
   "id": "6551d457",
   "metadata": {},
   "source": [
    "### Summary"
   ]
  },
  {
   "cell_type": "markdown",
   "id": "fbe6a67d",
   "metadata": {},
   "source": [
    "The estimated value for each variable for 2030 is:\n",
    "\n",
    "- average driving distance is approximately 315.4 yards \n",
    "\n",
    "- average driving accuracy is approximately 62.6%\n",
    "\n",
    "- GIR percentage is approximately 69.8%\n",
    "\n",
    "- birdie average is approximately 4%\n",
    "\n",
    "\n"
   ]
  },
  {
   "cell_type": "markdown",
   "id": "f39fb14b",
   "metadata": {},
   "source": [
    "## 7. Simulate Distribution for Each Variable using 2030 Estimated Values"
   ]
  },
  {
   "cell_type": "markdown",
   "id": "0129b410",
   "metadata": {},
   "source": [
    "The next step in the project is to simulate the distribution for each variable using the 2030 estimated values. There are various ways to do this in Python, such as using the Numpy package. For this project, it was decided to use the SciPy package. SciPy provides algorithms for algebraic equations, differential equations, statistics and many other classes of problems (https://scipy.org/). In particular, the ```scipy.stats``` module will be used which contains a large number of probability distributions, statistical tests, kernel density estimation and more (https://docs.scipy.org/doc/scipy/reference/stats.html)."
   ]
  },
  {
   "cell_type": "code",
   "execution_count": 47,
   "id": "0049d373",
   "metadata": {},
   "outputs": [],
   "source": [
    "simulation_size=250"
   ]
  },
  {
   "cell_type": "markdown",
   "id": "c90205df",
   "metadata": {},
   "source": [
    "### Driving Distance Average"
   ]
  },
  {
   "cell_type": "markdown",
   "id": "be9c7208",
   "metadata": {},
   "source": [
    "As detailed in Section 4, the Fitter tool provided the s, loc, and scale values (as required) for each of the distributions for each of the variables for the top 100 ranked players in the 2021 Fedex cup. "
   ]
  },
  {
   "cell_type": "markdown",
   "id": "667a85a8",
   "metadata": {},
   "source": [
    "For the driving distance distribution (as shown in Section 4) these are as follow:"
   ]
  },
  {
   "cell_type": "code",
   "execution_count": 48,
   "id": "9419ecd9",
   "metadata": {},
   "outputs": [
    {
     "data": {
      "text/plain": [
       "{'lognorm': {'s': 0.11093697461805507,\n",
       "  'loc': 226.62980940729665,\n",
       "  'scale': 72.26386699032992}}"
      ]
     },
     "execution_count": 48,
     "metadata": {},
     "output_type": "execute_result"
    }
   ],
   "source": [
    "distance_list"
   ]
  },
  {
   "cell_type": "markdown",
   "id": "971879d4",
   "metadata": {},
   "source": [
    "The same values are used for the s, loc, and scale values for the 2030 simulated distribution. However, for loc, the mean distance increase determined in Section 6 was added to the loc value as the distance has increased. Please note, the mean distance value for 2030 is not used for the loc value, rather the mean distance increase is added to the loc value determined by Fitter. Using the mean distance value for 2030 would result in a distribution spread around a greater distance than would be expected.  "
   ]
  },
  {
   "cell_type": "code",
   "execution_count": 49,
   "id": "35bfa015",
   "metadata": {},
   "outputs": [],
   "source": [
    "distance_s=0.11093697461805507\n",
    "distance_loc=(226.62980940729665+mean_distance_increase)\n",
    "distance_scale=72.26386699032992"
   ]
  },
  {
   "cell_type": "markdown",
   "id": "b663111e",
   "metadata": {},
   "source": [
    "A simulated distribution for the driving distance average for 2030 can then be created using the lognormal distribution function in SciPy (https://docs.scipy.org/doc/scipy/reference/generated/scipy.stats.lognorm.html#scipy.stats.lognorm):"
   ]
  },
  {
   "cell_type": "code",
   "execution_count": 50,
   "id": "6a3f12b4",
   "metadata": {},
   "outputs": [
    {
     "data": {
      "image/png": "[encoded data removed]",
      "text/plain": [
       "<Figure size 432x288 with 1 Axes>"
      ]
     },
     "metadata": {
      "needs_background": "light"
     },
     "output_type": "display_data"
    }
   ],
   "source": [
    "distance_2030 = lognorm.rvs(s=distance_s, loc=distance_loc, scale=distance_scale, size=simulation_size)\n",
    "plt.hist(distance_2030, bins=30)\n",
    "\n",
    "plt.show()"
   ]
  },
  {
   "cell_type": "markdown",
   "id": "092ebab9",
   "metadata": {},
   "source": [
    "The maximum, minimum, and mean values can be shown:"
   ]
  },
  {
   "cell_type": "code",
   "execution_count": 51,
   "id": "9af204ff",
   "metadata": {},
   "outputs": [
    {
     "data": {
      "text/plain": [
       "(343.50405934472104, 292.2315491405146, 310.8523970349857)"
      ]
     },
     "execution_count": 51,
     "metadata": {},
     "output_type": "execute_result"
    }
   ],
   "source": [
    "distance_2030.max(), distance_2030.min(), distance_2030.mean()"
   ]
  },
  {
   "cell_type": "markdown",
   "id": "b0ac07dd",
   "metadata": {},
   "source": [
    "### Driving Accuracy Percentage"
   ]
  },
  {
   "cell_type": "markdown",
   "id": "1f9160ec",
   "metadata": {},
   "source": [
    "A similar process is used for driving accuracy. As previously determined, a Rayleigh distribution (https://docs.scipy.org/doc/scipy/reference/generated/scipy.stats.rayleigh.html) will be used and the loc and scale values were determined by Fitter:"
   ]
  },
  {
   "cell_type": "code",
   "execution_count": 52,
   "id": "a5724cc1",
   "metadata": {},
   "outputs": [
    {
     "data": {
      "text/plain": [
       "{'rayleigh': {'loc': 53.46421743761188, 'scale': 6.506613280990041}}"
      ]
     },
     "execution_count": 52,
     "metadata": {},
     "output_type": "execute_result"
    }
   ],
   "source": [
    "accuracy_list"
   ]
  },
  {
   "cell_type": "code",
   "execution_count": 53,
   "id": "99cfee61",
   "metadata": {},
   "outputs": [],
   "source": [
    "accuracy_loc=(53.46421743761188+mean_accuracy_increase)\n",
    "accuracy_scale=6.506613280990041"
   ]
  },
  {
   "cell_type": "markdown",
   "id": "3c6431fc",
   "metadata": {},
   "source": [
    "Please note, the average accuracy decreased and so the loc value is lower than previously determined. "
   ]
  },
  {
   "cell_type": "code",
   "execution_count": 54,
   "id": "9a8b683b",
   "metadata": {},
   "outputs": [
    {
     "data": {
      "image/png": "[encoded data removed]",
      "text/plain": [
       "<Figure size 432x288 with 1 Axes>"
      ]
     },
     "metadata": {
      "needs_background": "light"
     },
     "output_type": "display_data"
    }
   ],
   "source": [
    "accuracy_2030 = rayleigh.rvs(loc=accuracy_loc, scale=accuracy_scale, size=simulation_size, random_state=None) \n",
    "plt.hist(accuracy_2030, bins=30)\n",
    "\n",
    "plt.show()"
   ]
  },
  {
   "cell_type": "markdown",
   "id": "7906eb4d",
   "metadata": {},
   "source": [
    "The maximum, minimum, and mean values can be shown:"
   ]
  },
  {
   "cell_type": "code",
   "execution_count": 55,
   "id": "47306f14",
   "metadata": {},
   "outputs": [
    {
     "data": {
      "text/plain": [
       "(74.61373634071617, 52.89240199116105, 60.05213655067279)"
      ]
     },
     "execution_count": 55,
     "metadata": {},
     "output_type": "execute_result"
    }
   ],
   "source": [
    "accuracy_2030.max(), accuracy_2030.min(), accuracy_2030.mean()"
   ]
  },
  {
   "cell_type": "markdown",
   "id": "1070a9b3",
   "metadata": {},
   "source": [
    "### GIR Percentage"
   ]
  },
  {
   "cell_type": "markdown",
   "id": "8818d0c8",
   "metadata": {},
   "source": [
    "A similar process is used for GIR percentage. As previously determined, a normal distribution (https://docs.scipy.org/doc/scipy/reference/generated/scipy.stats.norm.html#scipy.stats.norm) will be used and the loc and scale values were determined by Fitter:"
   ]
  },
  {
   "cell_type": "code",
   "execution_count": 56,
   "id": "19fd0c0e",
   "metadata": {},
   "outputs": [
    {
     "data": {
      "text/plain": [
       "{'norm': {'loc': 66.57350000000001, 'scale': 2.4367405996535614}}"
      ]
     },
     "execution_count": 56,
     "metadata": {},
     "output_type": "execute_result"
    }
   ],
   "source": [
    "gir_list"
   ]
  },
  {
   "cell_type": "code",
   "execution_count": 57,
   "id": "40f7f69c",
   "metadata": {},
   "outputs": [],
   "source": [
    "gir_loc=(66.57350000000001+mean_gir_increase)\n",
    "gir_scale=2.4367405996535614"
   ]
  },
  {
   "cell_type": "code",
   "execution_count": 58,
   "id": "b88e20f5",
   "metadata": {},
   "outputs": [
    {
     "data": {
      "image/png": "[encoded data removed]",
      "text/plain": [
       "<Figure size 432x288 with 1 Axes>"
      ]
     },
     "metadata": {
      "needs_background": "light"
     },
     "output_type": "display_data"
    }
   ],
   "source": [
    "gir_2030 = norm.rvs(loc=gir_loc, scale=gir_scale, size=simulation_size, random_state=None) \n",
    "plt.hist(gir_2030, bins=30)\n",
    "\n",
    "plt.show()"
   ]
  },
  {
   "cell_type": "markdown",
   "id": "1226b401",
   "metadata": {},
   "source": [
    "The maximum, minimum, and mean values can be shown:"
   ]
  },
  {
   "cell_type": "code",
   "execution_count": 59,
   "id": "0cc0d8dc",
   "metadata": {},
   "outputs": [
    {
     "data": {
      "text/plain": [
       "(73.95903900489199, 60.672699963350865, 67.47496987898901)"
      ]
     },
     "execution_count": 59,
     "metadata": {},
     "output_type": "execute_result"
    }
   ],
   "source": [
    "gir_2030.max(), gir_2030.min(), gir_2030.mean()"
   ]
  },
  {
   "cell_type": "markdown",
   "id": "8a059b9d",
   "metadata": {},
   "source": [
    "### Birdie Average"
   ]
  },
  {
   "cell_type": "markdown",
   "id": "fed4fa28",
   "metadata": {},
   "source": [
    "A similar process is used for birdie average. As previously determined, as with driving distance average, a lognormal distribution will be used with the s, loc, and scale values determined by Fitter:"
   ]
  },
  {
   "cell_type": "code",
   "execution_count": 60,
   "id": "da402938",
   "metadata": {},
   "outputs": [
    {
     "data": {
      "text/plain": [
       "{'lognorm': {'s': 0.021071276169458617,\n",
       "  'loc': -9.747395651590328,\n",
       "  'scale': 13.661062712682266}}"
      ]
     },
     "execution_count": 60,
     "metadata": {},
     "output_type": "execute_result"
    }
   ],
   "source": [
    "birdies_list"
   ]
  },
  {
   "cell_type": "code",
   "execution_count": 61,
   "id": "23bba708",
   "metadata": {},
   "outputs": [],
   "source": [
    "birdies_s=0.021071276169458617\n",
    "birdies_loc=(-9.747395651590328+mean_birdies_increase)\n",
    "birdies_scale=13.661062712682266"
   ]
  },
  {
   "cell_type": "code",
   "execution_count": 62,
   "id": "f14fd791",
   "metadata": {},
   "outputs": [
    {
     "data": {
      "image/png": "[encoded data removed]",
      "text/plain": [
       "<Figure size 432x288 with 1 Axes>"
      ]
     },
     "metadata": {
      "needs_background": "light"
     },
     "output_type": "display_data"
    }
   ],
   "source": [
    "birdies_2030 = lognorm.rvs(s=birdies_s, loc=birdies_loc, scale=birdies_scale, size=simulation_size) \n",
    "plt.hist(birdies_2030, bins=30)\n",
    "\n",
    "plt.show()"
   ]
  },
  {
   "cell_type": "markdown",
   "id": "e3efdcc3",
   "metadata": {},
   "source": [
    "## 8. Comparison of Simulated Data"
   ]
  },
  {
   "cell_type": "markdown",
   "id": "95950951",
   "metadata": {},
   "source": [
    "The last stage of the project is to compare the simulated data. To do this, the pairplot function within Seaborn is used. Seaborn is a Python data visualization library based on matplotlib which provides a high-level interface for drawing attractive and informative statistical graphics (https://seaborn.pydata.org/). The pairplot() function of seaborn helps in creating an axes grid through which each numeric variable present in data is shared across y-axes in the form of rows and across x-axes in form of a column. Scatter plots are created to show pairwise relationships and in the diagonal, the distribution plot is created to show the distribution of the data in the column (https://machinelearningknowledge.ai/seaborn-pairplot-tutorial-for-beginners/). A pairplot allows for a visual comparison of the simulated data. In addition, regression lines can be added to the scatter plots within the pairplot to show trends in data. "
   ]
  },
  {
   "cell_type": "markdown",
   "id": "d1015a46",
   "metadata": {},
   "source": [
    "To allow a pairplot to be plotted the each set of 2030 data must be converted from an array to a pandas dataframe:"
   ]
  },
  {
   "cell_type": "code",
   "execution_count": 63,
   "id": "6c3e6f06",
   "metadata": {},
   "outputs": [],
   "source": [
    "df_distance_2030 = pd.DataFrame(distance_2030)\n",
    "df_accuracy_2030 = pd.DataFrame(accuracy_2030)\n",
    "df_gir_2030 = pd.DataFrame(gir_2030)\n",
    "df_birdies_2030 = pd.DataFrame(birdies_2030)"
   ]
  },
  {
   "cell_type": "markdown",
   "id": "3ed15811",
   "metadata": {},
   "source": [
    "For example:"
   ]
  },
  {
   "cell_type": "code",
   "execution_count": 64,
   "id": "5e6b5ecc",
   "metadata": {},
   "outputs": [
    {
     "data": {
      "text/html": [
       "<div>\n",
       "<style scoped>\n",
       "    .dataframe tbody tr th:only-of-type {\n",
       "        vertical-align: middle;\n",
       "    }\n",
       "\n",
       "    .dataframe tbody tr th {\n",
       "        vertical-align: top;\n",
       "    }\n",
       "\n",
       "    .dataframe thead th {\n",
       "        text-align: right;\n",
       "    }\n",
       "</style>\n",
       "<table border=\"1\" class=\"dataframe\">\n",
       "  <thead>\n",
       "    <tr style=\"text-align: right;\">\n",
       "      <th></th>\n",
       "      <th>0</th>\n",
       "    </tr>\n",
       "  </thead>\n",
       "  <tbody>\n",
       "    <tr>\n",
       "      <th>0</th>\n",
       "      <td>303.954971</td>\n",
       "    </tr>\n",
       "    <tr>\n",
       "      <th>1</th>\n",
       "      <td>319.728972</td>\n",
       "    </tr>\n",
       "    <tr>\n",
       "      <th>2</th>\n",
       "      <td>306.469053</td>\n",
       "    </tr>\n",
       "    <tr>\n",
       "      <th>3</th>\n",
       "      <td>304.506247</td>\n",
       "    </tr>\n",
       "    <tr>\n",
       "      <th>4</th>\n",
       "      <td>315.492067</td>\n",
       "    </tr>\n",
       "    <tr>\n",
       "      <th>...</th>\n",
       "      <td>...</td>\n",
       "    </tr>\n",
       "    <tr>\n",
       "      <th>245</th>\n",
       "      <td>310.523774</td>\n",
       "    </tr>\n",
       "    <tr>\n",
       "      <th>246</th>\n",
       "      <td>315.311120</td>\n",
       "    </tr>\n",
       "    <tr>\n",
       "      <th>247</th>\n",
       "      <td>317.668986</td>\n",
       "    </tr>\n",
       "    <tr>\n",
       "      <th>248</th>\n",
       "      <td>305.141181</td>\n",
       "    </tr>\n",
       "    <tr>\n",
       "      <th>249</th>\n",
       "      <td>308.617448</td>\n",
       "    </tr>\n",
       "  </tbody>\n",
       "</table>\n",
       "<p>250 rows × 1 columns</p>\n",
       "</div>"
      ],
      "text/plain": [
       "              0\n",
       "0    303.954971\n",
       "1    319.728972\n",
       "2    306.469053\n",
       "3    304.506247\n",
       "4    315.492067\n",
       "..          ...\n",
       "245  310.523774\n",
       "246  315.311120\n",
       "247  317.668986\n",
       "248  305.141181\n",
       "249  308.617448\n",
       "\n",
       "[250 rows x 1 columns]"
      ]
     },
     "execution_count": 64,
     "metadata": {},
     "output_type": "execute_result"
    }
   ],
   "source": [
    "df_distance_2030"
   ]
  },
  {
   "cell_type": "markdown",
   "id": "c588d39b",
   "metadata": {},
   "source": [
    "Next the four data frames must be merged into a single set of data using the pd.concat function (https://pandas.pydata.org/pandas-docs/stable/user_guide/merging.html):"
   ]
  },
  {
   "cell_type": "code",
   "execution_count": 65,
   "id": "6260bf57",
   "metadata": {},
   "outputs": [],
   "source": [
    "total_2030 = pd.concat([df_distance_2030, df_accuracy_2030, df_gir_2030, df_birdies_2030], axis=1) "
   ]
  },
  {
   "cell_type": "markdown",
   "id": "684baa2f",
   "metadata": {},
   "source": [
    "Next column headings are added:"
   ]
  },
  {
   "cell_type": "code",
   "execution_count": 66,
   "id": "f08fc225",
   "metadata": {},
   "outputs": [],
   "source": [
    "total_2030.columns = ['Driving distance (yds)', 'Driving accuracy (%)', 'GIR (%)', 'Birdie average']"
   ]
  },
  {
   "cell_type": "markdown",
   "id": "2de1d09b",
   "metadata": {},
   "source": [
    "This results in the following which can be used to plot the pairplot:"
   ]
  },
  {
   "cell_type": "code",
   "execution_count": 67,
   "id": "94398e25",
   "metadata": {},
   "outputs": [
    {
     "name": "stdout",
     "output_type": "stream",
     "text": [
      "     Driving distance (yds)  Driving accuracy (%)    GIR (%)  Birdie average\n",
      "0                303.954971             66.255686  68.075955        4.280985\n",
      "1                319.728972             63.043603  67.117534        3.741899\n",
      "2                306.469053             62.584544  66.510654        4.742911\n",
      "3                304.506247             64.860012  66.380574        4.396074\n",
      "4                315.492067             53.445312  64.733826        3.293908\n",
      "..                      ...                   ...        ...             ...\n",
      "245              310.523774             54.721441  69.442237        4.218874\n",
      "246              315.311120             58.121298  68.543794        3.949914\n",
      "247              317.668986             60.655723  70.667093        4.478287\n",
      "248              305.141181             56.271525  67.714948        4.356327\n",
      "249              308.617448             61.478591  71.464493        4.405586\n",
      "\n",
      "[250 rows x 4 columns]\n"
     ]
    }
   ],
   "source": [
    "print(total_2030)"
   ]
  },
  {
   "cell_type": "markdown",
   "id": "34bf38b4",
   "metadata": {},
   "source": [
    "The pairplot itself is the plotted with a regression line (https://stackoverflow.com/questions/50722972/change-the-regression-line-colour-of-seaborns-pairplot):"
   ]
  },
  {
   "cell_type": "code",
   "execution_count": 68,
   "id": "d6a21e98",
   "metadata": {},
   "outputs": [
    {
     "data": {
      "text/plain": [
       "<seaborn.axisgrid.PairGrid at 0x1baf8573c10>"
      ]
     },
     "execution_count": 68,
     "metadata": {},
     "output_type": "execute_result"
    },
    {
     "data": {
      "image/png": "[encoded data removed]",
      "text/plain": [
       "<Figure size 720x720 with 20 Axes>"
      ]
     },
     "metadata": {
      "needs_background": "light"
     },
     "output_type": "display_data"
    }
   ],
   "source": [
    "sns.pairplot(total_2030, kind=\"reg\", plot_kws={'line_kws':{'color':'red'}})"
   ]
  },
  {
   "cell_type": "markdown",
   "id": "7d69a34a",
   "metadata": {},
   "source": [
    "## 9. Discussion of 2030 Data"
   ]
  },
  {
   "cell_type": "code",
   "execution_count": 69,
   "id": "e1a4bc06",
   "metadata": {},
   "outputs": [
    {
     "name": "stdout",
     "output_type": "stream",
     "text": [
      "0.0\n"
     ]
    }
   ],
   "source": [
    "from scipy.stats import ttest_ind\n",
    "\n",
    "res = ttest_ind(distance_2030, gir_2030).pvalue\n",
    "\n",
    "print(res)"
   ]
  },
  {
   "cell_type": "code",
   "execution_count": 70,
   "id": "64498557",
   "metadata": {},
   "outputs": [
    {
     "data": {
      "text/plain": [
       "array([4.28098455, 3.74189905, 4.74291054, 4.39607425, 3.29390754,\n",
       "       4.11436989, 4.26002725, 4.47274877, 4.2525841 , 3.93726384,\n",
       "       3.8258512 , 3.71359344, 4.48413596, 4.0521949 , 3.84978869,\n",
       "       4.30268683, 3.99310803, 3.89699946, 4.17719148, 3.98907918,\n",
       "       3.71840291, 3.97658806, 3.84762966, 3.83107859, 3.73319723,\n",
       "       4.50363284, 3.28430951, 4.41563971, 4.58723866, 4.10169785,\n",
       "       4.57731469, 4.02351092, 4.2182684 , 3.8997996 , 4.09692472,\n",
       "       3.47773292, 4.60524996, 3.87705365, 3.93581823, 4.0312709 ,\n",
       "       4.33180946, 4.37892568, 4.20104674, 4.45229594, 4.73381642,\n",
       "       4.24966008, 3.82470144, 4.31207345, 3.92534023, 3.77637241,\n",
       "       4.22248823, 4.11583281, 3.84100231, 4.38382327, 3.95577642,\n",
       "       3.81741528, 4.13492779, 3.78795776, 4.21597784, 4.08965791,\n",
       "       4.22329547, 4.34453983, 3.70890393, 4.17662084, 4.39169723,\n",
       "       3.63802206, 4.01404956, 4.15796965, 4.0759583 , 4.22174771,\n",
       "       4.16518839, 4.1490272 , 4.17733839, 4.23154815, 4.22087626,\n",
       "       4.47917907, 3.91608186, 3.49183836, 4.68007262, 4.11382004,\n",
       "       4.03223217, 4.42204314, 4.43572805, 4.2153596 , 4.07580128,\n",
       "       4.03153916, 4.39720741, 4.28547734, 4.09278847, 4.51592007,\n",
       "       3.30441176, 3.71140647, 4.15071126, 4.02111885, 3.84241686,\n",
       "       3.88608328, 4.3311746 , 3.99352887, 3.73681013, 4.02845429,\n",
       "       4.45921207, 4.26793058, 4.79212658, 3.99953569, 3.76460636,\n",
       "       4.6648528 , 4.20090148, 4.48650104, 4.3136109 , 3.89747202,\n",
       "       3.8410409 , 4.62333719, 3.77387135, 4.43934977, 3.78437582,\n",
       "       4.25615414, 4.25244739, 4.21564461, 4.24366284, 4.12689549,\n",
       "       3.85474153, 4.64069965, 4.00924891, 3.73794945, 4.13299743,\n",
       "       4.03171425, 3.81264286, 4.20181035, 3.92054552, 4.30337508,\n",
       "       4.06117532, 4.25101597, 4.101176  , 3.7430234 , 4.03885517,\n",
       "       3.94053218, 3.80903994, 4.04651056, 3.99861143, 3.54487796,\n",
       "       4.36152646, 4.03727739, 4.14670673, 3.7589412 , 3.9986264 ,\n",
       "       4.05946794, 4.69375366, 4.23106593, 4.25690242, 4.5086201 ,\n",
       "       4.20612013, 4.13012244, 3.88372907, 3.85938242, 3.64615567,\n",
       "       4.11024789, 3.60943677, 4.12157878, 4.31253158, 4.19811536,\n",
       "       3.92021356, 4.10364898, 3.59076545, 4.26992099, 4.16930972,\n",
       "       3.90444107, 4.09506011, 4.2385839 , 3.93696668, 4.32440019,\n",
       "       4.45537095, 3.62408023, 4.83483935, 3.95616734, 4.5074442 ,\n",
       "       3.9057047 , 4.22923826, 4.36674382, 4.3171518 , 4.0856119 ,\n",
       "       4.04880236, 3.76750405, 4.41462953, 4.14459945, 3.91160934,\n",
       "       4.20563117, 3.32012165, 3.96265426, 4.07791575, 3.93648741,\n",
       "       3.78488157, 3.92599502, 4.4621002 , 4.45363206, 3.92426339,\n",
       "       3.53649864, 4.32886732, 4.28951544, 3.82908151, 3.80022791,\n",
       "       4.00605669, 3.75394495, 3.77094539, 4.45411031, 3.92176026,\n",
       "       4.51464329, 4.35361006, 4.20815809, 3.7513549 , 4.08327008,\n",
       "       4.25160424, 4.26051353, 4.12291315, 4.12321355, 4.23938336,\n",
       "       4.15444682, 4.01837989, 4.65677623, 4.10251745, 3.82131856,\n",
       "       3.97500776, 4.21905956, 4.68527727, 4.30993879, 4.21340691,\n",
       "       4.629147  , 3.89152648, 4.01087258, 4.53844589, 3.90182955,\n",
       "       3.88642924, 3.82427223, 3.78116936, 4.82733882, 4.31208225,\n",
       "       4.11000277, 3.78346845, 4.13542523, 4.26637381, 3.90328407,\n",
       "       3.38718876, 4.46421689, 4.18932968, 4.12883465, 4.38941806,\n",
       "       4.21887421, 3.94991449, 4.47828679, 4.35632661, 4.40558638])"
      ]
     },
     "execution_count": 70,
     "metadata": {},
     "output_type": "execute_result"
    }
   ],
   "source": [
    "birdies_2030"
   ]
  },
  {
   "cell_type": "code",
   "execution_count": 71,
   "id": "aa674b9b",
   "metadata": {},
   "outputs": [
    {
     "name": "stdout",
     "output_type": "stream",
     "text": [
      "Ttest_indResult(statistic=-0.06444427647251527, pvalue=0.9486814917953872)\n"
     ]
    }
   ],
   "source": [
    "v1 = np.random.normal(size=100)\n",
    "v2 = np.random.normal(size=100)\n",
    "\n",
    "res = ttest_ind(v1, v2)\n",
    "\n",
    "print(res)"
   ]
  },
  {
   "cell_type": "code",
   "execution_count": 72,
   "id": "66e160b6",
   "metadata": {},
   "outputs": [
    {
     "data": {
      "text/plain": [
       "array([-1.83802804, -1.57036017,  1.02335657, -1.14439031, -0.20305819,\n",
       "       -1.81902236, -0.5666841 ,  0.46768472, -1.28436826, -0.74267466,\n",
       "        0.39935874, -0.16408869, -1.11418556,  0.38725893, -1.33478011,\n",
       "        1.65282945,  1.70922946, -0.48629138,  0.87775459, -0.61726919,\n",
       "       -0.45500694, -0.16647125, -0.47009016,  0.21521411,  0.91038531,\n",
       "        2.12041593, -1.42676397, -0.75591177,  0.48533871,  0.29549683,\n",
       "        0.97298041, -0.83089202,  0.42104377,  0.3113859 ,  0.19259627,\n",
       "       -1.29591391,  1.31261957,  1.30419807, -1.48456268, -0.52203226,\n",
       "       -0.20325616,  0.34287844,  0.27295219,  1.75412939,  0.141358  ,\n",
       "       -0.50681548,  0.06430293, -1.18676217,  1.35458415,  1.11548562,\n",
       "       -2.09046437, -0.35819259, -0.84380595,  0.46693953,  1.42182945,\n",
       "       -0.59702917, -0.05491668,  0.44396549, -0.60866106,  0.9803019 ,\n",
       "        0.08304927,  0.04109612, -1.60551611,  0.22695007,  0.5014356 ,\n",
       "        0.58863682, -1.14896952,  1.54113241,  0.29345437, -0.12954179,\n",
       "       -0.04623056, -0.38695678, -1.5957695 , -0.64874792,  0.65768532,\n",
       "        1.32220849, -2.25851414, -0.97165882,  0.87572154, -0.06985453,\n",
       "       -1.67673878, -1.04544769, -1.27243051,  1.65982645,  0.22944687,\n",
       "       -1.1445804 ,  0.33772958, -0.44453976, -1.67513515,  0.72459723,\n",
       "        0.6898289 ,  1.26007175, -0.01446417, -1.34980963, -1.60106092,\n",
       "       -2.4706221 ,  2.24814322, -2.19974342,  0.8774554 ,  0.2827461 ])"
      ]
     },
     "execution_count": 72,
     "metadata": {},
     "output_type": "execute_result"
    }
   ],
   "source": [
    "v1"
   ]
  },
  {
   "cell_type": "code",
   "execution_count": null,
   "id": "9748c8f2",
   "metadata": {},
   "outputs": [],
   "source": []
  },
  {
   "cell_type": "code",
   "execution_count": 73,
   "id": "7e75f131",
   "metadata": {},
   "outputs": [
    {
     "name": "stdout",
     "output_type": "stream",
     "text": [
      "Statistics=463.806, p=0.000\n",
      "Different distributions (reject H0)\n"
     ]
    }
   ],
   "source": [
    "from numpy.random import seed\n",
    "from numpy.random import randn\n",
    "from scipy.stats import ttest_rel\n",
    "# seed the random number generator\n",
    "seed(1)\n",
    "# generate two independent samples\n",
    "data1 = distance_2030\n",
    "data2 = accuracy_2030\n",
    "# compare samples\n",
    "stat, p = ttest_rel(data1, data2)\n",
    "print('Statistics=%.3f, p=%.3f' % (stat, p))\n",
    "# interpret\n",
    "alpha = 0.05\n",
    "if p > alpha:\n",
    "\tprint('Same distributions (fail to reject H0)')\n",
    "else:\n",
    "\tprint('Different distributions (reject H0)')"
   ]
  },
  {
   "cell_type": "code",
   "execution_count": 74,
   "id": "060df713",
   "metadata": {},
   "outputs": [
    {
     "data": {
      "text/plain": [
       "array([303.95497055, 319.7289719 , 306.46905315, 304.50624727,\n",
       "       315.49206714, 324.00400596, 307.25055451, 310.60551113,\n",
       "       296.07663379, 313.50766674, 308.92632205, 312.82383329,\n",
       "       312.74359939, 313.95144687, 315.85473979, 318.96158926,\n",
       "       322.29003446, 296.16383287, 312.38947396, 307.87329385,\n",
       "       302.49881859, 318.26429346, 313.01358065, 320.08345234,\n",
       "       316.15528421, 298.06207996, 333.64876328, 321.46975058,\n",
       "       304.54573982, 306.90929822, 302.84749553, 314.85604335,\n",
       "       305.25074486, 309.29259479, 321.14765788, 316.42666654,\n",
       "       315.94805245, 314.34935265, 299.1659078 , 301.43131568,\n",
       "       311.91338869, 321.65527579, 305.96180162, 299.88901493,\n",
       "       320.96406546, 294.73681216, 324.38271887, 307.60778126,\n",
       "       319.91762239, 317.40673655, 305.44032863, 300.08931357,\n",
       "       304.78148781, 303.13020627, 313.17660034, 318.04348499,\n",
       "       320.44992251, 308.35389926, 304.0223951 , 308.73369571,\n",
       "       324.76878108, 316.63783501, 306.26441489, 317.13133173,\n",
       "       307.6089536 , 324.70752129, 301.67491051, 312.74328552,\n",
       "       302.62869937, 330.85481338, 321.69431293, 306.9907737 ,\n",
       "       312.96725973, 318.72958324, 307.36784532, 326.15992317,\n",
       "       316.65492182, 312.5432729 , 314.50418272, 300.78634818,\n",
       "       305.77200274, 314.99136716, 312.3366371 , 304.0974686 ,\n",
       "       313.56575993, 314.15606727, 298.66274992, 315.82209188,\n",
       "       308.0634276 , 310.38048588, 314.40694937, 301.68224922,\n",
       "       311.06670483, 310.16704878, 318.06039798, 301.05561764,\n",
       "       298.22955858, 316.5337928 , 308.54283883, 306.07159085,\n",
       "       292.23154914, 312.52218481, 310.34973432, 329.38875511,\n",
       "       317.29764114, 307.95440162, 300.28198375, 312.23966809,\n",
       "       303.36485895, 312.7973495 , 318.26090851, 317.21559962,\n",
       "       303.75657482, 325.35725892, 313.25325487, 320.48675521,\n",
       "       311.85819239, 319.95623284, 304.41077259, 314.10964539,\n",
       "       317.60683176, 301.70683489, 298.60056054, 308.02981846,\n",
       "       318.32887589, 317.30165097, 318.44679356, 319.93133734,\n",
       "       307.69252484, 298.65151719, 309.13416931, 305.27294615,\n",
       "       313.98127028, 308.547596  , 313.7869454 , 308.15108836,\n",
       "       304.65753495, 320.02567213, 312.4908924 , 320.59957053,\n",
       "       320.7301502 , 296.25035512, 310.80627528, 304.99454715,\n",
       "       318.84849521, 297.30907894, 301.19392299, 298.13362343,\n",
       "       304.33642186, 310.56422351, 321.7659608 , 314.05419955,\n",
       "       311.59685599, 314.99020137, 305.97372446, 318.0515688 ,\n",
       "       316.39213789, 324.70206113, 303.23559001, 311.56140297,\n",
       "       308.92822962, 343.50405934, 318.6860426 , 323.4478422 ,\n",
       "       301.67575324, 304.64258212, 310.07429885, 316.49229996,\n",
       "       314.29704962, 309.629124  , 317.39793849, 314.98691076,\n",
       "       306.99689148, 312.49019097, 294.13445951, 307.3698437 ,\n",
       "       306.47597652, 307.93876872, 296.99521518, 313.11425687,\n",
       "       303.41074514, 310.74819949, 315.51163767, 304.26487051,\n",
       "       319.95658359, 305.24810539, 322.61786957, 300.87594234,\n",
       "       324.44814969, 312.01994866, 302.16208333, 300.58767669,\n",
       "       311.05866878, 307.85255763, 310.20755114, 310.25393725,\n",
       "       304.30697019, 308.16679031, 310.12978947, 313.39177241,\n",
       "       313.5710145 , 309.68086816, 314.11273314, 320.33020228,\n",
       "       298.757     , 314.96462428, 317.99133742, 300.4350576 ,\n",
       "       311.16241471, 307.33745811, 301.01817053, 303.84663771,\n",
       "       306.69120469, 297.25580562, 310.60806826, 311.11029331,\n",
       "       322.77464966, 311.00548273, 296.15023762, 309.71581294,\n",
       "       311.0000613 , 306.7937686 , 319.21664953, 301.45548203,\n",
       "       312.08005991, 301.03192016, 317.5620936 , 314.69286018,\n",
       "       309.44825674, 322.19787579, 298.88038272, 308.92395665,\n",
       "       306.04051194, 319.88321858, 309.70786229, 311.19652532,\n",
       "       314.80566024, 302.08740711, 312.67163338, 302.52953506,\n",
       "       306.03171782, 306.33779321, 310.72334478, 301.70538441,\n",
       "       311.60651266, 310.52377397, 315.31112047, 317.66898604,\n",
       "       305.14118071, 308.61744849])"
      ]
     },
     "execution_count": 74,
     "metadata": {},
     "output_type": "execute_result"
    }
   ],
   "source": [
    "data1"
   ]
  },
  {
   "cell_type": "code",
   "execution_count": null,
   "id": "8110edb7",
   "metadata": {},
   "outputs": [],
   "source": []
  },
  {
   "cell_type": "markdown",
   "id": "6a56e8b1",
   "metadata": {},
   "source": [
    "## Learnings"
   ]
  },
  {
   "cell_type": "markdown",
   "id": "de732272",
   "metadata": {},
   "source": [
    "- manual process (could have automated to collect data - expressions \n",
    "- more years provide more data\n",
    "- more players\n",
    "- more years distributions\n",
    "- scale factors and loc might not be correct"
   ]
  },
  {
   "cell_type": "code",
   "execution_count": null,
   "id": "100901e9",
   "metadata": {},
   "outputs": [],
   "source": []
  },
  {
   "cell_type": "code",
   "execution_count": null,
   "id": "2887b396",
   "metadata": {},
   "outputs": [],
   "source": []
  },
  {
   "cell_type": "code",
   "execution_count": null,
   "id": "980ea1f4",
   "metadata": {},
   "outputs": [],
   "source": []
  },
  {
   "cell_type": "markdown",
   "id": "a63769b8",
   "metadata": {},
   "source": [
    "Next, the rows and columns of the dataframe must be swapped using the `transpose` method (https://note.nkmk.me/en/python-pandas-t-transpose/):  "
   ]
  },
  {
   "cell_type": "code",
   "execution_count": 75,
   "id": "de4653bd",
   "metadata": {},
   "outputs": [],
   "source": [
    "#total_2030_t = total_2030.T"
   ]
  },
  {
   "cell_type": "code",
   "execution_count": 76,
   "id": "0001bf25",
   "metadata": {},
   "outputs": [],
   "source": [
    "#print(total_2030_t)"
   ]
  },
  {
   "cell_type": "code",
   "execution_count": null,
   "id": "d7177eb4",
   "metadata": {},
   "outputs": [],
   "source": []
  },
  {
   "cell_type": "code",
   "execution_count": null,
   "id": "2f19d800",
   "metadata": {},
   "outputs": [],
   "source": []
  },
  {
   "cell_type": "code",
   "execution_count": null,
   "id": "eae18752",
   "metadata": {},
   "outputs": [],
   "source": []
  },
  {
   "cell_type": "code",
   "execution_count": null,
   "id": "1a341c83",
   "metadata": {},
   "outputs": [],
   "source": []
  },
  {
   "cell_type": "code",
   "execution_count": null,
   "id": "38c9b23a",
   "metadata": {},
   "outputs": [],
   "source": []
  }
 ],
 "metadata": {
  "kernelspec": {
   "display_name": "Python 3 (ipykernel)",
   "language": "python",
   "name": "python3"
  },
  "language_info": {
   "codemirror_mode": {
    "name": "ipython",
    "version": 3
   },
   "file_extension": ".py",
   "mimetype": "text/x-python",
   "name": "python",
   "nbconvert_exporter": "python",
   "pygments_lexer": "ipython3",
   "version": "3.8.11"
  }
 },
 "nbformat": 4,
 "nbformat_minor": 5
}
