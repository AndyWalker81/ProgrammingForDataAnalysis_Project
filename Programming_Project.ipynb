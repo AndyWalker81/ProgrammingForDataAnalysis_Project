{
 "cells": [
  {
   "cell_type": "markdown",
   "id": "ed1322c0",
   "metadata": {},
   "source": [
    "# Simulation of PGA Tour Golf Data"
   ]
  },
  {
   "cell_type": "markdown",
   "id": "71d3f4b8",
   "metadata": {},
   "source": [
    "## Programming for Data Analysis Project "
   ]
  },
  {
   "cell_type": "markdown",
   "id": "4f790274",
   "metadata": {},
   "source": [
    "### Andrew Walker - G00398788@gmit.ie"
   ]
  },
  {
   "cell_type": "markdown",
   "id": "626f36cf",
   "metadata": {},
   "source": [
    "![www.pgatour.com](https://pga-tour-res.cloudinary.com/image/upload/c_fill,dpr_2.6,f_auto,g_center,h_336,q_auto,w_1320/v1/pgatour/editorial/2020/12/17/Logo/flag-example-1400.jpg)"
   ]
  },
  {
   "cell_type": "markdown",
   "id": "5c59d916",
   "metadata": {},
   "source": [
    "This project will simulate a data set based on PGA Tour golf statistics and investigate the variables.\n",
    "\n",
    "The project will make a number of hypotheses and simulate future data based on historical stats."
   ]
  },
  {
   "cell_type": "code",
   "execution_count": null,
   "id": "8c67282e",
   "metadata": {},
   "outputs": [],
   "source": []
  },
  {
   "cell_type": "code",
   "execution_count": null,
   "id": "3ae9ca2b",
   "metadata": {},
   "outputs": [],
   "source": []
  },
  {
   "cell_type": "markdown",
   "id": "ff610641",
   "metadata": {},
   "source": [
    "https://www.itl.nist.gov/div898/handbook/eda/section3/eda366.htm"
   ]
  },
  {
   "cell_type": "markdown",
   "id": "e482805e",
   "metadata": {},
   "source": [
    "https://www.usga.org/content/dam/usga/pdf/RSI/distance-insights-2021-docs/2020%20Distance%20Report%2026-01-2021.pdf\n",
    "\n",
    "https://www.usga.org/content/dam/usga/pdf/2020/distance-insights/DIPR-FINAL-2020-usga.pdf"
   ]
  },
  {
   "cell_type": "markdown",
   "id": "a8353d3a",
   "metadata": {},
   "source": [
    "https://www.pgatour.com/stats/stat.101.y2021.html"
   ]
  },
  {
   "cell_type": "markdown",
   "id": "8271c952",
   "metadata": {},
   "source": [
    "1990 (no major innovations between 1980 and 1990), 2000, 2010, 2020 - simulate data for 2030\n",
    "\n",
    "Make a note of total number of players on Fedex"
   ]
  },
  {
   "cell_type": "code",
   "execution_count": 1,
   "id": "512e5596",
   "metadata": {
    "scrolled": true
   },
   "outputs": [],
   "source": [
    "# Regular expressions.\n",
    "import re\n",
    "\n",
    "# Convenient HTTP requests.\n",
    "import requests as rq\n",
    "\n",
    "# Dates and times\n",
    "import datetime as dt\n",
    "\n",
    "# Data frames\n",
    "import pandas as pd\n",
    "\n",
    "# FOr downloading\n",
    "import urllib.request as urlrq\n",
    "\n",
    "#numpy\n",
    "import numpy as np\n",
    "\n",
    "# pyplot\n",
    "import matplotlib.pyplot as plt\n",
    "\n",
    "# seaborn\n",
    "import seaborn as sns\n",
    "\n",
    "import math\n",
    "\n",
    "#insall fitter \n",
    "#https://pypi.org/project/fitter/\n",
    "\n",
    "from scipy import stats\n",
    "#https://stackoverflow.com/questions/16330831/most-efficient-way-to-find-mode-in-numpy-array\n",
    "    \n",
    "import scipy\n",
    "\n",
    "rng = np.random.default_rng()\n",
    "\n",
    "from fitter import get_common_distributions\n",
    "get_common_distributions()\n",
    "from fitter import Fitter\n",
    "\n",
    "\n",
    "\n"
   ]
  },
  {
   "cell_type": "markdown",
   "id": "f8151926",
   "metadata": {},
   "source": [
    "### Compile stats fop top 100 Fedex Cup rankings\n",
    "\n",
    "https://www.pgatour.com/content/pgatour/stats/stat.02671.y2021.html"
   ]
  },
  {
   "cell_type": "code",
   "execution_count": null,
   "id": "eb5b4ad7",
   "metadata": {},
   "outputs": [],
   "source": []
  },
  {
   "cell_type": "code",
   "execution_count": null,
   "id": "ef3a5a4f",
   "metadata": {},
   "outputs": [],
   "source": []
  },
  {
   "cell_type": "code",
   "execution_count": null,
   "id": "b15b8364",
   "metadata": {},
   "outputs": [],
   "source": []
  },
  {
   "cell_type": "code",
   "execution_count": 20,
   "id": "2ccb6bd9",
   "metadata": {},
   "outputs": [
    {
     "name": "stdout",
     "output_type": "stream",
     "text": [
      "    Fedex Rank 2021               Name  Driving distance (avg yds)  Driving accuracy (%)  Greens in Regulation (%)  Birdie average\n",
      "0                 1    Patrick Cantlay                       302.8                 60.71                     70.16            4.29\n",
      "1                 2           Jon Rahm                       309.0                 63.73                     71.93            4.51\n",
      "2                 3           Kevin Na                       288.5                 66.56                     64.11            4.00\n",
      "3                 4      Justin Thomas                       303.9                 55.72                     67.79            4.31\n",
      "4                 5     Viktor Hovland                       302.2                 63.86                     68.61            4.40\n",
      "5                 5  Xander Schauffele                       307.6                 58.83                     68.64            4.28\n",
      "6                 7  Bryson DeChambeau                       323.7                 54.18                     67.15            4.50\n",
      "7                 8     Dustin Johnson                       312.9                 57.87                     66.67            4.25\n",
      "8                 9     Billy Horschel                       294.7                 65.70                     66.47            3.69\n",
      "9                 9      Abraham Ancer                       290.4                 71.05                     69.27            4.20\n",
      "10               11      Daniel Berger                       296.7                 65.48                     70.50            4.23\n",
      "11               11         Tony Finau                       305.5                 56.29                     67.10            4.16\n",
      "12               11       Jason Kokrak                       307.9                 60.18                     69.19            4.28\n",
      "13               14       Rory McIlroy                       319.3                 57.36                     65.77            4.51\n",
      "14               14   Louis Oosthuizen                       297.8                 63.47                     67.64            3.86\n",
      "15               14      Sergio Garcia                       309.4                 61.18                     70.05            3.96\n",
      "16               14      Cameron Smith                       297.9                 59.23                     65.72            4.48\n",
      "17               18     Harris English                       299.4                 64.29                     65.76            4.26\n",
      "18               18          Sam Burns                       305.3                 58.90                     67.79            4.43\n",
      "19               20      Jordan Spieth                       299.5                 53.92                     64.58            4.30\n",
      "20               20         Sungjae Im                       297.1                 69.12                     69.08            4.08\n",
      "21               22      Corey Conners                       295.4                 70.15                     69.93            3.99\n",
      "22               22    Erik van Rooyen                       305.3                 61.12                     64.38            3.90\n",
      "23               22  Scottie Scheffler                       305.0                 63.49                     68.08            4.39\n",
      "24               25       Patrick Reed                       291.4                 63.21                     62.11            4.00\n",
      "25               26   Hideki Matsuyama                       299.9                 62.25                     67.03            4.06\n",
      "26               26       Stewart Cink                       306.6                 56.42                     69.44            3.93\n",
      "27               26    Collin Morikawa                       295.2                 69.60                     70.80            4.23\n",
      "28               29    Joaquin Niemann                       310.6                 59.20                     68.57            4.14\n",
      "29               30      Brooks Koepka                       310.7                 56.63                     68.01            4.21\n",
      "30               31            K H Lee                       298.4                 63.06                     64.26            3.64\n",
      "31               32    Charley Hoffman                       306.5                 57.11                     67.85            4.20\n",
      "32               33         Alex Noren                       297.9                 58.26                     63.21            3.76\n",
      "33               34         Si Woo Kim                       296.3                 62.71                     65.78            3.89\n",
      "34               35           Max Homa                       300.8                 58.44                     63.89            3.93\n",
      "35               36    Hudson Swafford                       303.1                 63.94                     67.89            3.83\n",
      "36               37          Cam Davis                       309.0                 56.11                     65.31            4.17\n",
      "37               38       Kevin Kisner                       289.1                 67.61                     64.96            3.72\n",
      "38               39     Keegan Bradley                       300.2                 65.03                     69.96            3.77\n",
      "39               40       Webb Simpson                       292.5                 67.08                     69.37            4.34\n",
      "40               41       Brian Harman                       291.7                 66.88                     64.33            3.91\n",
      "41               42      Marc Leishman                       293.8                 58.46                     65.72            3.55\n",
      "42               43   Cameron Tringale                       297.5                 61.17                     67.63            4.11\n",
      "43               44  Harold Varner III                       300.7                 59.87                     67.78            3.76\n",
      "44               45        Shane Lowry                       299.6                 59.91                     68.35            3.91\n",
      "45               46       Lucas Glover                       294.9                 64.05                     66.72            3.83\n",
      "46               47         Matt Jones                       304.0                 55.62                     65.74            3.68\n",
      "47               48       Carlos Ortiz                       303.0                 60.36                     67.03            3.89\n",
      "48               49         Aaron Wise                       300.6                 60.04                     70.35            4.11\n",
      "49               50       Lee Westwood                       294.1                 62.93                     64.78            3.48\n",
      "50               51   Charl Schwartzel                       303.0                 57.76                     66.86            3.64\n",
      "51               52         Paul Casey                       303.9                 62.20                     68.83            3.90\n",
      "52               53    Sebastian Munoz                       297.5                 62.96                     66.67            4.09\n",
      "53               54           Tom Hoge                       289.2                 63.70                     62.62            3.88\n",
      "54               55      Branden Grace                       293.8                 55.50                     64.47            3.78\n",
      "55               56     Russell Henley                       289.8                 67.07                     69.44            3.73\n",
      "56               57      Cameron Champ                       317.1                 58.86                     66.00            3.91\n",
      "57               58   Maverick McNealy                       298.7                 60.48                     66.52            3.99\n",
      "58               59    Emiliano Grillo                       298.2                 64.78                     71.47            4.10\n",
      "59               60       Robert Streb                       292.3                 58.33                     64.57            3.45\n",
      "60               61    Jhonattan Vegas                       312.1                 56.94                     68.81            4.07\n",
      "61               62         Chris Kirk                       291.9                 63.44                     68.35            3.72\n",
      "62               63     Patton Kizzire                       300.9                 58.03                     67.76            4.23\n",
      "63               64    Kevin Streelman                       295.6                 66.32                     69.21            3.97\n",
      "64               65     Keith Mitchell                       307.2                 56.50                     64.62            3.83\n",
      "65               66        Harry Higgs                       298.9                 57.26                     63.68            4.06\n",
      "66               67   Mackenzie Hughes                       293.5                 58.05                     64.44            3.66\n",
      "67               68        Talor Gooch                       299.1                 60.16                     65.80            3.80\n",
      "68               69        Ryan Palmer                       304.6                 59.98                     65.54            4.08\n",
      "69               70     Phil Mickelson                       301.8                 54.47                     62.99            3.72\n",
      "70               71      Matthew Wolff                       315.9                 51.04                     64.95            3.84\n",
      "71               72       Seamus Power                       295.1                 62.56                     68.20            4.00\n",
      "72               73   Matt Fitzpatrick                       293.5                 68.37                     64.39            3.92\n",
      "73               74     Tyrrell Hatton                       299.0                 63.02                     63.89            3.91\n",
      "74               75       Martin Laird                       295.9                 68.84                     69.44            3.58\n",
      "75               76        Joel Dahmen                       292.3                 67.57                     65.24            3.95\n",
      "76               77        Ian Poulter                       285.2                 66.33                     60.88            3.63\n",
      "77               78       Troy Merritt                       289.9                 61.95                     64.63            3.46\n",
      "78               79        J.T. Poston                       299.9                 57.02                     62.24            3.55\n",
      "79               80          Pat Perez                       292.2                 62.03                     66.26            3.83\n",
      "80               81       Bubba Watson                       304.6                 59.92                     67.95            3.59\n",
      "81               82      Andrew Putnam                       283.8                 61.59                     66.10            3.58\n",
      "82               83          Doug Ghim                       292.9                 68.55                     69.64            4.13\n",
      "83               84       Brandon Hagy                       311.6                 50.78                     62.99            3.54\n",
      "84               85          Adam Long                       288.6                 67.41                     63.03            3.57\n",
      "85               86      Peter Malnati                       290.5                 56.71                     62.78            3.91\n",
      "86               87      Wyndham Clark                       314.6                 47.05                     63.39            3.51\n",
      "87               88        Adam Schenk                       299.5                 60.90                     67.37            3.90\n",
      "88               89      Lanto Griffin                       302.9                 57.02                     65.12            3.66\n",
      "89               90         Adam Scott                       306.0                 55.26                     65.35            4.00\n",
      "90               91      Kramer Hickok                       290.8                 68.58                     68.04            3.64\n",
      "91               92       Brian Stuard                       277.8                 73.31                     66.72            3.74\n",
      "92               93   Henrik Norlander                       294.1                 67.09                     69.18            3.27\n",
      "93               94         Doc Redman                       294.0                 64.87                     65.86            3.43\n",
      "94               95          Brian Gay                       286.8                 59.67                     60.71            3.19\n",
      "95               96        Roger Sloan                       295.8                 61.78                     68.77            3.79\n",
      "96               97    Brandt Snedeker                       286.6                 64.04                     64.48            3.73\n",
      "97               98       Hank Lebioda                       295.0                 61.16                     69.14            3.78\n",
      "98               99     Tyler McCumber                       309.4                 58.30                     64.71            3.57\n",
      "99              100     Denny McCarthy                       295.4                 62.31                     64.01            3.55\n"
     ]
    }
   ],
   "source": [
    "df = pd.read_csv('data\\strokes_gained.csv')\n",
    "print(df.to_string()) "
   ]
  },
  {
   "cell_type": "code",
   "execution_count": 21,
   "id": "539f8d2d",
   "metadata": {},
   "outputs": [
    {
     "data": {
      "text/html": [
       "<div>\n",
       "<style scoped>\n",
       "    .dataframe tbody tr th:only-of-type {\n",
       "        vertical-align: middle;\n",
       "    }\n",
       "\n",
       "    .dataframe tbody tr th {\n",
       "        vertical-align: top;\n",
       "    }\n",
       "\n",
       "    .dataframe thead th {\n",
       "        text-align: right;\n",
       "    }\n",
       "</style>\n",
       "<table border=\"1\" class=\"dataframe\">\n",
       "  <thead>\n",
       "    <tr style=\"text-align: right;\">\n",
       "      <th></th>\n",
       "      <th>Fedex Rank 2021</th>\n",
       "      <th>Name</th>\n",
       "      <th>Driving distance (avg yds)</th>\n",
       "      <th>Driving accuracy (%)</th>\n",
       "      <th>Greens In Regulation (%)</th>\n",
       "      <th>Birdie average</th>\n",
       "    </tr>\n",
       "  </thead>\n",
       "  <tbody>\n",
       "    <tr>\n",
       "      <th>0</th>\n",
       "      <td>1</td>\n",
       "      <td>Patrick Cantlay</td>\n",
       "      <td>302.8</td>\n",
       "      <td>60.71</td>\n",
       "      <td>70.16</td>\n",
       "      <td>4.29</td>\n",
       "    </tr>\n",
       "    <tr>\n",
       "      <th>1</th>\n",
       "      <td>2</td>\n",
       "      <td>Jon Rahm</td>\n",
       "      <td>309.0</td>\n",
       "      <td>63.73</td>\n",
       "      <td>71.93</td>\n",
       "      <td>4.51</td>\n",
       "    </tr>\n",
       "    <tr>\n",
       "      <th>2</th>\n",
       "      <td>3</td>\n",
       "      <td>Kevin Na</td>\n",
       "      <td>288.5</td>\n",
       "      <td>66.56</td>\n",
       "      <td>64.11</td>\n",
       "      <td>4.00</td>\n",
       "    </tr>\n",
       "    <tr>\n",
       "      <th>3</th>\n",
       "      <td>4</td>\n",
       "      <td>Justin Thomas</td>\n",
       "      <td>303.9</td>\n",
       "      <td>55.72</td>\n",
       "      <td>67.79</td>\n",
       "      <td>4.31</td>\n",
       "    </tr>\n",
       "    <tr>\n",
       "      <th>4</th>\n",
       "      <td>5</td>\n",
       "      <td>Viktor Hovland</td>\n",
       "      <td>302.2</td>\n",
       "      <td>63.86</td>\n",
       "      <td>68.61</td>\n",
       "      <td>4.40</td>\n",
       "    </tr>\n",
       "    <tr>\n",
       "      <th>...</th>\n",
       "      <td>...</td>\n",
       "      <td>...</td>\n",
       "      <td>...</td>\n",
       "      <td>...</td>\n",
       "      <td>...</td>\n",
       "      <td>...</td>\n",
       "    </tr>\n",
       "    <tr>\n",
       "      <th>95</th>\n",
       "      <td>96</td>\n",
       "      <td>Roger Sloan</td>\n",
       "      <td>295.8</td>\n",
       "      <td>61.78</td>\n",
       "      <td>68.77</td>\n",
       "      <td>3.79</td>\n",
       "    </tr>\n",
       "    <tr>\n",
       "      <th>96</th>\n",
       "      <td>97</td>\n",
       "      <td>Brandt Snedeker</td>\n",
       "      <td>286.6</td>\n",
       "      <td>64.04</td>\n",
       "      <td>64.48</td>\n",
       "      <td>3.73</td>\n",
       "    </tr>\n",
       "    <tr>\n",
       "      <th>97</th>\n",
       "      <td>98</td>\n",
       "      <td>Hank Lebioda</td>\n",
       "      <td>295.0</td>\n",
       "      <td>61.16</td>\n",
       "      <td>69.14</td>\n",
       "      <td>3.78</td>\n",
       "    </tr>\n",
       "    <tr>\n",
       "      <th>98</th>\n",
       "      <td>99</td>\n",
       "      <td>Tyler McCumber</td>\n",
       "      <td>309.4</td>\n",
       "      <td>58.30</td>\n",
       "      <td>64.71</td>\n",
       "      <td>3.57</td>\n",
       "    </tr>\n",
       "    <tr>\n",
       "      <th>99</th>\n",
       "      <td>100</td>\n",
       "      <td>Denny McCarthy</td>\n",
       "      <td>295.4</td>\n",
       "      <td>62.31</td>\n",
       "      <td>64.01</td>\n",
       "      <td>3.55</td>\n",
       "    </tr>\n",
       "  </tbody>\n",
       "</table>\n",
       "<p>100 rows × 6 columns</p>\n",
       "</div>"
      ],
      "text/plain": [
       "    Fedex Rank 2021             Name  Driving distance (avg yds)  \\\n",
       "0                 1  Patrick Cantlay                       302.8   \n",
       "1                 2         Jon Rahm                       309.0   \n",
       "2                 3         Kevin Na                       288.5   \n",
       "3                 4    Justin Thomas                       303.9   \n",
       "4                 5   Viktor Hovland                       302.2   \n",
       "..              ...              ...                         ...   \n",
       "95               96      Roger Sloan                       295.8   \n",
       "96               97  Brandt Snedeker                       286.6   \n",
       "97               98     Hank Lebioda                       295.0   \n",
       "98               99   Tyler McCumber                       309.4   \n",
       "99              100   Denny McCarthy                       295.4   \n",
       "\n",
       "    Driving accuracy (%)  Greens In Regulation (%)  Birdie average  \n",
       "0                  60.71                     70.16            4.29  \n",
       "1                  63.73                     71.93            4.51  \n",
       "2                  66.56                     64.11            4.00  \n",
       "3                  55.72                     67.79            4.31  \n",
       "4                  63.86                     68.61            4.40  \n",
       "..                   ...                       ...             ...  \n",
       "95                 61.78                     68.77            3.79  \n",
       "96                 64.04                     64.48            3.73  \n",
       "97                 61.16                     69.14            3.78  \n",
       "98                 58.30                     64.71            3.57  \n",
       "99                 62.31                     64.01            3.55  \n",
       "\n",
       "[100 rows x 6 columns]"
      ]
     },
     "execution_count": 21,
     "metadata": {},
     "output_type": "execute_result"
    }
   ],
   "source": [
    "#arrange as data frame\n",
    "df_arr = df\n",
    "df_arr.columns = ['Fedex Rank 2021', 'Name', 'Driving distance (avg yds)','Driving accuracy (%)','Greens In Regulation (%)', 'Birdie average']\n",
    "#https://note.nkmk.me/en/python-pandas-t-transpose/\n",
    "df_arr"
   ]
  },
  {
   "cell_type": "code",
   "execution_count": 29,
   "id": "24a25b7b",
   "metadata": {},
   "outputs": [],
   "source": [
    "# select specific column data\n",
    "distance = df_arr.iloc[:,2]\n",
    "accuracy = df_arr.iloc[:,3]\n",
    "gir = df_arr.iloc[:,4]\n",
    "birdies = df_arr.iloc[:,5]"
   ]
  },
  {
   "cell_type": "code",
   "execution_count": null,
   "id": "b4ade534",
   "metadata": {},
   "outputs": [],
   "source": []
  },
  {
   "cell_type": "code",
   "execution_count": 30,
   "id": "2e65637d",
   "metadata": {},
   "outputs": [],
   "source": [
    "#accuracy_mode = stats.mode(accuracy)\n",
    "#https://stackoverflow.com/questions/16330831/most-efficient-way-to-find-mode-in-numpy-array\n"
   ]
  },
  {
   "cell_type": "code",
   "execution_count": 31,
   "id": "848e2839",
   "metadata": {},
   "outputs": [],
   "source": [
    "#accuracy_mean = accuracy.mean()\n",
    "#print(accuracy_mean)"
   ]
  },
  {
   "cell_type": "code",
   "execution_count": null,
   "id": "46ceceee",
   "metadata": {},
   "outputs": [],
   "source": [
    "\n"
   ]
  },
  {
   "cell_type": "code",
   "execution_count": null,
   "id": "f2702b95",
   "metadata": {},
   "outputs": [],
   "source": [
    "\n"
   ]
  },
  {
   "cell_type": "code",
   "execution_count": 32,
   "id": "2a81f1cf",
   "metadata": {},
   "outputs": [],
   "source": [
    "#my_array = np.array([[distance],[accuracy],[gir],[birdies]])               \n",
    "#my_array"
   ]
  },
  {
   "cell_type": "code",
   "execution_count": 33,
   "id": "c687399f",
   "metadata": {},
   "outputs": [],
   "source": [
    "#df = pd.DataFrame(np.concatenate(my_array))\n",
    "#print(df)\n",
    "#print(type(df))"
   ]
  },
  {
   "cell_type": "code",
   "execution_count": 34,
   "id": "5d1d934c",
   "metadata": {},
   "outputs": [],
   "source": [
    "#df_t = df.T\n",
    "#df_t.columns = ['Driving distance (avg yds)','Driving accuracy (%)','Greens In Regulation (%)', 'Birdie average']\n",
    "#https://note.nkmk.me/en/python-pandas-t-transpose/"
   ]
  },
  {
   "cell_type": "code",
   "execution_count": 35,
   "id": "69f40e05",
   "metadata": {},
   "outputs": [],
   "source": [
    "#df_t.head()"
   ]
  },
  {
   "cell_type": "code",
   "execution_count": 36,
   "id": "acd952b1",
   "metadata": {},
   "outputs": [],
   "source": [
    "#sns.pairplot(df_t, kind=\"reg\", plot_kws={'line_kws':{'color':'red'}})"
   ]
  },
  {
   "cell_type": "code",
   "execution_count": null,
   "id": "070b1857",
   "metadata": {},
   "outputs": [],
   "source": []
  },
  {
   "cell_type": "code",
   "execution_count": 37,
   "id": "152a204c",
   "metadata": {},
   "outputs": [],
   "source": [
    "#from scipy import stats\n",
    "#data = stats.gamma.rvs(2, loc=1.5, scale=2, size=10000)\n",
    "#print(data)"
   ]
  },
  {
   "cell_type": "code",
   "execution_count": 38,
   "id": "80352822",
   "metadata": {},
   "outputs": [],
   "source": [
    "fitdistance = np.array([distance])\n"
   ]
  },
  {
   "cell_type": "code",
   "execution_count": 39,
   "id": "e0e38a0b",
   "metadata": {},
   "outputs": [
    {
     "data": {
      "text/html": [
       "<div>\n",
       "<style scoped>\n",
       "    .dataframe tbody tr th:only-of-type {\n",
       "        vertical-align: middle;\n",
       "    }\n",
       "\n",
       "    .dataframe tbody tr th {\n",
       "        vertical-align: top;\n",
       "    }\n",
       "\n",
       "    .dataframe thead th {\n",
       "        text-align: right;\n",
       "    }\n",
       "</style>\n",
       "<table border=\"1\" class=\"dataframe\">\n",
       "  <thead>\n",
       "    <tr style=\"text-align: right;\">\n",
       "      <th></th>\n",
       "      <th>sumsquare_error</th>\n",
       "      <th>aic</th>\n",
       "      <th>bic</th>\n",
       "      <th>kl_div</th>\n",
       "    </tr>\n",
       "  </thead>\n",
       "  <tbody>\n",
       "    <tr>\n",
       "      <th>lognorm</th>\n",
       "      <td>0.030668</td>\n",
       "      <td>880.478875</td>\n",
       "      <td>-795.155890</td>\n",
       "      <td>inf</td>\n",
       "    </tr>\n",
       "    <tr>\n",
       "      <th>gamma</th>\n",
       "      <td>0.030719</td>\n",
       "      <td>880.085594</td>\n",
       "      <td>-794.989700</td>\n",
       "      <td>inf</td>\n",
       "    </tr>\n",
       "    <tr>\n",
       "      <th>chi2</th>\n",
       "      <td>0.030719</td>\n",
       "      <td>880.086111</td>\n",
       "      <td>-794.989433</td>\n",
       "      <td>inf</td>\n",
       "    </tr>\n",
       "    <tr>\n",
       "      <th>rayleigh</th>\n",
       "      <td>0.031205</td>\n",
       "      <td>inf</td>\n",
       "      <td>-798.023366</td>\n",
       "      <td>inf</td>\n",
       "    </tr>\n",
       "    <tr>\n",
       "      <th>norm</th>\n",
       "      <td>0.031863</td>\n",
       "      <td>876.688442</td>\n",
       "      <td>-795.936826</td>\n",
       "      <td>inf</td>\n",
       "    </tr>\n",
       "  </tbody>\n",
       "</table>\n",
       "</div>"
      ],
      "text/plain": [
       "          sumsquare_error         aic         bic  kl_div\n",
       "lognorm          0.030668  880.478875 -795.155890     inf\n",
       "gamma            0.030719  880.085594 -794.989700     inf\n",
       "chi2             0.030719  880.086111 -794.989433     inf\n",
       "rayleigh         0.031205         inf -798.023366     inf\n",
       "norm             0.031863  876.688442 -795.936826     inf"
      ]
     },
     "execution_count": 39,
     "metadata": {},
     "output_type": "execute_result"
    },
    {
     "data": {
      "image/png": "[encoded data removed]",
      "text/plain": [
       "<Figure size 432x288 with 1 Axes>"
      ]
     },
     "metadata": {
      "needs_background": "light"
     },
     "output_type": "display_data"
    }
   ],
   "source": [
    "#https://medium.com/the-researchers-guide/finding-the-best-distribution-that-fits-your-data-using-pythons-fitter-library-319a5a0972e9\n",
    "#https://pypi.org/project/fitter/\n",
    "#https://fitter.readthedocs.io/en/latest/faqs.html#what-are-the-distributions-available\n",
    "\n",
    "f = Fitter(fitdistance, distributions=['cauchy',\n",
    " 'chi2',\n",
    " 'expon',\n",
    " 'exponpow',\n",
    " 'gamma',\n",
    " 'lognorm',\n",
    " 'norm',\n",
    " 'powerlaw',\n",
    " 'rayleigh',\n",
    " 'uniform'])\n",
    "f.fit()\n",
    "# may take some time since by default, all distributions are tried\n",
    "# but you call manually provide a smaller set of distributions\n",
    "f.summary()"
   ]
  },
  {
   "cell_type": "code",
   "execution_count": 40,
   "id": "8fe4de00",
   "metadata": {},
   "outputs": [
    {
     "data": {
      "text/plain": [
       "{'lognorm': {'s': 0.11093697461805507,\n",
       "  'loc': 226.62980940729665,\n",
       "  'scale': 72.26386699032992}}"
      ]
     },
     "execution_count": 40,
     "metadata": {},
     "output_type": "execute_result"
    }
   ],
   "source": [
    "f.get_best(method = 'sumsquare_error')"
   ]
  },
  {
   "cell_type": "code",
   "execution_count": 41,
   "id": "3186699c",
   "metadata": {},
   "outputs": [],
   "source": [
    "fitaccuracy = np.array([accuracy])"
   ]
  },
  {
   "cell_type": "code",
   "execution_count": 42,
   "id": "7e54587e",
   "metadata": {},
   "outputs": [
    {
     "data": {
      "text/html": [
       "<div>\n",
       "<style scoped>\n",
       "    .dataframe tbody tr th:only-of-type {\n",
       "        vertical-align: middle;\n",
       "    }\n",
       "\n",
       "    .dataframe tbody tr th {\n",
       "        vertical-align: top;\n",
       "    }\n",
       "\n",
       "    .dataframe thead th {\n",
       "        text-align: right;\n",
       "    }\n",
       "</style>\n",
       "<table border=\"1\" class=\"dataframe\">\n",
       "  <thead>\n",
       "    <tr style=\"text-align: right;\">\n",
       "      <th></th>\n",
       "      <th>sumsquare_error</th>\n",
       "      <th>aic</th>\n",
       "      <th>bic</th>\n",
       "      <th>kl_div</th>\n",
       "    </tr>\n",
       "  </thead>\n",
       "  <tbody>\n",
       "    <tr>\n",
       "      <th>rayleigh</th>\n",
       "      <td>0.105932</td>\n",
       "      <td>inf</td>\n",
       "      <td>-675.802008</td>\n",
       "      <td>inf</td>\n",
       "    </tr>\n",
       "    <tr>\n",
       "      <th>chi2</th>\n",
       "      <td>0.106243</td>\n",
       "      <td>767.803146</td>\n",
       "      <td>-670.904406</td>\n",
       "      <td>inf</td>\n",
       "    </tr>\n",
       "    <tr>\n",
       "      <th>gamma</th>\n",
       "      <td>0.107194</td>\n",
       "      <td>765.701837</td>\n",
       "      <td>-670.012613</td>\n",
       "      <td>inf</td>\n",
       "    </tr>\n",
       "    <tr>\n",
       "      <th>lognorm</th>\n",
       "      <td>0.107210</td>\n",
       "      <td>765.942683</td>\n",
       "      <td>-669.997928</td>\n",
       "      <td>inf</td>\n",
       "    </tr>\n",
       "    <tr>\n",
       "      <th>norm</th>\n",
       "      <td>0.107583</td>\n",
       "      <td>762.150066</td>\n",
       "      <td>-674.255496</td>\n",
       "      <td>inf</td>\n",
       "    </tr>\n",
       "  </tbody>\n",
       "</table>\n",
       "</div>"
      ],
      "text/plain": [
       "          sumsquare_error         aic         bic  kl_div\n",
       "rayleigh         0.105932         inf -675.802008     inf\n",
       "chi2             0.106243  767.803146 -670.904406     inf\n",
       "gamma            0.107194  765.701837 -670.012613     inf\n",
       "lognorm          0.107210  765.942683 -669.997928     inf\n",
       "norm             0.107583  762.150066 -674.255496     inf"
      ]
     },
     "execution_count": 42,
     "metadata": {},
     "output_type": "execute_result"
    },
    {
     "data": {
      "image/png": "[encoded data removed]",
      "text/plain": [
       "<Figure size 432x288 with 1 Axes>"
      ]
     },
     "metadata": {
      "needs_background": "light"
     },
     "output_type": "display_data"
    }
   ],
   "source": [
    "f = Fitter(fitaccuracy, distributions=['cauchy',\n",
    " 'chi2',\n",
    " 'expon',\n",
    " 'exponpow',\n",
    " 'gamma',\n",
    " 'lognorm',\n",
    " 'norm',\n",
    " 'powerlaw',\n",
    " 'rayleigh',\n",
    " 'uniform'])\n",
    "f.fit()\n",
    "# may take some time since by default, all distributions are tried\n",
    "# but you call manually provide a smaller set of distributions\n",
    "f.summary()"
   ]
  },
  {
   "cell_type": "code",
   "execution_count": 43,
   "id": "f20b7d4b",
   "metadata": {},
   "outputs": [
    {
     "data": {
      "text/plain": [
       "{'rayleigh': {'loc': 53.46421743761188, 'scale': 6.506613280990041}}"
      ]
     },
     "execution_count": 43,
     "metadata": {},
     "output_type": "execute_result"
    }
   ],
   "source": [
    "al = f.get_best(method = 'sumsquare_error')\n",
    "al\n"
   ]
  },
  {
   "cell_type": "code",
   "execution_count": 44,
   "id": "ce41c540",
   "metadata": {},
   "outputs": [],
   "source": [
    "fitgir = np.array([gir])"
   ]
  },
  {
   "cell_type": "code",
   "execution_count": 45,
   "id": "a7074f48",
   "metadata": {},
   "outputs": [
    {
     "data": {
      "text/html": [
       "<div>\n",
       "<style scoped>\n",
       "    .dataframe tbody tr th:only-of-type {\n",
       "        vertical-align: middle;\n",
       "    }\n",
       "\n",
       "    .dataframe tbody tr th {\n",
       "        vertical-align: top;\n",
       "    }\n",
       "\n",
       "    .dataframe thead th {\n",
       "        text-align: right;\n",
       "    }\n",
       "</style>\n",
       "<table border=\"1\" class=\"dataframe\">\n",
       "  <thead>\n",
       "    <tr style=\"text-align: right;\">\n",
       "      <th></th>\n",
       "      <th>sumsquare_error</th>\n",
       "      <th>aic</th>\n",
       "      <th>bic</th>\n",
       "      <th>kl_div</th>\n",
       "    </tr>\n",
       "  </thead>\n",
       "  <tbody>\n",
       "    <tr>\n",
       "      <th>norm</th>\n",
       "      <td>0.991301</td>\n",
       "      <td>543.663959</td>\n",
       "      <td>-452.180353</td>\n",
       "      <td>inf</td>\n",
       "    </tr>\n",
       "    <tr>\n",
       "      <th>lognorm</th>\n",
       "      <td>0.991801</td>\n",
       "      <td>545.907262</td>\n",
       "      <td>-447.524837</td>\n",
       "      <td>inf</td>\n",
       "    </tr>\n",
       "    <tr>\n",
       "      <th>gamma</th>\n",
       "      <td>0.991862</td>\n",
       "      <td>546.235757</td>\n",
       "      <td>-447.518615</td>\n",
       "      <td>inf</td>\n",
       "    </tr>\n",
       "    <tr>\n",
       "      <th>chi2</th>\n",
       "      <td>0.992806</td>\n",
       "      <td>548.067712</td>\n",
       "      <td>-447.423532</td>\n",
       "      <td>inf</td>\n",
       "    </tr>\n",
       "    <tr>\n",
       "      <th>rayleigh</th>\n",
       "      <td>1.002078</td>\n",
       "      <td>inf</td>\n",
       "      <td>-451.099131</td>\n",
       "      <td>inf</td>\n",
       "    </tr>\n",
       "  </tbody>\n",
       "</table>\n",
       "</div>"
      ],
      "text/plain": [
       "          sumsquare_error         aic         bic  kl_div\n",
       "norm             0.991301  543.663959 -452.180353     inf\n",
       "lognorm          0.991801  545.907262 -447.524837     inf\n",
       "gamma            0.991862  546.235757 -447.518615     inf\n",
       "chi2             0.992806  548.067712 -447.423532     inf\n",
       "rayleigh         1.002078         inf -451.099131     inf"
      ]
     },
     "execution_count": 45,
     "metadata": {},
     "output_type": "execute_result"
    },
    {
     "data": {
      "image/png": "[encoded data removed]",
      "text/plain": [
       "<Figure size 432x288 with 1 Axes>"
      ]
     },
     "metadata": {
      "needs_background": "light"
     },
     "output_type": "display_data"
    }
   ],
   "source": [
    "f = Fitter(fitgir, distributions=['cauchy',\n",
    " 'chi2',\n",
    " 'expon',\n",
    " 'exponpow',\n",
    " 'gamma',\n",
    " 'lognorm',\n",
    " 'norm',\n",
    " 'powerlaw',\n",
    " 'rayleigh',\n",
    " 'uniform'])\n",
    "f.fit()\n",
    "# may take some time since by default, all distributions are tried\n",
    "# but you call manually provide a smaller set of distributions\n",
    "f.summary()"
   ]
  },
  {
   "cell_type": "code",
   "execution_count": 46,
   "id": "96a06dbf",
   "metadata": {},
   "outputs": [],
   "source": [
    "fitbirdies = np.array([birdies])"
   ]
  },
  {
   "cell_type": "code",
   "execution_count": 47,
   "id": "ade58bd8",
   "metadata": {},
   "outputs": [
    {
     "data": {
      "text/html": [
       "<div>\n",
       "<style scoped>\n",
       "    .dataframe tbody tr th:only-of-type {\n",
       "        vertical-align: middle;\n",
       "    }\n",
       "\n",
       "    .dataframe tbody tr th {\n",
       "        vertical-align: top;\n",
       "    }\n",
       "\n",
       "    .dataframe thead th {\n",
       "        text-align: right;\n",
       "    }\n",
       "</style>\n",
       "<table border=\"1\" class=\"dataframe\">\n",
       "  <thead>\n",
       "    <tr style=\"text-align: right;\">\n",
       "      <th></th>\n",
       "      <th>sumsquare_error</th>\n",
       "      <th>aic</th>\n",
       "      <th>bic</th>\n",
       "      <th>kl_div</th>\n",
       "    </tr>\n",
       "  </thead>\n",
       "  <tbody>\n",
       "    <tr>\n",
       "      <th>lognorm</th>\n",
       "      <td>68.248116</td>\n",
       "      <td>122.547073</td>\n",
       "      <td>-24.386525</td>\n",
       "      <td>inf</td>\n",
       "    </tr>\n",
       "    <tr>\n",
       "      <th>gamma</th>\n",
       "      <td>68.276475</td>\n",
       "      <td>122.224942</td>\n",
       "      <td>-24.344981</td>\n",
       "      <td>inf</td>\n",
       "    </tr>\n",
       "    <tr>\n",
       "      <th>norm</th>\n",
       "      <td>68.380487</td>\n",
       "      <td>119.275421</td>\n",
       "      <td>-28.797927</td>\n",
       "      <td>inf</td>\n",
       "    </tr>\n",
       "    <tr>\n",
       "      <th>rayleigh</th>\n",
       "      <td>68.518205</td>\n",
       "      <td>inf</td>\n",
       "      <td>-28.596730</td>\n",
       "      <td>inf</td>\n",
       "    </tr>\n",
       "    <tr>\n",
       "      <th>exponpow</th>\n",
       "      <td>69.435081</td>\n",
       "      <td>100.183424</td>\n",
       "      <td>-22.662285</td>\n",
       "      <td>inf</td>\n",
       "    </tr>\n",
       "  </tbody>\n",
       "</table>\n",
       "</div>"
      ],
      "text/plain": [
       "          sumsquare_error         aic        bic  kl_div\n",
       "lognorm         68.248116  122.547073 -24.386525     inf\n",
       "gamma           68.276475  122.224942 -24.344981     inf\n",
       "norm            68.380487  119.275421 -28.797927     inf\n",
       "rayleigh        68.518205         inf -28.596730     inf\n",
       "exponpow        69.435081  100.183424 -22.662285     inf"
      ]
     },
     "execution_count": 47,
     "metadata": {},
     "output_type": "execute_result"
    },
    {
     "data": {
      "image/png": "[encoded data removed]",
      "text/plain": [
       "<Figure size 432x288 with 1 Axes>"
      ]
     },
     "metadata": {
      "needs_background": "light"
     },
     "output_type": "display_data"
    }
   ],
   "source": [
    "f = Fitter(fitbirdies, distributions=['cauchy',\n",
    " 'chi2',\n",
    " 'expon',\n",
    " 'exponpow',\n",
    " 'gamma',\n",
    " 'lognorm',\n",
    " 'norm',\n",
    " 'powerlaw',\n",
    " 'rayleigh',\n",
    " 'uniform'])\n",
    "f.fit()\n",
    "# may take some time since by default, all distributions are tried\n",
    "# but you call manually provide a smaller set of distributions\n",
    "f.summary()"
   ]
  },
  {
   "cell_type": "code",
   "execution_count": null,
   "id": "c9d8dfa9",
   "metadata": {},
   "outputs": [],
   "source": []
  },
  {
   "cell_type": "code",
   "execution_count": null,
   "id": "5f29b557",
   "metadata": {},
   "outputs": [],
   "source": []
  },
  {
   "cell_type": "code",
   "execution_count": null,
   "id": "a81190c0",
   "metadata": {},
   "outputs": [],
   "source": []
  },
  {
   "cell_type": "markdown",
   "id": "4c43dde3",
   "metadata": {},
   "source": [
    "### Distance"
   ]
  },
  {
   "cell_type": "code",
   "execution_count": null,
   "id": "2fbdbf74",
   "metadata": {},
   "outputs": [],
   "source": [
    "# Driving distacnce\n",
    "#https://numpy.org/doc/stable/reference/random/generated/numpy.random.Generator.lognormal.html#numpy.random.Generator.lognormal\n",
    "mu, sigma = 316.5, 5.1\n",
    "\n",
    "distance_rand = rng.lognormal(mu, sigma, 100)\n",
    "\n",
    "count, bins, ignored = plt.hist(distance_rand, 100, density=True)\n",
    "\n",
    "x = np.linspace(min(bins), max(bins), 100)\n",
    "\n",
    "pdf = (np.exp(-(np.log(x) - mu)**2 / (2 * sigma**2))\n",
    "\n",
    "       / (x * sigma * np.sqrt(2 * np.pi)))\n",
    "\n",
    "plt.plot(x, pdf, linewidth=2, color='r')\n",
    "\n",
    "plt.axis('tight')\n",
    "\n",
    "plt.show()\n",
    "\n"
   ]
  },
  {
   "cell_type": "code",
   "execution_count": null,
   "id": "f19fbe4d",
   "metadata": {},
   "outputs": [],
   "source": []
  },
  {
   "cell_type": "code",
   "execution_count": null,
   "id": "f411221a",
   "metadata": {},
   "outputs": [],
   "source": []
  },
  {
   "cell_type": "markdown",
   "id": "8a059b9d",
   "metadata": {},
   "source": [
    "### Accuracy"
   ]
  },
  {
   "cell_type": "code",
   "execution_count": null,
   "id": "6bedbd1e",
   "metadata": {},
   "outputs": [],
   "source": [
    "from scipy.stats import rayleigh"
   ]
  },
  {
   "cell_type": "code",
   "execution_count": null,
   "id": "0f07edc6",
   "metadata": {},
   "outputs": [],
   "source": [
    "# https://www.kite.com/python/answers/how-to-convert-a-dictionary-to-a-numpy-array-in-python \n",
    "# use this to put the scale factor in\n",
    "al_data = list(al.items())\n",
    "al_array = np.array(al_data)\n",
    "al_array"
   ]
  },
  {
   "cell_type": "code",
   "execution_count": null,
   "id": "a316ee1c",
   "metadata": {},
   "outputs": [],
   "source": [
    "#https://docs.scipy.org/doc/scipy/reference/generated/scipy.stats.rayleigh.html\n",
    "accuracy_rand = rayleigh.rvs(loc=62.6, scale=6.319240523124456, size=100, random_state=None) # use the mean value determined for the loc and the scale is determined using fitter\n",
    "plt.hist(accuracy_rand, bins=10)\n",
    "\n",
    "plt.show()"
   ]
  },
  {
   "cell_type": "code",
   "execution_count": null,
   "id": "589fafdc",
   "metadata": {},
   "outputs": [],
   "source": [
    "type(al)"
   ]
  },
  {
   "cell_type": "markdown",
   "id": "e7e1fd8f",
   "metadata": {},
   "source": [
    "### GIR"
   ]
  },
  {
   "cell_type": "code",
   "execution_count": null,
   "id": "1d27fd8c",
   "metadata": {},
   "outputs": [],
   "source": [
    "# GIR\n",
    "mu, sigma = 70.2, 1.5\n",
    "\n",
    "gir_rand = np.random.default_rng().normal(mu, sigma, 100)\n",
    "\n",
    "count, bins, ignored = plt.hist(gir_rand, 10, density=True)\n",
    "\n",
    "plt.plot(bins, 1/(sigma * np.sqrt(2 * np.pi)) *\n",
    "\n",
    "               np.exp( - (bins - mu)**2 / (2 * sigma**2) ),\n",
    "\n",
    "         linewidth=2, color='r')\n",
    "\n",
    "plt.show()\n",
    "\n",
    "# https://www.statisticshowto.com/choose-bin-sizes-statistics/"
   ]
  },
  {
   "cell_type": "code",
   "execution_count": null,
   "id": "49e26cb5",
   "metadata": {},
   "outputs": [],
   "source": []
  },
  {
   "cell_type": "code",
   "execution_count": null,
   "id": "436ef922",
   "metadata": {},
   "outputs": [],
   "source": []
  },
  {
   "cell_type": "code",
   "execution_count": null,
   "id": "84c9dc58",
   "metadata": {},
   "outputs": [],
   "source": []
  },
  {
   "cell_type": "code",
   "execution_count": null,
   "id": "ada5618b",
   "metadata": {},
   "outputs": [],
   "source": [
    "accuracy_mode"
   ]
  },
  {
   "cell_type": "code",
   "execution_count": null,
   "id": "8e6121b9",
   "metadata": {},
   "outputs": [],
   "source": [
    "plt.hist(accuracy)"
   ]
  },
  {
   "cell_type": "code",
   "execution_count": null,
   "id": "6747ff06",
   "metadata": {},
   "outputs": [],
   "source": []
  },
  {
   "cell_type": "code",
   "execution_count": null,
   "id": "7eec241a",
   "metadata": {},
   "outputs": [],
   "source": []
  },
  {
   "cell_type": "code",
   "execution_count": null,
   "id": "e1fd1699",
   "metadata": {},
   "outputs": [],
   "source": [
    "plt.scatter(distance_rand, accuracy_rand)\n",
    "m, b = np.polyfit(distance_rand, accuracy_rand, 1)\n",
    "plt.plot(distance_rand, m*distance_rand + b)\n",
    "plt.show()\n",
    "#https://www.kite.com/python/answers/how-to-plot-a-linear-regression-line-on-a-scatter-plot-in-python"
   ]
  },
  {
   "cell_type": "code",
   "execution_count": null,
   "id": "a8c30cbe",
   "metadata": {},
   "outputs": [],
   "source": []
  },
  {
   "cell_type": "code",
   "execution_count": null,
   "id": "cba9d04a",
   "metadata": {},
   "outputs": [],
   "source": []
  },
  {
   "cell_type": "code",
   "execution_count": null,
   "id": "b89d1cd6",
   "metadata": {},
   "outputs": [],
   "source": []
  },
  {
   "cell_type": "code",
   "execution_count": null,
   "id": "144c94cb",
   "metadata": {},
   "outputs": [],
   "source": []
  },
  {
   "cell_type": "code",
   "execution_count": null,
   "id": "2185eb28",
   "metadata": {},
   "outputs": [],
   "source": []
  },
  {
   "cell_type": "code",
   "execution_count": null,
   "id": "fc59e1b2",
   "metadata": {},
   "outputs": [],
   "source": []
  },
  {
   "cell_type": "code",
   "execution_count": null,
   "id": "ef40cd1d",
   "metadata": {},
   "outputs": [],
   "source": []
  },
  {
   "cell_type": "code",
   "execution_count": null,
   "id": "4a6e72c2",
   "metadata": {},
   "outputs": [],
   "source": [
    "y"
   ]
  },
  {
   "cell_type": "code",
   "execution_count": null,
   "id": "dc326170",
   "metadata": {},
   "outputs": [],
   "source": [
    "y.max(), y.min(), len(y)\n"
   ]
  },
  {
   "cell_type": "code",
   "execution_count": null,
   "id": "95c7ac30",
   "metadata": {},
   "outputs": [],
   "source": [
    "plt.scatter(x,y)\n",
    "m, b = np.polyfit(x, y, 1)\n",
    "plt.plot(x, m*x + b)\n",
    "plt.show()\n",
    "#https://www.kite.com/python/answers/how-to-plot-a-linear-regression-line-on-a-scatter-plot-in-python"
   ]
  },
  {
   "cell_type": "code",
   "execution_count": null,
   "id": "43017d4b",
   "metadata": {},
   "outputs": [],
   "source": [
    "mu, sigma = 69.4, 0.4\n",
    "\n",
    "z = np.random.default_rng().normal(mu, sigma, 1000)\n",
    "\n",
    "count, bins, ignored = plt.hist(z, 10, density=True)\n",
    "\n",
    "plt.plot(bins, 1/(sigma * np.sqrt(2 * np.pi)) *\n",
    "\n",
    "               np.exp( - (bins - mu)**2 / (2 * sigma**2) ),\n",
    "\n",
    "         linewidth=2, color='r')\n",
    "\n",
    "plt.show()"
   ]
  },
  {
   "cell_type": "code",
   "execution_count": null,
   "id": "b8c44a36",
   "metadata": {},
   "outputs": [],
   "source": [
    "mu, sigma = 70.2, 1.5\n",
    "\n",
    "zz = np.random.default_rng().normal(mu, sigma, 1000)\n",
    "\n",
    "count, bins, ignored = plt.hist(zz, 10, density=True)\n",
    "\n",
    "plt.plot(bins, 1/(sigma * np.sqrt(2 * np.pi)) *\n",
    "\n",
    "               np.exp( - (bins - mu)**2 / (2 * sigma**2) ),\n",
    "\n",
    "         linewidth=2, color='r')\n",
    "\n",
    "plt.show()"
   ]
  },
  {
   "cell_type": "code",
   "execution_count": null,
   "id": "f1cec18d",
   "metadata": {},
   "outputs": [],
   "source": []
  },
  {
   "cell_type": "code",
   "execution_count": null,
   "id": "4cf01f70",
   "metadata": {},
   "outputs": [],
   "source": [
    "my_array = np.array([[x],[y],[z],[zz]])\n",
    "                    \n",
    "my_array"
   ]
  },
  {
   "cell_type": "code",
   "execution_count": null,
   "id": "87aeb61c",
   "metadata": {},
   "outputs": [],
   "source": [
    "#irisData = pd.read_csv('bezdekIris.data', header = None)  \n",
    "#irisData.columns = ['Sepal Length (cm)','Sepal Width (cm)','Petal Length (cm)','Petal Width (cm)','Class']"
   ]
  },
  {
   "cell_type": "code",
   "execution_count": null,
   "id": "cc3b07ad",
   "metadata": {},
   "outputs": [],
   "source": [
    "df = pd.DataFrame(np.concatenate(my_array))\n",
    "\n",
    "\n",
    "print(df)\n",
    "print(type(df))"
   ]
  },
  {
   "cell_type": "code",
   "execution_count": null,
   "id": "4bd0cebb",
   "metadata": {},
   "outputs": [],
   "source": [
    "df_t = df.T\n",
    "df_t.columns = ['Driving distance avg (yds)','Driving accuracy (%)','Scoring avg (%)','GIR']\n",
    "#https://note.nkmk.me/en/python-pandas-t-transpose/"
   ]
  },
  {
   "cell_type": "code",
   "execution_count": null,
   "id": "98902cdf",
   "metadata": {},
   "outputs": [],
   "source": [
    "df_t.head()"
   ]
  },
  {
   "cell_type": "code",
   "execution_count": null,
   "id": "d6a21e98",
   "metadata": {},
   "outputs": [],
   "source": [
    "sns.pairplot(df_t, kind=\"reg\", plot_kws={'line_kws':{'color':'red'}})\n",
    "# https://stackoverflow.com/questions/50722972/change-the-regression-line-colour-of-seaborns-pairplot"
   ]
  },
  {
   "cell_type": "code",
   "execution_count": null,
   "id": "d742f06d",
   "metadata": {},
   "outputs": [],
   "source": []
  },
  {
   "cell_type": "code",
   "execution_count": null,
   "id": "bb4a7c58",
   "metadata": {},
   "outputs": [],
   "source": []
  },
  {
   "cell_type": "code",
   "execution_count": null,
   "id": "fd43f5b7",
   "metadata": {},
   "outputs": [],
   "source": []
  },
  {
   "cell_type": "code",
   "execution_count": null,
   "id": "100901e9",
   "metadata": {},
   "outputs": [],
   "source": []
  },
  {
   "cell_type": "code",
   "execution_count": null,
   "id": "2887b396",
   "metadata": {},
   "outputs": [],
   "source": []
  },
  {
   "cell_type": "code",
   "execution_count": null,
   "id": "980ea1f4",
   "metadata": {},
   "outputs": [],
   "source": []
  },
  {
   "cell_type": "code",
   "execution_count": null,
   "id": "79180d50",
   "metadata": {},
   "outputs": [],
   "source": []
  },
  {
   "cell_type": "code",
   "execution_count": null,
   "id": "de4653bd",
   "metadata": {},
   "outputs": [],
   "source": []
  },
  {
   "cell_type": "code",
   "execution_count": null,
   "id": "0001bf25",
   "metadata": {},
   "outputs": [],
   "source": []
  },
  {
   "cell_type": "code",
   "execution_count": null,
   "id": "d7177eb4",
   "metadata": {},
   "outputs": [],
   "source": []
  },
  {
   "cell_type": "code",
   "execution_count": null,
   "id": "2f19d800",
   "metadata": {},
   "outputs": [],
   "source": []
  },
  {
   "cell_type": "code",
   "execution_count": null,
   "id": "eae18752",
   "metadata": {},
   "outputs": [],
   "source": []
  },
  {
   "cell_type": "code",
   "execution_count": null,
   "id": "1a341c83",
   "metadata": {},
   "outputs": [],
   "source": []
  },
  {
   "cell_type": "code",
   "execution_count": null,
   "id": "38c9b23a",
   "metadata": {},
   "outputs": [],
   "source": []
  }
 ],
 "metadata": {
  "kernelspec": {
   "display_name": "Python 3 (ipykernel)",
   "language": "python",
   "name": "python3"
  },
  "language_info": {
   "codemirror_mode": {
    "name": "ipython",
    "version": 3
   },
   "file_extension": ".py",
   "mimetype": "text/x-python",
   "name": "python",
   "nbconvert_exporter": "python",
   "pygments_lexer": "ipython3",
   "version": "3.8.11"
  }
 },
 "nbformat": 4,
 "nbformat_minor": 5
}
