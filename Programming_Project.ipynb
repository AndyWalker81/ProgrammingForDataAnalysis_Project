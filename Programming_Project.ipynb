{
 "cells": [
  {
   "cell_type": "markdown",
   "id": "ed1322c0",
   "metadata": {},
   "source": [
    "# Simulation of PGA Tour Golf Data"
   ]
  },
  {
   "cell_type": "markdown",
   "id": "71d3f4b8",
   "metadata": {},
   "source": [
    "## Programming for Data Analysis Project "
   ]
  },
  {
   "cell_type": "markdown",
   "id": "4f790274",
   "metadata": {},
   "source": [
    "### Andrew Walker - G00398788@gmit.ie"
   ]
  },
  {
   "cell_type": "markdown",
   "id": "626f36cf",
   "metadata": {},
   "source": [
    "![www.pgatour.com](https://pga-tour-res.cloudinary.com/image/upload/c_fill,dpr_2.6,f_auto,g_center,h_336,q_auto,w_1320/v1/pgatour/editorial/2020/12/17/Logo/flag-example-1400.jpg)"
   ]
  },
  {
   "cell_type": "markdown",
   "id": "5c59d916",
   "metadata": {},
   "source": [
    "<br>\n",
    "\n",
    "This project will simulate a data set based on historical PGA Tour golf statistics and model the relationships between four variables:\n",
    "\n",
    "- Driving distance average (the average number of yards per hole)\n",
    "- Driving accurary percentage (the percentage of time a tee shot comes to rest in the fairway)\n",
    "- Greens in Regulation (GIR) percentage (the percent of time a player was able to hit the green in regulation. The GIR stroke is determined by subtracting 2 from par)\n",
    "- Birdie average (the average number of birdies made per round played.)"
   ]
  },
  {
   "cell_type": "markdown",
   "id": "4713ce7a",
   "metadata": {},
   "source": [
    "The R&A and USGA Distance Insights Report (2020) (https://www.usga.org/content/dam/usga/pdf/2020/distance-insights/DIPR-FINAL-2020-usga.pdf) finds that the average driving distance on the PGA Tour has shown a general increase, in particular from the early 1990s with the introduction of oversized drivers. Following this, further technological and rule innovations has led to a trend in increased distance off the tee.  "
   ]
  },
  {
   "cell_type": "markdown",
   "id": "9c69b28d",
   "metadata": {},
   "source": [
    "However, the Distance Insights Report (2020) also finds that as driving distance increases, driving accuracy decreases."
   ]
  },
  {
   "cell_type": "markdown",
   "id": "7f5d8ffb",
   "metadata": {},
   "source": [
    "This project will make a comparison of the above four variables to:\n",
    "\n",
    "1. Model how driving distance affects accuracy\n",
    "2. Model how distance and accuracy affect the number of greens in regulation hit\n",
    "3. Model how distance and accuracy affect the number of birdies scored\n",
    "4. Model how the number of greens in regulation hit affects birdies"
   ]
  },
  {
   "cell_type": "markdown",
   "id": "e73c96c3",
   "metadata": {},
   "source": [
    "Several initial hypothesis can be made:\n",
    "    \n",
    "1. As driving distance increases, the accuracy of the shot decreases leading to more tee shots not landing on the fairway.\n",
    "2. Hitting GIR will lead to more birdies.\n",
    "\n",
    "The project will model whether the hypothesis are correct.\n",
    "\n",
    "The project also will model whether driving distance or accuracy is a more useful indicator to hit GIR and to score birdies - whilst a long drive might be less accurate and find the rough, a shorter approach shot might lead to more GIR  and / or more birdies. Conversely, a more accurate tee shot which finds the fairway but has a longer approach shot might lead to more GIR and / or more birdies.\n",
    "\n",
    "This might be a useful simulation for golfers to establish if distance is more important than accuracy, or vice versa.\n"
   ]
  },
  {
   "cell_type": "markdown",
   "id": "ea170ecb",
   "metadata": {},
   "source": [
    "The project uses historical data to determine the distribution of random data for modelling. Then, based on the trends in historical data between the years 1990, 2000, 2010, and 2020, predictions are made for likely figures for the four variables in 2030. Random data is then simulated for each variable, using the likely distributions. These variables are then compared to determine whether the hypothesis were correct, and whether driving distance or accuracy is a more useful indicator to hit GIR and to score birdies."
   ]
  },
  {
   "cell_type": "markdown",
   "id": "ff610641",
   "metadata": {},
   "source": [
    "https://www.itl.nist.gov/div898/handbook/eda/section3/eda366.htm"
   ]
  },
  {
   "cell_type": "markdown",
   "id": "e482805e",
   "metadata": {},
   "source": [
    "https://www.usga.org/content/dam/usga/pdf/RSI/distance-insights-2021-docs/2020%20Distance%20Report%2026-01-2021.pdf\n",
    "\n",
    "https://www.usga.org/content/dam/usga/pdf/2020/distance-insights/DIPR-FINAL-2020-usga.pdf"
   ]
  },
  {
   "cell_type": "markdown",
   "id": "a8353d3a",
   "metadata": {},
   "source": [
    "https://www.pgatour.com/stats/stat.101.y2021.html"
   ]
  },
  {
   "cell_type": "markdown",
   "id": "8271c952",
   "metadata": {},
   "source": [
    "1990 (no major innovations between 1980 and 1990), 2000, 2010, 2020 - simulate data for 2030\n",
    "\n",
    "Make a note of total number of players on Fedex"
   ]
  },
  {
   "cell_type": "code",
   "execution_count": 1,
   "id": "512e5596",
   "metadata": {
    "scrolled": true
   },
   "outputs": [],
   "source": [
    "# Regular expressions.\n",
    "import re\n",
    "\n",
    "# Convenient HTTP requests.\n",
    "import requests as rq\n",
    "\n",
    "# Dates and times\n",
    "import datetime as dt\n",
    "\n",
    "# Data frames\n",
    "import pandas as pd\n",
    "\n",
    "# FOr downloading\n",
    "import urllib.request as urlrq\n",
    "\n",
    "#numpy\n",
    "import numpy as np\n",
    "\n",
    "# pyplot\n",
    "import matplotlib.pyplot as plt\n",
    "\n",
    "# seaborn\n",
    "import seaborn as sns\n",
    "\n",
    "import math\n",
    "\n",
    "#insall fitter \n",
    "#https://pypi.org/project/fitter/\n",
    "\n",
    "from scipy import stats\n",
    "#https://stackoverflow.com/questions/16330831/most-efficient-way-to-find-mode-in-numpy-array\n",
    "    \n",
    "import scipy\n",
    "\n",
    "rng = np.random.default_rng()\n",
    "\n",
    "from fitter import get_common_distributions\n",
    "get_common_distributions()\n",
    "from fitter import Fitter\n",
    "\n",
    "import statistics\n",
    "\n",
    "\n"
   ]
  },
  {
   "cell_type": "markdown",
   "id": "f8151926",
   "metadata": {},
   "source": [
    "### Compile stats fop top 100 Fedex Cup rankings\n",
    "\n",
    "https://www.pgatour.com/content/pgatour/stats/stat.02671.y2021.html"
   ]
  },
  {
   "cell_type": "code",
   "execution_count": null,
   "id": "eb5b4ad7",
   "metadata": {},
   "outputs": [],
   "source": []
  },
  {
   "cell_type": "markdown",
   "id": "7790c3e9",
   "metadata": {},
   "source": [
    "The project first uses PGA Tour data(https://www.pgatour.com/) from the top 100 ranked golfers at the end of the 2021 Fedex Cup. "
   ]
  },
  {
   "cell_type": "code",
   "execution_count": null,
   "id": "b15b8364",
   "metadata": {},
   "outputs": [],
   "source": []
  },
  {
   "cell_type": "code",
   "execution_count": 2,
   "id": "2ccb6bd9",
   "metadata": {},
   "outputs": [
    {
     "name": "stdout",
     "output_type": "stream",
     "text": [
      "    Fedex Rank 2021               Name  Driving distance (avg yds)  Driving accuracy (%)  Greens in Regulation (%)  Birdie average\n",
      "0                 1    Patrick Cantlay                       302.8                 60.71                     70.16            4.29\n",
      "1                 2           Jon Rahm                       309.0                 63.73                     71.93            4.51\n",
      "2                 3           Kevin Na                       288.5                 66.56                     64.11            4.00\n",
      "3                 4      Justin Thomas                       303.9                 55.72                     67.79            4.31\n",
      "4                 5     Viktor Hovland                       302.2                 63.86                     68.61            4.40\n",
      "5                 5  Xander Schauffele                       307.6                 58.83                     68.64            4.28\n",
      "6                 7  Bryson DeChambeau                       323.7                 54.18                     67.15            4.50\n",
      "7                 8     Dustin Johnson                       312.9                 57.87                     66.67            4.25\n",
      "8                 9     Billy Horschel                       294.7                 65.70                     66.47            3.69\n",
      "9                 9      Abraham Ancer                       290.4                 71.05                     69.27            4.20\n",
      "10               11      Daniel Berger                       296.7                 65.48                     70.50            4.23\n",
      "11               11         Tony Finau                       305.5                 56.29                     67.10            4.16\n",
      "12               11       Jason Kokrak                       307.9                 60.18                     69.19            4.28\n",
      "13               14       Rory McIlroy                       319.3                 57.36                     65.77            4.51\n",
      "14               14   Louis Oosthuizen                       297.8                 63.47                     67.64            3.86\n",
      "15               14      Sergio Garcia                       309.4                 61.18                     70.05            3.96\n",
      "16               14      Cameron Smith                       297.9                 59.23                     65.72            4.48\n",
      "17               18     Harris English                       299.4                 64.29                     65.76            4.26\n",
      "18               18          Sam Burns                       305.3                 58.90                     67.79            4.43\n",
      "19               20      Jordan Spieth                       299.5                 53.92                     64.58            4.30\n",
      "20               20         Sungjae Im                       297.1                 69.12                     69.08            4.08\n",
      "21               22      Corey Conners                       295.4                 70.15                     69.93            3.99\n",
      "22               22    Erik van Rooyen                       305.3                 61.12                     64.38            3.90\n",
      "23               22  Scottie Scheffler                       305.0                 63.49                     68.08            4.39\n",
      "24               25       Patrick Reed                       291.4                 63.21                     62.11            4.00\n",
      "25               26   Hideki Matsuyama                       299.9                 62.25                     67.03            4.06\n",
      "26               26       Stewart Cink                       306.6                 56.42                     69.44            3.93\n",
      "27               26    Collin Morikawa                       295.2                 69.60                     70.80            4.23\n",
      "28               29    Joaquin Niemann                       310.6                 59.20                     68.57            4.14\n",
      "29               30      Brooks Koepka                       310.7                 56.63                     68.01            4.21\n",
      "30               31            K H Lee                       298.4                 63.06                     64.26            3.64\n",
      "31               32    Charley Hoffman                       306.5                 57.11                     67.85            4.20\n",
      "32               33         Alex Noren                       297.9                 58.26                     63.21            3.76\n",
      "33               34         Si Woo Kim                       296.3                 62.71                     65.78            3.89\n",
      "34               35           Max Homa                       300.8                 58.44                     63.89            3.93\n",
      "35               36    Hudson Swafford                       303.1                 63.94                     67.89            3.83\n",
      "36               37          Cam Davis                       309.0                 56.11                     65.31            4.17\n",
      "37               38       Kevin Kisner                       289.1                 67.61                     64.96            3.72\n",
      "38               39     Keegan Bradley                       300.2                 65.03                     69.96            3.77\n",
      "39               40       Webb Simpson                       292.5                 67.08                     69.37            4.34\n",
      "40               41       Brian Harman                       291.7                 66.88                     64.33            3.91\n",
      "41               42      Marc Leishman                       293.8                 58.46                     65.72            3.55\n",
      "42               43   Cameron Tringale                       297.5                 61.17                     67.63            4.11\n",
      "43               44  Harold Varner III                       300.7                 59.87                     67.78            3.76\n",
      "44               45        Shane Lowry                       299.6                 59.91                     68.35            3.91\n",
      "45               46       Lucas Glover                       294.9                 64.05                     66.72            3.83\n",
      "46               47         Matt Jones                       304.0                 55.62                     65.74            3.68\n",
      "47               48       Carlos Ortiz                       303.0                 60.36                     67.03            3.89\n",
      "48               49         Aaron Wise                       300.6                 60.04                     70.35            4.11\n",
      "49               50       Lee Westwood                       294.1                 62.93                     64.78            3.48\n",
      "50               51   Charl Schwartzel                       303.0                 57.76                     66.86            3.64\n",
      "51               52         Paul Casey                       303.9                 62.20                     68.83            3.90\n",
      "52               53    Sebastian Munoz                       297.5                 62.96                     66.67            4.09\n",
      "53               54           Tom Hoge                       289.2                 63.70                     62.62            3.88\n",
      "54               55      Branden Grace                       293.8                 55.50                     64.47            3.78\n",
      "55               56     Russell Henley                       289.8                 67.07                     69.44            3.73\n",
      "56               57      Cameron Champ                       317.1                 58.86                     66.00            3.91\n",
      "57               58   Maverick McNealy                       298.7                 60.48                     66.52            3.99\n",
      "58               59    Emiliano Grillo                       298.2                 64.78                     71.47            4.10\n",
      "59               60       Robert Streb                       292.3                 58.33                     64.57            3.45\n",
      "60               61    Jhonattan Vegas                       312.1                 56.94                     68.81            4.07\n",
      "61               62         Chris Kirk                       291.9                 63.44                     68.35            3.72\n",
      "62               63     Patton Kizzire                       300.9                 58.03                     67.76            4.23\n",
      "63               64    Kevin Streelman                       295.6                 66.32                     69.21            3.97\n",
      "64               65     Keith Mitchell                       307.2                 56.50                     64.62            3.83\n",
      "65               66        Harry Higgs                       298.9                 57.26                     63.68            4.06\n",
      "66               67   Mackenzie Hughes                       293.5                 58.05                     64.44            3.66\n",
      "67               68        Talor Gooch                       299.1                 60.16                     65.80            3.80\n",
      "68               69        Ryan Palmer                       304.6                 59.98                     65.54            4.08\n",
      "69               70     Phil Mickelson                       301.8                 54.47                     62.99            3.72\n",
      "70               71      Matthew Wolff                       315.9                 51.04                     64.95            3.84\n",
      "71               72       Seamus Power                       295.1                 62.56                     68.20            4.00\n",
      "72               73   Matt Fitzpatrick                       293.5                 68.37                     64.39            3.92\n",
      "73               74     Tyrrell Hatton                       299.0                 63.02                     63.89            3.91\n",
      "74               75       Martin Laird                       295.9                 68.84                     69.44            3.58\n",
      "75               76        Joel Dahmen                       292.3                 67.57                     65.24            3.95\n",
      "76               77        Ian Poulter                       285.2                 66.33                     60.88            3.63\n",
      "77               78       Troy Merritt                       289.9                 61.95                     64.63            3.46\n",
      "78               79        J.T. Poston                       299.9                 57.02                     62.24            3.55\n",
      "79               80          Pat Perez                       292.2                 62.03                     66.26            3.83\n",
      "80               81       Bubba Watson                       304.6                 59.92                     67.95            3.59\n",
      "81               82      Andrew Putnam                       283.8                 61.59                     66.10            3.58\n",
      "82               83          Doug Ghim                       292.9                 68.55                     69.64            4.13\n",
      "83               84       Brandon Hagy                       311.6                 50.78                     62.99            3.54\n",
      "84               85          Adam Long                       288.6                 67.41                     63.03            3.57\n",
      "85               86      Peter Malnati                       290.5                 56.71                     62.78            3.91\n",
      "86               87      Wyndham Clark                       314.6                 47.05                     63.39            3.51\n",
      "87               88        Adam Schenk                       299.5                 60.90                     67.37            3.90\n",
      "88               89      Lanto Griffin                       302.9                 57.02                     65.12            3.66\n",
      "89               90         Adam Scott                       306.0                 55.26                     65.35            4.00\n",
      "90               91      Kramer Hickok                       290.8                 68.58                     68.04            3.64\n",
      "91               92       Brian Stuard                       277.8                 73.31                     66.72            3.74\n",
      "92               93   Henrik Norlander                       294.1                 67.09                     69.18            3.27\n",
      "93               94         Doc Redman                       294.0                 64.87                     65.86            3.43\n",
      "94               95          Brian Gay                       286.8                 59.67                     60.71            3.19\n",
      "95               96        Roger Sloan                       295.8                 61.78                     68.77            3.79\n",
      "96               97    Brandt Snedeker                       286.6                 64.04                     64.48            3.73\n",
      "97               98       Hank Lebioda                       295.0                 61.16                     69.14            3.78\n",
      "98               99     Tyler McCumber                       309.4                 58.30                     64.71            3.57\n",
      "99              100     Denny McCarthy                       295.4                 62.31                     64.01            3.55\n"
     ]
    }
   ],
   "source": [
    "df = pd.read_csv('data\\strokes_gained.csv')\n",
    "print(df.to_string()) "
   ]
  },
  {
   "cell_type": "code",
   "execution_count": 3,
   "id": "539f8d2d",
   "metadata": {},
   "outputs": [
    {
     "data": {
      "text/html": [
       "<div>\n",
       "<style scoped>\n",
       "    .dataframe tbody tr th:only-of-type {\n",
       "        vertical-align: middle;\n",
       "    }\n",
       "\n",
       "    .dataframe tbody tr th {\n",
       "        vertical-align: top;\n",
       "    }\n",
       "\n",
       "    .dataframe thead th {\n",
       "        text-align: right;\n",
       "    }\n",
       "</style>\n",
       "<table border=\"1\" class=\"dataframe\">\n",
       "  <thead>\n",
       "    <tr style=\"text-align: right;\">\n",
       "      <th></th>\n",
       "      <th>Fedex Rank 2021</th>\n",
       "      <th>Name</th>\n",
       "      <th>Driving distance (avg yds)</th>\n",
       "      <th>Driving accuracy (%)</th>\n",
       "      <th>Greens In Regulation (%)</th>\n",
       "      <th>Birdie average</th>\n",
       "    </tr>\n",
       "  </thead>\n",
       "  <tbody>\n",
       "    <tr>\n",
       "      <th>0</th>\n",
       "      <td>1</td>\n",
       "      <td>Patrick Cantlay</td>\n",
       "      <td>302.8</td>\n",
       "      <td>60.71</td>\n",
       "      <td>70.16</td>\n",
       "      <td>4.29</td>\n",
       "    </tr>\n",
       "    <tr>\n",
       "      <th>1</th>\n",
       "      <td>2</td>\n",
       "      <td>Jon Rahm</td>\n",
       "      <td>309.0</td>\n",
       "      <td>63.73</td>\n",
       "      <td>71.93</td>\n",
       "      <td>4.51</td>\n",
       "    </tr>\n",
       "    <tr>\n",
       "      <th>2</th>\n",
       "      <td>3</td>\n",
       "      <td>Kevin Na</td>\n",
       "      <td>288.5</td>\n",
       "      <td>66.56</td>\n",
       "      <td>64.11</td>\n",
       "      <td>4.00</td>\n",
       "    </tr>\n",
       "    <tr>\n",
       "      <th>3</th>\n",
       "      <td>4</td>\n",
       "      <td>Justin Thomas</td>\n",
       "      <td>303.9</td>\n",
       "      <td>55.72</td>\n",
       "      <td>67.79</td>\n",
       "      <td>4.31</td>\n",
       "    </tr>\n",
       "    <tr>\n",
       "      <th>4</th>\n",
       "      <td>5</td>\n",
       "      <td>Viktor Hovland</td>\n",
       "      <td>302.2</td>\n",
       "      <td>63.86</td>\n",
       "      <td>68.61</td>\n",
       "      <td>4.40</td>\n",
       "    </tr>\n",
       "    <tr>\n",
       "      <th>...</th>\n",
       "      <td>...</td>\n",
       "      <td>...</td>\n",
       "      <td>...</td>\n",
       "      <td>...</td>\n",
       "      <td>...</td>\n",
       "      <td>...</td>\n",
       "    </tr>\n",
       "    <tr>\n",
       "      <th>95</th>\n",
       "      <td>96</td>\n",
       "      <td>Roger Sloan</td>\n",
       "      <td>295.8</td>\n",
       "      <td>61.78</td>\n",
       "      <td>68.77</td>\n",
       "      <td>3.79</td>\n",
       "    </tr>\n",
       "    <tr>\n",
       "      <th>96</th>\n",
       "      <td>97</td>\n",
       "      <td>Brandt Snedeker</td>\n",
       "      <td>286.6</td>\n",
       "      <td>64.04</td>\n",
       "      <td>64.48</td>\n",
       "      <td>3.73</td>\n",
       "    </tr>\n",
       "    <tr>\n",
       "      <th>97</th>\n",
       "      <td>98</td>\n",
       "      <td>Hank Lebioda</td>\n",
       "      <td>295.0</td>\n",
       "      <td>61.16</td>\n",
       "      <td>69.14</td>\n",
       "      <td>3.78</td>\n",
       "    </tr>\n",
       "    <tr>\n",
       "      <th>98</th>\n",
       "      <td>99</td>\n",
       "      <td>Tyler McCumber</td>\n",
       "      <td>309.4</td>\n",
       "      <td>58.30</td>\n",
       "      <td>64.71</td>\n",
       "      <td>3.57</td>\n",
       "    </tr>\n",
       "    <tr>\n",
       "      <th>99</th>\n",
       "      <td>100</td>\n",
       "      <td>Denny McCarthy</td>\n",
       "      <td>295.4</td>\n",
       "      <td>62.31</td>\n",
       "      <td>64.01</td>\n",
       "      <td>3.55</td>\n",
       "    </tr>\n",
       "  </tbody>\n",
       "</table>\n",
       "<p>100 rows × 6 columns</p>\n",
       "</div>"
      ],
      "text/plain": [
       "    Fedex Rank 2021             Name  Driving distance (avg yds)  \\\n",
       "0                 1  Patrick Cantlay                       302.8   \n",
       "1                 2         Jon Rahm                       309.0   \n",
       "2                 3         Kevin Na                       288.5   \n",
       "3                 4    Justin Thomas                       303.9   \n",
       "4                 5   Viktor Hovland                       302.2   \n",
       "..              ...              ...                         ...   \n",
       "95               96      Roger Sloan                       295.8   \n",
       "96               97  Brandt Snedeker                       286.6   \n",
       "97               98     Hank Lebioda                       295.0   \n",
       "98               99   Tyler McCumber                       309.4   \n",
       "99              100   Denny McCarthy                       295.4   \n",
       "\n",
       "    Driving accuracy (%)  Greens In Regulation (%)  Birdie average  \n",
       "0                  60.71                     70.16            4.29  \n",
       "1                  63.73                     71.93            4.51  \n",
       "2                  66.56                     64.11            4.00  \n",
       "3                  55.72                     67.79            4.31  \n",
       "4                  63.86                     68.61            4.40  \n",
       "..                   ...                       ...             ...  \n",
       "95                 61.78                     68.77            3.79  \n",
       "96                 64.04                     64.48            3.73  \n",
       "97                 61.16                     69.14            3.78  \n",
       "98                 58.30                     64.71            3.57  \n",
       "99                 62.31                     64.01            3.55  \n",
       "\n",
       "[100 rows x 6 columns]"
      ]
     },
     "execution_count": 3,
     "metadata": {},
     "output_type": "execute_result"
    }
   ],
   "source": [
    "#arrange as data frame\n",
    "df_arr = df\n",
    "df_arr.columns = ['Fedex Rank 2021', 'Name', 'Driving distance (avg yds)','Driving accuracy (%)','Greens In Regulation (%)', 'Birdie average']\n",
    "#https://note.nkmk.me/en/python-pandas-t-transpose/\n",
    "df_arr"
   ]
  },
  {
   "cell_type": "code",
   "execution_count": 4,
   "id": "24a25b7b",
   "metadata": {},
   "outputs": [],
   "source": [
    "# select specific column data\n",
    "distance = df_arr.iloc[:,2]\n",
    "accuracy = df_arr.iloc[:,3]\n",
    "gir = df_arr.iloc[:,4]\n",
    "birdies = df_arr.iloc[:,5]"
   ]
  },
  {
   "cell_type": "code",
   "execution_count": null,
   "id": "b4ade534",
   "metadata": {},
   "outputs": [],
   "source": []
  },
  {
   "cell_type": "code",
   "execution_count": 5,
   "id": "80352822",
   "metadata": {},
   "outputs": [],
   "source": [
    "fitdistance = np.array([distance])\n"
   ]
  },
  {
   "cell_type": "code",
   "execution_count": 6,
   "id": "e0e38a0b",
   "metadata": {},
   "outputs": [
    {
     "data": {
      "text/html": [
       "<div>\n",
       "<style scoped>\n",
       "    .dataframe tbody tr th:only-of-type {\n",
       "        vertical-align: middle;\n",
       "    }\n",
       "\n",
       "    .dataframe tbody tr th {\n",
       "        vertical-align: top;\n",
       "    }\n",
       "\n",
       "    .dataframe thead th {\n",
       "        text-align: right;\n",
       "    }\n",
       "</style>\n",
       "<table border=\"1\" class=\"dataframe\">\n",
       "  <thead>\n",
       "    <tr style=\"text-align: right;\">\n",
       "      <th></th>\n",
       "      <th>sumsquare_error</th>\n",
       "      <th>aic</th>\n",
       "      <th>bic</th>\n",
       "      <th>kl_div</th>\n",
       "    </tr>\n",
       "  </thead>\n",
       "  <tbody>\n",
       "    <tr>\n",
       "      <th>lognorm</th>\n",
       "      <td>0.030668</td>\n",
       "      <td>880.478875</td>\n",
       "      <td>-795.155890</td>\n",
       "      <td>inf</td>\n",
       "    </tr>\n",
       "    <tr>\n",
       "      <th>gamma</th>\n",
       "      <td>0.030719</td>\n",
       "      <td>880.085594</td>\n",
       "      <td>-794.989700</td>\n",
       "      <td>inf</td>\n",
       "    </tr>\n",
       "    <tr>\n",
       "      <th>chi2</th>\n",
       "      <td>0.030719</td>\n",
       "      <td>880.086111</td>\n",
       "      <td>-794.989433</td>\n",
       "      <td>inf</td>\n",
       "    </tr>\n",
       "    <tr>\n",
       "      <th>rayleigh</th>\n",
       "      <td>0.031205</td>\n",
       "      <td>inf</td>\n",
       "      <td>-798.023366</td>\n",
       "      <td>inf</td>\n",
       "    </tr>\n",
       "    <tr>\n",
       "      <th>norm</th>\n",
       "      <td>0.031863</td>\n",
       "      <td>876.688442</td>\n",
       "      <td>-795.936826</td>\n",
       "      <td>inf</td>\n",
       "    </tr>\n",
       "  </tbody>\n",
       "</table>\n",
       "</div>"
      ],
      "text/plain": [
       "          sumsquare_error         aic         bic  kl_div\n",
       "lognorm          0.030668  880.478875 -795.155890     inf\n",
       "gamma            0.030719  880.085594 -794.989700     inf\n",
       "chi2             0.030719  880.086111 -794.989433     inf\n",
       "rayleigh         0.031205         inf -798.023366     inf\n",
       "norm             0.031863  876.688442 -795.936826     inf"
      ]
     },
     "execution_count": 6,
     "metadata": {},
     "output_type": "execute_result"
    },
    {
     "data": {
      "image/png": "[encoded data removed]",
      "text/plain": [
       "<Figure size 432x288 with 1 Axes>"
      ]
     },
     "metadata": {
      "needs_background": "light"
     },
     "output_type": "display_data"
    }
   ],
   "source": [
    "#https://medium.com/the-researchers-guide/finding-the-best-distribution-that-fits-your-data-using-pythons-fitter-library-319a5a0972e9\n",
    "#https://pypi.org/project/fitter/\n",
    "#https://fitter.readthedocs.io/en/latest/faqs.html#what-are-the-distributions-available\n",
    "\n",
    "f = Fitter(fitdistance, distributions=['cauchy',\n",
    " 'chi2',\n",
    " 'expon',\n",
    " 'exponpow',\n",
    " 'gamma',\n",
    " 'lognorm',\n",
    " 'norm',\n",
    " 'powerlaw',\n",
    " 'rayleigh',\n",
    " 'uniform'])\n",
    "f.fit()\n",
    "# may take some time since by default, all distributions are tried\n",
    "# but you call manually provide a smaller set of distributions\n",
    "f.summary()"
   ]
  },
  {
   "cell_type": "code",
   "execution_count": 7,
   "id": "8fe4de00",
   "metadata": {},
   "outputs": [
    {
     "data": {
      "text/plain": [
       "{'lognorm': {'s': 0.11093697461805507,\n",
       "  'loc': 226.62980940729665,\n",
       "  'scale': 72.26386699032992}}"
      ]
     },
     "execution_count": 7,
     "metadata": {},
     "output_type": "execute_result"
    }
   ],
   "source": [
    "distance_list = f.get_best(method = 'sumsquare_error')\n",
    "distance_list"
   ]
  },
  {
   "cell_type": "code",
   "execution_count": 8,
   "id": "3186699c",
   "metadata": {},
   "outputs": [],
   "source": [
    "fitaccuracy = np.array([accuracy])"
   ]
  },
  {
   "cell_type": "code",
   "execution_count": 9,
   "id": "7e54587e",
   "metadata": {},
   "outputs": [
    {
     "data": {
      "text/html": [
       "<div>\n",
       "<style scoped>\n",
       "    .dataframe tbody tr th:only-of-type {\n",
       "        vertical-align: middle;\n",
       "    }\n",
       "\n",
       "    .dataframe tbody tr th {\n",
       "        vertical-align: top;\n",
       "    }\n",
       "\n",
       "    .dataframe thead th {\n",
       "        text-align: right;\n",
       "    }\n",
       "</style>\n",
       "<table border=\"1\" class=\"dataframe\">\n",
       "  <thead>\n",
       "    <tr style=\"text-align: right;\">\n",
       "      <th></th>\n",
       "      <th>sumsquare_error</th>\n",
       "      <th>aic</th>\n",
       "      <th>bic</th>\n",
       "      <th>kl_div</th>\n",
       "    </tr>\n",
       "  </thead>\n",
       "  <tbody>\n",
       "    <tr>\n",
       "      <th>rayleigh</th>\n",
       "      <td>0.105932</td>\n",
       "      <td>inf</td>\n",
       "      <td>-675.802008</td>\n",
       "      <td>inf</td>\n",
       "    </tr>\n",
       "    <tr>\n",
       "      <th>chi2</th>\n",
       "      <td>0.106243</td>\n",
       "      <td>767.803146</td>\n",
       "      <td>-670.904406</td>\n",
       "      <td>inf</td>\n",
       "    </tr>\n",
       "    <tr>\n",
       "      <th>gamma</th>\n",
       "      <td>0.107194</td>\n",
       "      <td>765.701837</td>\n",
       "      <td>-670.012613</td>\n",
       "      <td>inf</td>\n",
       "    </tr>\n",
       "    <tr>\n",
       "      <th>lognorm</th>\n",
       "      <td>0.107210</td>\n",
       "      <td>765.942683</td>\n",
       "      <td>-669.997928</td>\n",
       "      <td>inf</td>\n",
       "    </tr>\n",
       "    <tr>\n",
       "      <th>norm</th>\n",
       "      <td>0.107583</td>\n",
       "      <td>762.150066</td>\n",
       "      <td>-674.255496</td>\n",
       "      <td>inf</td>\n",
       "    </tr>\n",
       "  </tbody>\n",
       "</table>\n",
       "</div>"
      ],
      "text/plain": [
       "          sumsquare_error         aic         bic  kl_div\n",
       "rayleigh         0.105932         inf -675.802008     inf\n",
       "chi2             0.106243  767.803146 -670.904406     inf\n",
       "gamma            0.107194  765.701837 -670.012613     inf\n",
       "lognorm          0.107210  765.942683 -669.997928     inf\n",
       "norm             0.107583  762.150066 -674.255496     inf"
      ]
     },
     "execution_count": 9,
     "metadata": {},
     "output_type": "execute_result"
    },
    {
     "data": {
      "image/png": "[encoded data removed]",
      "text/plain": [
       "<Figure size 432x288 with 1 Axes>"
      ]
     },
     "metadata": {
      "needs_background": "light"
     },
     "output_type": "display_data"
    }
   ],
   "source": [
    "f = Fitter(fitaccuracy, distributions=['cauchy',\n",
    " 'chi2',\n",
    " 'expon',\n",
    " 'exponpow',\n",
    " 'gamma',\n",
    " 'lognorm',\n",
    " 'norm',\n",
    " 'powerlaw',\n",
    " 'rayleigh',\n",
    " 'uniform'])\n",
    "f.fit()\n",
    "# may take some time since by default, all distributions are tried\n",
    "# but you call manually provide a smaller set of distributions\n",
    "f.summary()"
   ]
  },
  {
   "cell_type": "code",
   "execution_count": 10,
   "id": "f20b7d4b",
   "metadata": {},
   "outputs": [
    {
     "data": {
      "text/plain": [
       "{'rayleigh': {'loc': 53.46421743761188, 'scale': 6.506613280990041}}"
      ]
     },
     "execution_count": 10,
     "metadata": {},
     "output_type": "execute_result"
    }
   ],
   "source": [
    "accuracy_list = f.get_best(method = 'sumsquare_error')\n",
    "accuracy_list\n"
   ]
  },
  {
   "cell_type": "code",
   "execution_count": 11,
   "id": "ce41c540",
   "metadata": {},
   "outputs": [],
   "source": [
    "fitgir = np.array([gir])"
   ]
  },
  {
   "cell_type": "code",
   "execution_count": 12,
   "id": "a7074f48",
   "metadata": {},
   "outputs": [
    {
     "data": {
      "text/html": [
       "<div>\n",
       "<style scoped>\n",
       "    .dataframe tbody tr th:only-of-type {\n",
       "        vertical-align: middle;\n",
       "    }\n",
       "\n",
       "    .dataframe tbody tr th {\n",
       "        vertical-align: top;\n",
       "    }\n",
       "\n",
       "    .dataframe thead th {\n",
       "        text-align: right;\n",
       "    }\n",
       "</style>\n",
       "<table border=\"1\" class=\"dataframe\">\n",
       "  <thead>\n",
       "    <tr style=\"text-align: right;\">\n",
       "      <th></th>\n",
       "      <th>sumsquare_error</th>\n",
       "      <th>aic</th>\n",
       "      <th>bic</th>\n",
       "      <th>kl_div</th>\n",
       "    </tr>\n",
       "  </thead>\n",
       "  <tbody>\n",
       "    <tr>\n",
       "      <th>norm</th>\n",
       "      <td>0.991301</td>\n",
       "      <td>543.663959</td>\n",
       "      <td>-452.180353</td>\n",
       "      <td>inf</td>\n",
       "    </tr>\n",
       "    <tr>\n",
       "      <th>lognorm</th>\n",
       "      <td>0.991801</td>\n",
       "      <td>545.907262</td>\n",
       "      <td>-447.524837</td>\n",
       "      <td>inf</td>\n",
       "    </tr>\n",
       "    <tr>\n",
       "      <th>gamma</th>\n",
       "      <td>0.991862</td>\n",
       "      <td>546.235757</td>\n",
       "      <td>-447.518615</td>\n",
       "      <td>inf</td>\n",
       "    </tr>\n",
       "    <tr>\n",
       "      <th>chi2</th>\n",
       "      <td>0.992806</td>\n",
       "      <td>548.067712</td>\n",
       "      <td>-447.423532</td>\n",
       "      <td>inf</td>\n",
       "    </tr>\n",
       "    <tr>\n",
       "      <th>rayleigh</th>\n",
       "      <td>1.002078</td>\n",
       "      <td>inf</td>\n",
       "      <td>-451.099131</td>\n",
       "      <td>inf</td>\n",
       "    </tr>\n",
       "  </tbody>\n",
       "</table>\n",
       "</div>"
      ],
      "text/plain": [
       "          sumsquare_error         aic         bic  kl_div\n",
       "norm             0.991301  543.663959 -452.180353     inf\n",
       "lognorm          0.991801  545.907262 -447.524837     inf\n",
       "gamma            0.991862  546.235757 -447.518615     inf\n",
       "chi2             0.992806  548.067712 -447.423532     inf\n",
       "rayleigh         1.002078         inf -451.099131     inf"
      ]
     },
     "execution_count": 12,
     "metadata": {},
     "output_type": "execute_result"
    },
    {
     "data": {
      "image/png": "[encoded data removed]",
      "text/plain": [
       "<Figure size 432x288 with 1 Axes>"
      ]
     },
     "metadata": {
      "needs_background": "light"
     },
     "output_type": "display_data"
    }
   ],
   "source": [
    "f = Fitter(fitgir, distributions=['cauchy',\n",
    " 'chi2',\n",
    " 'expon',\n",
    " 'exponpow',\n",
    " 'gamma',\n",
    " 'lognorm',\n",
    " 'norm',\n",
    " 'powerlaw',\n",
    " 'rayleigh',\n",
    " 'uniform'])\n",
    "f.fit()\n",
    "# may take some time since by default, all distributions are tried\n",
    "# but you call manually provide a smaller set of distributions\n",
    "f.summary()"
   ]
  },
  {
   "cell_type": "code",
   "execution_count": 13,
   "id": "756a84c5",
   "metadata": {},
   "outputs": [
    {
     "data": {
      "text/plain": [
       "{'norm': {'loc': 66.57350000000001, 'scale': 2.4367405996535614}}"
      ]
     },
     "execution_count": 13,
     "metadata": {},
     "output_type": "execute_result"
    }
   ],
   "source": [
    "gir_list = f.get_best(method = 'sumsquare_error')\n",
    "gir_list\n"
   ]
  },
  {
   "cell_type": "code",
   "execution_count": 14,
   "id": "96a06dbf",
   "metadata": {},
   "outputs": [],
   "source": [
    "fitbirdies = np.array([birdies])"
   ]
  },
  {
   "cell_type": "code",
   "execution_count": 15,
   "id": "ade58bd8",
   "metadata": {},
   "outputs": [
    {
     "data": {
      "text/html": [
       "<div>\n",
       "<style scoped>\n",
       "    .dataframe tbody tr th:only-of-type {\n",
       "        vertical-align: middle;\n",
       "    }\n",
       "\n",
       "    .dataframe tbody tr th {\n",
       "        vertical-align: top;\n",
       "    }\n",
       "\n",
       "    .dataframe thead th {\n",
       "        text-align: right;\n",
       "    }\n",
       "</style>\n",
       "<table border=\"1\" class=\"dataframe\">\n",
       "  <thead>\n",
       "    <tr style=\"text-align: right;\">\n",
       "      <th></th>\n",
       "      <th>sumsquare_error</th>\n",
       "      <th>aic</th>\n",
       "      <th>bic</th>\n",
       "      <th>kl_div</th>\n",
       "    </tr>\n",
       "  </thead>\n",
       "  <tbody>\n",
       "    <tr>\n",
       "      <th>lognorm</th>\n",
       "      <td>68.248116</td>\n",
       "      <td>122.547073</td>\n",
       "      <td>-24.386525</td>\n",
       "      <td>inf</td>\n",
       "    </tr>\n",
       "    <tr>\n",
       "      <th>gamma</th>\n",
       "      <td>68.276475</td>\n",
       "      <td>122.224942</td>\n",
       "      <td>-24.344981</td>\n",
       "      <td>inf</td>\n",
       "    </tr>\n",
       "    <tr>\n",
       "      <th>norm</th>\n",
       "      <td>68.380487</td>\n",
       "      <td>119.275421</td>\n",
       "      <td>-28.797927</td>\n",
       "      <td>inf</td>\n",
       "    </tr>\n",
       "    <tr>\n",
       "      <th>rayleigh</th>\n",
       "      <td>68.518205</td>\n",
       "      <td>inf</td>\n",
       "      <td>-28.596730</td>\n",
       "      <td>inf</td>\n",
       "    </tr>\n",
       "    <tr>\n",
       "      <th>exponpow</th>\n",
       "      <td>69.435081</td>\n",
       "      <td>100.183424</td>\n",
       "      <td>-22.662285</td>\n",
       "      <td>inf</td>\n",
       "    </tr>\n",
       "  </tbody>\n",
       "</table>\n",
       "</div>"
      ],
      "text/plain": [
       "          sumsquare_error         aic        bic  kl_div\n",
       "lognorm         68.248116  122.547073 -24.386525     inf\n",
       "gamma           68.276475  122.224942 -24.344981     inf\n",
       "norm            68.380487  119.275421 -28.797927     inf\n",
       "rayleigh        68.518205         inf -28.596730     inf\n",
       "exponpow        69.435081  100.183424 -22.662285     inf"
      ]
     },
     "execution_count": 15,
     "metadata": {},
     "output_type": "execute_result"
    },
    {
     "data": {
      "image/png": "[encoded data removed]",
      "text/plain": [
       "<Figure size 432x288 with 1 Axes>"
      ]
     },
     "metadata": {
      "needs_background": "light"
     },
     "output_type": "display_data"
    }
   ],
   "source": [
    "f = Fitter(fitbirdies, distributions=['cauchy',\n",
    " 'chi2',\n",
    " 'expon',\n",
    " 'exponpow',\n",
    " 'gamma',\n",
    " 'lognorm',\n",
    " 'norm',\n",
    " 'powerlaw',\n",
    " 'rayleigh',\n",
    " 'uniform'])\n",
    "f.fit()\n",
    "# may take some time since by default, all distributions are tried\n",
    "# but you call manually provide a smaller set of distributions\n",
    "f.summary()"
   ]
  },
  {
   "cell_type": "code",
   "execution_count": 16,
   "id": "c9d8dfa9",
   "metadata": {},
   "outputs": [
    {
     "data": {
      "text/plain": [
       "{'lognorm': {'s': 0.021071276169458617,\n",
       "  'loc': -9.747395651590328,\n",
       "  'scale': 13.661062712682266}}"
      ]
     },
     "execution_count": 16,
     "metadata": {},
     "output_type": "execute_result"
    }
   ],
   "source": [
    "birdies_list = f.get_best(method = 'sumsquare_error')\n",
    "birdies_list"
   ]
  },
  {
   "cell_type": "code",
   "execution_count": null,
   "id": "670f1ebd",
   "metadata": {},
   "outputs": [],
   "source": []
  },
  {
   "cell_type": "markdown",
   "id": "f2899f47",
   "metadata": {},
   "source": [
    "### Check previous years stats"
   ]
  },
  {
   "cell_type": "code",
   "execution_count": 17,
   "id": "e8bee17c",
   "metadata": {},
   "outputs": [],
   "source": [
    "historic_distance_df = pd.read_csv('data\\historic_distance.csv')\n"
   ]
  },
  {
   "cell_type": "code",
   "execution_count": 18,
   "id": "d60295fa",
   "metadata": {},
   "outputs": [
    {
     "data": {
      "text/html": [
       "<div>\n",
       "<style scoped>\n",
       "    .dataframe tbody tr th:only-of-type {\n",
       "        vertical-align: middle;\n",
       "    }\n",
       "\n",
       "    .dataframe tbody tr th {\n",
       "        vertical-align: top;\n",
       "    }\n",
       "\n",
       "    .dataframe thead th {\n",
       "        text-align: right;\n",
       "    }\n",
       "</style>\n",
       "<table border=\"1\" class=\"dataframe\">\n",
       "  <thead>\n",
       "    <tr style=\"text-align: right;\">\n",
       "      <th></th>\n",
       "      <th>1990</th>\n",
       "      <th>2000</th>\n",
       "      <th>2010</th>\n",
       "      <th>2020</th>\n",
       "    </tr>\n",
       "  </thead>\n",
       "  <tbody>\n",
       "    <tr>\n",
       "      <th>0</th>\n",
       "      <td>279.6</td>\n",
       "      <td>301.4</td>\n",
       "      <td>315.5</td>\n",
       "      <td>322.1</td>\n",
       "    </tr>\n",
       "    <tr>\n",
       "      <th>1</th>\n",
       "      <td>279.4</td>\n",
       "      <td>298.0</td>\n",
       "      <td>309.8</td>\n",
       "      <td>322.0</td>\n",
       "    </tr>\n",
       "    <tr>\n",
       "      <th>2</th>\n",
       "      <td>278.0</td>\n",
       "      <td>288.7</td>\n",
       "      <td>308.5</td>\n",
       "      <td>315.3</td>\n",
       "    </tr>\n",
       "    <tr>\n",
       "      <th>3</th>\n",
       "      <td>277.6</td>\n",
       "      <td>288.7</td>\n",
       "      <td>307.3</td>\n",
       "      <td>314.0</td>\n",
       "    </tr>\n",
       "    <tr>\n",
       "      <th>4</th>\n",
       "      <td>277.6</td>\n",
       "      <td>288.5</td>\n",
       "      <td>307.2</td>\n",
       "      <td>313.8</td>\n",
       "    </tr>\n",
       "    <tr>\n",
       "      <th>...</th>\n",
       "      <td>...</td>\n",
       "      <td>...</td>\n",
       "      <td>...</td>\n",
       "      <td>...</td>\n",
       "    </tr>\n",
       "    <tr>\n",
       "      <th>95</th>\n",
       "      <td>263.1</td>\n",
       "      <td>273.3</td>\n",
       "      <td>287.9</td>\n",
       "      <td>297.4</td>\n",
       "    </tr>\n",
       "    <tr>\n",
       "      <th>96</th>\n",
       "      <td>263.0</td>\n",
       "      <td>273.2</td>\n",
       "      <td>287.8</td>\n",
       "      <td>297.3</td>\n",
       "    </tr>\n",
       "    <tr>\n",
       "      <th>97</th>\n",
       "      <td>263.0</td>\n",
       "      <td>273.2</td>\n",
       "      <td>287.7</td>\n",
       "      <td>297.3</td>\n",
       "    </tr>\n",
       "    <tr>\n",
       "      <th>98</th>\n",
       "      <td>263.0</td>\n",
       "      <td>273.2</td>\n",
       "      <td>287.6</td>\n",
       "      <td>297.3</td>\n",
       "    </tr>\n",
       "    <tr>\n",
       "      <th>99</th>\n",
       "      <td>263.0</td>\n",
       "      <td>273.2</td>\n",
       "      <td>287.3</td>\n",
       "      <td>297.2</td>\n",
       "    </tr>\n",
       "  </tbody>\n",
       "</table>\n",
       "<p>100 rows × 4 columns</p>\n",
       "</div>"
      ],
      "text/plain": [
       "     1990   2000   2010   2020\n",
       "0   279.6  301.4  315.5  322.1\n",
       "1   279.4  298.0  309.8  322.0\n",
       "2   278.0  288.7  308.5  315.3\n",
       "3   277.6  288.7  307.3  314.0\n",
       "4   277.6  288.5  307.2  313.8\n",
       "..    ...    ...    ...    ...\n",
       "95  263.1  273.3  287.9  297.4\n",
       "96  263.0  273.2  287.8  297.3\n",
       "97  263.0  273.2  287.7  297.3\n",
       "98  263.0  273.2  287.6  297.3\n",
       "99  263.0  273.2  287.3  297.2\n",
       "\n",
       "[100 rows x 4 columns]"
      ]
     },
     "execution_count": 18,
     "metadata": {},
     "output_type": "execute_result"
    }
   ],
   "source": [
    "#arrange as data frame\n",
    "historic_distance_df_arr = historic_distance_df\n",
    "historic_distance_df_arr.columns = ['1990', '2000', '2010','2020']\n",
    "#https://note.nkmk.me/en/python-pandas-t-transpose/\n",
    "historic_distance_df_arr"
   ]
  },
  {
   "cell_type": "code",
   "execution_count": 19,
   "id": "5f29b557",
   "metadata": {},
   "outputs": [],
   "source": [
    "distance_1990 = historic_distance_df_arr.iloc[:,0]\n",
    "distance_2000 = historic_distance_df_arr.iloc[:,1]\n",
    "distance_2010 = historic_distance_df_arr.iloc[:,2]\n",
    "distance_2020 = historic_distance_df_arr.iloc[:,3]"
   ]
  },
  {
   "cell_type": "code",
   "execution_count": 20,
   "id": "a81190c0",
   "metadata": {},
   "outputs": [],
   "source": [
    "mean_distance_1990 = statistics.mean(distance_1990)\n",
    "mean_distance_2000 = statistics.mean(distance_2000)\n",
    "mean_distance_2010 = statistics.mean(distance_2010)\n",
    "mean_distance_2020 = statistics.mean(distance_2020)"
   ]
  },
  {
   "cell_type": "code",
   "execution_count": 21,
   "id": "9e8030cd",
   "metadata": {},
   "outputs": [
    {
     "data": {
      "text/plain": [
       "267.734"
      ]
     },
     "execution_count": 21,
     "metadata": {},
     "output_type": "execute_result"
    }
   ],
   "source": [
    "mean_distance_1990"
   ]
  },
  {
   "cell_type": "code",
   "execution_count": 22,
   "id": "d2e6f6c4",
   "metadata": {},
   "outputs": [
    {
     "data": {
      "text/plain": [
       "278.643"
      ]
     },
     "execution_count": 22,
     "metadata": {},
     "output_type": "execute_result"
    }
   ],
   "source": [
    "mean_distance_2000"
   ]
  },
  {
   "cell_type": "code",
   "execution_count": 23,
   "id": "bb59dedf",
   "metadata": {},
   "outputs": [
    {
     "data": {
      "text/plain": [
       "293.74"
      ]
     },
     "execution_count": 23,
     "metadata": {},
     "output_type": "execute_result"
    }
   ],
   "source": [
    "mean_distance_2010"
   ]
  },
  {
   "cell_type": "code",
   "execution_count": 24,
   "id": "c38825a3",
   "metadata": {},
   "outputs": [
    {
     "data": {
      "text/plain": [
       "303.459"
      ]
     },
     "execution_count": 24,
     "metadata": {},
     "output_type": "execute_result"
    }
   ],
   "source": [
    "mean_distance_2020"
   ]
  },
  {
   "cell_type": "code",
   "execution_count": 25,
   "id": "79b0a29b",
   "metadata": {},
   "outputs": [],
   "source": [
    "distance_increase = ([mean_distance_2020 - mean_distance_2010],[mean_distance_2010 - mean_distance_2000], [mean_distance_2000 - mean_distance_1990] )"
   ]
  },
  {
   "cell_type": "code",
   "execution_count": 26,
   "id": "f88835f0",
   "metadata": {},
   "outputs": [],
   "source": [
    "mean_distance_increase = np.mean(distance_increase)"
   ]
  },
  {
   "cell_type": "code",
   "execution_count": 27,
   "id": "6642bd50",
   "metadata": {},
   "outputs": [],
   "source": [
    "std_distance_increase = np.std(distance_increase)"
   ]
  },
  {
   "cell_type": "code",
   "execution_count": 28,
   "id": "6c8198f8",
   "metadata": {},
   "outputs": [
    {
     "data": {
      "text/plain": [
       "11.90833333333334"
      ]
     },
     "execution_count": 28,
     "metadata": {},
     "output_type": "execute_result"
    }
   ],
   "source": [
    "mean_distance_increase"
   ]
  },
  {
   "cell_type": "code",
   "execution_count": 29,
   "id": "ef862e1b",
   "metadata": {},
   "outputs": [
    {
     "data": {
      "text/plain": [
       "2.3064722461417815"
      ]
     },
     "execution_count": 29,
     "metadata": {},
     "output_type": "execute_result"
    }
   ],
   "source": [
    "std_distance_increase"
   ]
  },
  {
   "cell_type": "code",
   "execution_count": 30,
   "id": "5b548d4a",
   "metadata": {},
   "outputs": [
    {
     "data": {
      "text/plain": [
       "315.36733333333336"
      ]
     },
     "execution_count": 30,
     "metadata": {},
     "output_type": "execute_result"
    }
   ],
   "source": [
    "mean_distance_2030 = (mean_distance_2020 + mean_distance_increase)\n",
    "mean_distance_2030"
   ]
  },
  {
   "cell_type": "code",
   "execution_count": null,
   "id": "68e91d1d",
   "metadata": {},
   "outputs": [],
   "source": []
  },
  {
   "cell_type": "code",
   "execution_count": null,
   "id": "4893bc9c",
   "metadata": {},
   "outputs": [],
   "source": []
  },
  {
   "cell_type": "code",
   "execution_count": 31,
   "id": "9419ecd9",
   "metadata": {},
   "outputs": [
    {
     "data": {
      "text/plain": [
       "{'lognorm': {'s': 0.11093697461805507,\n",
       "  'loc': 226.62980940729665,\n",
       "  'scale': 72.26386699032992}}"
      ]
     },
     "execution_count": 31,
     "metadata": {},
     "output_type": "execute_result"
    }
   ],
   "source": [
    "distance_list\n"
   ]
  },
  {
   "cell_type": "code",
   "execution_count": null,
   "id": "6a3f12b4",
   "metadata": {},
   "outputs": [],
   "source": []
  },
  {
   "cell_type": "code",
   "execution_count": 32,
   "id": "9af204ff",
   "metadata": {},
   "outputs": [],
   "source": [
    "#distance = df_arr.iloc[:,2]"
   ]
  },
  {
   "cell_type": "code",
   "execution_count": 33,
   "id": "7f97cbf3",
   "metadata": {},
   "outputs": [
    {
     "data": {
      "image/png": "[encoded data removed]",
      "text/plain": [
       "<Figure size 432x288 with 1 Axes>"
      ]
     },
     "metadata": {
      "needs_background": "light"
     },
     "output_type": "display_data"
    }
   ],
   "source": [
    "from scipy.stats import lognorm\n",
    "s=0.11093697461805507\n",
    "distance_2030 = lognorm.rvs(s, loc=237.9, scale=72.26386699032992, size=250) # loc is loc from distance_list + mean_distance_increase25\n",
    "plt.hist(distance_2030, bins=30)\n",
    "\n",
    "plt.show()\n",
    "\n",
    "#'lognorm': {'s': 0.11093697461805507,\n",
    "  #'loc': 226.62980940729665,\n",
    "  #'scale': 72.26386699032992}}"
   ]
  },
  {
   "cell_type": "code",
   "execution_count": null,
   "id": "cbad7ccc",
   "metadata": {},
   "outputs": [],
   "source": []
  },
  {
   "cell_type": "code",
   "execution_count": null,
   "id": "a2d42fb8",
   "metadata": {},
   "outputs": [],
   "source": []
  },
  {
   "cell_type": "code",
   "execution_count": null,
   "id": "70052c07",
   "metadata": {},
   "outputs": [],
   "source": []
  },
  {
   "cell_type": "markdown",
   "id": "8a059b9d",
   "metadata": {},
   "source": [
    "### Accuracy"
   ]
  },
  {
   "cell_type": "code",
   "execution_count": 34,
   "id": "6bedbd1e",
   "metadata": {},
   "outputs": [],
   "source": [
    "historic_accuracy_df = pd.read_csv('data\\historic_accuracy.csv')"
   ]
  },
  {
   "cell_type": "code",
   "execution_count": 35,
   "id": "768ee455",
   "metadata": {},
   "outputs": [
    {
     "data": {
      "text/html": [
       "<div>\n",
       "<style scoped>\n",
       "    .dataframe tbody tr th:only-of-type {\n",
       "        vertical-align: middle;\n",
       "    }\n",
       "\n",
       "    .dataframe tbody tr th {\n",
       "        vertical-align: top;\n",
       "    }\n",
       "\n",
       "    .dataframe thead th {\n",
       "        text-align: right;\n",
       "    }\n",
       "</style>\n",
       "<table border=\"1\" class=\"dataframe\">\n",
       "  <thead>\n",
       "    <tr style=\"text-align: right;\">\n",
       "      <th></th>\n",
       "      <th>1990</th>\n",
       "      <th>2000</th>\n",
       "      <th>2010</th>\n",
       "      <th>2020</th>\n",
       "    </tr>\n",
       "  </thead>\n",
       "  <tbody>\n",
       "    <tr>\n",
       "      <th>0</th>\n",
       "      <td>83.67</td>\n",
       "      <td>79.75</td>\n",
       "      <td>76.08</td>\n",
       "      <td>74.50</td>\n",
       "    </tr>\n",
       "    <tr>\n",
       "      <th>1</th>\n",
       "      <td>79.19</td>\n",
       "      <td>79.57</td>\n",
       "      <td>75.94</td>\n",
       "      <td>73.86</td>\n",
       "    </tr>\n",
       "    <tr>\n",
       "      <th>2</th>\n",
       "      <td>78.97</td>\n",
       "      <td>78.76</td>\n",
       "      <td>74.00</td>\n",
       "      <td>71.84</td>\n",
       "    </tr>\n",
       "    <tr>\n",
       "      <th>3</th>\n",
       "      <td>77.84</td>\n",
       "      <td>78.75</td>\n",
       "      <td>73.72</td>\n",
       "      <td>71.36</td>\n",
       "    </tr>\n",
       "    <tr>\n",
       "      <th>4</th>\n",
       "      <td>77.57</td>\n",
       "      <td>77.96</td>\n",
       "      <td>72.86</td>\n",
       "      <td>71.29</td>\n",
       "    </tr>\n",
       "    <tr>\n",
       "      <th>...</th>\n",
       "      <td>...</td>\n",
       "      <td>...</td>\n",
       "      <td>...</td>\n",
       "      <td>...</td>\n",
       "    </tr>\n",
       "    <tr>\n",
       "      <th>95</th>\n",
       "      <td>65.30</td>\n",
       "      <td>68.88</td>\n",
       "      <td>63.72</td>\n",
       "      <td>60.34</td>\n",
       "    </tr>\n",
       "    <tr>\n",
       "      <th>96</th>\n",
       "      <td>65.00</td>\n",
       "      <td>68.85</td>\n",
       "      <td>63.69</td>\n",
       "      <td>60.34</td>\n",
       "    </tr>\n",
       "    <tr>\n",
       "      <th>97</th>\n",
       "      <td>64.99</td>\n",
       "      <td>68.78</td>\n",
       "      <td>63.47</td>\n",
       "      <td>60.31</td>\n",
       "    </tr>\n",
       "    <tr>\n",
       "      <th>98</th>\n",
       "      <td>64.97</td>\n",
       "      <td>68.68</td>\n",
       "      <td>63.40</td>\n",
       "      <td>60.26</td>\n",
       "    </tr>\n",
       "    <tr>\n",
       "      <th>99</th>\n",
       "      <td>64.97</td>\n",
       "      <td>68.67</td>\n",
       "      <td>63.40</td>\n",
       "      <td>60.20</td>\n",
       "    </tr>\n",
       "  </tbody>\n",
       "</table>\n",
       "<p>100 rows × 4 columns</p>\n",
       "</div>"
      ],
      "text/plain": [
       "     1990   2000   2010   2020\n",
       "0   83.67  79.75  76.08  74.50\n",
       "1   79.19  79.57  75.94  73.86\n",
       "2   78.97  78.76  74.00  71.84\n",
       "3   77.84  78.75  73.72  71.36\n",
       "4   77.57  77.96  72.86  71.29\n",
       "..    ...    ...    ...    ...\n",
       "95  65.30  68.88  63.72  60.34\n",
       "96  65.00  68.85  63.69  60.34\n",
       "97  64.99  68.78  63.47  60.31\n",
       "98  64.97  68.68  63.40  60.26\n",
       "99  64.97  68.67  63.40  60.20\n",
       "\n",
       "[100 rows x 4 columns]"
      ]
     },
     "execution_count": 35,
     "metadata": {},
     "output_type": "execute_result"
    }
   ],
   "source": [
    "#arrange as data frame\n",
    "historic_accuracy_df_arr = historic_accuracy_df\n",
    "historic_accuracy_df_arr.columns = ['1990', '2000', '2010','2020']\n",
    "#https://note.nkmk.me/en/python-pandas-t-transpose/\n",
    "historic_accuracy_df_arr"
   ]
  },
  {
   "cell_type": "code",
   "execution_count": 36,
   "id": "312482c0",
   "metadata": {},
   "outputs": [],
   "source": [
    "accuracy_1990 = historic_accuracy_df_arr.iloc[:,0]\n",
    "accuracy_2000 = historic_accuracy_df_arr.iloc[:,1]\n",
    "accuracy_2010 = historic_accuracy_df_arr.iloc[:,2]\n",
    "accuracy_2020 = historic_accuracy_df_arr.iloc[:,3]"
   ]
  },
  {
   "cell_type": "code",
   "execution_count": 37,
   "id": "b6c79090",
   "metadata": {},
   "outputs": [],
   "source": [
    "mean_accuracy_1990 = statistics.mean(accuracy_1990)\n",
    "mean_accuracy_2000 = statistics.mean(accuracy_2000)\n",
    "mean_accuracy_2010 = statistics.mean(accuracy_2010)\n",
    "mean_accuracy_2020 = statistics.mean(accuracy_2020)"
   ]
  },
  {
   "cell_type": "code",
   "execution_count": 38,
   "id": "9d920872",
   "metadata": {},
   "outputs": [],
   "source": [
    "accuracy_increase = ([mean_accuracy_2020 - mean_accuracy_2010],[mean_accuracy_2010 - mean_accuracy_2000], [mean_accuracy_2000 - mean_accuracy_1990] )"
   ]
  },
  {
   "cell_type": "code",
   "execution_count": 39,
   "id": "da402938",
   "metadata": {},
   "outputs": [
    {
     "data": {
      "text/plain": [
       "-1.7376000000000005"
      ]
     },
     "execution_count": 39,
     "metadata": {},
     "output_type": "execute_result"
    }
   ],
   "source": [
    "mean_accuracy_increase = np.mean(accuracy_increase)\n",
    "mean_accuracy_increase"
   ]
  },
  {
   "cell_type": "code",
   "execution_count": 40,
   "id": "9d74e319",
   "metadata": {},
   "outputs": [],
   "source": [
    "std_accuracy_increase = np.std(accuracy_increase)"
   ]
  },
  {
   "cell_type": "code",
   "execution_count": 41,
   "id": "989016a5",
   "metadata": {},
   "outputs": [
    {
     "data": {
      "text/plain": [
       "62.5958"
      ]
     },
     "execution_count": 41,
     "metadata": {},
     "output_type": "execute_result"
    }
   ],
   "source": [
    "mean_accuracy_2030 = (mean_accuracy_2020 + mean_accuracy_increase)\n",
    "mean_accuracy_2030"
   ]
  },
  {
   "cell_type": "code",
   "execution_count": null,
   "id": "23bba708",
   "metadata": {},
   "outputs": [],
   "source": []
  },
  {
   "cell_type": "code",
   "execution_count": 42,
   "id": "f14fd791",
   "metadata": {},
   "outputs": [],
   "source": [
    "from scipy.stats import rayleigh"
   ]
  },
  {
   "cell_type": "markdown",
   "id": "c58368d5",
   "metadata": {},
   "source": [
    "# https://www.kite.com/python/answers/how-to-convert-a-dictionary-to-a-numpy-array-in-python \n",
    "# use this to put the scale factor in\n",
    "#accuray_list_data = list(accuracy_list.items())\n",
    "#accuray_list_array = np.array(accuray_list_data)\n",
    "#accuray_list_array\n",
    "accuracy_list"
   ]
  },
  {
   "cell_type": "code",
   "execution_count": 43,
   "id": "a316ee1c",
   "metadata": {},
   "outputs": [
    {
     "data": {
      "image/png": "[encoded data removed]",
      "text/plain": [
       "<Figure size 432x288 with 1 Axes>"
      ]
     },
     "metadata": {
      "needs_background": "light"
     },
     "output_type": "display_data"
    }
   ],
   "source": [
    "#https://docs.scipy.org/doc/scipy/reference/generated/scipy.stats.rayleigh.html\n",
    "accuracy_2030 = rayleigh.rvs(loc=51.7224, scale=6.506613280990041, size=250, random_state=None) # use the mean value determined for the loc and the scale is determined using fitter\n",
    "plt.hist(accuracy_2030, bins=30)\n",
    "\n",
    "plt.show()"
   ]
  },
  {
   "cell_type": "code",
   "execution_count": null,
   "id": "8f0d1a02",
   "metadata": {},
   "outputs": [],
   "source": []
  },
  {
   "cell_type": "code",
   "execution_count": null,
   "id": "1600cf90",
   "metadata": {},
   "outputs": [],
   "source": []
  },
  {
   "cell_type": "code",
   "execution_count": null,
   "id": "fd2cdac0",
   "metadata": {},
   "outputs": [],
   "source": []
  },
  {
   "cell_type": "markdown",
   "id": "e7e1fd8f",
   "metadata": {},
   "source": [
    "### GIR"
   ]
  },
  {
   "cell_type": "code",
   "execution_count": 44,
   "id": "f9132cfd",
   "metadata": {},
   "outputs": [],
   "source": [
    "historic_gir_df = pd.read_csv('data\\historic_gir.csv')"
   ]
  },
  {
   "cell_type": "code",
   "execution_count": 45,
   "id": "7f273bbf",
   "metadata": {},
   "outputs": [
    {
     "data": {
      "text/html": [
       "<div>\n",
       "<style scoped>\n",
       "    .dataframe tbody tr th:only-of-type {\n",
       "        vertical-align: middle;\n",
       "    }\n",
       "\n",
       "    .dataframe tbody tr th {\n",
       "        vertical-align: top;\n",
       "    }\n",
       "\n",
       "    .dataframe thead th {\n",
       "        text-align: right;\n",
       "    }\n",
       "</style>\n",
       "<table border=\"1\" class=\"dataframe\">\n",
       "  <thead>\n",
       "    <tr style=\"text-align: right;\">\n",
       "      <th></th>\n",
       "      <th>1990</th>\n",
       "      <th>2000</th>\n",
       "      <th>2010</th>\n",
       "      <th>2020</th>\n",
       "    </tr>\n",
       "  </thead>\n",
       "  <tbody>\n",
       "    <tr>\n",
       "      <th>0</th>\n",
       "      <td>70.91</td>\n",
       "      <td>75.15</td>\n",
       "      <td>72.49</td>\n",
       "      <td>74.22</td>\n",
       "    </tr>\n",
       "    <tr>\n",
       "      <th>1</th>\n",
       "      <td>70.85</td>\n",
       "      <td>72.34</td>\n",
       "      <td>71.96</td>\n",
       "      <td>72.54</td>\n",
       "    </tr>\n",
       "    <tr>\n",
       "      <th>2</th>\n",
       "      <td>70.22</td>\n",
       "      <td>71.86</td>\n",
       "      <td>71.95</td>\n",
       "      <td>72.10</td>\n",
       "    </tr>\n",
       "    <tr>\n",
       "      <th>3</th>\n",
       "      <td>70.06</td>\n",
       "      <td>71.20</td>\n",
       "      <td>71.74</td>\n",
       "      <td>71.70</td>\n",
       "    </tr>\n",
       "    <tr>\n",
       "      <th>4</th>\n",
       "      <td>70.00</td>\n",
       "      <td>71.13</td>\n",
       "      <td>71.43</td>\n",
       "      <td>71.69</td>\n",
       "    </tr>\n",
       "    <tr>\n",
       "      <th>...</th>\n",
       "      <td>...</td>\n",
       "      <td>...</td>\n",
       "      <td>...</td>\n",
       "      <td>...</td>\n",
       "    </tr>\n",
       "    <tr>\n",
       "      <th>95</th>\n",
       "      <td>64.43</td>\n",
       "      <td>65.91</td>\n",
       "      <td>66.86</td>\n",
       "      <td>66.97</td>\n",
       "    </tr>\n",
       "    <tr>\n",
       "      <th>96</th>\n",
       "      <td>64.42</td>\n",
       "      <td>65.86</td>\n",
       "      <td>66.81</td>\n",
       "      <td>66.97</td>\n",
       "    </tr>\n",
       "    <tr>\n",
       "      <th>97</th>\n",
       "      <td>64.40</td>\n",
       "      <td>65.83</td>\n",
       "      <td>66.78</td>\n",
       "      <td>66.95</td>\n",
       "    </tr>\n",
       "    <tr>\n",
       "      <th>98</th>\n",
       "      <td>64.29</td>\n",
       "      <td>65.82</td>\n",
       "      <td>66.77</td>\n",
       "      <td>66.95</td>\n",
       "    </tr>\n",
       "    <tr>\n",
       "      <th>99</th>\n",
       "      <td>64.14</td>\n",
       "      <td>65.82</td>\n",
       "      <td>66.75</td>\n",
       "      <td>66.93</td>\n",
       "    </tr>\n",
       "  </tbody>\n",
       "</table>\n",
       "<p>100 rows × 4 columns</p>\n",
       "</div>"
      ],
      "text/plain": [
       "     1990   2000   2010   2020\n",
       "0   70.91  75.15  72.49  74.22\n",
       "1   70.85  72.34  71.96  72.54\n",
       "2   70.22  71.86  71.95  72.10\n",
       "3   70.06  71.20  71.74  71.70\n",
       "4   70.00  71.13  71.43  71.69\n",
       "..    ...    ...    ...    ...\n",
       "95  64.43  65.91  66.86  66.97\n",
       "96  64.42  65.86  66.81  66.97\n",
       "97  64.40  65.83  66.78  66.95\n",
       "98  64.29  65.82  66.77  66.95\n",
       "99  64.14  65.82  66.75  66.93\n",
       "\n",
       "[100 rows x 4 columns]"
      ]
     },
     "execution_count": 45,
     "metadata": {},
     "output_type": "execute_result"
    }
   ],
   "source": [
    "#arrange as data frame\n",
    "historic_gir_df_arr = historic_gir_df\n",
    "historic_gir_df_arr.columns = ['1990', '2000', '2010','2020']\n",
    "#https://note.nkmk.me/en/python-pandas-t-transpose/\n",
    "historic_gir_df_arr"
   ]
  },
  {
   "cell_type": "code",
   "execution_count": 46,
   "id": "7088a0e2",
   "metadata": {},
   "outputs": [],
   "source": [
    "gir_1990 = historic_gir_df_arr.iloc[:,0]\n",
    "gir_2000 = historic_gir_df_arr.iloc[:,1]\n",
    "gir_2010 = historic_gir_df_arr.iloc[:,2]\n",
    "gir_2020 = historic_gir_df_arr.iloc[:,3]"
   ]
  },
  {
   "cell_type": "code",
   "execution_count": 47,
   "id": "b9018382",
   "metadata": {},
   "outputs": [],
   "source": [
    "mean_gir_1990 = statistics.mean(gir_1990)\n",
    "mean_gir_2000 = statistics.mean(gir_2000)\n",
    "mean_gir_2010 = statistics.mean(gir_2010)\n",
    "mean_gir_2020 = statistics.mean(gir_2020)"
   ]
  },
  {
   "cell_type": "code",
   "execution_count": 48,
   "id": "f976e2ab",
   "metadata": {},
   "outputs": [],
   "source": [
    "gir_increase = ([mean_gir_2020 - mean_gir_2010],[mean_gir_2010 - mean_gir_2000], [mean_gir_2000 - mean_gir_1990] )"
   ]
  },
  {
   "cell_type": "code",
   "execution_count": 49,
   "id": "f880377b",
   "metadata": {},
   "outputs": [
    {
     "data": {
      "text/plain": [
       "0.854000000000004"
      ]
     },
     "execution_count": 49,
     "metadata": {},
     "output_type": "execute_result"
    }
   ],
   "source": [
    "mean_gir_increase = np.mean(gir_increase)\n",
    "mean_gir_increase"
   ]
  },
  {
   "cell_type": "code",
   "execution_count": 50,
   "id": "ad735032",
   "metadata": {},
   "outputs": [],
   "source": [
    "std_gir_increase = np.std(gir_increase)"
   ]
  },
  {
   "cell_type": "code",
   "execution_count": 51,
   "id": "6a3875a5",
   "metadata": {},
   "outputs": [
    {
     "data": {
      "text/plain": [
       "69.8079"
      ]
     },
     "execution_count": 51,
     "metadata": {},
     "output_type": "execute_result"
    }
   ],
   "source": [
    "mean_gir_2030 = (mean_gir_2020 + mean_gir_increase)\n",
    "mean_gir_2030"
   ]
  },
  {
   "cell_type": "code",
   "execution_count": null,
   "id": "4ed3d542",
   "metadata": {},
   "outputs": [],
   "source": []
  },
  {
   "cell_type": "code",
   "execution_count": 52,
   "id": "49e26cb5",
   "metadata": {},
   "outputs": [],
   "source": [
    "from scipy.stats import norm"
   ]
  },
  {
   "cell_type": "code",
   "execution_count": 53,
   "id": "7382e2bd",
   "metadata": {},
   "outputs": [
    {
     "data": {
      "text/plain": [
       "{'norm': {'loc': 66.57350000000001, 'scale': 2.4367405996535614}}"
      ]
     },
     "execution_count": 53,
     "metadata": {},
     "output_type": "execute_result"
    }
   ],
   "source": [
    "gir_list"
   ]
  },
  {
   "cell_type": "code",
   "execution_count": 54,
   "id": "436ef922",
   "metadata": {},
   "outputs": [
    {
     "data": {
      "image/png": "[encoded data removed]",
      "text/plain": [
       "<Figure size 432x288 with 1 Axes>"
      ]
     },
     "metadata": {
      "needs_background": "light"
     },
     "output_type": "display_data"
    }
   ],
   "source": [
    "gir_2030 = norm.rvs(loc=67.154, scale=2.4367405996535614, size=250, random_state=None) # use the mean value determined for the loc and the scale is determined using fitter\n",
    "plt.hist(gir_2030, bins=30)\n",
    "\n",
    "plt.show()"
   ]
  },
  {
   "cell_type": "code",
   "execution_count": null,
   "id": "84c9dc58",
   "metadata": {},
   "outputs": [],
   "source": []
  },
  {
   "cell_type": "markdown",
   "id": "d3812baf",
   "metadata": {},
   "source": [
    "### Birdies"
   ]
  },
  {
   "cell_type": "code",
   "execution_count": 55,
   "id": "7eec241a",
   "metadata": {},
   "outputs": [],
   "source": [
    "historic_birdies_df = pd.read_csv('data\\historic_birdies.csv')"
   ]
  },
  {
   "cell_type": "code",
   "execution_count": 56,
   "id": "a8c30cbe",
   "metadata": {},
   "outputs": [
    {
     "data": {
      "text/html": [
       "<div>\n",
       "<style scoped>\n",
       "    .dataframe tbody tr th:only-of-type {\n",
       "        vertical-align: middle;\n",
       "    }\n",
       "\n",
       "    .dataframe tbody tr th {\n",
       "        vertical-align: top;\n",
       "    }\n",
       "\n",
       "    .dataframe thead th {\n",
       "        text-align: right;\n",
       "    }\n",
       "</style>\n",
       "<table border=\"1\" class=\"dataframe\">\n",
       "  <thead>\n",
       "    <tr style=\"text-align: right;\">\n",
       "      <th></th>\n",
       "      <th>1990</th>\n",
       "      <th>2000</th>\n",
       "      <th>2010</th>\n",
       "      <th>2020</th>\n",
       "    </tr>\n",
       "  </thead>\n",
       "  <tbody>\n",
       "    <tr>\n",
       "      <th>0</th>\n",
       "      <td>3.88</td>\n",
       "      <td>4.92</td>\n",
       "      <td>4.06</td>\n",
       "      <td>4.67</td>\n",
       "    </tr>\n",
       "    <tr>\n",
       "      <th>1</th>\n",
       "      <td>3.84</td>\n",
       "      <td>4.26</td>\n",
       "      <td>4.03</td>\n",
       "      <td>4.55</td>\n",
       "    </tr>\n",
       "    <tr>\n",
       "      <th>2</th>\n",
       "      <td>3.82</td>\n",
       "      <td>4.22</td>\n",
       "      <td>4.02</td>\n",
       "      <td>4.55</td>\n",
       "    </tr>\n",
       "    <tr>\n",
       "      <th>3</th>\n",
       "      <td>3.76</td>\n",
       "      <td>4.21</td>\n",
       "      <td>4.01</td>\n",
       "      <td>4.42</td>\n",
       "    </tr>\n",
       "    <tr>\n",
       "      <th>4</th>\n",
       "      <td>3.76</td>\n",
       "      <td>4.08</td>\n",
       "      <td>4.00</td>\n",
       "      <td>4.38</td>\n",
       "    </tr>\n",
       "    <tr>\n",
       "      <th>...</th>\n",
       "      <td>...</td>\n",
       "      <td>...</td>\n",
       "      <td>...</td>\n",
       "      <td>...</td>\n",
       "    </tr>\n",
       "    <tr>\n",
       "      <th>187</th>\n",
       "      <td>2.61</td>\n",
       "      <td>2.88</td>\n",
       "      <td>2.95</td>\n",
       "      <td>3.20</td>\n",
       "    </tr>\n",
       "    <tr>\n",
       "      <th>188</th>\n",
       "      <td>2.59</td>\n",
       "      <td>2.80</td>\n",
       "      <td>2.88</td>\n",
       "      <td>3.20</td>\n",
       "    </tr>\n",
       "    <tr>\n",
       "      <th>189</th>\n",
       "      <td>2.58</td>\n",
       "      <td>2.77</td>\n",
       "      <td>2.82</td>\n",
       "      <td>3.18</td>\n",
       "    </tr>\n",
       "    <tr>\n",
       "      <th>190</th>\n",
       "      <td>2.29</td>\n",
       "      <td>2.76</td>\n",
       "      <td>2.80</td>\n",
       "      <td>3.04</td>\n",
       "    </tr>\n",
       "    <tr>\n",
       "      <th>191</th>\n",
       "      <td>2.05</td>\n",
       "      <td>2.76</td>\n",
       "      <td>2.79</td>\n",
       "      <td>2.98</td>\n",
       "    </tr>\n",
       "  </tbody>\n",
       "</table>\n",
       "<p>192 rows × 4 columns</p>\n",
       "</div>"
      ],
      "text/plain": [
       "     1990  2000  2010  2020\n",
       "0    3.88  4.92  4.06  4.67\n",
       "1    3.84  4.26  4.03  4.55\n",
       "2    3.82  4.22  4.02  4.55\n",
       "3    3.76  4.21  4.01  4.42\n",
       "4    3.76  4.08  4.00  4.38\n",
       "..    ...   ...   ...   ...\n",
       "187  2.61  2.88  2.95  3.20\n",
       "188  2.59  2.80  2.88  3.20\n",
       "189  2.58  2.77  2.82  3.18\n",
       "190  2.29  2.76  2.80  3.04\n",
       "191  2.05  2.76  2.79  2.98\n",
       "\n",
       "[192 rows x 4 columns]"
      ]
     },
     "execution_count": 56,
     "metadata": {},
     "output_type": "execute_result"
    }
   ],
   "source": [
    "#arrange as data frame\n",
    "historic_birdies_df_arr = historic_birdies_df\n",
    "historic_birdies_df_arr.columns = ['1990', '2000', '2010','2020']\n",
    "#https://note.nkmk.me/en/python-pandas-t-transpose/\n",
    "historic_birdies_df_arr"
   ]
  },
  {
   "cell_type": "code",
   "execution_count": 57,
   "id": "cba9d04a",
   "metadata": {},
   "outputs": [],
   "source": [
    "birdies_1990 = historic_birdies_df_arr.iloc[:,0]\n",
    "birdies_2000 = historic_birdies_df_arr.iloc[:,1]\n",
    "birdies_2010 = historic_birdies_df_arr.iloc[:,2]\n",
    "birdies_2020 = historic_birdies_df_arr.iloc[:,3]"
   ]
  },
  {
   "cell_type": "code",
   "execution_count": 58,
   "id": "b89d1cd6",
   "metadata": {},
   "outputs": [],
   "source": [
    "mean_birdies_1990 = statistics.mean(birdies_1990)\n",
    "mean_birdies_2000 = statistics.mean(birdies_2000)\n",
    "mean_birdies_2010 = statistics.mean(birdies_2010)\n",
    "mean_birdies_2020 = statistics.mean(birdies_2020)"
   ]
  },
  {
   "cell_type": "code",
   "execution_count": 59,
   "id": "f2f61bde",
   "metadata": {},
   "outputs": [
    {
     "data": {
      "text/plain": [
       "0      3.88\n",
       "1      3.84\n",
       "2      3.82\n",
       "3      3.76\n",
       "4      3.76\n",
       "       ... \n",
       "187    2.61\n",
       "188    2.59\n",
       "189    2.58\n",
       "190    2.29\n",
       "191    2.05\n",
       "Name: 1990, Length: 192, dtype: float64"
      ]
     },
     "execution_count": 59,
     "metadata": {},
     "output_type": "execute_result"
    }
   ],
   "source": [
    "birdies_1990"
   ]
  },
  {
   "cell_type": "code",
   "execution_count": null,
   "id": "3c402ebd",
   "metadata": {},
   "outputs": [],
   "source": []
  },
  {
   "cell_type": "code",
   "execution_count": null,
   "id": "3a46cd18",
   "metadata": {},
   "outputs": [],
   "source": []
  },
  {
   "cell_type": "code",
   "execution_count": null,
   "id": "44520654",
   "metadata": {},
   "outputs": [],
   "source": []
  },
  {
   "cell_type": "code",
   "execution_count": 60,
   "id": "144c94cb",
   "metadata": {},
   "outputs": [],
   "source": [
    "birdies_increase = ([mean_birdies_2020 - mean_birdies_2010],[mean_birdies_2010 - mean_birdies_2000], [mean_birdies_2000 - mean_birdies_1990] )"
   ]
  },
  {
   "cell_type": "code",
   "execution_count": 61,
   "id": "2185eb28",
   "metadata": {},
   "outputs": [
    {
     "data": {
      "text/plain": [
       "0.20939236111111104"
      ]
     },
     "execution_count": 61,
     "metadata": {},
     "output_type": "execute_result"
    }
   ],
   "source": [
    "mean_birdies_increase = np.mean(birdies_increase)\n",
    "mean_birdies_increase "
   ]
  },
  {
   "cell_type": "code",
   "execution_count": 62,
   "id": "fc59e1b2",
   "metadata": {},
   "outputs": [],
   "source": [
    "std_birdies_increase = np.std(birdies_increase)"
   ]
  },
  {
   "cell_type": "code",
   "execution_count": 63,
   "id": "ef40cd1d",
   "metadata": {},
   "outputs": [
    {
     "data": {
      "text/plain": [
       "3.9966840277777775"
      ]
     },
     "execution_count": 63,
     "metadata": {},
     "output_type": "execute_result"
    }
   ],
   "source": [
    "mean_birdies_2030 = (mean_birdies_2020 + mean_birdies_increase)\n",
    "mean_birdies_2030"
   ]
  },
  {
   "cell_type": "code",
   "execution_count": 64,
   "id": "4a6e72c2",
   "metadata": {},
   "outputs": [
    {
     "data": {
      "text/plain": [
       "{'lognorm': {'s': 0.021071276169458617,\n",
       "  'loc': -9.747395651590328,\n",
       "  'scale': 13.661062712682266}}"
      ]
     },
     "execution_count": 64,
     "metadata": {},
     "output_type": "execute_result"
    }
   ],
   "source": [
    "birdies_list"
   ]
  },
  {
   "cell_type": "code",
   "execution_count": 65,
   "id": "f1cec18d",
   "metadata": {},
   "outputs": [
    {
     "data": {
      "image/png": "[encoded data removed]",
      "text/plain": [
       "<Figure size 432x288 with 1 Axes>"
      ]
     },
     "metadata": {
      "needs_background": "light"
     },
     "output_type": "display_data"
    }
   ],
   "source": [
    "s=0.021071276169458617\n",
    "birdies_2030 = lognorm.rvs(s, loc=-9.5384, scale=13.661062712682266, size=250) # use the mean value determined for the loc and the scale is determined using fitter\n",
    "plt.hist(birdies_2030, bins=30)\n",
    "\n",
    "plt.show()\n"
   ]
  },
  {
   "cell_type": "code",
   "execution_count": null,
   "id": "bb01e760",
   "metadata": {},
   "outputs": [],
   "source": []
  },
  {
   "cell_type": "code",
   "execution_count": 66,
   "id": "6c3e6f06",
   "metadata": {},
   "outputs": [],
   "source": [
    "df_distance_2030 = pd.DataFrame(distance_2030)\n",
    "df_accuracy_2030 = pd.DataFrame(accuracy_2030)\n",
    "df_gir_2030 = pd.DataFrame(gir_2030)\n",
    "df_birdies_2030 = pd.DataFrame(birdies_2030)"
   ]
  },
  {
   "cell_type": "code",
   "execution_count": 67,
   "id": "6260bf57",
   "metadata": {},
   "outputs": [],
   "source": [
    "total_2030 = pd.concat([df_distance_2030, df_accuracy_2030, df_gir_2030, df_birdies_2030], axis=1) #https://pandas.pydata.org/pandas-docs/stable/user_guide/merging.html"
   ]
  },
  {
   "cell_type": "code",
   "execution_count": 68,
   "id": "f08fc225",
   "metadata": {},
   "outputs": [
    {
     "name": "stdout",
     "output_type": "stream",
     "text": [
      "     Driving distance (yds)  Driving accuracy (%)    GIR (%)  \\\n",
      "0                310.191915             57.161499  64.336927   \n",
      "1                312.295874             57.612008  65.920606   \n",
      "2                311.969727             54.297404  65.925531   \n",
      "3                298.164303             67.178822  71.444069   \n",
      "4                313.476108             59.374141  62.698334   \n",
      "..                      ...                   ...        ...   \n",
      "245              309.621805             64.665328  68.090027   \n",
      "246              317.283497             56.970910  66.763567   \n",
      "247              322.184791             69.359469  69.213068   \n",
      "248              297.757004             60.083132  70.602276   \n",
      "249              294.193671             67.493107  68.777313   \n",
      "\n",
      "     Birdie average (%)  \n",
      "0              3.730813  \n",
      "1              4.412147  \n",
      "2              4.110341  \n",
      "3              4.359514  \n",
      "4              4.210439  \n",
      "..                  ...  \n",
      "245            3.953334  \n",
      "246            4.389665  \n",
      "247            4.001098  \n",
      "248            4.772264  \n",
      "249            4.243921  \n",
      "\n",
      "[250 rows x 4 columns]\n"
     ]
    }
   ],
   "source": [
    "total_2030.columns = ['Driving distance (yds)', 'Driving accuracy (%)', 'GIR (%)', 'Birdie average (%)']\n",
    "print(total_2030)"
   ]
  },
  {
   "cell_type": "code",
   "execution_count": 69,
   "id": "55836d11",
   "metadata": {},
   "outputs": [
    {
     "name": "stdout",
     "output_type": "stream",
     "text": [
      "                               0           1           2           3    \\\n",
      "Driving distance (yds)  310.191915  312.295874  311.969727  298.164303   \n",
      "Driving accuracy (%)     57.161499   57.612008   54.297404   67.178822   \n",
      "GIR (%)                  64.336927   65.920606   65.925531   71.444069   \n",
      "Birdie average (%)        3.730813    4.412147    4.110341    4.359514   \n",
      "\n",
      "                               4           5           6           7    \\\n",
      "Driving distance (yds)  313.476108  314.566861  316.766786  299.372581   \n",
      "Driving accuracy (%)     59.374141   53.368582   64.308123   57.787653   \n",
      "GIR (%)                  62.698334   64.277058   68.484598   63.649604   \n",
      "Birdie average (%)        4.210439    4.107683    4.130046    4.107277   \n",
      "\n",
      "                               8           9    ...         240         241  \\\n",
      "Driving distance (yds)  301.019482  309.038477  ...  313.167295  308.531894   \n",
      "Driving accuracy (%)     56.478211   55.784085  ...   60.099857   68.875321   \n",
      "GIR (%)                  66.666117   71.926805  ...   62.557984   64.340155   \n",
      "Birdie average (%)        3.974001    3.789768  ...    4.081803    4.462550   \n",
      "\n",
      "                               242         243         244         245  \\\n",
      "Driving distance (yds)  305.308264  323.295904  320.000946  309.621805   \n",
      "Driving accuracy (%)     58.295466   56.150681   58.718725   64.665328   \n",
      "GIR (%)                  61.746406   65.005334   70.992675   68.090027   \n",
      "Birdie average (%)        3.917066    4.328591    4.165124    3.953334   \n",
      "\n",
      "                               246         247         248         249  \n",
      "Driving distance (yds)  317.283497  322.184791  297.757004  294.193671  \n",
      "Driving accuracy (%)     56.970910   69.359469   60.083132   67.493107  \n",
      "GIR (%)                  66.763567   69.213068   70.602276   68.777313  \n",
      "Birdie average (%)        4.389665    4.001098    4.772264    4.243921  \n",
      "\n",
      "[4 rows x 250 columns]\n"
     ]
    }
   ],
   "source": [
    "total_2030_t = total_2030.T\n",
    "print(total_2030_t)\n",
    "#https://note.nkmk.me/en/python-pandas-t-transpose/"
   ]
  },
  {
   "cell_type": "code",
   "execution_count": 70,
   "id": "d6a21e98",
   "metadata": {},
   "outputs": [
    {
     "data": {
      "text/plain": [
       "<seaborn.axisgrid.PairGrid at 0x2abe7bcb8b0>"
      ]
     },
     "execution_count": 70,
     "metadata": {},
     "output_type": "execute_result"
    },
    {
     "data": {
      "image/png": "[encoded data removed]",
      "text/plain": [
       "<Figure size 720x720 with 20 Axes>"
      ]
     },
     "metadata": {
      "needs_background": "light"
     },
     "output_type": "display_data"
    }
   ],
   "source": [
    "sns.pairplot(total_2030, kind=\"reg\", plot_kws={'line_kws':{'color':'red'}})\n",
    "# https://stackoverflow.com/questions/50722972/change-the-regression-line-colour-of-seaborns-pairplot"
   ]
  },
  {
   "cell_type": "code",
   "execution_count": null,
   "id": "d742f06d",
   "metadata": {},
   "outputs": [],
   "source": []
  },
  {
   "cell_type": "code",
   "execution_count": null,
   "id": "bb4a7c58",
   "metadata": {},
   "outputs": [],
   "source": []
  },
  {
   "cell_type": "code",
   "execution_count": null,
   "id": "fd43f5b7",
   "metadata": {},
   "outputs": [],
   "source": []
  },
  {
   "cell_type": "code",
   "execution_count": null,
   "id": "100901e9",
   "metadata": {},
   "outputs": [],
   "source": []
  },
  {
   "cell_type": "code",
   "execution_count": null,
   "id": "2887b396",
   "metadata": {},
   "outputs": [],
   "source": []
  },
  {
   "cell_type": "code",
   "execution_count": null,
   "id": "980ea1f4",
   "metadata": {},
   "outputs": [],
   "source": []
  },
  {
   "cell_type": "code",
   "execution_count": null,
   "id": "79180d50",
   "metadata": {},
   "outputs": [],
   "source": []
  },
  {
   "cell_type": "code",
   "execution_count": null,
   "id": "de4653bd",
   "metadata": {},
   "outputs": [],
   "source": []
  },
  {
   "cell_type": "code",
   "execution_count": null,
   "id": "0001bf25",
   "metadata": {},
   "outputs": [],
   "source": []
  },
  {
   "cell_type": "code",
   "execution_count": null,
   "id": "d7177eb4",
   "metadata": {},
   "outputs": [],
   "source": []
  },
  {
   "cell_type": "code",
   "execution_count": null,
   "id": "2f19d800",
   "metadata": {},
   "outputs": [],
   "source": []
  },
  {
   "cell_type": "code",
   "execution_count": null,
   "id": "eae18752",
   "metadata": {},
   "outputs": [],
   "source": []
  },
  {
   "cell_type": "code",
   "execution_count": null,
   "id": "1a341c83",
   "metadata": {},
   "outputs": [],
   "source": []
  },
  {
   "cell_type": "code",
   "execution_count": null,
   "id": "38c9b23a",
   "metadata": {},
   "outputs": [],
   "source": []
  }
 ],
 "metadata": {
  "kernelspec": {
   "display_name": "Python 3 (ipykernel)",
   "language": "python",
   "name": "python3"
  },
  "language_info": {
   "codemirror_mode": {
    "name": "ipython",
    "version": 3
   },
   "file_extension": ".py",
   "mimetype": "text/x-python",
   "name": "python",
   "nbconvert_exporter": "python",
   "pygments_lexer": "ipython3",
   "version": "3.8.11"
  }
 },
 "nbformat": 4,
 "nbformat_minor": 5
}
