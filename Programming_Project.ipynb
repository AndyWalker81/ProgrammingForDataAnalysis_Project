{
 "cells": [
  {
   "cell_type": "markdown",
   "id": "ed1322c0",
   "metadata": {},
   "source": [
    "# Simulation of PGA Tour Golf Data"
   ]
  },
  {
   "cell_type": "markdown",
   "id": "71d3f4b8",
   "metadata": {},
   "source": [
    "## Programming for Data Analysis Project "
   ]
  },
  {
   "cell_type": "markdown",
   "id": "4f790274",
   "metadata": {},
   "source": [
    "### Andrew Walker - G00398788@gmit.ie"
   ]
  },
  {
   "cell_type": "markdown",
   "id": "626f36cf",
   "metadata": {},
   "source": [
    "![www.pgatour.com](https://pga-tour-res.cloudinary.com/image/upload/c_fill,dpr_2.6,f_auto,g_center,h_336,q_auto,w_1320/v1/pgatour/editorial/2020/12/17/Logo/flag-example-1400.jpg)"
   ]
  },
  {
   "cell_type": "markdown",
   "id": "91e15eca",
   "metadata": {},
   "source": [
    "## 1. Introduction"
   ]
  },
  {
   "cell_type": "markdown",
   "id": "5c59d916",
   "metadata": {},
   "source": [
    "This project will simulate a data set based on historical PGA Tour golf statistics and model the relationships between four variables:\n",
    "\n",
    "- Driving distance average (the average number of yards per hole)\n",
    "- Driving accurary percentage (the percentage of time a tee shot comes to rest in the fairway)\n",
    "- Greens in Regulation (GIR) percentage (the percent of time a player was able to hit the green in regulation. The GIR stroke is determined by subtracting 2 from par)\n",
    "- Birdie average (the average number of birdies made per round played.)"
   ]
  },
  {
   "cell_type": "markdown",
   "id": "4713ce7a",
   "metadata": {},
   "source": [
    "The R&A and USGA Distance Insights Report (2020) (https://www.usga.org/content/dam/usga/pdf/2020/distance-insights/DIPR-FINAL-2020-usga.pdf) finds that the average driving distance on the PGA Tour has shown a general increase, in particular from the early 1990s with the introduction of oversized drivers. Following this, further technological and rule innovations has led to a trend in increased distance off the tee.  "
   ]
  },
  {
   "cell_type": "markdown",
   "id": "9c69b28d",
   "metadata": {},
   "source": [
    "However, the Distance Insights Report (2020) also finds that as driving distance increases, driving accuracy decreases."
   ]
  },
  {
   "cell_type": "markdown",
   "id": "7f5d8ffb",
   "metadata": {},
   "source": [
    "This project will make a comparison of the above four variables to:\n",
    "\n",
    "1. Model how driving distance affects accuracy\n",
    "2. Model how distance and accuracy affect the number of greens in regulation hit\n",
    "3. Model how distance and accuracy affect the number of birdies scored\n",
    "4. Model how the number of greens in regulation hit affects birdies"
   ]
  },
  {
   "cell_type": "markdown",
   "id": "e73c96c3",
   "metadata": {},
   "source": [
    "Several initial hypothesis can be made:\n",
    "    \n",
    "1. As driving distance increases, the accuracy of the shot decreases leading to more tee shots not landing on the fairway.\n",
    "2. Hitting GIR will lead to more birdies.\n",
    "\n",
    "The project will model whether the hypothesis are correct.\n",
    "\n",
    "The project also will model whether driving distance or accuracy is a more useful indicator to hit GIR and to score birdies - whilst a long drive might be less accurate and find the rough, a shorter approach shot might lead to more GIR  and / or more birdies. Conversely, a more accurate tee shot which finds the fairway but has a longer approach shot might lead to more GIR and / or more birdies.\n",
    "\n",
    "This might be a useful simulation for golfers to establish if distance could be considered to be more important than accuracy, or vice versa, in the context of reaching in the green in fewer shots and scoring birdies.\n"
   ]
  },
  {
   "cell_type": "markdown",
   "id": "ea170ecb",
   "metadata": {},
   "source": [
    "The project uses historical data to determine the distribution of random data for modelling. Then, based on the trends in historical data between the years 1990, 2000, 2010, and 2020, predictions are made for likely figures for the four variables in 2030. Random data is then simulated for each variable, using the likely distributions. These variables are then compared to determine whether the hypothesis were correct, and whether driving distance or accuracy is a more useful indicator to hit GIR and to score birdies.\n",
    "\n",
    "These years were chosen as, according to the Distance Insights Report (2020), there were no major innovations affecting driving distance in the preceeding decades. "
   ]
  },
  {
   "cell_type": "markdown",
   "id": "42b50c70",
   "metadata": {},
   "source": [
    "The notebook will detail the steps taken to produce the simulation."
   ]
  },
  {
   "cell_type": "markdown",
   "id": "6b2a6a4a",
   "metadata": {},
   "source": [
    "\n",
    "\n",
    "https://www.itl.nist.gov/div898/handbook/eda/section3/eda366.htm"
   ]
  },
  {
   "cell_type": "markdown",
   "id": "e482805e",
   "metadata": {},
   "source": [
    "https://www.usga.org/content/dam/usga/pdf/RSI/distance-insights-2021-docs/2020%20Distance%20Report%2026-01-2021.pdf\n",
    "\n",
    "https://www.usga.org/content/dam/usga/pdf/2020/distance-insights/DIPR-FINAL-2020-usga.pdf"
   ]
  },
  {
   "cell_type": "markdown",
   "id": "a8353d3a",
   "metadata": {},
   "source": [
    "https://www.pgatour.com/stats/stat.101.y2021.html"
   ]
  },
  {
   "cell_type": "markdown",
   "id": "8271c952",
   "metadata": {},
   "source": [
    "1990 (no major innovations between 1980 and 1990), 2000, 2010, 2020 - simulate data for 2030\n",
    "\n",
    "Make a note of total number of players on Fedex"
   ]
  },
  {
   "cell_type": "markdown",
   "id": "4b1cfe9c",
   "metadata": {},
   "source": [
    "<br>\n",
    "\n",
    "## 2. Required installations"
   ]
  },
  {
   "cell_type": "markdown",
   "id": "03d2887a",
   "metadata": {},
   "source": [
    "In order to run the notebook successfully, a number of packages must be installed and initialised. "
   ]
  },
  {
   "cell_type": "markdown",
   "id": "c4e21297",
   "metadata": {},
   "source": [
    "This includes the Fitter package. Fitter provides a simple class to identify the distribution from which a data samples is generated from. It uses a number of distributions from the Scipy package and can plot the results to check what is the most probable distrubution for the data. \n",
    "\n",
    "To install Fitter:\n",
    "\n",
    "```pip install fitter```\n",
    "\n",
    "or on conda:\n",
    "\n",
    "```conda install fitter```\n",
    "\n",
    "Further details are available here: https://pypi.org/project/fitter/"
   ]
  },
  {
   "cell_type": "code",
   "execution_count": 1,
   "id": "512e5596",
   "metadata": {
    "scrolled": true
   },
   "outputs": [],
   "source": [
    "# Regular expressions.\n",
    "#import re\n",
    "\n",
    "# Convenient HTTP requests.\n",
    "#import requests as rq\n",
    "\n",
    "# Dates and times\n",
    "#import datetime as dt\n",
    "\n",
    "# Data frames\n",
    "import pandas as pd\n",
    "\n",
    "# FOr downloading\n",
    "#import urllib.request as urlrq\n",
    "\n",
    "#numpy\n",
    "import numpy as np\n",
    "\n",
    "# pyplot\n",
    "import matplotlib.pyplot as plt\n",
    "\n",
    "# seaborn\n",
    "import seaborn as sns\n",
    "\n",
    "import math\n",
    "\n",
    "#insall fitter \n",
    "#https://pypi.org/project/fitter/\n",
    "\n",
    "from scipy import stats\n",
    "#https://stackoverflow.com/questions/16330831/most-efficient-way-to-find-mode-in-numpy-array\n",
    "    \n",
    "import scipy\n",
    "\n",
    "rng = np.random.default_rng()\n",
    "\n",
    "from fitter import get_common_distributions\n",
    "get_common_distributions()\n",
    "from fitter import Fitter\n",
    "\n",
    "import statistics\n",
    "\n",
    "\n"
   ]
  },
  {
   "cell_type": "markdown",
   "id": "f8151926",
   "metadata": {},
   "source": [
    "### Compile stats fop top 100 Fedex Cup rankings\n",
    "\n",
    "https://www.pgatour.com/content/pgatour/stats/stat.02671.y2021.html"
   ]
  },
  {
   "cell_type": "markdown",
   "id": "8b889c06",
   "metadata": {},
   "source": [
    "## 3. Collect Main Set of Data"
   ]
  },
  {
   "cell_type": "markdown",
   "id": "7790c3e9",
   "metadata": {},
   "source": [
    "The project uses PGA Tour data from the top 100 ranked golfers at the end of the 2021 Fedex cup (https://www.pgatour.com/). The Fedex cup is a season-long points competition which culminates with the FedExCup Playoffs, a series of three events to determine the FedExCup Champion (https://www.pgatour.com/fedexcup.html).\n",
    "\n",
    "Data on the top 100 players consisting of Fedex Cup rank, name, and the four variables to be simulated, were saved using a manual process to a .csv file saved in the data folder associated with this project. These data were copied from each players' individual stats page. "
   ]
  },
  {
   "cell_type": "markdown",
   "id": "95d0b2a0",
   "metadata": {},
   "source": [
    "These data are read from the .csv file into a Pandas DataFrame:\n"
   ]
  },
  {
   "cell_type": "code",
   "execution_count": 73,
   "id": "2ccb6bd9",
   "metadata": {},
   "outputs": [],
   "source": [
    "rankings = pd.read_csv('data\\strokes_gained.csv')"
   ]
  },
  {
   "cell_type": "markdown",
   "id": "74c823cc",
   "metadata": {},
   "source": [
    "Column titles are added to the DataFrame:"
   ]
  },
  {
   "cell_type": "code",
   "execution_count": 74,
   "id": "94d76680",
   "metadata": {},
   "outputs": [
    {
     "data": {
      "text/html": [
       "<div>\n",
       "<style scoped>\n",
       "    .dataframe tbody tr th:only-of-type {\n",
       "        vertical-align: middle;\n",
       "    }\n",
       "\n",
       "    .dataframe tbody tr th {\n",
       "        vertical-align: top;\n",
       "    }\n",
       "\n",
       "    .dataframe thead th {\n",
       "        text-align: right;\n",
       "    }\n",
       "</style>\n",
       "<table border=\"1\" class=\"dataframe\">\n",
       "  <thead>\n",
       "    <tr style=\"text-align: right;\">\n",
       "      <th></th>\n",
       "      <th>Fedex Rank 2021</th>\n",
       "      <th>Name</th>\n",
       "      <th>Driving distance (avg yds)</th>\n",
       "      <th>Driving accuracy (%)</th>\n",
       "      <th>Greens In Regulation (%)</th>\n",
       "      <th>Birdie average</th>\n",
       "    </tr>\n",
       "  </thead>\n",
       "  <tbody>\n",
       "    <tr>\n",
       "      <th>0</th>\n",
       "      <td>1</td>\n",
       "      <td>Patrick Cantlay</td>\n",
       "      <td>302.8</td>\n",
       "      <td>60.71</td>\n",
       "      <td>70.16</td>\n",
       "      <td>4.29</td>\n",
       "    </tr>\n",
       "    <tr>\n",
       "      <th>1</th>\n",
       "      <td>2</td>\n",
       "      <td>Jon Rahm</td>\n",
       "      <td>309.0</td>\n",
       "      <td>63.73</td>\n",
       "      <td>71.93</td>\n",
       "      <td>4.51</td>\n",
       "    </tr>\n",
       "    <tr>\n",
       "      <th>2</th>\n",
       "      <td>3</td>\n",
       "      <td>Kevin Na</td>\n",
       "      <td>288.5</td>\n",
       "      <td>66.56</td>\n",
       "      <td>64.11</td>\n",
       "      <td>4.00</td>\n",
       "    </tr>\n",
       "    <tr>\n",
       "      <th>3</th>\n",
       "      <td>4</td>\n",
       "      <td>Justin Thomas</td>\n",
       "      <td>303.9</td>\n",
       "      <td>55.72</td>\n",
       "      <td>67.79</td>\n",
       "      <td>4.31</td>\n",
       "    </tr>\n",
       "    <tr>\n",
       "      <th>4</th>\n",
       "      <td>5</td>\n",
       "      <td>Viktor Hovland</td>\n",
       "      <td>302.2</td>\n",
       "      <td>63.86</td>\n",
       "      <td>68.61</td>\n",
       "      <td>4.40</td>\n",
       "    </tr>\n",
       "    <tr>\n",
       "      <th>...</th>\n",
       "      <td>...</td>\n",
       "      <td>...</td>\n",
       "      <td>...</td>\n",
       "      <td>...</td>\n",
       "      <td>...</td>\n",
       "      <td>...</td>\n",
       "    </tr>\n",
       "    <tr>\n",
       "      <th>95</th>\n",
       "      <td>96</td>\n",
       "      <td>Roger Sloan</td>\n",
       "      <td>295.8</td>\n",
       "      <td>61.78</td>\n",
       "      <td>68.77</td>\n",
       "      <td>3.79</td>\n",
       "    </tr>\n",
       "    <tr>\n",
       "      <th>96</th>\n",
       "      <td>97</td>\n",
       "      <td>Brandt Snedeker</td>\n",
       "      <td>286.6</td>\n",
       "      <td>64.04</td>\n",
       "      <td>64.48</td>\n",
       "      <td>3.73</td>\n",
       "    </tr>\n",
       "    <tr>\n",
       "      <th>97</th>\n",
       "      <td>98</td>\n",
       "      <td>Hank Lebioda</td>\n",
       "      <td>295.0</td>\n",
       "      <td>61.16</td>\n",
       "      <td>69.14</td>\n",
       "      <td>3.78</td>\n",
       "    </tr>\n",
       "    <tr>\n",
       "      <th>98</th>\n",
       "      <td>99</td>\n",
       "      <td>Tyler McCumber</td>\n",
       "      <td>309.4</td>\n",
       "      <td>58.30</td>\n",
       "      <td>64.71</td>\n",
       "      <td>3.57</td>\n",
       "    </tr>\n",
       "    <tr>\n",
       "      <th>99</th>\n",
       "      <td>100</td>\n",
       "      <td>Denny McCarthy</td>\n",
       "      <td>295.4</td>\n",
       "      <td>62.31</td>\n",
       "      <td>64.01</td>\n",
       "      <td>3.55</td>\n",
       "    </tr>\n",
       "  </tbody>\n",
       "</table>\n",
       "<p>100 rows × 6 columns</p>\n",
       "</div>"
      ],
      "text/plain": [
       "    Fedex Rank 2021             Name  Driving distance (avg yds)  \\\n",
       "0                 1  Patrick Cantlay                       302.8   \n",
       "1                 2         Jon Rahm                       309.0   \n",
       "2                 3         Kevin Na                       288.5   \n",
       "3                 4    Justin Thomas                       303.9   \n",
       "4                 5   Viktor Hovland                       302.2   \n",
       "..              ...              ...                         ...   \n",
       "95               96      Roger Sloan                       295.8   \n",
       "96               97  Brandt Snedeker                       286.6   \n",
       "97               98     Hank Lebioda                       295.0   \n",
       "98               99   Tyler McCumber                       309.4   \n",
       "99              100   Denny McCarthy                       295.4   \n",
       "\n",
       "    Driving accuracy (%)  Greens In Regulation (%)  Birdie average  \n",
       "0                  60.71                     70.16            4.29  \n",
       "1                  63.73                     71.93            4.51  \n",
       "2                  66.56                     64.11            4.00  \n",
       "3                  55.72                     67.79            4.31  \n",
       "4                  63.86                     68.61            4.40  \n",
       "..                   ...                       ...             ...  \n",
       "95                 61.78                     68.77            3.79  \n",
       "96                 64.04                     64.48            3.73  \n",
       "97                 61.16                     69.14            3.78  \n",
       "98                 58.30                     64.71            3.57  \n",
       "99                 62.31                     64.01            3.55  \n",
       "\n",
       "[100 rows x 6 columns]"
      ]
     },
     "execution_count": 74,
     "metadata": {},
     "output_type": "execute_result"
    }
   ],
   "source": [
    "rankings.columns = ['Fedex Rank 2021', 'Name', 'Driving distance (avg yds)','Driving accuracy (%)','Greens In Regulation (%)', 'Birdie average']\n",
    "#https://note.nkmk.me/en/python-pandas-t-transpose/\n",
    "rankings"
   ]
  },
  {
   "cell_type": "code",
   "execution_count": 4,
   "id": "539f8d2d",
   "metadata": {},
   "outputs": [],
   "source": [
    "#arrange as data frame\n",
    "#rankings_arr = rankings\n",
    "#rankings_arr.columns = ['Fedex Rank 2021', 'Name', 'Driving distance (avg yds)','Driving accuracy (%)','Greens In Regulation (%)', 'Birdie average']\n",
    "#https://note.nkmk.me/en/python-pandas-t-transpose/\n",
    "#rankings_arr"
   ]
  },
  {
   "cell_type": "code",
   "execution_count": 5,
   "id": "24a25b7b",
   "metadata": {},
   "outputs": [],
   "source": [
    "# select specific column data\n",
    "#distance = rankings_arr.iloc[:,2]\n",
    "#accuracy = rankings_arr.iloc[:,3]\n",
    "#gir = rankings_arr.iloc[:,4]\n",
    "#birdies = rankings_arr.iloc[:,5]"
   ]
  },
  {
   "cell_type": "markdown",
   "id": "77c56e71",
   "metadata": {},
   "source": [
    "## 4. Determine Distributions of Data"
   ]
  },
  {
   "cell_type": "markdown",
   "id": "5c13a653",
   "metadata": {},
   "source": [
    "The next step in the process is to select the individual columns of data for each of the four variables and determine the distribution. "
   ]
  },
  {
   "cell_type": "markdown",
   "id": "8ad805b0",
   "metadata": {},
   "source": [
    "First, specific column data is selected:"
   ]
  },
  {
   "cell_type": "code",
   "execution_count": 75,
   "id": "b4ade534",
   "metadata": {},
   "outputs": [],
   "source": [
    "# select specific column data\n",
    "distance = rankings.iloc[:,2]\n",
    "accuracy = rankings.iloc[:,3]\n",
    "gir = rankings.iloc[:,4]\n",
    "birdies = rankings.iloc[:,5]"
   ]
  },
  {
   "cell_type": "markdown",
   "id": "4c470dec",
   "metadata": {},
   "source": [
    "Next, the Fitter tool is used to determine the best-fit distribution of each variable, in turn. By default, the fitting process is run on the data with about 80 different distributions. However, this can take a relatively long time for the process to complete. Therefore, to speed the process up, a number of common distributions to check the data against can be specified (https://fitter.readthedocs.io/en/latest/faqs.html#what-are-the-distributions-available): "
   ]
  },
  {
   "cell_type": "code",
   "execution_count": 88,
   "id": "23909478",
   "metadata": {},
   "outputs": [],
   "source": [
    "common_distributions=['cauchy',\n",
    " 'chi2',\n",
    " 'expon',\n",
    " 'exponpow',\n",
    " 'gamma',\n",
    " 'lognorm',\n",
    " 'norm',\n",
    " 'powerlaw',\n",
    " 'rayleigh',\n",
    " 'uniform']"
   ]
  },
  {
   "cell_type": "markdown",
   "id": "2b7664f1",
   "metadata": {},
   "source": [
    "#### Driving Distance Average Distribution"
   ]
  },
  {
   "cell_type": "markdown",
   "id": "a183544b",
   "metadata": {},
   "source": [
    "Fitter is run on the driving distance data first and a summary displayed:\n",
    "(https://medium.com/the-researchers-guide/finding-the-best-distribution-that-fits-your-data-using-pythons-fitter-library-319a5a0972e9)"
   ]
  },
  {
   "cell_type": "code",
   "execution_count": 91,
   "id": "e0e38a0b",
   "metadata": {},
   "outputs": [
    {
     "data": {
      "text/html": [
       "<div>\n",
       "<style scoped>\n",
       "    .dataframe tbody tr th:only-of-type {\n",
       "        vertical-align: middle;\n",
       "    }\n",
       "\n",
       "    .dataframe tbody tr th {\n",
       "        vertical-align: top;\n",
       "    }\n",
       "\n",
       "    .dataframe thead th {\n",
       "        text-align: right;\n",
       "    }\n",
       "</style>\n",
       "<table border=\"1\" class=\"dataframe\">\n",
       "  <thead>\n",
       "    <tr style=\"text-align: right;\">\n",
       "      <th></th>\n",
       "      <th>sumsquare_error</th>\n",
       "      <th>aic</th>\n",
       "      <th>bic</th>\n",
       "      <th>kl_div</th>\n",
       "    </tr>\n",
       "  </thead>\n",
       "  <tbody>\n",
       "    <tr>\n",
       "      <th>lognorm</th>\n",
       "      <td>0.030668</td>\n",
       "      <td>880.478875</td>\n",
       "      <td>-795.155890</td>\n",
       "      <td>inf</td>\n",
       "    </tr>\n",
       "    <tr>\n",
       "      <th>gamma</th>\n",
       "      <td>0.030719</td>\n",
       "      <td>880.085594</td>\n",
       "      <td>-794.989700</td>\n",
       "      <td>inf</td>\n",
       "    </tr>\n",
       "    <tr>\n",
       "      <th>chi2</th>\n",
       "      <td>0.030719</td>\n",
       "      <td>880.086111</td>\n",
       "      <td>-794.989433</td>\n",
       "      <td>inf</td>\n",
       "    </tr>\n",
       "    <tr>\n",
       "      <th>rayleigh</th>\n",
       "      <td>0.031205</td>\n",
       "      <td>inf</td>\n",
       "      <td>-798.023366</td>\n",
       "      <td>inf</td>\n",
       "    </tr>\n",
       "    <tr>\n",
       "      <th>norm</th>\n",
       "      <td>0.031863</td>\n",
       "      <td>876.688442</td>\n",
       "      <td>-795.936826</td>\n",
       "      <td>inf</td>\n",
       "    </tr>\n",
       "  </tbody>\n",
       "</table>\n",
       "</div>"
      ],
      "text/plain": [
       "          sumsquare_error         aic         bic  kl_div\n",
       "lognorm          0.030668  880.478875 -795.155890     inf\n",
       "gamma            0.030719  880.085594 -794.989700     inf\n",
       "chi2             0.030719  880.086111 -794.989433     inf\n",
       "rayleigh         0.031205         inf -798.023366     inf\n",
       "norm             0.031863  876.688442 -795.936826     inf"
      ]
     },
     "execution_count": 91,
     "metadata": {},
     "output_type": "execute_result"
    },
    {
     "data": {
      "image/png": "[encoded data removed]",
      "text/plain": [
       "<Figure size 432x288 with 1 Axes>"
      ]
     },
     "metadata": {
      "needs_background": "light"
     },
     "output_type": "display_data"
    }
   ],
   "source": [
    "fitdistance = np.array([distance])\n",
    "f = Fitter(fitdistance, distributions=common_distributions)\n",
    "f.fit()\n",
    "f.summary()"
   ]
  },
  {
   "cell_type": "markdown",
   "id": "0e50edd4",
   "metadata": {},
   "source": [
    "<br>\n",
    "\n",
    "The driving distance average data for the top 100 players in the Fedex cup rankings 2021 is found to be a lognormal distribution. "
   ]
  },
  {
   "cell_type": "markdown",
   "id": "c5bf1e42",
   "metadata": {},
   "source": [
    "The shape, loc, and scale parameters for the above distribution can be displayed using the Fitter tool:"
   ]
  },
  {
   "cell_type": "code",
   "execution_count": 92,
   "id": "8fe4de00",
   "metadata": {},
   "outputs": [
    {
     "data": {
      "text/plain": [
       "{'lognorm': {'s': 0.11093697461805507,\n",
       "  'loc': 226.62980940729665,\n",
       "  'scale': 72.26386699032992}}"
      ]
     },
     "execution_count": 92,
     "metadata": {},
     "output_type": "execute_result"
    }
   ],
   "source": [
    "distance_list = f.get_best(method = 'sumsquare_error')\n",
    "distance_list"
   ]
  },
  {
   "cell_type": "markdown",
   "id": "9fda3f66",
   "metadata": {},
   "source": [
    "The code is repeated in a similar manner for the other three variables:"
   ]
  },
  {
   "cell_type": "markdown",
   "id": "2012bb8c",
   "metadata": {},
   "source": [
    "#### Driving Accuracy Average Distribution"
   ]
  },
  {
   "cell_type": "code",
   "execution_count": 93,
   "id": "7e54587e",
   "metadata": {},
   "outputs": [
    {
     "data": {
      "text/html": [
       "<div>\n",
       "<style scoped>\n",
       "    .dataframe tbody tr th:only-of-type {\n",
       "        vertical-align: middle;\n",
       "    }\n",
       "\n",
       "    .dataframe tbody tr th {\n",
       "        vertical-align: top;\n",
       "    }\n",
       "\n",
       "    .dataframe thead th {\n",
       "        text-align: right;\n",
       "    }\n",
       "</style>\n",
       "<table border=\"1\" class=\"dataframe\">\n",
       "  <thead>\n",
       "    <tr style=\"text-align: right;\">\n",
       "      <th></th>\n",
       "      <th>sumsquare_error</th>\n",
       "      <th>aic</th>\n",
       "      <th>bic</th>\n",
       "      <th>kl_div</th>\n",
       "    </tr>\n",
       "  </thead>\n",
       "  <tbody>\n",
       "    <tr>\n",
       "      <th>rayleigh</th>\n",
       "      <td>0.105932</td>\n",
       "      <td>inf</td>\n",
       "      <td>-675.802008</td>\n",
       "      <td>inf</td>\n",
       "    </tr>\n",
       "    <tr>\n",
       "      <th>chi2</th>\n",
       "      <td>0.106243</td>\n",
       "      <td>767.803146</td>\n",
       "      <td>-670.904406</td>\n",
       "      <td>inf</td>\n",
       "    </tr>\n",
       "    <tr>\n",
       "      <th>gamma</th>\n",
       "      <td>0.107194</td>\n",
       "      <td>765.701837</td>\n",
       "      <td>-670.012613</td>\n",
       "      <td>inf</td>\n",
       "    </tr>\n",
       "    <tr>\n",
       "      <th>lognorm</th>\n",
       "      <td>0.107210</td>\n",
       "      <td>765.942683</td>\n",
       "      <td>-669.997928</td>\n",
       "      <td>inf</td>\n",
       "    </tr>\n",
       "    <tr>\n",
       "      <th>norm</th>\n",
       "      <td>0.107583</td>\n",
       "      <td>762.150066</td>\n",
       "      <td>-674.255496</td>\n",
       "      <td>inf</td>\n",
       "    </tr>\n",
       "  </tbody>\n",
       "</table>\n",
       "</div>"
      ],
      "text/plain": [
       "          sumsquare_error         aic         bic  kl_div\n",
       "rayleigh         0.105932         inf -675.802008     inf\n",
       "chi2             0.106243  767.803146 -670.904406     inf\n",
       "gamma            0.107194  765.701837 -670.012613     inf\n",
       "lognorm          0.107210  765.942683 -669.997928     inf\n",
       "norm             0.107583  762.150066 -674.255496     inf"
      ]
     },
     "execution_count": 93,
     "metadata": {},
     "output_type": "execute_result"
    },
    {
     "data": {
      "image/png": "[encoded data removed]",
      "text/plain": [
       "<Figure size 432x288 with 1 Axes>"
      ]
     },
     "metadata": {
      "needs_background": "light"
     },
     "output_type": "display_data"
    }
   ],
   "source": [
    "fitaccuracy = np.array([accuracy])\n",
    "f = Fitter(fitaccuracy, distributions=common_distributions)\n",
    "f.fit()\n",
    "f.summary()"
   ]
  },
  {
   "cell_type": "code",
   "execution_count": 94,
   "id": "f20b7d4b",
   "metadata": {},
   "outputs": [
    {
     "data": {
      "text/plain": [
       "{'rayleigh': {'loc': 53.46421743761188, 'scale': 6.506613280990041}}"
      ]
     },
     "execution_count": 94,
     "metadata": {},
     "output_type": "execute_result"
    }
   ],
   "source": [
    "accuracy_list = f.get_best(method = 'sumsquare_error')\n",
    "accuracy_list"
   ]
  },
  {
   "cell_type": "markdown",
   "id": "00560b40",
   "metadata": {},
   "source": [
    "#### GIR Percentage Distribution"
   ]
  },
  {
   "cell_type": "code",
   "execution_count": 13,
   "id": "ce41c540",
   "metadata": {},
   "outputs": [],
   "source": [
    "fitgir = np.array([gir])"
   ]
  },
  {
   "cell_type": "code",
   "execution_count": 14,
   "id": "a7074f48",
   "metadata": {},
   "outputs": [
    {
     "data": {
      "text/html": [
       "<div>\n",
       "<style scoped>\n",
       "    .dataframe tbody tr th:only-of-type {\n",
       "        vertical-align: middle;\n",
       "    }\n",
       "\n",
       "    .dataframe tbody tr th {\n",
       "        vertical-align: top;\n",
       "    }\n",
       "\n",
       "    .dataframe thead th {\n",
       "        text-align: right;\n",
       "    }\n",
       "</style>\n",
       "<table border=\"1\" class=\"dataframe\">\n",
       "  <thead>\n",
       "    <tr style=\"text-align: right;\">\n",
       "      <th></th>\n",
       "      <th>sumsquare_error</th>\n",
       "      <th>aic</th>\n",
       "      <th>bic</th>\n",
       "      <th>kl_div</th>\n",
       "    </tr>\n",
       "  </thead>\n",
       "  <tbody>\n",
       "    <tr>\n",
       "      <th>norm</th>\n",
       "      <td>0.991301</td>\n",
       "      <td>543.663959</td>\n",
       "      <td>-452.180353</td>\n",
       "      <td>inf</td>\n",
       "    </tr>\n",
       "    <tr>\n",
       "      <th>lognorm</th>\n",
       "      <td>0.991801</td>\n",
       "      <td>545.907262</td>\n",
       "      <td>-447.524837</td>\n",
       "      <td>inf</td>\n",
       "    </tr>\n",
       "    <tr>\n",
       "      <th>gamma</th>\n",
       "      <td>0.991862</td>\n",
       "      <td>546.235757</td>\n",
       "      <td>-447.518615</td>\n",
       "      <td>inf</td>\n",
       "    </tr>\n",
       "    <tr>\n",
       "      <th>chi2</th>\n",
       "      <td>0.992806</td>\n",
       "      <td>548.067712</td>\n",
       "      <td>-447.423532</td>\n",
       "      <td>inf</td>\n",
       "    </tr>\n",
       "    <tr>\n",
       "      <th>rayleigh</th>\n",
       "      <td>1.002078</td>\n",
       "      <td>inf</td>\n",
       "      <td>-451.099131</td>\n",
       "      <td>inf</td>\n",
       "    </tr>\n",
       "  </tbody>\n",
       "</table>\n",
       "</div>"
      ],
      "text/plain": [
       "          sumsquare_error         aic         bic  kl_div\n",
       "norm             0.991301  543.663959 -452.180353     inf\n",
       "lognorm          0.991801  545.907262 -447.524837     inf\n",
       "gamma            0.991862  546.235757 -447.518615     inf\n",
       "chi2             0.992806  548.067712 -447.423532     inf\n",
       "rayleigh         1.002078         inf -451.099131     inf"
      ]
     },
     "execution_count": 14,
     "metadata": {},
     "output_type": "execute_result"
    },
    {
     "data": {
      "image/png": "[encoded data removed]",
      "text/plain": [
       "<Figure size 432x288 with 1 Axes>"
      ]
     },
     "metadata": {
      "needs_background": "light"
     },
     "output_type": "display_data"
    }
   ],
   "source": [
    "f = Fitter(fitgir, distributions=common_distributions)\n",
    "f.fit()\n",
    "# may take some time since by default, all distributions are tried\n",
    "# but you call manually provide a smaller set of distributions\n",
    "f.summary()"
   ]
  },
  {
   "cell_type": "code",
   "execution_count": 15,
   "id": "756a84c5",
   "metadata": {},
   "outputs": [
    {
     "data": {
      "text/plain": [
       "{'norm': {'loc': 66.57350000000001, 'scale': 2.4367405996535614}}"
      ]
     },
     "execution_count": 15,
     "metadata": {},
     "output_type": "execute_result"
    }
   ],
   "source": [
    "gir_list = f.get_best(method = 'sumsquare_error')\n",
    "gir_list\n"
   ]
  },
  {
   "cell_type": "markdown",
   "id": "c0599d41",
   "metadata": {},
   "source": [
    "#### Birdie Average Distribution"
   ]
  },
  {
   "cell_type": "code",
   "execution_count": 100,
   "id": "96a06dbf",
   "metadata": {},
   "outputs": [],
   "source": [
    "fitbirdies = np.array([birdies])"
   ]
  },
  {
   "cell_type": "code",
   "execution_count": 101,
   "id": "ade58bd8",
   "metadata": {},
   "outputs": [
    {
     "data": {
      "text/html": [
       "<div>\n",
       "<style scoped>\n",
       "    .dataframe tbody tr th:only-of-type {\n",
       "        vertical-align: middle;\n",
       "    }\n",
       "\n",
       "    .dataframe tbody tr th {\n",
       "        vertical-align: top;\n",
       "    }\n",
       "\n",
       "    .dataframe thead th {\n",
       "        text-align: right;\n",
       "    }\n",
       "</style>\n",
       "<table border=\"1\" class=\"dataframe\">\n",
       "  <thead>\n",
       "    <tr style=\"text-align: right;\">\n",
       "      <th></th>\n",
       "      <th>sumsquare_error</th>\n",
       "      <th>aic</th>\n",
       "      <th>bic</th>\n",
       "      <th>kl_div</th>\n",
       "    </tr>\n",
       "  </thead>\n",
       "  <tbody>\n",
       "    <tr>\n",
       "      <th>lognorm</th>\n",
       "      <td>68.248116</td>\n",
       "      <td>122.547073</td>\n",
       "      <td>-24.386525</td>\n",
       "      <td>inf</td>\n",
       "    </tr>\n",
       "    <tr>\n",
       "      <th>gamma</th>\n",
       "      <td>68.276475</td>\n",
       "      <td>122.224942</td>\n",
       "      <td>-24.344981</td>\n",
       "      <td>inf</td>\n",
       "    </tr>\n",
       "    <tr>\n",
       "      <th>norm</th>\n",
       "      <td>68.380487</td>\n",
       "      <td>119.275421</td>\n",
       "      <td>-28.797927</td>\n",
       "      <td>inf</td>\n",
       "    </tr>\n",
       "    <tr>\n",
       "      <th>rayleigh</th>\n",
       "      <td>68.518205</td>\n",
       "      <td>inf</td>\n",
       "      <td>-28.596730</td>\n",
       "      <td>inf</td>\n",
       "    </tr>\n",
       "    <tr>\n",
       "      <th>exponpow</th>\n",
       "      <td>69.435081</td>\n",
       "      <td>100.183424</td>\n",
       "      <td>-22.662285</td>\n",
       "      <td>inf</td>\n",
       "    </tr>\n",
       "  </tbody>\n",
       "</table>\n",
       "</div>"
      ],
      "text/plain": [
       "          sumsquare_error         aic        bic  kl_div\n",
       "lognorm         68.248116  122.547073 -24.386525     inf\n",
       "gamma           68.276475  122.224942 -24.344981     inf\n",
       "norm            68.380487  119.275421 -28.797927     inf\n",
       "rayleigh        68.518205         inf -28.596730     inf\n",
       "exponpow        69.435081  100.183424 -22.662285     inf"
      ]
     },
     "execution_count": 101,
     "metadata": {},
     "output_type": "execute_result"
    },
    {
     "data": {
      "image/png": "[encoded data removed]",
      "text/plain": [
       "<Figure size 432x288 with 1 Axes>"
      ]
     },
     "metadata": {
      "needs_background": "light"
     },
     "output_type": "display_data"
    }
   ],
   "source": [
    "f = Fitter(fitbirdies, distributions=common_distributions)\n",
    "f.fit()\n",
    "# may take some time since by default, all distributions are tried\n",
    "# but you call manually provide a smaller set of distributions\n",
    "f.summary()"
   ]
  },
  {
   "cell_type": "code",
   "execution_count": 102,
   "id": "c9d8dfa9",
   "metadata": {},
   "outputs": [
    {
     "data": {
      "text/plain": [
       "{'lognorm': {'s': 0.021071276169458617,\n",
       "  'loc': -9.747395651590328,\n",
       "  'scale': 13.661062712682266}}"
      ]
     },
     "execution_count": 102,
     "metadata": {},
     "output_type": "execute_result"
    }
   ],
   "source": [
    "birdies_list = f.get_best(method = 'sumsquare_error')\n",
    "birdies_list"
   ]
  },
  {
   "cell_type": "markdown",
   "id": "9e364489",
   "metadata": {},
   "source": [
    "As be be seen, for the data set used, driving accuracy average falls as a Rayleigh distribution, GIR percentage falls as a normal distribution, and birdie average is a lognormal distribution (as with driving distance average). "
   ]
  },
  {
   "cell_type": "markdown",
   "id": "f2899f47",
   "metadata": {},
   "source": [
    "### Check previous years stats"
   ]
  },
  {
   "cell_type": "code",
   "execution_count": 19,
   "id": "e8bee17c",
   "metadata": {},
   "outputs": [],
   "source": [
    "historic_distance_df = pd.read_csv('data\\historic_distance.csv')\n"
   ]
  },
  {
   "cell_type": "code",
   "execution_count": 20,
   "id": "d60295fa",
   "metadata": {},
   "outputs": [
    {
     "data": {
      "text/html": [
       "<div>\n",
       "<style scoped>\n",
       "    .dataframe tbody tr th:only-of-type {\n",
       "        vertical-align: middle;\n",
       "    }\n",
       "\n",
       "    .dataframe tbody tr th {\n",
       "        vertical-align: top;\n",
       "    }\n",
       "\n",
       "    .dataframe thead th {\n",
       "        text-align: right;\n",
       "    }\n",
       "</style>\n",
       "<table border=\"1\" class=\"dataframe\">\n",
       "  <thead>\n",
       "    <tr style=\"text-align: right;\">\n",
       "      <th></th>\n",
       "      <th>1990</th>\n",
       "      <th>2000</th>\n",
       "      <th>2010</th>\n",
       "      <th>2020</th>\n",
       "    </tr>\n",
       "  </thead>\n",
       "  <tbody>\n",
       "    <tr>\n",
       "      <th>0</th>\n",
       "      <td>279.6</td>\n",
       "      <td>301.4</td>\n",
       "      <td>315.5</td>\n",
       "      <td>322.1</td>\n",
       "    </tr>\n",
       "    <tr>\n",
       "      <th>1</th>\n",
       "      <td>279.4</td>\n",
       "      <td>298.0</td>\n",
       "      <td>309.8</td>\n",
       "      <td>322.0</td>\n",
       "    </tr>\n",
       "    <tr>\n",
       "      <th>2</th>\n",
       "      <td>278.0</td>\n",
       "      <td>288.7</td>\n",
       "      <td>308.5</td>\n",
       "      <td>315.3</td>\n",
       "    </tr>\n",
       "    <tr>\n",
       "      <th>3</th>\n",
       "      <td>277.6</td>\n",
       "      <td>288.7</td>\n",
       "      <td>307.3</td>\n",
       "      <td>314.0</td>\n",
       "    </tr>\n",
       "    <tr>\n",
       "      <th>4</th>\n",
       "      <td>277.6</td>\n",
       "      <td>288.5</td>\n",
       "      <td>307.2</td>\n",
       "      <td>313.8</td>\n",
       "    </tr>\n",
       "    <tr>\n",
       "      <th>...</th>\n",
       "      <td>...</td>\n",
       "      <td>...</td>\n",
       "      <td>...</td>\n",
       "      <td>...</td>\n",
       "    </tr>\n",
       "    <tr>\n",
       "      <th>95</th>\n",
       "      <td>263.1</td>\n",
       "      <td>273.3</td>\n",
       "      <td>287.9</td>\n",
       "      <td>297.4</td>\n",
       "    </tr>\n",
       "    <tr>\n",
       "      <th>96</th>\n",
       "      <td>263.0</td>\n",
       "      <td>273.2</td>\n",
       "      <td>287.8</td>\n",
       "      <td>297.3</td>\n",
       "    </tr>\n",
       "    <tr>\n",
       "      <th>97</th>\n",
       "      <td>263.0</td>\n",
       "      <td>273.2</td>\n",
       "      <td>287.7</td>\n",
       "      <td>297.3</td>\n",
       "    </tr>\n",
       "    <tr>\n",
       "      <th>98</th>\n",
       "      <td>263.0</td>\n",
       "      <td>273.2</td>\n",
       "      <td>287.6</td>\n",
       "      <td>297.3</td>\n",
       "    </tr>\n",
       "    <tr>\n",
       "      <th>99</th>\n",
       "      <td>263.0</td>\n",
       "      <td>273.2</td>\n",
       "      <td>287.3</td>\n",
       "      <td>297.2</td>\n",
       "    </tr>\n",
       "  </tbody>\n",
       "</table>\n",
       "<p>100 rows × 4 columns</p>\n",
       "</div>"
      ],
      "text/plain": [
       "     1990   2000   2010   2020\n",
       "0   279.6  301.4  315.5  322.1\n",
       "1   279.4  298.0  309.8  322.0\n",
       "2   278.0  288.7  308.5  315.3\n",
       "3   277.6  288.7  307.3  314.0\n",
       "4   277.6  288.5  307.2  313.8\n",
       "..    ...    ...    ...    ...\n",
       "95  263.1  273.3  287.9  297.4\n",
       "96  263.0  273.2  287.8  297.3\n",
       "97  263.0  273.2  287.7  297.3\n",
       "98  263.0  273.2  287.6  297.3\n",
       "99  263.0  273.2  287.3  297.2\n",
       "\n",
       "[100 rows x 4 columns]"
      ]
     },
     "execution_count": 20,
     "metadata": {},
     "output_type": "execute_result"
    }
   ],
   "source": [
    "#arrange as data frame\n",
    "historic_distance_df_arr = historic_distance_df\n",
    "historic_distance_df_arr.columns = ['1990', '2000', '2010','2020']\n",
    "#https://note.nkmk.me/en/python-pandas-t-transpose/\n",
    "historic_distance_df_arr"
   ]
  },
  {
   "cell_type": "code",
   "execution_count": 21,
   "id": "5f29b557",
   "metadata": {},
   "outputs": [],
   "source": [
    "distance_1990 = historic_distance_df_arr.iloc[:,0]\n",
    "distance_2000 = historic_distance_df_arr.iloc[:,1]\n",
    "distance_2010 = historic_distance_df_arr.iloc[:,2]\n",
    "distance_2020 = historic_distance_df_arr.iloc[:,3]"
   ]
  },
  {
   "cell_type": "code",
   "execution_count": 22,
   "id": "a81190c0",
   "metadata": {},
   "outputs": [],
   "source": [
    "mean_distance_1990 = statistics.mean(distance_1990)\n",
    "mean_distance_2000 = statistics.mean(distance_2000)\n",
    "mean_distance_2010 = statistics.mean(distance_2010)\n",
    "mean_distance_2020 = statistics.mean(distance_2020)"
   ]
  },
  {
   "cell_type": "code",
   "execution_count": 23,
   "id": "9e8030cd",
   "metadata": {},
   "outputs": [
    {
     "data": {
      "text/plain": [
       "267.734"
      ]
     },
     "execution_count": 23,
     "metadata": {},
     "output_type": "execute_result"
    }
   ],
   "source": [
    "mean_distance_1990"
   ]
  },
  {
   "cell_type": "code",
   "execution_count": 24,
   "id": "d2e6f6c4",
   "metadata": {},
   "outputs": [
    {
     "data": {
      "text/plain": [
       "278.643"
      ]
     },
     "execution_count": 24,
     "metadata": {},
     "output_type": "execute_result"
    }
   ],
   "source": [
    "mean_distance_2000"
   ]
  },
  {
   "cell_type": "code",
   "execution_count": 25,
   "id": "bb59dedf",
   "metadata": {},
   "outputs": [
    {
     "data": {
      "text/plain": [
       "293.74"
      ]
     },
     "execution_count": 25,
     "metadata": {},
     "output_type": "execute_result"
    }
   ],
   "source": [
    "mean_distance_2010"
   ]
  },
  {
   "cell_type": "code",
   "execution_count": 26,
   "id": "c38825a3",
   "metadata": {},
   "outputs": [
    {
     "data": {
      "text/plain": [
       "303.459"
      ]
     },
     "execution_count": 26,
     "metadata": {},
     "output_type": "execute_result"
    }
   ],
   "source": [
    "mean_distance_2020"
   ]
  },
  {
   "cell_type": "code",
   "execution_count": 27,
   "id": "79b0a29b",
   "metadata": {},
   "outputs": [],
   "source": [
    "distance_increase = ([mean_distance_2020 - mean_distance_2010],[mean_distance_2010 - mean_distance_2000], [mean_distance_2000 - mean_distance_1990] )"
   ]
  },
  {
   "cell_type": "code",
   "execution_count": 28,
   "id": "f88835f0",
   "metadata": {},
   "outputs": [],
   "source": [
    "mean_distance_increase = np.mean(distance_increase)"
   ]
  },
  {
   "cell_type": "code",
   "execution_count": 29,
   "id": "6642bd50",
   "metadata": {},
   "outputs": [],
   "source": [
    "std_distance_increase = np.std(distance_increase)"
   ]
  },
  {
   "cell_type": "code",
   "execution_count": 30,
   "id": "6c8198f8",
   "metadata": {},
   "outputs": [
    {
     "data": {
      "text/plain": [
       "11.90833333333334"
      ]
     },
     "execution_count": 30,
     "metadata": {},
     "output_type": "execute_result"
    }
   ],
   "source": [
    "mean_distance_increase"
   ]
  },
  {
   "cell_type": "code",
   "execution_count": 31,
   "id": "ef862e1b",
   "metadata": {},
   "outputs": [
    {
     "data": {
      "text/plain": [
       "2.3064722461417815"
      ]
     },
     "execution_count": 31,
     "metadata": {},
     "output_type": "execute_result"
    }
   ],
   "source": [
    "std_distance_increase"
   ]
  },
  {
   "cell_type": "code",
   "execution_count": 32,
   "id": "5b548d4a",
   "metadata": {},
   "outputs": [
    {
     "data": {
      "text/plain": [
       "315.36733333333336"
      ]
     },
     "execution_count": 32,
     "metadata": {},
     "output_type": "execute_result"
    }
   ],
   "source": [
    "mean_distance_2030 = (mean_distance_2020 + mean_distance_increase)\n",
    "mean_distance_2030"
   ]
  },
  {
   "cell_type": "code",
   "execution_count": null,
   "id": "68e91d1d",
   "metadata": {},
   "outputs": [],
   "source": []
  },
  {
   "cell_type": "code",
   "execution_count": null,
   "id": "4893bc9c",
   "metadata": {},
   "outputs": [],
   "source": []
  },
  {
   "cell_type": "code",
   "execution_count": 33,
   "id": "9419ecd9",
   "metadata": {},
   "outputs": [
    {
     "data": {
      "text/plain": [
       "{'lognorm': {'s': 0.11093697461805507,\n",
       "  'loc': 226.62980940729665,\n",
       "  'scale': 72.26386699032992}}"
      ]
     },
     "execution_count": 33,
     "metadata": {},
     "output_type": "execute_result"
    }
   ],
   "source": [
    "distance_list\n"
   ]
  },
  {
   "cell_type": "code",
   "execution_count": null,
   "id": "6a3f12b4",
   "metadata": {},
   "outputs": [],
   "source": []
  },
  {
   "cell_type": "code",
   "execution_count": 34,
   "id": "9af204ff",
   "metadata": {},
   "outputs": [],
   "source": [
    "#distance = df_arr.iloc[:,2]"
   ]
  },
  {
   "cell_type": "code",
   "execution_count": 35,
   "id": "7f97cbf3",
   "metadata": {},
   "outputs": [
    {
     "data": {
      "image/png": "[encoded data removed]",
      "text/plain": [
       "<Figure size 432x288 with 1 Axes>"
      ]
     },
     "metadata": {
      "needs_background": "light"
     },
     "output_type": "display_data"
    }
   ],
   "source": [
    "from scipy.stats import lognorm\n",
    "s=0.11093697461805507\n",
    "distance_2030 = lognorm.rvs(s, loc=237.9, scale=72.26386699032992, size=250) # loc is loc from distance_list + mean_distance_increase25\n",
    "plt.hist(distance_2030, bins=30)\n",
    "\n",
    "plt.show()\n",
    "\n",
    "#'lognorm': {'s': 0.11093697461805507,\n",
    "  #'loc': 226.62980940729665,\n",
    "  #'scale': 72.26386699032992}}"
   ]
  },
  {
   "cell_type": "code",
   "execution_count": null,
   "id": "cbad7ccc",
   "metadata": {},
   "outputs": [],
   "source": []
  },
  {
   "cell_type": "code",
   "execution_count": null,
   "id": "a2d42fb8",
   "metadata": {},
   "outputs": [],
   "source": []
  },
  {
   "cell_type": "code",
   "execution_count": null,
   "id": "70052c07",
   "metadata": {},
   "outputs": [],
   "source": []
  },
  {
   "cell_type": "markdown",
   "id": "8a059b9d",
   "metadata": {},
   "source": [
    "### Accuracy"
   ]
  },
  {
   "cell_type": "code",
   "execution_count": 36,
   "id": "6bedbd1e",
   "metadata": {},
   "outputs": [],
   "source": [
    "historic_accuracy_df = pd.read_csv('data\\historic_accuracy.csv')"
   ]
  },
  {
   "cell_type": "code",
   "execution_count": 37,
   "id": "768ee455",
   "metadata": {},
   "outputs": [
    {
     "data": {
      "text/html": [
       "<div>\n",
       "<style scoped>\n",
       "    .dataframe tbody tr th:only-of-type {\n",
       "        vertical-align: middle;\n",
       "    }\n",
       "\n",
       "    .dataframe tbody tr th {\n",
       "        vertical-align: top;\n",
       "    }\n",
       "\n",
       "    .dataframe thead th {\n",
       "        text-align: right;\n",
       "    }\n",
       "</style>\n",
       "<table border=\"1\" class=\"dataframe\">\n",
       "  <thead>\n",
       "    <tr style=\"text-align: right;\">\n",
       "      <th></th>\n",
       "      <th>1990</th>\n",
       "      <th>2000</th>\n",
       "      <th>2010</th>\n",
       "      <th>2020</th>\n",
       "    </tr>\n",
       "  </thead>\n",
       "  <tbody>\n",
       "    <tr>\n",
       "      <th>0</th>\n",
       "      <td>83.67</td>\n",
       "      <td>79.75</td>\n",
       "      <td>76.08</td>\n",
       "      <td>74.50</td>\n",
       "    </tr>\n",
       "    <tr>\n",
       "      <th>1</th>\n",
       "      <td>79.19</td>\n",
       "      <td>79.57</td>\n",
       "      <td>75.94</td>\n",
       "      <td>73.86</td>\n",
       "    </tr>\n",
       "    <tr>\n",
       "      <th>2</th>\n",
       "      <td>78.97</td>\n",
       "      <td>78.76</td>\n",
       "      <td>74.00</td>\n",
       "      <td>71.84</td>\n",
       "    </tr>\n",
       "    <tr>\n",
       "      <th>3</th>\n",
       "      <td>77.84</td>\n",
       "      <td>78.75</td>\n",
       "      <td>73.72</td>\n",
       "      <td>71.36</td>\n",
       "    </tr>\n",
       "    <tr>\n",
       "      <th>4</th>\n",
       "      <td>77.57</td>\n",
       "      <td>77.96</td>\n",
       "      <td>72.86</td>\n",
       "      <td>71.29</td>\n",
       "    </tr>\n",
       "    <tr>\n",
       "      <th>...</th>\n",
       "      <td>...</td>\n",
       "      <td>...</td>\n",
       "      <td>...</td>\n",
       "      <td>...</td>\n",
       "    </tr>\n",
       "    <tr>\n",
       "      <th>95</th>\n",
       "      <td>65.30</td>\n",
       "      <td>68.88</td>\n",
       "      <td>63.72</td>\n",
       "      <td>60.34</td>\n",
       "    </tr>\n",
       "    <tr>\n",
       "      <th>96</th>\n",
       "      <td>65.00</td>\n",
       "      <td>68.85</td>\n",
       "      <td>63.69</td>\n",
       "      <td>60.34</td>\n",
       "    </tr>\n",
       "    <tr>\n",
       "      <th>97</th>\n",
       "      <td>64.99</td>\n",
       "      <td>68.78</td>\n",
       "      <td>63.47</td>\n",
       "      <td>60.31</td>\n",
       "    </tr>\n",
       "    <tr>\n",
       "      <th>98</th>\n",
       "      <td>64.97</td>\n",
       "      <td>68.68</td>\n",
       "      <td>63.40</td>\n",
       "      <td>60.26</td>\n",
       "    </tr>\n",
       "    <tr>\n",
       "      <th>99</th>\n",
       "      <td>64.97</td>\n",
       "      <td>68.67</td>\n",
       "      <td>63.40</td>\n",
       "      <td>60.20</td>\n",
       "    </tr>\n",
       "  </tbody>\n",
       "</table>\n",
       "<p>100 rows × 4 columns</p>\n",
       "</div>"
      ],
      "text/plain": [
       "     1990   2000   2010   2020\n",
       "0   83.67  79.75  76.08  74.50\n",
       "1   79.19  79.57  75.94  73.86\n",
       "2   78.97  78.76  74.00  71.84\n",
       "3   77.84  78.75  73.72  71.36\n",
       "4   77.57  77.96  72.86  71.29\n",
       "..    ...    ...    ...    ...\n",
       "95  65.30  68.88  63.72  60.34\n",
       "96  65.00  68.85  63.69  60.34\n",
       "97  64.99  68.78  63.47  60.31\n",
       "98  64.97  68.68  63.40  60.26\n",
       "99  64.97  68.67  63.40  60.20\n",
       "\n",
       "[100 rows x 4 columns]"
      ]
     },
     "execution_count": 37,
     "metadata": {},
     "output_type": "execute_result"
    }
   ],
   "source": [
    "#arrange as data frame\n",
    "historic_accuracy_df_arr = historic_accuracy_df\n",
    "historic_accuracy_df_arr.columns = ['1990', '2000', '2010','2020']\n",
    "#https://note.nkmk.me/en/python-pandas-t-transpose/\n",
    "historic_accuracy_df_arr"
   ]
  },
  {
   "cell_type": "code",
   "execution_count": 38,
   "id": "312482c0",
   "metadata": {},
   "outputs": [],
   "source": [
    "accuracy_1990 = historic_accuracy_df_arr.iloc[:,0]\n",
    "accuracy_2000 = historic_accuracy_df_arr.iloc[:,1]\n",
    "accuracy_2010 = historic_accuracy_df_arr.iloc[:,2]\n",
    "accuracy_2020 = historic_accuracy_df_arr.iloc[:,3]"
   ]
  },
  {
   "cell_type": "code",
   "execution_count": 39,
   "id": "b6c79090",
   "metadata": {},
   "outputs": [],
   "source": [
    "mean_accuracy_1990 = statistics.mean(accuracy_1990)\n",
    "mean_accuracy_2000 = statistics.mean(accuracy_2000)\n",
    "mean_accuracy_2010 = statistics.mean(accuracy_2010)\n",
    "mean_accuracy_2020 = statistics.mean(accuracy_2020)"
   ]
  },
  {
   "cell_type": "code",
   "execution_count": 40,
   "id": "9d920872",
   "metadata": {},
   "outputs": [],
   "source": [
    "accuracy_increase = ([mean_accuracy_2020 - mean_accuracy_2010],[mean_accuracy_2010 - mean_accuracy_2000], [mean_accuracy_2000 - mean_accuracy_1990] )"
   ]
  },
  {
   "cell_type": "code",
   "execution_count": 41,
   "id": "da402938",
   "metadata": {},
   "outputs": [
    {
     "data": {
      "text/plain": [
       "-1.7376000000000005"
      ]
     },
     "execution_count": 41,
     "metadata": {},
     "output_type": "execute_result"
    }
   ],
   "source": [
    "mean_accuracy_increase = np.mean(accuracy_increase)\n",
    "mean_accuracy_increase"
   ]
  },
  {
   "cell_type": "code",
   "execution_count": 42,
   "id": "9d74e319",
   "metadata": {},
   "outputs": [],
   "source": [
    "std_accuracy_increase = np.std(accuracy_increase)"
   ]
  },
  {
   "cell_type": "code",
   "execution_count": 43,
   "id": "989016a5",
   "metadata": {},
   "outputs": [
    {
     "data": {
      "text/plain": [
       "62.5958"
      ]
     },
     "execution_count": 43,
     "metadata": {},
     "output_type": "execute_result"
    }
   ],
   "source": [
    "mean_accuracy_2030 = (mean_accuracy_2020 + mean_accuracy_increase)\n",
    "mean_accuracy_2030"
   ]
  },
  {
   "cell_type": "code",
   "execution_count": null,
   "id": "23bba708",
   "metadata": {},
   "outputs": [],
   "source": []
  },
  {
   "cell_type": "code",
   "execution_count": 44,
   "id": "f14fd791",
   "metadata": {},
   "outputs": [],
   "source": [
    "from scipy.stats import rayleigh"
   ]
  },
  {
   "cell_type": "markdown",
   "id": "c58368d5",
   "metadata": {},
   "source": [
    "# https://www.kite.com/python/answers/how-to-convert-a-dictionary-to-a-numpy-array-in-python \n",
    "# use this to put the scale factor in\n",
    "#accuray_list_data = list(accuracy_list.items())\n",
    "#accuray_list_array = np.array(accuray_list_data)\n",
    "#accuray_list_array\n",
    "accuracy_list"
   ]
  },
  {
   "cell_type": "code",
   "execution_count": 45,
   "id": "a316ee1c",
   "metadata": {},
   "outputs": [
    {
     "data": {
      "image/png": "[encoded data removed]",
      "text/plain": [
       "<Figure size 432x288 with 1 Axes>"
      ]
     },
     "metadata": {
      "needs_background": "light"
     },
     "output_type": "display_data"
    }
   ],
   "source": [
    "#https://docs.scipy.org/doc/scipy/reference/generated/scipy.stats.rayleigh.html\n",
    "accuracy_2030 = rayleigh.rvs(loc=51.7224, scale=6.506613280990041, size=250, random_state=None) # use the mean value determined for the loc and the scale is determined using fitter\n",
    "plt.hist(accuracy_2030, bins=30)\n",
    "\n",
    "plt.show()"
   ]
  },
  {
   "cell_type": "code",
   "execution_count": null,
   "id": "8f0d1a02",
   "metadata": {},
   "outputs": [],
   "source": []
  },
  {
   "cell_type": "code",
   "execution_count": null,
   "id": "1600cf90",
   "metadata": {},
   "outputs": [],
   "source": []
  },
  {
   "cell_type": "code",
   "execution_count": null,
   "id": "fd2cdac0",
   "metadata": {},
   "outputs": [],
   "source": []
  },
  {
   "cell_type": "markdown",
   "id": "e7e1fd8f",
   "metadata": {},
   "source": [
    "### GIR"
   ]
  },
  {
   "cell_type": "code",
   "execution_count": 46,
   "id": "f9132cfd",
   "metadata": {},
   "outputs": [],
   "source": [
    "historic_gir_df = pd.read_csv('data\\historic_gir.csv')"
   ]
  },
  {
   "cell_type": "code",
   "execution_count": 47,
   "id": "7f273bbf",
   "metadata": {},
   "outputs": [
    {
     "data": {
      "text/html": [
       "<div>\n",
       "<style scoped>\n",
       "    .dataframe tbody tr th:only-of-type {\n",
       "        vertical-align: middle;\n",
       "    }\n",
       "\n",
       "    .dataframe tbody tr th {\n",
       "        vertical-align: top;\n",
       "    }\n",
       "\n",
       "    .dataframe thead th {\n",
       "        text-align: right;\n",
       "    }\n",
       "</style>\n",
       "<table border=\"1\" class=\"dataframe\">\n",
       "  <thead>\n",
       "    <tr style=\"text-align: right;\">\n",
       "      <th></th>\n",
       "      <th>1990</th>\n",
       "      <th>2000</th>\n",
       "      <th>2010</th>\n",
       "      <th>2020</th>\n",
       "    </tr>\n",
       "  </thead>\n",
       "  <tbody>\n",
       "    <tr>\n",
       "      <th>0</th>\n",
       "      <td>70.91</td>\n",
       "      <td>75.15</td>\n",
       "      <td>72.49</td>\n",
       "      <td>74.22</td>\n",
       "    </tr>\n",
       "    <tr>\n",
       "      <th>1</th>\n",
       "      <td>70.85</td>\n",
       "      <td>72.34</td>\n",
       "      <td>71.96</td>\n",
       "      <td>72.54</td>\n",
       "    </tr>\n",
       "    <tr>\n",
       "      <th>2</th>\n",
       "      <td>70.22</td>\n",
       "      <td>71.86</td>\n",
       "      <td>71.95</td>\n",
       "      <td>72.10</td>\n",
       "    </tr>\n",
       "    <tr>\n",
       "      <th>3</th>\n",
       "      <td>70.06</td>\n",
       "      <td>71.20</td>\n",
       "      <td>71.74</td>\n",
       "      <td>71.70</td>\n",
       "    </tr>\n",
       "    <tr>\n",
       "      <th>4</th>\n",
       "      <td>70.00</td>\n",
       "      <td>71.13</td>\n",
       "      <td>71.43</td>\n",
       "      <td>71.69</td>\n",
       "    </tr>\n",
       "    <tr>\n",
       "      <th>...</th>\n",
       "      <td>...</td>\n",
       "      <td>...</td>\n",
       "      <td>...</td>\n",
       "      <td>...</td>\n",
       "    </tr>\n",
       "    <tr>\n",
       "      <th>95</th>\n",
       "      <td>64.43</td>\n",
       "      <td>65.91</td>\n",
       "      <td>66.86</td>\n",
       "      <td>66.97</td>\n",
       "    </tr>\n",
       "    <tr>\n",
       "      <th>96</th>\n",
       "      <td>64.42</td>\n",
       "      <td>65.86</td>\n",
       "      <td>66.81</td>\n",
       "      <td>66.97</td>\n",
       "    </tr>\n",
       "    <tr>\n",
       "      <th>97</th>\n",
       "      <td>64.40</td>\n",
       "      <td>65.83</td>\n",
       "      <td>66.78</td>\n",
       "      <td>66.95</td>\n",
       "    </tr>\n",
       "    <tr>\n",
       "      <th>98</th>\n",
       "      <td>64.29</td>\n",
       "      <td>65.82</td>\n",
       "      <td>66.77</td>\n",
       "      <td>66.95</td>\n",
       "    </tr>\n",
       "    <tr>\n",
       "      <th>99</th>\n",
       "      <td>64.14</td>\n",
       "      <td>65.82</td>\n",
       "      <td>66.75</td>\n",
       "      <td>66.93</td>\n",
       "    </tr>\n",
       "  </tbody>\n",
       "</table>\n",
       "<p>100 rows × 4 columns</p>\n",
       "</div>"
      ],
      "text/plain": [
       "     1990   2000   2010   2020\n",
       "0   70.91  75.15  72.49  74.22\n",
       "1   70.85  72.34  71.96  72.54\n",
       "2   70.22  71.86  71.95  72.10\n",
       "3   70.06  71.20  71.74  71.70\n",
       "4   70.00  71.13  71.43  71.69\n",
       "..    ...    ...    ...    ...\n",
       "95  64.43  65.91  66.86  66.97\n",
       "96  64.42  65.86  66.81  66.97\n",
       "97  64.40  65.83  66.78  66.95\n",
       "98  64.29  65.82  66.77  66.95\n",
       "99  64.14  65.82  66.75  66.93\n",
       "\n",
       "[100 rows x 4 columns]"
      ]
     },
     "execution_count": 47,
     "metadata": {},
     "output_type": "execute_result"
    }
   ],
   "source": [
    "#arrange as data frame\n",
    "historic_gir_df_arr = historic_gir_df\n",
    "historic_gir_df_arr.columns = ['1990', '2000', '2010','2020']\n",
    "#https://note.nkmk.me/en/python-pandas-t-transpose/\n",
    "historic_gir_df_arr"
   ]
  },
  {
   "cell_type": "code",
   "execution_count": 48,
   "id": "7088a0e2",
   "metadata": {},
   "outputs": [],
   "source": [
    "gir_1990 = historic_gir_df_arr.iloc[:,0]\n",
    "gir_2000 = historic_gir_df_arr.iloc[:,1]\n",
    "gir_2010 = historic_gir_df_arr.iloc[:,2]\n",
    "gir_2020 = historic_gir_df_arr.iloc[:,3]"
   ]
  },
  {
   "cell_type": "code",
   "execution_count": 49,
   "id": "b9018382",
   "metadata": {},
   "outputs": [],
   "source": [
    "mean_gir_1990 = statistics.mean(gir_1990)\n",
    "mean_gir_2000 = statistics.mean(gir_2000)\n",
    "mean_gir_2010 = statistics.mean(gir_2010)\n",
    "mean_gir_2020 = statistics.mean(gir_2020)"
   ]
  },
  {
   "cell_type": "code",
   "execution_count": 50,
   "id": "f976e2ab",
   "metadata": {},
   "outputs": [],
   "source": [
    "gir_increase = ([mean_gir_2020 - mean_gir_2010],[mean_gir_2010 - mean_gir_2000], [mean_gir_2000 - mean_gir_1990] )"
   ]
  },
  {
   "cell_type": "code",
   "execution_count": 51,
   "id": "f880377b",
   "metadata": {},
   "outputs": [
    {
     "data": {
      "text/plain": [
       "0.854000000000004"
      ]
     },
     "execution_count": 51,
     "metadata": {},
     "output_type": "execute_result"
    }
   ],
   "source": [
    "mean_gir_increase = np.mean(gir_increase)\n",
    "mean_gir_increase"
   ]
  },
  {
   "cell_type": "code",
   "execution_count": 52,
   "id": "ad735032",
   "metadata": {},
   "outputs": [],
   "source": [
    "std_gir_increase = np.std(gir_increase)"
   ]
  },
  {
   "cell_type": "code",
   "execution_count": 53,
   "id": "6a3875a5",
   "metadata": {},
   "outputs": [
    {
     "data": {
      "text/plain": [
       "69.8079"
      ]
     },
     "execution_count": 53,
     "metadata": {},
     "output_type": "execute_result"
    }
   ],
   "source": [
    "mean_gir_2030 = (mean_gir_2020 + mean_gir_increase)\n",
    "mean_gir_2030"
   ]
  },
  {
   "cell_type": "code",
   "execution_count": null,
   "id": "4ed3d542",
   "metadata": {},
   "outputs": [],
   "source": []
  },
  {
   "cell_type": "code",
   "execution_count": 54,
   "id": "49e26cb5",
   "metadata": {},
   "outputs": [],
   "source": [
    "from scipy.stats import norm"
   ]
  },
  {
   "cell_type": "code",
   "execution_count": 55,
   "id": "7382e2bd",
   "metadata": {},
   "outputs": [
    {
     "data": {
      "text/plain": [
       "{'norm': {'loc': 66.57350000000001, 'scale': 2.4367405996535614}}"
      ]
     },
     "execution_count": 55,
     "metadata": {},
     "output_type": "execute_result"
    }
   ],
   "source": [
    "gir_list"
   ]
  },
  {
   "cell_type": "code",
   "execution_count": 56,
   "id": "436ef922",
   "metadata": {},
   "outputs": [
    {
     "data": {
      "image/png": "[encoded data removed]",
      "text/plain": [
       "<Figure size 432x288 with 1 Axes>"
      ]
     },
     "metadata": {
      "needs_background": "light"
     },
     "output_type": "display_data"
    }
   ],
   "source": [
    "gir_2030 = norm.rvs(loc=67.154, scale=2.4367405996535614, size=250, random_state=None) # use the mean value determined for the loc and the scale is determined using fitter\n",
    "plt.hist(gir_2030, bins=30)\n",
    "\n",
    "plt.show()"
   ]
  },
  {
   "cell_type": "code",
   "execution_count": null,
   "id": "84c9dc58",
   "metadata": {},
   "outputs": [],
   "source": []
  },
  {
   "cell_type": "markdown",
   "id": "d3812baf",
   "metadata": {},
   "source": [
    "### Birdies"
   ]
  },
  {
   "cell_type": "code",
   "execution_count": 57,
   "id": "7eec241a",
   "metadata": {},
   "outputs": [],
   "source": [
    "historic_birdies_df = pd.read_csv('data\\historic_birdies.csv')"
   ]
  },
  {
   "cell_type": "code",
   "execution_count": 58,
   "id": "a8c30cbe",
   "metadata": {},
   "outputs": [
    {
     "data": {
      "text/html": [
       "<div>\n",
       "<style scoped>\n",
       "    .dataframe tbody tr th:only-of-type {\n",
       "        vertical-align: middle;\n",
       "    }\n",
       "\n",
       "    .dataframe tbody tr th {\n",
       "        vertical-align: top;\n",
       "    }\n",
       "\n",
       "    .dataframe thead th {\n",
       "        text-align: right;\n",
       "    }\n",
       "</style>\n",
       "<table border=\"1\" class=\"dataframe\">\n",
       "  <thead>\n",
       "    <tr style=\"text-align: right;\">\n",
       "      <th></th>\n",
       "      <th>1990</th>\n",
       "      <th>2000</th>\n",
       "      <th>2010</th>\n",
       "      <th>2020</th>\n",
       "    </tr>\n",
       "  </thead>\n",
       "  <tbody>\n",
       "    <tr>\n",
       "      <th>0</th>\n",
       "      <td>3.88</td>\n",
       "      <td>4.92</td>\n",
       "      <td>4.06</td>\n",
       "      <td>4.67</td>\n",
       "    </tr>\n",
       "    <tr>\n",
       "      <th>1</th>\n",
       "      <td>3.84</td>\n",
       "      <td>4.26</td>\n",
       "      <td>4.03</td>\n",
       "      <td>4.55</td>\n",
       "    </tr>\n",
       "    <tr>\n",
       "      <th>2</th>\n",
       "      <td>3.82</td>\n",
       "      <td>4.22</td>\n",
       "      <td>4.02</td>\n",
       "      <td>4.55</td>\n",
       "    </tr>\n",
       "    <tr>\n",
       "      <th>3</th>\n",
       "      <td>3.76</td>\n",
       "      <td>4.21</td>\n",
       "      <td>4.01</td>\n",
       "      <td>4.42</td>\n",
       "    </tr>\n",
       "    <tr>\n",
       "      <th>4</th>\n",
       "      <td>3.76</td>\n",
       "      <td>4.08</td>\n",
       "      <td>4.00</td>\n",
       "      <td>4.38</td>\n",
       "    </tr>\n",
       "    <tr>\n",
       "      <th>...</th>\n",
       "      <td>...</td>\n",
       "      <td>...</td>\n",
       "      <td>...</td>\n",
       "      <td>...</td>\n",
       "    </tr>\n",
       "    <tr>\n",
       "      <th>187</th>\n",
       "      <td>2.61</td>\n",
       "      <td>2.88</td>\n",
       "      <td>2.95</td>\n",
       "      <td>3.20</td>\n",
       "    </tr>\n",
       "    <tr>\n",
       "      <th>188</th>\n",
       "      <td>2.59</td>\n",
       "      <td>2.80</td>\n",
       "      <td>2.88</td>\n",
       "      <td>3.20</td>\n",
       "    </tr>\n",
       "    <tr>\n",
       "      <th>189</th>\n",
       "      <td>2.58</td>\n",
       "      <td>2.77</td>\n",
       "      <td>2.82</td>\n",
       "      <td>3.18</td>\n",
       "    </tr>\n",
       "    <tr>\n",
       "      <th>190</th>\n",
       "      <td>2.29</td>\n",
       "      <td>2.76</td>\n",
       "      <td>2.80</td>\n",
       "      <td>3.04</td>\n",
       "    </tr>\n",
       "    <tr>\n",
       "      <th>191</th>\n",
       "      <td>2.05</td>\n",
       "      <td>2.76</td>\n",
       "      <td>2.79</td>\n",
       "      <td>2.98</td>\n",
       "    </tr>\n",
       "  </tbody>\n",
       "</table>\n",
       "<p>192 rows × 4 columns</p>\n",
       "</div>"
      ],
      "text/plain": [
       "     1990  2000  2010  2020\n",
       "0    3.88  4.92  4.06  4.67\n",
       "1    3.84  4.26  4.03  4.55\n",
       "2    3.82  4.22  4.02  4.55\n",
       "3    3.76  4.21  4.01  4.42\n",
       "4    3.76  4.08  4.00  4.38\n",
       "..    ...   ...   ...   ...\n",
       "187  2.61  2.88  2.95  3.20\n",
       "188  2.59  2.80  2.88  3.20\n",
       "189  2.58  2.77  2.82  3.18\n",
       "190  2.29  2.76  2.80  3.04\n",
       "191  2.05  2.76  2.79  2.98\n",
       "\n",
       "[192 rows x 4 columns]"
      ]
     },
     "execution_count": 58,
     "metadata": {},
     "output_type": "execute_result"
    }
   ],
   "source": [
    "#arrange as data frame\n",
    "historic_birdies_df_arr = historic_birdies_df\n",
    "historic_birdies_df_arr.columns = ['1990', '2000', '2010','2020']\n",
    "#https://note.nkmk.me/en/python-pandas-t-transpose/\n",
    "historic_birdies_df_arr"
   ]
  },
  {
   "cell_type": "code",
   "execution_count": 59,
   "id": "cba9d04a",
   "metadata": {},
   "outputs": [],
   "source": [
    "birdies_1990 = historic_birdies_df_arr.iloc[:,0]\n",
    "birdies_2000 = historic_birdies_df_arr.iloc[:,1]\n",
    "birdies_2010 = historic_birdies_df_arr.iloc[:,2]\n",
    "birdies_2020 = historic_birdies_df_arr.iloc[:,3]"
   ]
  },
  {
   "cell_type": "code",
   "execution_count": 60,
   "id": "b89d1cd6",
   "metadata": {},
   "outputs": [],
   "source": [
    "mean_birdies_1990 = statistics.mean(birdies_1990)\n",
    "mean_birdies_2000 = statistics.mean(birdies_2000)\n",
    "mean_birdies_2010 = statistics.mean(birdies_2010)\n",
    "mean_birdies_2020 = statistics.mean(birdies_2020)"
   ]
  },
  {
   "cell_type": "code",
   "execution_count": 61,
   "id": "f2f61bde",
   "metadata": {},
   "outputs": [
    {
     "data": {
      "text/plain": [
       "0      3.88\n",
       "1      3.84\n",
       "2      3.82\n",
       "3      3.76\n",
       "4      3.76\n",
       "       ... \n",
       "187    2.61\n",
       "188    2.59\n",
       "189    2.58\n",
       "190    2.29\n",
       "191    2.05\n",
       "Name: 1990, Length: 192, dtype: float64"
      ]
     },
     "execution_count": 61,
     "metadata": {},
     "output_type": "execute_result"
    }
   ],
   "source": [
    "birdies_1990"
   ]
  },
  {
   "cell_type": "code",
   "execution_count": null,
   "id": "3c402ebd",
   "metadata": {},
   "outputs": [],
   "source": []
  },
  {
   "cell_type": "code",
   "execution_count": null,
   "id": "3a46cd18",
   "metadata": {},
   "outputs": [],
   "source": []
  },
  {
   "cell_type": "code",
   "execution_count": null,
   "id": "44520654",
   "metadata": {},
   "outputs": [],
   "source": []
  },
  {
   "cell_type": "code",
   "execution_count": 62,
   "id": "144c94cb",
   "metadata": {},
   "outputs": [],
   "source": [
    "birdies_increase = ([mean_birdies_2020 - mean_birdies_2010],[mean_birdies_2010 - mean_birdies_2000], [mean_birdies_2000 - mean_birdies_1990] )"
   ]
  },
  {
   "cell_type": "code",
   "execution_count": 63,
   "id": "2185eb28",
   "metadata": {},
   "outputs": [
    {
     "data": {
      "text/plain": [
       "0.20939236111111104"
      ]
     },
     "execution_count": 63,
     "metadata": {},
     "output_type": "execute_result"
    }
   ],
   "source": [
    "mean_birdies_increase = np.mean(birdies_increase)\n",
    "mean_birdies_increase "
   ]
  },
  {
   "cell_type": "code",
   "execution_count": 64,
   "id": "fc59e1b2",
   "metadata": {},
   "outputs": [],
   "source": [
    "std_birdies_increase = np.std(birdies_increase)"
   ]
  },
  {
   "cell_type": "code",
   "execution_count": 65,
   "id": "ef40cd1d",
   "metadata": {},
   "outputs": [
    {
     "data": {
      "text/plain": [
       "3.9966840277777775"
      ]
     },
     "execution_count": 65,
     "metadata": {},
     "output_type": "execute_result"
    }
   ],
   "source": [
    "mean_birdies_2030 = (mean_birdies_2020 + mean_birdies_increase)\n",
    "mean_birdies_2030"
   ]
  },
  {
   "cell_type": "code",
   "execution_count": 66,
   "id": "4a6e72c2",
   "metadata": {},
   "outputs": [
    {
     "data": {
      "text/plain": [
       "{'lognorm': {'s': 0.021071276169458617,\n",
       "  'loc': -9.747395651590328,\n",
       "  'scale': 13.661062712682266}}"
      ]
     },
     "execution_count": 66,
     "metadata": {},
     "output_type": "execute_result"
    }
   ],
   "source": [
    "birdies_list"
   ]
  },
  {
   "cell_type": "code",
   "execution_count": 67,
   "id": "f1cec18d",
   "metadata": {},
   "outputs": [
    {
     "data": {
      "image/png": "[encoded data removed]",
      "text/plain": [
       "<Figure size 432x288 with 1 Axes>"
      ]
     },
     "metadata": {
      "needs_background": "light"
     },
     "output_type": "display_data"
    }
   ],
   "source": [
    "s=0.021071276169458617\n",
    "birdies_2030 = lognorm.rvs(s, loc=-9.5384, scale=13.661062712682266, size=250) # use the mean value determined for the loc and the scale is determined using fitter\n",
    "plt.hist(birdies_2030, bins=30)\n",
    "\n",
    "plt.show()\n"
   ]
  },
  {
   "cell_type": "code",
   "execution_count": null,
   "id": "bb01e760",
   "metadata": {},
   "outputs": [],
   "source": []
  },
  {
   "cell_type": "code",
   "execution_count": 68,
   "id": "6c3e6f06",
   "metadata": {},
   "outputs": [],
   "source": [
    "df_distance_2030 = pd.DataFrame(distance_2030)\n",
    "df_accuracy_2030 = pd.DataFrame(accuracy_2030)\n",
    "df_gir_2030 = pd.DataFrame(gir_2030)\n",
    "df_birdies_2030 = pd.DataFrame(birdies_2030)"
   ]
  },
  {
   "cell_type": "code",
   "execution_count": 69,
   "id": "6260bf57",
   "metadata": {},
   "outputs": [],
   "source": [
    "total_2030 = pd.concat([df_distance_2030, df_accuracy_2030, df_gir_2030, df_birdies_2030], axis=1) #https://pandas.pydata.org/pandas-docs/stable/user_guide/merging.html"
   ]
  },
  {
   "cell_type": "code",
   "execution_count": 70,
   "id": "f08fc225",
   "metadata": {},
   "outputs": [
    {
     "name": "stdout",
     "output_type": "stream",
     "text": [
      "     Driving distance (yds)  Driving accuracy (%)    GIR (%)  \\\n",
      "0                296.052152             56.204060  68.723435   \n",
      "1                300.633252             66.962060  67.335299   \n",
      "2                313.099487             63.945341  68.222273   \n",
      "3                298.593146             61.972997  69.503003   \n",
      "4                311.080532             60.980454  65.789383   \n",
      "..                      ...                   ...        ...   \n",
      "245              308.206557             61.269527  63.245022   \n",
      "246              308.919383             57.329410  63.471190   \n",
      "247              313.362536             60.169384  64.770744   \n",
      "248              312.490298             54.448090  67.009548   \n",
      "249              298.271673             68.156825  63.651378   \n",
      "\n",
      "     Birdie average (%)  \n",
      "0              4.306226  \n",
      "1              4.035831  \n",
      "2              4.218390  \n",
      "3              4.478941  \n",
      "4              4.326299  \n",
      "..                  ...  \n",
      "245            3.738079  \n",
      "246            3.703642  \n",
      "247            4.024322  \n",
      "248            4.837202  \n",
      "249            4.343146  \n",
      "\n",
      "[250 rows x 4 columns]\n"
     ]
    }
   ],
   "source": [
    "total_2030.columns = ['Driving distance (yds)', 'Driving accuracy (%)', 'GIR (%)', 'Birdie average (%)']\n",
    "print(total_2030)"
   ]
  },
  {
   "cell_type": "code",
   "execution_count": 71,
   "id": "55836d11",
   "metadata": {},
   "outputs": [
    {
     "name": "stdout",
     "output_type": "stream",
     "text": [
      "                               0           1           2           3    \\\n",
      "Driving distance (yds)  296.052152  300.633252  313.099487  298.593146   \n",
      "Driving accuracy (%)     56.204060   66.962060   63.945341   61.972997   \n",
      "GIR (%)                  68.723435   67.335299   68.222273   69.503003   \n",
      "Birdie average (%)        4.306226    4.035831    4.218390    4.478941   \n",
      "\n",
      "                               4           5           6           7    \\\n",
      "Driving distance (yds)  311.080532  298.467554  309.833971  310.730038   \n",
      "Driving accuracy (%)     60.980454   62.511687   57.847060   60.759939   \n",
      "GIR (%)                  65.789383   66.974656   62.848575   65.441617   \n",
      "Birdie average (%)        4.326299    4.730540    4.212310    4.274832   \n",
      "\n",
      "                               8           9    ...         240         241  \\\n",
      "Driving distance (yds)  319.029832  298.641816  ...  311.331774  301.682431   \n",
      "Driving accuracy (%)     75.433315   61.716616  ...   57.158804   65.714992   \n",
      "GIR (%)                  66.882687   66.743849  ...   66.435501   64.783011   \n",
      "Birdie average (%)        4.169316    4.259326  ...    3.705854    4.169280   \n",
      "\n",
      "                               242         243         244         245  \\\n",
      "Driving distance (yds)  303.280171  311.811825  309.466638  308.206557   \n",
      "Driving accuracy (%)     55.800576   57.107405   60.662791   61.269527   \n",
      "GIR (%)                  68.213595   66.508434   66.824664   63.245022   \n",
      "Birdie average (%)        4.176568    4.301865    3.745333    3.738079   \n",
      "\n",
      "                               246         247         248         249  \n",
      "Driving distance (yds)  308.919383  313.362536  312.490298  298.271673  \n",
      "Driving accuracy (%)     57.329410   60.169384   54.448090   68.156825  \n",
      "GIR (%)                  63.471190   64.770744   67.009548   63.651378  \n",
      "Birdie average (%)        3.703642    4.024322    4.837202    4.343146  \n",
      "\n",
      "[4 rows x 250 columns]\n"
     ]
    }
   ],
   "source": [
    "total_2030_t = total_2030.T\n",
    "print(total_2030_t)\n",
    "#https://note.nkmk.me/en/python-pandas-t-transpose/"
   ]
  },
  {
   "cell_type": "code",
   "execution_count": 72,
   "id": "d6a21e98",
   "metadata": {},
   "outputs": [
    {
     "data": {
      "text/plain": [
       "<seaborn.axisgrid.PairGrid at 0x1956a062a90>"
      ]
     },
     "execution_count": 72,
     "metadata": {},
     "output_type": "execute_result"
    },
    {
     "data": {
      "image/png": "[encoded data removed]",
      "text/plain": [
       "<Figure size 720x720 with 20 Axes>"
      ]
     },
     "metadata": {
      "needs_background": "light"
     },
     "output_type": "display_data"
    }
   ],
   "source": [
    "sns.pairplot(total_2030, kind=\"reg\", plot_kws={'line_kws':{'color':'red'}})\n",
    "# https://stackoverflow.com/questions/50722972/change-the-regression-line-colour-of-seaborns-pairplot"
   ]
  },
  {
   "cell_type": "code",
   "execution_count": null,
   "id": "d742f06d",
   "metadata": {},
   "outputs": [],
   "source": []
  },
  {
   "cell_type": "markdown",
   "id": "6a56e8b1",
   "metadata": {},
   "source": [
    "## Learnings"
   ]
  },
  {
   "cell_type": "markdown",
   "id": "de732272",
   "metadata": {},
   "source": [
    "- manual process (could have automated to collect data - expressions \n",
    "- more years provide more data\n",
    "- more players\n",
    "- more years distributions"
   ]
  },
  {
   "cell_type": "code",
   "execution_count": null,
   "id": "100901e9",
   "metadata": {},
   "outputs": [],
   "source": []
  },
  {
   "cell_type": "code",
   "execution_count": null,
   "id": "2887b396",
   "metadata": {},
   "outputs": [],
   "source": []
  },
  {
   "cell_type": "code",
   "execution_count": null,
   "id": "980ea1f4",
   "metadata": {},
   "outputs": [],
   "source": []
  },
  {
   "cell_type": "code",
   "execution_count": null,
   "id": "79180d50",
   "metadata": {},
   "outputs": [],
   "source": []
  },
  {
   "cell_type": "code",
   "execution_count": null,
   "id": "de4653bd",
   "metadata": {},
   "outputs": [],
   "source": []
  },
  {
   "cell_type": "code",
   "execution_count": null,
   "id": "0001bf25",
   "metadata": {},
   "outputs": [],
   "source": []
  },
  {
   "cell_type": "code",
   "execution_count": null,
   "id": "d7177eb4",
   "metadata": {},
   "outputs": [],
   "source": []
  },
  {
   "cell_type": "code",
   "execution_count": null,
   "id": "2f19d800",
   "metadata": {},
   "outputs": [],
   "source": []
  },
  {
   "cell_type": "code",
   "execution_count": null,
   "id": "eae18752",
   "metadata": {},
   "outputs": [],
   "source": []
  },
  {
   "cell_type": "code",
   "execution_count": null,
   "id": "1a341c83",
   "metadata": {},
   "outputs": [],
   "source": []
  },
  {
   "cell_type": "code",
   "execution_count": null,
   "id": "38c9b23a",
   "metadata": {},
   "outputs": [],
   "source": []
  }
 ],
 "metadata": {
  "kernelspec": {
   "display_name": "Python 3 (ipykernel)",
   "language": "python",
   "name": "python3"
  },
  "language_info": {
   "codemirror_mode": {
    "name": "ipython",
    "version": 3
   },
   "file_extension": ".py",
   "mimetype": "text/x-python",
   "name": "python",
   "nbconvert_exporter": "python",
   "pygments_lexer": "ipython3",
   "version": "3.8.11"
  }
 },
 "nbformat": 4,
 "nbformat_minor": 5
}
