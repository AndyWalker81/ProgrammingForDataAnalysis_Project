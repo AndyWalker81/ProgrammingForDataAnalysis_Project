{
 "cells": [
  {
   "cell_type": "markdown",
   "id": "ed1322c0",
   "metadata": {},
   "source": [
    "# Programming Project Title Here"
   ]
  },
  {
   "cell_type": "markdown",
   "id": "71d3f4b8",
   "metadata": {},
   "source": [
    "## Programming for Data Analysis Project "
   ]
  },
  {
   "cell_type": "markdown",
   "id": "4f790274",
   "metadata": {},
   "source": [
    "### Andrew Walker - G00398788@gmit.ie"
   ]
  },
  {
   "cell_type": "code",
   "execution_count": null,
   "id": "877cddd7",
   "metadata": {},
   "outputs": [],
   "source": []
  },
  {
   "cell_type": "code",
   "execution_count": null,
   "id": "e5b30dac",
   "metadata": {},
   "outputs": [],
   "source": []
  },
  {
   "cell_type": "markdown",
   "id": "e482805e",
   "metadata": {},
   "source": [
    "https://www.usga.org/content/dam/usga/pdf/RSI/distance-insights-2021-docs/2020%20Distance%20Report%2026-01-2021.pdf\n",
    "\n",
    "https://www.usga.org/content/dam/usga/pdf/2020/distance-insights/DIPR-FINAL-2020-usga.pdf"
   ]
  },
  {
   "cell_type": "markdown",
   "id": "a8353d3a",
   "metadata": {},
   "source": [
    "https://www.pgatour.com/stats/stat.101.y2021.html"
   ]
  },
  {
   "cell_type": "markdown",
   "id": "8271c952",
   "metadata": {},
   "source": [
    "1990 (no major innovations between 1980 and 1990), 2000, 2010, 2020 - simulate data for 2030\n",
    "Driving distance avg \n",
    "Driving accuracy\n",
    "Scoring average (actual)\n",
    "GIR"
   ]
  },
  {
   "cell_type": "code",
   "execution_count": 1,
   "id": "512e5596",
   "metadata": {},
   "outputs": [],
   "source": [
    "# Regular expressions.\n",
    "import re\n",
    "\n",
    "# Convenient HTTP requests.\n",
    "import requests as rq\n",
    "\n",
    "# Dates and times\n",
    "import datetime as dt\n",
    "\n",
    "# Data frames\n",
    "import pandas as pd\n",
    "\n",
    "# FOr downloading\n",
    "import urllib.request as urlrq\n",
    "\n",
    "#numpy\n",
    "import numpy as np\n",
    "\n",
    "# pyplot\n",
    "import matplotlib.pyplot as plt\n",
    "\n",
    "# seaborn\n",
    "import seaborn as sns"
   ]
  },
  {
   "cell_type": "markdown",
   "id": "f8151926",
   "metadata": {},
   "source": [
    "### Driving distance\n",
    "\n",
    "https://www.pgatour.com/stats/stat.101.y2021.html"
   ]
  },
  {
   "cell_type": "code",
   "execution_count": 2,
   "id": "3853a3d5",
   "metadata": {},
   "outputs": [
    {
     "data": {
      "text/plain": [
       "<Response [200]>"
      ]
     },
     "execution_count": 2,
     "metadata": {},
     "output_type": "execute_result"
    }
   ],
   "source": [
    "# Fetch the driving distance stats URL.\n",
    "resp = rq.get('https://www.pgatour.com/stats/stat.101.y2021.html')\n",
    "# Have a look\n",
    "resp\n",
    "\n"
   ]
  },
  {
   "cell_type": "code",
   "execution_count": 3,
   "id": "d5f0a813",
   "metadata": {},
   "outputs": [],
   "source": [
    "# get the current date and time\n",
    "now = dt.datetime.now()\n",
    "\n",
    "# format as a string\n",
    "nowstr = now.strftime('%Y%m%d_%H%M%S')"
   ]
  },
  {
   "cell_type": "code",
   "execution_count": 4,
   "id": "4bcaff20",
   "metadata": {},
   "outputs": [
    {
     "data": {
      "text/plain": [
       "'data/driving_stats_csv_20211201_090118.html'"
      ]
     },
     "execution_count": 4,
     "metadata": {},
     "output_type": "execute_result"
    }
   ],
   "source": [
    "# Create a file path for the original data\n",
    "path = 'data/driving_stats_csv_' + nowstr + '.html'\n",
    "\n",
    "path"
   ]
  },
  {
   "cell_type": "code",
   "execution_count": 5,
   "id": "64fd74e9",
   "metadata": {},
   "outputs": [],
   "source": [
    "# Save the original html file\n",
    "with open(path, 'w') as f:\n",
    "    f.write(resp.text)\n",
    "\n"
   ]
  },
  {
   "cell_type": "code",
   "execution_count": 6,
   "id": "7e6b7411",
   "metadata": {},
   "outputs": [],
   "source": [
    "# Compile the regular expression for matching lines\n",
    "#re_course = re.compile(r'([A-Z]{2}[0-9]{3})(.*)')\n",
    "#re_rank = re.compile(r'([0-9]{3})(.*)')\n",
    "\n"
   ]
  },
  {
   "cell_type": "code",
   "execution_count": 7,
   "id": "c5784760",
   "metadata": {},
   "outputs": [],
   "source": [
    "#re_rank\n"
   ]
  },
  {
   "cell_type": "code",
   "execution_count": 8,
   "id": "cb5d5612",
   "metadata": {},
   "outputs": [],
   "source": [
    "\n",
    "\n",
    "# File path for the csv file\n",
    "path = 'data/driving_stats_csv_' + nowstr + '.csv'\n",
    "\n"
   ]
  },
  {
   "cell_type": "code",
   "execution_count": 9,
   "id": "bbb49958",
   "metadata": {},
   "outputs": [
    {
     "data": {
      "text/plain": [
       "'data/driving_stats_csv_20211201_090118.csv'"
      ]
     },
     "execution_count": 9,
     "metadata": {},
     "output_type": "execute_result"
    }
   ],
   "source": [
    "path"
   ]
  },
  {
   "cell_type": "code",
   "execution_count": null,
   "id": "812fbef3",
   "metadata": {},
   "outputs": [],
   "source": []
  },
  {
   "cell_type": "code",
   "execution_count": 15,
   "id": "9e00467f",
   "metadata": {},
   "outputs": [
    {
     "name": "stdout",
     "output_type": "stream",
     "text": [
      "     Driving Distance  Driving Accuracy   Scoring Average    GIR\n",
      "0               322.1              74.50            68.06  74.22\n",
      "1               322.0              73.86            68.76  72.54\n",
      "2               315.3              71.84            68.76  72.10\n",
      "3               314.0              71.36            68.80  71.70\n",
      "4               313.8              71.29            68.81  71.69\n",
      "5               312.8              69.87            68.94  71.55\n",
      "6               312.4              69.73            69.03  71.54\n",
      "7               312.0              69.57            69.07  71.54\n",
      "8               311.6              69.49            69.10  70.91\n",
      "9               311.0              69.28            69.13  70.87\n",
      "10              311.0              68.63            69.27  70.83\n",
      "11              310.2              68.44            69.41  70.80\n",
      "12              309.8              68.27            69.42  70.65\n",
      "13              309.6              68.27            69.42  70.63\n",
      "14              309.0              68.24            69.42  70.57\n",
      "15              308.9              67.84            69.55  70.51\n",
      "16              308.8              67.37            69.56  70.51\n",
      "17              308.5              67.31            69.56  70.31\n",
      "18              308.1              67.15            69.58  70.22\n",
      "19              308.0              67.08            69.59  70.21\n",
      "20              307.8              66.75            69.62  70.20\n",
      "21              307.6              66.71            69.64  70.18\n",
      "22              307.2              66.51            69.65  70.11\n",
      "23              307.1              66.44            69.66  70.07\n",
      "24              307.0              66.11            69.70  70.02\n",
      "25              306.6              65.88            69.72  69.98\n",
      "26              305.8              65.82            69.73  69.92\n",
      "27              305.7              65.80            69.77  69.66\n",
      "28              305.7              65.72            69.80  69.65\n",
      "29              305.4              65.65            69.81  69.63\n",
      "30              305.4              65.54            69.81  69.61\n",
      "31              305.1              65.40            69.81  69.58\n",
      "32              304.5              65.23            69.82  69.48\n",
      "33              304.4              64.98            69.83  69.44\n",
      "34              304.2              64.84            69.83  69.44\n",
      "35              303.8              64.69            69.89  69.44\n",
      "36              303.7              64.63            69.89  69.44\n",
      "37              303.6              64.58            69.90  69.31\n",
      "38              303.4              64.58            69.92  69.30\n",
      "39              303.1              64.53            69.93  69.27\n",
      "40              302.7              64.52            69.93  69.25\n",
      "41              302.5              64.48            69.93  69.07\n",
      "42              302.3              64.44            69.93  69.04\n",
      "43              302.3              64.41            69.93  69.03\n",
      "44              302.1              64.36            69.94  68.94\n",
      "45              302.1              64.24            69.95  68.92\n",
      "46              302.0              64.14            69.96  68.83\n",
      "47              302.0              63.86            69.97  68.78\n",
      "48              301.9              63.74            69.97  68.76\n",
      "49              301.9              63.74            69.98  68.74\n",
      "50              301.9              63.69            69.98  68.64\n",
      "51              301.8              63.60            70.00  68.56\n",
      "52              301.7              63.28            70.02  68.54\n",
      "53              301.7              63.24            70.02  68.47\n",
      "54              301.6              63.18            70.05  68.46\n",
      "55              301.6              63.11            70.05  68.43\n",
      "56              301.6              62.95            70.06  68.36\n",
      "57              301.6              62.84            70.06  68.36\n",
      "58              301.5              62.79            70.07  68.36\n",
      "59              301.5              62.76            70.09  68.31\n",
      "60              301.2              62.75            70.09  68.29\n",
      "61              301.1              62.74            70.10  68.25\n",
      "62              301.0              62.68            70.11  68.24\n",
      "63              301.0              62.62            70.11  68.20\n",
      "64              300.9              62.61            70.11  68.19\n",
      "65              300.9              62.55            70.11  68.14\n",
      "66              300.6              62.52            70.12  68.13\n",
      "67              300.6              62.52            70.12  68.11\n",
      "68              300.5              62.47            70.13  68.10\n",
      "69              300.3              62.27            70.13  68.03\n",
      "70              300.2              62.20            70.14  67.97\n",
      "71              300.1              62.19            70.14  67.96\n",
      "72              299.8              62.05            70.14  67.92\n",
      "73              299.7              62.02            70.15  67.91\n",
      "74              299.6              62.00            70.16  67.83\n",
      "75              299.4              61.94            70.17  67.78\n",
      "76              299.3              61.75            70.18  67.74\n",
      "77              299.3              61.73            70.19  67.70\n",
      "78              299.3              61.69            70.20  67.68\n",
      "79              299.3              61.60            70.21  67.68\n",
      "80              299.0              61.43            70.22  67.66\n",
      "81              298.7              61.33            70.23  67.63\n",
      "82              298.7              61.30            70.23  67.54\n",
      "83              298.4              61.24            70.24  67.46\n",
      "84              298.2              61.22            70.26  67.39\n",
      "85              298.2              61.17            70.26  67.33\n",
      "86              298.1              60.95            70.27  67.26\n",
      "87              298.1              60.80            70.27  67.24\n",
      "88              298.0              60.76            70.27  67.22\n",
      "89              297.8              60.74            70.28  67.17\n",
      "90              297.7              60.65            70.29  67.13\n",
      "91              297.6              60.63            70.31  67.13\n",
      "92              297.6              60.62            70.31  67.08\n",
      "93              297.5              60.58            70.31  67.07\n",
      "94              297.4              60.42            70.31  66.98\n",
      "95              297.4              60.34            70.31  66.97\n",
      "96              297.3              60.34            70.32  66.97\n",
      "97              297.3              60.31            70.32  66.95\n",
      "98              297.3              60.26            70.32  66.95\n",
      "99              297.2              60.20            70.32  66.93\n",
      "100             269.2                NaN              NaN    NaN\n",
      "101             296.3                NaN              NaN    NaN\n",
      "102             296.3                NaN              NaN    NaN\n",
      "103             295.9                NaN              NaN    NaN\n",
      "104             295.9                NaN              NaN    NaN\n",
      "105             295.8                NaN              NaN    NaN\n",
      "106             295.8                NaN              NaN    NaN\n",
      "107             295.6                NaN              NaN    NaN\n",
      "108             295.6                NaN              NaN    NaN\n",
      "109             295.4                NaN              NaN    NaN\n",
      "110             295.4                NaN              NaN    NaN\n",
      "111             294.1                NaN              NaN    NaN\n",
      "112             294.1                NaN              NaN    NaN\n",
      "113             294.0                NaN              NaN    NaN\n",
      "114             294.0                NaN              NaN    NaN\n",
      "115             293.9                NaN              NaN    NaN\n",
      "116             293.9                NaN              NaN    NaN\n",
      "117             293.8                NaN              NaN    NaN\n",
      "118             293.8                NaN              NaN    NaN\n",
      "119             293.5                NaN              NaN    NaN\n",
      "120             293.5                NaN              NaN    NaN\n",
      "121             293.2                NaN              NaN    NaN\n",
      "122             293.2                NaN              NaN    NaN\n",
      "123             292.5                NaN              NaN    NaN\n",
      "124             292.5                NaN              NaN    NaN\n",
      "125             292.5                NaN              NaN    NaN\n",
      "126             292.4                NaN              NaN    NaN\n",
      "127             292.4                NaN              NaN    NaN\n",
      "128             292.3                NaN              NaN    NaN\n",
      "129             292.3                NaN              NaN    NaN\n",
      "130             292.1                NaN              NaN    NaN\n",
      "131             292.1                NaN              NaN    NaN\n",
      "132             291.9                NaN              NaN    NaN\n",
      "133             291.9                NaN              NaN    NaN\n",
      "134             291.9                NaN              NaN    NaN\n",
      "135             291.7                NaN              NaN    NaN\n",
      "136             291.7                NaN              NaN    NaN\n",
      "137             291.2                NaN              NaN    NaN\n",
      "138             291.2                NaN              NaN    NaN\n",
      "139             290.5                NaN              NaN    NaN\n",
      "140             290.5                NaN              NaN    NaN\n",
      "141             290.4                NaN              NaN    NaN\n",
      "142             290.4                NaN              NaN    NaN\n",
      "143             290.0                NaN              NaN    NaN\n",
      "144             290.0                NaN              NaN    NaN\n",
      "145             309.4                NaN              NaN    NaN\n",
      "146             309.4                NaN              NaN    NaN\n",
      "147             289.2                NaN              NaN    NaN\n",
      "148             289.2                NaN              NaN    NaN\n",
      "149             288.1                NaN              NaN    NaN\n",
      "150             288.1                NaN              NaN    NaN\n",
      "151             286.7                NaN              NaN    NaN\n",
      "152             286.7                NaN              NaN    NaN\n",
      "153             309.0                NaN              NaN    NaN\n",
      "154             309.0                NaN              NaN    NaN\n",
      "155             305.5                NaN              NaN    NaN\n",
      "156             305.5                NaN              NaN    NaN\n",
      "157             305.3                NaN              NaN    NaN\n",
      "158             305.3                NaN              NaN    NaN\n",
      "159             304.6                NaN              NaN    NaN\n",
      "160             304.6                NaN              NaN    NaN\n",
      "161             303.9                NaN              NaN    NaN\n",
      "162             303.9                NaN              NaN    NaN\n",
      "163             303.0                NaN              NaN    NaN\n",
      "164             303.0                NaN              NaN    NaN\n",
      "165             302.9                NaN              NaN    NaN\n",
      "166             302.9                NaN              NaN    NaN\n",
      "167             300.8                NaN              NaN    NaN\n",
      "168             300.8                NaN              NaN    NaN\n",
      "169             299.9                NaN              NaN    NaN\n",
      "170             299.9                NaN              NaN    NaN\n",
      "171             299.9                NaN              NaN    NaN\n",
      "172             299.5                NaN              NaN    NaN\n",
      "173             299.5                NaN              NaN    NaN\n",
      "174             299.3                NaN              NaN    NaN\n",
      "175             299.3                NaN              NaN    NaN\n",
      "176             299.3                NaN              NaN    NaN\n",
      "177             299.0                NaN              NaN    NaN\n",
      "178             299.0                NaN              NaN    NaN\n",
      "179             298.5                NaN              NaN    NaN\n",
      "180             298.5                NaN              NaN    NaN\n",
      "181             298.4                NaN              NaN    NaN\n",
      "182             298.4                NaN              NaN    NaN\n",
      "183             298.4                NaN              NaN    NaN\n",
      "184             298.2                NaN              NaN    NaN\n",
      "185             298.2                NaN              NaN    NaN\n",
      "186             297.9                NaN              NaN    NaN\n",
      "187             297.9                NaN              NaN    NaN\n",
      "188             297.5                NaN              NaN    NaN\n",
      "189             297.5                NaN              NaN    NaN\n",
      "190             297.5                NaN              NaN    NaN\n",
      "191             297.5                NaN              NaN    NaN\n",
      "192             297.4                NaN              NaN    NaN\n",
      "193             297.4                NaN              NaN    NaN\n",
      "194             297.1                NaN              NaN    NaN\n",
      "195             297.1                NaN              NaN    NaN\n"
     ]
    }
   ],
   "source": [
    "df = pd.read_csv('data\\driving_stats.csv')\n",
    "\n",
    "print(df.to_string()) "
   ]
  },
  {
   "cell_type": "markdown",
   "id": "c5d6bee1",
   "metadata": {},
   "source": [
    "Name\n",
    "Driving distance avg (https://www.pgatour.com/content/pgatour/stats/stat.101.y2021.html)\n",
    "Driving accuracy % (https://www.pgatour.com/content/pgatour/stats/stat.102.y2021.html)\n",
    "GIR (https://www.pgatour.com/content/pgatour/stats/stat.103.y2021.eoff.t013.html)\n",
    "Fedex Cup Regular Season Standings (https://www.pgatour.com/content/pgatour/stats/stat.02394.y2021.html)"
   ]
  },
  {
   "cell_type": "code",
   "execution_count": 16,
   "id": "516095ba",
   "metadata": {},
   "outputs": [],
   "source": [
    "df_arr = df\n",
    "df_arr.columns = ['Driving distance avg (yds)','Driving accuracy (%)','Scoring avg (%)','GIR']\n",
    "#https://note.nkmk.me/en/python-pandas-t-transpose/"
   ]
  },
  {
   "cell_type": "code",
   "execution_count": 17,
   "id": "eb1d28bf",
   "metadata": {},
   "outputs": [
    {
     "data": {
      "text/html": [
       "<div>\n",
       "<style scoped>\n",
       "    .dataframe tbody tr th:only-of-type {\n",
       "        vertical-align: middle;\n",
       "    }\n",
       "\n",
       "    .dataframe tbody tr th {\n",
       "        vertical-align: top;\n",
       "    }\n",
       "\n",
       "    .dataframe thead th {\n",
       "        text-align: right;\n",
       "    }\n",
       "</style>\n",
       "<table border=\"1\" class=\"dataframe\">\n",
       "  <thead>\n",
       "    <tr style=\"text-align: right;\">\n",
       "      <th></th>\n",
       "      <th>Driving distance avg (yds)</th>\n",
       "      <th>Driving accuracy (%)</th>\n",
       "      <th>Scoring avg (%)</th>\n",
       "      <th>GIR</th>\n",
       "    </tr>\n",
       "  </thead>\n",
       "  <tbody>\n",
       "    <tr>\n",
       "      <th>0</th>\n",
       "      <td>322.1</td>\n",
       "      <td>74.50</td>\n",
       "      <td>68.06</td>\n",
       "      <td>74.22</td>\n",
       "    </tr>\n",
       "    <tr>\n",
       "      <th>1</th>\n",
       "      <td>322.0</td>\n",
       "      <td>73.86</td>\n",
       "      <td>68.76</td>\n",
       "      <td>72.54</td>\n",
       "    </tr>\n",
       "    <tr>\n",
       "      <th>2</th>\n",
       "      <td>315.3</td>\n",
       "      <td>71.84</td>\n",
       "      <td>68.76</td>\n",
       "      <td>72.10</td>\n",
       "    </tr>\n",
       "    <tr>\n",
       "      <th>3</th>\n",
       "      <td>314.0</td>\n",
       "      <td>71.36</td>\n",
       "      <td>68.80</td>\n",
       "      <td>71.70</td>\n",
       "    </tr>\n",
       "    <tr>\n",
       "      <th>4</th>\n",
       "      <td>313.8</td>\n",
       "      <td>71.29</td>\n",
       "      <td>68.81</td>\n",
       "      <td>71.69</td>\n",
       "    </tr>\n",
       "    <tr>\n",
       "      <th>...</th>\n",
       "      <td>...</td>\n",
       "      <td>...</td>\n",
       "      <td>...</td>\n",
       "      <td>...</td>\n",
       "    </tr>\n",
       "    <tr>\n",
       "      <th>191</th>\n",
       "      <td>297.5</td>\n",
       "      <td>NaN</td>\n",
       "      <td>NaN</td>\n",
       "      <td>NaN</td>\n",
       "    </tr>\n",
       "    <tr>\n",
       "      <th>192</th>\n",
       "      <td>297.4</td>\n",
       "      <td>NaN</td>\n",
       "      <td>NaN</td>\n",
       "      <td>NaN</td>\n",
       "    </tr>\n",
       "    <tr>\n",
       "      <th>193</th>\n",
       "      <td>297.4</td>\n",
       "      <td>NaN</td>\n",
       "      <td>NaN</td>\n",
       "      <td>NaN</td>\n",
       "    </tr>\n",
       "    <tr>\n",
       "      <th>194</th>\n",
       "      <td>297.1</td>\n",
       "      <td>NaN</td>\n",
       "      <td>NaN</td>\n",
       "      <td>NaN</td>\n",
       "    </tr>\n",
       "    <tr>\n",
       "      <th>195</th>\n",
       "      <td>297.1</td>\n",
       "      <td>NaN</td>\n",
       "      <td>NaN</td>\n",
       "      <td>NaN</td>\n",
       "    </tr>\n",
       "  </tbody>\n",
       "</table>\n",
       "<p>196 rows × 4 columns</p>\n",
       "</div>"
      ],
      "text/plain": [
       "     Driving distance avg (yds)  Driving accuracy (%)  Scoring avg (%)    GIR\n",
       "0                         322.1                 74.50            68.06  74.22\n",
       "1                         322.0                 73.86            68.76  72.54\n",
       "2                         315.3                 71.84            68.76  72.10\n",
       "3                         314.0                 71.36            68.80  71.70\n",
       "4                         313.8                 71.29            68.81  71.69\n",
       "..                          ...                   ...              ...    ...\n",
       "191                       297.5                   NaN              NaN    NaN\n",
       "192                       297.4                   NaN              NaN    NaN\n",
       "193                       297.4                   NaN              NaN    NaN\n",
       "194                       297.1                   NaN              NaN    NaN\n",
       "195                       297.1                   NaN              NaN    NaN\n",
       "\n",
       "[196 rows x 4 columns]"
      ]
     },
     "execution_count": 17,
     "metadata": {},
     "output_type": "execute_result"
    }
   ],
   "source": [
    "df_arr"
   ]
  },
  {
   "cell_type": "code",
   "execution_count": null,
   "id": "24434284",
   "metadata": {},
   "outputs": [],
   "source": []
  },
  {
   "cell_type": "code",
   "execution_count": 18,
   "id": "79232777",
   "metadata": {},
   "outputs": [],
   "source": []
  },
  {
   "cell_type": "code",
   "execution_count": 19,
   "id": "09817752",
   "metadata": {},
   "outputs": [],
   "source": [
    "# Write a function / loop to plot these histograms\n",
    "# Investigate how to determine what their distribution is... Skilearn? "
   ]
  },
  {
   "cell_type": "code",
   "execution_count": 23,
   "id": "aab115b3",
   "metadata": {},
   "outputs": [
    {
     "data": {
      "text/plain": [
       "0      322.1\n",
       "1      322.0\n",
       "2      315.3\n",
       "3      314.0\n",
       "4      313.8\n",
       "       ...  \n",
       "191    297.5\n",
       "192    297.4\n",
       "193    297.4\n",
       "194    297.1\n",
       "195    297.1\n",
       "Name: Driving distance avg (yds), Length: 196, dtype: float64"
      ]
     },
     "execution_count": 23,
     "metadata": {},
     "output_type": "execute_result"
    }
   ],
   "source": [
    "distance2020 = df_arr.iloc[:,0]\n",
    "distance2020"
   ]
  },
  {
   "cell_type": "code",
   "execution_count": 24,
   "id": "9de1f248",
   "metadata": {},
   "outputs": [
    {
     "data": {
      "text/plain": [
       "(array([ 1.,  0.,  0.,  8., 36., 71., 50., 21.,  7.,  2.]),\n",
       " array([269.2 , 274.49, 279.78, 285.07, 290.36, 295.65, 300.94, 306.23,\n",
       "        311.52, 316.81, 322.1 ]),\n",
       " <BarContainer object of 10 artists>)"
      ]
     },
     "execution_count": 24,
     "metadata": {},
     "output_type": "execute_result"
    },
    {
     "data": {
      "image/png": "[encoded data removed]",
      "text/plain": [
       "<Figure size 432x288 with 1 Axes>"
      ]
     },
     "metadata": {
      "needs_background": "light"
     },
     "output_type": "display_data"
    }
   ],
   "source": [
    "plt.hist(distance2020)"
   ]
  },
  {
   "cell_type": "code",
   "execution_count": 25,
   "id": "cff2a407",
   "metadata": {},
   "outputs": [
    {
     "data": {
      "text/plain": [
       "0      74.50\n",
       "1      73.86\n",
       "2      71.84\n",
       "3      71.36\n",
       "4      71.29\n",
       "       ...  \n",
       "191      NaN\n",
       "192      NaN\n",
       "193      NaN\n",
       "194      NaN\n",
       "195      NaN\n",
       "Name: Driving accuracy (%), Length: 196, dtype: float64"
      ]
     },
     "execution_count": 25,
     "metadata": {},
     "output_type": "execute_result"
    }
   ],
   "source": [
    "accuracy2020 = df_arr.iloc[:,1]\n",
    "accuracy2020"
   ]
  },
  {
   "cell_type": "code",
   "execution_count": 26,
   "id": "8fbe09c9",
   "metadata": {},
   "outputs": [
    {
     "data": {
      "text/plain": [
       "(array([21., 23., 15., 16.,  8.,  7.,  5.,  2.,  1.,  2.]),\n",
       " array([60.2 , 61.63, 63.06, 64.49, 65.92, 67.35, 68.78, 70.21, 71.64,\n",
       "        73.07, 74.5 ]),\n",
       " <BarContainer object of 10 artists>)"
      ]
     },
     "execution_count": 26,
     "metadata": {},
     "output_type": "execute_result"
    },
    {
     "data": {
      "image/png": "[encoded data removed]",
      "text/plain": [
       "<Figure size 432x288 with 1 Axes>"
      ]
     },
     "metadata": {
      "needs_background": "light"
     },
     "output_type": "display_data"
    }
   ],
   "source": [
    "plt.hist(accuracy2020)"
   ]
  },
  {
   "cell_type": "code",
   "execution_count": 27,
   "id": "b058dfec",
   "metadata": {},
   "outputs": [
    {
     "data": {
      "text/plain": [
       "0      68.06\n",
       "1      68.76\n",
       "2      68.76\n",
       "3      68.80\n",
       "4      68.81\n",
       "       ...  \n",
       "191      NaN\n",
       "192      NaN\n",
       "193      NaN\n",
       "194      NaN\n",
       "195      NaN\n",
       "Name: Scoring avg (%), Length: 196, dtype: float64"
      ]
     },
     "execution_count": 27,
     "metadata": {},
     "output_type": "execute_result"
    }
   ],
   "source": [
    "scoring2020 = df_arr.iloc[:,2]\n",
    "scoring2020"
   ]
  },
  {
   "cell_type": "code",
   "execution_count": 28,
   "id": "05837716",
   "metadata": {},
   "outputs": [
    {
     "data": {
      "text/plain": [
       "(array([ 1.,  0.,  0.,  5.,  4.,  2., 10., 13., 26., 39.]),\n",
       " array([68.06 , 68.286, 68.512, 68.738, 68.964, 69.19 , 69.416, 69.642,\n",
       "        69.868, 70.094, 70.32 ]),\n",
       " <BarContainer object of 10 artists>)"
      ]
     },
     "execution_count": 28,
     "metadata": {},
     "output_type": "execute_result"
    },
    {
     "data": {
      "image/png": "[encoded data removed]",
      "text/plain": [
       "<Figure size 432x288 with 1 Axes>"
      ]
     },
     "metadata": {
      "needs_background": "light"
     },
     "output_type": "display_data"
    }
   ],
   "source": [
    "# make a note that low scoring is better\n",
    "plt.hist(scoring2020)"
   ]
  },
  {
   "cell_type": "code",
   "execution_count": 31,
   "id": "67a06f09",
   "metadata": {},
   "outputs": [
    {
     "data": {
      "text/plain": [
       "0      74.22\n",
       "1      72.54\n",
       "2      72.10\n",
       "3      71.70\n",
       "4      71.69\n",
       "       ...  \n",
       "191      NaN\n",
       "192      NaN\n",
       "193      NaN\n",
       "194      NaN\n",
       "195      NaN\n",
       "Name: GIR, Length: 196, dtype: float64"
      ]
     },
     "execution_count": 31,
     "metadata": {},
     "output_type": "execute_result"
    }
   ],
   "source": [
    "gir2020 = df_arr.iloc[:,3]\n",
    "gir2020"
   ]
  },
  {
   "cell_type": "code",
   "execution_count": null,
   "id": "62313037",
   "metadata": {},
   "outputs": [],
   "source": []
  },
  {
   "cell_type": "code",
   "execution_count": 32,
   "id": "d9c3048f",
   "metadata": {
    "scrolled": true
   },
   "outputs": [
    {
     "data": {
      "text/plain": [
       "(array([19., 25., 15., 14., 13.,  6.,  5.,  2.,  0.,  1.]),\n",
       " array([66.93 , 67.659, 68.388, 69.117, 69.846, 70.575, 71.304, 72.033,\n",
       "        72.762, 73.491, 74.22 ]),\n",
       " <BarContainer object of 10 artists>)"
      ]
     },
     "execution_count": 32,
     "metadata": {},
     "output_type": "execute_result"
    },
    {
     "data": {
      "image/png": "[encoded data removed]",
      "text/plain": [
       "<Figure size 432x288 with 1 Axes>"
      ]
     },
     "metadata": {
      "needs_background": "light"
     },
     "output_type": "display_data"
    }
   ],
   "source": [
    "plt.hist(gir2020)"
   ]
  },
  {
   "cell_type": "code",
   "execution_count": null,
   "id": "03fd3a7d",
   "metadata": {},
   "outputs": [],
   "source": []
  },
  {
   "cell_type": "code",
   "execution_count": null,
   "id": "c575efac",
   "metadata": {},
   "outputs": [],
   "source": []
  },
  {
   "cell_type": "code",
   "execution_count": null,
   "id": "0cf95220",
   "metadata": {},
   "outputs": [],
   "source": []
  },
  {
   "cell_type": "code",
   "execution_count": null,
   "id": "08136e8c",
   "metadata": {},
   "outputs": [],
   "source": []
  },
  {
   "cell_type": "code",
   "execution_count": null,
   "id": "79238c82",
   "metadata": {},
   "outputs": [],
   "source": []
  },
  {
   "cell_type": "code",
   "execution_count": null,
   "id": "a4eebecd",
   "metadata": {},
   "outputs": [],
   "source": []
  },
  {
   "cell_type": "code",
   "execution_count": null,
   "id": "a81190c0",
   "metadata": {},
   "outputs": [],
   "source": []
  },
  {
   "cell_type": "code",
   "execution_count": null,
   "id": "1c1f8ecb",
   "metadata": {},
   "outputs": [],
   "source": []
  },
  {
   "cell_type": "code",
   "execution_count": null,
   "id": "2fbdbf74",
   "metadata": {},
   "outputs": [],
   "source": [
    "# Driving accurary\n",
    "mu, sigma = 316.5, 5.1\n",
    "\n",
    "x = np.random.default_rng().normal(mu, sigma, 1000)\n",
    "\n",
    "count, bins, ignored = plt.hist(x, 10, density=True)\n",
    "\n",
    "plt.plot(bins, 1/(sigma * np.sqrt(2 * np.pi)) *\n",
    "\n",
    "               np.exp( - (bins - mu)**2 / (2 * sigma**2) ),\n",
    "\n",
    "         linewidth=2, color='r')\n",
    "\n",
    "plt.show()\n",
    "\n",
    "# https://www.statisticshowto.com/choose-bin-sizes-statistics/\n",
    "\n"
   ]
  },
  {
   "cell_type": "code",
   "execution_count": null,
   "id": "f19fbe4d",
   "metadata": {},
   "outputs": [],
   "source": []
  },
  {
   "cell_type": "code",
   "execution_count": null,
   "id": "f411221a",
   "metadata": {},
   "outputs": [],
   "source": []
  },
  {
   "cell_type": "code",
   "execution_count": null,
   "id": "985b2229",
   "metadata": {},
   "outputs": [],
   "source": [
    "x.max()"
   ]
  },
  {
   "cell_type": "code",
   "execution_count": null,
   "id": "7f61c80d",
   "metadata": {},
   "outputs": [],
   "source": [
    "x.min()"
   ]
  },
  {
   "cell_type": "code",
   "execution_count": null,
   "id": "ffac2afc",
   "metadata": {},
   "outputs": [],
   "source": [
    "len(x)"
   ]
  },
  {
   "cell_type": "code",
   "execution_count": null,
   "id": "e8665fa2",
   "metadata": {},
   "outputs": [],
   "source": [
    "# Driving accuracy average\n",
    "mu, sigma = 62.6, 3.1\n",
    "\n",
    "y = np.random.default_rng().normal(mu, sigma, 1000)\n",
    "\n",
    "count, bins, ignored = plt.hist(y, 10, density=True)\n",
    "\n",
    "plt.plot(bins, 1/(sigma * np.sqrt(2 * np.pi)) *\n",
    "\n",
    "               np.exp( - (bins - mu)**2 / (2 * sigma**2) ),\n",
    "\n",
    "         linewidth=2, color='r')\n",
    "\n",
    "plt.show()\n",
    "\n",
    "# https://www.statisticshowto.com/choose-bin-sizes-statistics/"
   ]
  },
  {
   "cell_type": "code",
   "execution_count": null,
   "id": "dc326170",
   "metadata": {},
   "outputs": [],
   "source": [
    "y.max(), y.min(), len(y)\n"
   ]
  },
  {
   "cell_type": "code",
   "execution_count": null,
   "id": "95c7ac30",
   "metadata": {},
   "outputs": [],
   "source": [
    "plt.scatter(x,y)\n",
    "m, b = np.polyfit(x, y, 1)\n",
    "plt.plot(x, m*x + b)\n",
    "plt.show()\n",
    "#https://www.kite.com/python/answers/how-to-plot-a-linear-regression-line-on-a-scatter-plot-in-python"
   ]
  },
  {
   "cell_type": "code",
   "execution_count": null,
   "id": "43017d4b",
   "metadata": {},
   "outputs": [],
   "source": [
    "mu, sigma = 69.4, 0.4\n",
    "\n",
    "z = np.random.default_rng().normal(mu, sigma, 1000)\n",
    "\n",
    "count, bins, ignored = plt.hist(z, 10, density=True)\n",
    "\n",
    "plt.plot(bins, 1/(sigma * np.sqrt(2 * np.pi)) *\n",
    "\n",
    "               np.exp( - (bins - mu)**2 / (2 * sigma**2) ),\n",
    "\n",
    "         linewidth=2, color='r')\n",
    "\n",
    "plt.show()"
   ]
  },
  {
   "cell_type": "code",
   "execution_count": null,
   "id": "b8c44a36",
   "metadata": {},
   "outputs": [],
   "source": [
    "mu, sigma = 70.2, 1.5\n",
    "\n",
    "zz = np.random.default_rng().normal(mu, sigma, 1000)\n",
    "\n",
    "count, bins, ignored = plt.hist(zz, 10, density=True)\n",
    "\n",
    "plt.plot(bins, 1/(sigma * np.sqrt(2 * np.pi)) *\n",
    "\n",
    "               np.exp( - (bins - mu)**2 / (2 * sigma**2) ),\n",
    "\n",
    "         linewidth=2, color='r')\n",
    "\n",
    "plt.show()"
   ]
  },
  {
   "cell_type": "code",
   "execution_count": null,
   "id": "f1cec18d",
   "metadata": {},
   "outputs": [],
   "source": []
  },
  {
   "cell_type": "code",
   "execution_count": null,
   "id": "4cf01f70",
   "metadata": {},
   "outputs": [],
   "source": [
    "my_array = np.array([[x],[y],[z],[zz]])\n",
    "                    \n",
    "my_array"
   ]
  },
  {
   "cell_type": "code",
   "execution_count": null,
   "id": "87aeb61c",
   "metadata": {},
   "outputs": [],
   "source": [
    "#irisData = pd.read_csv('bezdekIris.data', header = None)  \n",
    "#irisData.columns = ['Sepal Length (cm)','Sepal Width (cm)','Petal Length (cm)','Petal Width (cm)','Class']"
   ]
  },
  {
   "cell_type": "code",
   "execution_count": null,
   "id": "cc3b07ad",
   "metadata": {},
   "outputs": [],
   "source": [
    "df = pd.DataFrame(np.concatenate(my_array))\n",
    "\n",
    "\n",
    "print(df)\n",
    "print(type(df))"
   ]
  },
  {
   "cell_type": "code",
   "execution_count": null,
   "id": "4bd0cebb",
   "metadata": {},
   "outputs": [],
   "source": [
    "df_t = df.T\n",
    "df_t.columns = ['Driving distance avg (yds)','Driving accuracy (%)','Scoring avg (%)','GIR']\n",
    "#https://note.nkmk.me/en/python-pandas-t-transpose/"
   ]
  },
  {
   "cell_type": "code",
   "execution_count": null,
   "id": "98902cdf",
   "metadata": {},
   "outputs": [],
   "source": [
    "df_t.head()"
   ]
  },
  {
   "cell_type": "code",
   "execution_count": null,
   "id": "d6a21e98",
   "metadata": {},
   "outputs": [],
   "source": [
    "sns.pairplot(df_t, kind=\"reg\", plot_kws={'line_kws':{'color':'red'}})\n",
    "# https://stackoverflow.com/questions/50722972/change-the-regression-line-colour-of-seaborns-pairplot"
   ]
  },
  {
   "cell_type": "code",
   "execution_count": null,
   "id": "d742f06d",
   "metadata": {},
   "outputs": [],
   "source": []
  },
  {
   "cell_type": "code",
   "execution_count": null,
   "id": "bb4a7c58",
   "metadata": {},
   "outputs": [],
   "source": []
  },
  {
   "cell_type": "code",
   "execution_count": null,
   "id": "fd43f5b7",
   "metadata": {},
   "outputs": [],
   "source": []
  },
  {
   "cell_type": "code",
   "execution_count": null,
   "id": "100901e9",
   "metadata": {},
   "outputs": [],
   "source": []
  },
  {
   "cell_type": "code",
   "execution_count": null,
   "id": "2887b396",
   "metadata": {},
   "outputs": [],
   "source": []
  },
  {
   "cell_type": "code",
   "execution_count": null,
   "id": "980ea1f4",
   "metadata": {},
   "outputs": [],
   "source": []
  },
  {
   "cell_type": "code",
   "execution_count": null,
   "id": "79180d50",
   "metadata": {},
   "outputs": [],
   "source": []
  },
  {
   "cell_type": "code",
   "execution_count": null,
   "id": "de4653bd",
   "metadata": {},
   "outputs": [],
   "source": []
  },
  {
   "cell_type": "code",
   "execution_count": null,
   "id": "0001bf25",
   "metadata": {},
   "outputs": [],
   "source": []
  },
  {
   "cell_type": "code",
   "execution_count": null,
   "id": "d7177eb4",
   "metadata": {},
   "outputs": [],
   "source": []
  }
 ],
 "metadata": {
  "kernelspec": {
   "display_name": "Python 3 (ipykernel)",
   "language": "python",
   "name": "python3"
  },
  "language_info": {
   "codemirror_mode": {
    "name": "ipython",
    "version": 3
   },
   "file_extension": ".py",
   "mimetype": "text/x-python",
   "name": "python",
   "nbconvert_exporter": "python",
   "pygments_lexer": "ipython3",
   "version": "3.8.11"
  }
 },
 "nbformat": 4,
 "nbformat_minor": 5
}
